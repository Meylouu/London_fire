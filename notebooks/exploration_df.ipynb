{
 "cells": [
  {
   "cell_type": "code",
   "execution_count": 1,
   "metadata": {},
   "outputs": [
    {
     "ename": "ModuleNotFoundError",
     "evalue": "No module named 'pandas'",
     "output_type": "error",
     "traceback": [
      "\u001b[0;31m---------------------------------------------------------------------------\u001b[0m",
      "\u001b[0;31mModuleNotFoundError\u001b[0m                       Traceback (most recent call last)",
      "Cell \u001b[0;32mIn[1], line 2\u001b[0m\n\u001b[1;32m      1\u001b[0m \u001b[38;5;28;01mfrom\u001b[39;00m \u001b[38;5;21;01mdatetime\u001b[39;00m \u001b[38;5;28;01mimport\u001b[39;00m datetime\n\u001b[0;32m----> 2\u001b[0m \u001b[38;5;28;01mimport\u001b[39;00m \u001b[38;5;21;01mpandas\u001b[39;00m \u001b[38;5;28;01mas\u001b[39;00m \u001b[38;5;21;01mpd\u001b[39;00m\n\u001b[1;32m      3\u001b[0m \u001b[38;5;28;01mimport\u001b[39;00m \u001b[38;5;21;01mnumpy\u001b[39;00m \u001b[38;5;28;01mas\u001b[39;00m \u001b[38;5;21;01mnp\u001b[39;00m\n\u001b[1;32m      4\u001b[0m \u001b[38;5;28;01mimport\u001b[39;00m \u001b[38;5;21;01mseaborn\u001b[39;00m \u001b[38;5;28;01mas\u001b[39;00m \u001b[38;5;21;01msns\u001b[39;00m\n",
      "\u001b[0;31mModuleNotFoundError\u001b[0m: No module named 'pandas'"
     ]
    }
   ],
   "source": [
    "from datetime import datetime\n",
    "import pandas as pd\n",
    "import numpy as np\n",
    "import seaborn as sns\n",
    "import matplotlib.pyplot as plt\n",
    "import seaborn as sns\n",
    "\n",
    "# LECTURE DES DATAs MOBILISATION\n",
    "df_mob_2021_2024 = pd.read_csv(\"../datasets/LFB_Mobilisation_data_from_2021_2024.csv\")\n",
    "df_mob_2015_2020 = pd.read_csv(\"../datasets/LFB_Mobilisation_data_from_2015_2020.csv\",sep=';',header=0,index_col='IncidentNumber')\n",
    "df_mob_2009_2014= pd.read_csv(\"../datasets/LFB_Mobilisation_data_from_January_2009_2014.csv\",sep=';',header=0,index_col='IncidentNumber')\n",
    "# LECTURE DES META DATAs\n",
    "df_mob_meta = pd.read_excel(\"../datasets/Mobilisations_Metadata.xlsx\",index_col=\"Column\")\n",
    "df_inc_meta = pd.read_excel(\"../datasets/Metadata.xlsx\",index_col=\"Column\")\n",
    "\n",
    "display(df_mob_meta.head())\n",
    "display(df_inc_meta.head())"
   ]
  },
  {
   "cell_type": "code",
   "execution_count": null,
   "metadata": {},
   "outputs": [
    {
     "name": "stdout",
     "output_type": "stream",
     "text": [
      "IncidentNumber\n",
      "CalYear\n",
      "BoroughName\n",
      "WardName\n",
      "HourOfCall\n",
      "ResourceMobilisationId\n",
      "Resource_Code\n",
      "PerformanceReporting\n",
      "DateAndTimeMobilised\n",
      "DateAndTimeMobile\n",
      "DateAndTimeArrived\n",
      "TurnoutTimeSeconds\n",
      "TravelTimeSeconds\n",
      "AttendanceTimeSeconds\n",
      "DateAndTimeLeft\n",
      "DateAndTimeReturned\n",
      "DeployedFromStation_Code\n",
      "DeployedFromStation_Name\n",
      "DeployedFromLocation\n",
      "PumpOrder\n",
      "PlusCode_Code\n",
      "PlusCode_Description\n",
      "DelayCodeId\n",
      "DelayCode_Description\n"
     ]
    }
   ],
   "source": [
    "def exploration(df,meta, file_output):\n",
    "    for col in df:\n",
    "        #print (row)\n",
    "        percent_na= np.array2string(np.round(df[col].isna().mean()*100,2))\n",
    "        count_na=np.array2string(df[col].isna().sum())\n",
    "        meta.loc[col,'Taux de NA'] = count_na + \" (\" + percent_na + \"%)\"\n",
    "        meta.loc[col,'Type information']= df[col].dtypes\n",
    "    \n",
    "        if (df[col].dtypes == 'object') and (len(df[col].unique())<=15):\n",
    "            modalite = np.array2string(df[col].unique(),separator=', ') # on converti le tableau nuimy en string séparé par des \",\"\n",
    "            mode = df[col].mode()[0]\n",
    "            meta.loc[col,'Distribution des valeurs'] = \"Nbr modalités : \" + modalite + \", Mode : \" + mode\n",
    "        elif df[col].dtypes != 'object':\n",
    "            mean = str(np.round(df[col].mean(),2))\n",
    "            median = str(np.round(df[col].median(),2))\n",
    "            max = str(np.round(df[col].max(),2))\n",
    "            min = str(np.round(df[col].min()))\n",
    "            meta.loc[col,'Distribution des valeurs']=\"mean = \" + mean + \", \" + \"median = \" + median + \", \" + \" max = \" + max + \", \" + \" min = \" + min\n",
    "        else:\n",
    "            meta.loc[col,'Distribution des valeurs']=\"Nbr de modalité sup à 15\"\n",
    "\n",
    "        meta.to_csv(\"../datasets/\"+file_output, index=False)\n",
    "\n",
    "exploration(df_mob_2021_2024,df_mob_meta,\"exploration_mob_2021_2024.csv\")"
   ]
  }
 ],
 "metadata": {
  "kernelspec": {
   "display_name": "Python 3",
   "language": "python",
   "name": "python3"
  },
  "language_info": {
   "codemirror_mode": {
    "name": "ipython",
    "version": 3
   },
   "file_extension": ".py",
   "mimetype": "text/x-python",
   "name": "python",
   "nbconvert_exporter": "python",
   "pygments_lexer": "ipython3",
   "version": "3.9.6"
  }
 },
 "nbformat": 4,
 "nbformat_minor": 2
}
