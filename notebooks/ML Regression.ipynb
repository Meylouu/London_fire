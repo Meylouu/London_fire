{
 "cells": [
  {
   "cell_type": "code",
   "execution_count": 1,
   "metadata": {},
   "outputs": [],
   "source": [
    "import numpy as np\n",
    "import pandas as pd\n",
    "from sklearn.decomposition import PCA\n",
    "import matplotlib.pyplot as plt\n",
    "import seaborn as sns\n",
    "%matplotlib inline\n",
    "\n",
    "from sklearn.model_selection import train_test_split\n",
    "from lazypredict.Supervised import LazyRegressor\n",
    "from sklearn.utils import all_estimators\n",
    "from sklearn.base import RegressorMixin\n",
    "\n",
    "pd.set_option(\"display.max_rows\", None)\n",
    "pd.set_option(\"display.max_columns\", None)"
   ]
  },
  {
   "cell_type": "code",
   "execution_count": 4,
   "metadata": {},
   "outputs": [],
   "source": [
    "cols_cible_type = [\"TurnoutTimeSeconds\", \"TravelTimeSeconds\", \"PumpSecondsOnSite\"]\n",
    "cols_Data = [\n",
    "    [\"CalYear\", \"HourOfCall\", \"Postcode_district\", \"Month\", \"DayOfWeek\"],\n",
    "    [\"CalYear\", \"HourOfCall\", \"Postcode_district\", \"Month\", \"DayOfWeek\"],\n",
    "    [\"CalYear\", \"PropertyType\", \"StopCode\"],\n",
    "]\n",
    "cols_cible = [\n",
    "    [\"TurnoutTimeSeconds_min\", \"TurnoutTimeSeconds_mean\", \"TurnoutTimeSeconds_max\"],\n",
    "    [\"TravelTimeSeconds_min\", \"TravelTimeSeconds_mean\", \"TravelTimeSeconds_max\"],\n",
    "    [\"PumpSecondsOnSite_min\", \"PumpSecondsOnSite_mean\", \"PumpSecondsOnSite_max\"]\n",
    "    # NumPumpsAttending??\n",
    "]\n",
    "cols_cible_filter = [\n",
    "    \"TurnoutTimeSeconds_mean\",\n",
    "    \"TravelTimeSeconds_mean\",\n",
    "    \"PumpSecondsOnSite_mean\",\n",
    "]\n",
    "\n",
    "def load_df(col_cible_type):\n",
    "    df = pd.read_csv(f\"../data/_df_ready_{col_cible_type}.csv\", sep=\";\", low_memory=False)\n",
    "    # Contrôle\n",
    "    # display(df.head(3))\n",
    "    # display(df.info())\n",
    "    return df"
   ]
  },
  {
   "cell_type": "code",
   "execution_count": 5,
   "metadata": {},
   "outputs": [
    {
     "name": "stdout",
     "output_type": "stream",
     "text": [
      "(1016665, 42)\n",
      "cols_to_remove ['TurnoutTimeSeconds_min', 'TurnoutTimeSeconds_mean', 'TurnoutTimeSeconds_max', 'TravelTimeSeconds_min', 'TravelTimeSeconds_mean', 'TravelTimeSeconds_max', 'PumpSecondsOnSite_min', 'PumpSecondsOnSite_mean', 'PumpSecondsOnSite_max', 'NumPumpsAttending']\n",
      "cols_to_keep ['CalYear', 'HourOfCall_0', 'HourOfCall_1', 'HourOfCall_2', 'HourOfCall_3', 'HourOfCall_4', 'Postcode_district_0', 'Postcode_district_1', 'Postcode_district_2', 'Postcode_district_3', 'Postcode_district_4', 'StopCode_0', 'StopCode_1', 'StopCode_2', 'StopCode_3', 'StopCode_4', 'Month_0', 'Month_1', 'Month_2', 'Month_3', 'DayOfWeek_0', 'DayOfWeek_1', 'DayOfWeek_2']\n"
     ]
    },
    {
     "data": {
      "text/html": [
       "<div>\n",
       "<style scoped>\n",
       "    .dataframe tbody tr th:only-of-type {\n",
       "        vertical-align: middle;\n",
       "    }\n",
       "\n",
       "    .dataframe tbody tr th {\n",
       "        vertical-align: top;\n",
       "    }\n",
       "\n",
       "    .dataframe thead th {\n",
       "        text-align: right;\n",
       "    }\n",
       "</style>\n",
       "<table border=\"1\" class=\"dataframe\">\n",
       "  <thead>\n",
       "    <tr style=\"text-align: right;\">\n",
       "      <th></th>\n",
       "      <th>CalYear</th>\n",
       "      <th>HourOfCall_0</th>\n",
       "      <th>HourOfCall_1</th>\n",
       "      <th>HourOfCall_2</th>\n",
       "      <th>HourOfCall_3</th>\n",
       "      <th>HourOfCall_4</th>\n",
       "      <th>Postcode_district_0</th>\n",
       "      <th>Postcode_district_1</th>\n",
       "      <th>Postcode_district_2</th>\n",
       "      <th>Postcode_district_3</th>\n",
       "      <th>Postcode_district_4</th>\n",
       "      <th>StopCode_0</th>\n",
       "      <th>StopCode_1</th>\n",
       "      <th>StopCode_2</th>\n",
       "      <th>StopCode_3</th>\n",
       "      <th>StopCode_4</th>\n",
       "      <th>Month_0</th>\n",
       "      <th>Month_1</th>\n",
       "      <th>Month_2</th>\n",
       "      <th>Month_3</th>\n",
       "      <th>DayOfWeek_0</th>\n",
       "      <th>DayOfWeek_1</th>\n",
       "      <th>DayOfWeek_2</th>\n",
       "    </tr>\n",
       "  </thead>\n",
       "  <tbody>\n",
       "    <tr>\n",
       "      <th>574862</th>\n",
       "      <td>7</td>\n",
       "      <td>0</td>\n",
       "      <td>0</td>\n",
       "      <td>0</td>\n",
       "      <td>0</td>\n",
       "      <td>1</td>\n",
       "      <td>0</td>\n",
       "      <td>0</td>\n",
       "      <td>0</td>\n",
       "      <td>0</td>\n",
       "      <td>1</td>\n",
       "      <td>0</td>\n",
       "      <td>0</td>\n",
       "      <td>0</td>\n",
       "      <td>0</td>\n",
       "      <td>1</td>\n",
       "      <td>0</td>\n",
       "      <td>0</td>\n",
       "      <td>0</td>\n",
       "      <td>1</td>\n",
       "      <td>0</td>\n",
       "      <td>0</td>\n",
       "      <td>1</td>\n",
       "    </tr>\n",
       "    <tr>\n",
       "      <th>574863</th>\n",
       "      <td>7</td>\n",
       "      <td>0</td>\n",
       "      <td>0</td>\n",
       "      <td>0</td>\n",
       "      <td>0</td>\n",
       "      <td>1</td>\n",
       "      <td>0</td>\n",
       "      <td>0</td>\n",
       "      <td>0</td>\n",
       "      <td>0</td>\n",
       "      <td>1</td>\n",
       "      <td>0</td>\n",
       "      <td>0</td>\n",
       "      <td>0</td>\n",
       "      <td>1</td>\n",
       "      <td>0</td>\n",
       "      <td>0</td>\n",
       "      <td>0</td>\n",
       "      <td>0</td>\n",
       "      <td>1</td>\n",
       "      <td>0</td>\n",
       "      <td>0</td>\n",
       "      <td>1</td>\n",
       "    </tr>\n",
       "  </tbody>\n",
       "</table>\n",
       "</div>"
      ],
      "text/plain": [
       "        CalYear  HourOfCall_0  HourOfCall_1  HourOfCall_2  HourOfCall_3  \\\n",
       "574862        7             0             0             0             0   \n",
       "574863        7             0             0             0             0   \n",
       "\n",
       "        HourOfCall_4  Postcode_district_0  Postcode_district_1  \\\n",
       "574862             1                    0                    0   \n",
       "574863             1                    0                    0   \n",
       "\n",
       "        Postcode_district_2  Postcode_district_3  Postcode_district_4  \\\n",
       "574862                    0                    0                    1   \n",
       "574863                    0                    0                    1   \n",
       "\n",
       "        StopCode_0  StopCode_1  StopCode_2  StopCode_3  StopCode_4  Month_0  \\\n",
       "574862           0           0           0           0           1        0   \n",
       "574863           0           0           0           1           0        0   \n",
       "\n",
       "        Month_1  Month_2  Month_3  DayOfWeek_0  DayOfWeek_1  DayOfWeek_2  \n",
       "574862        0        0        1            0            0            1  \n",
       "574863        0        0        1            0            0            1  "
      ]
     },
     "metadata": {},
     "output_type": "display_data"
    },
    {
     "name": "stdout",
     "output_type": "stream",
     "text": [
      "(1016665, 23)\n",
      "cible TurnoutTimeSeconds_mean\n",
      "[('AdaBoostRegressor', <class 'sklearn.ensemble._weight_boosting.AdaBoostRegressor'>), ('BaggingRegressor', <class 'sklearn.ensemble._bagging.BaggingRegressor'>), ('BayesianRidge', <class 'sklearn.linear_model._bayes.BayesianRidge'>), ('DecisionTreeRegressor', <class 'sklearn.tree._classes.DecisionTreeRegressor'>), ('DummyRegressor', <class 'sklearn.dummy.DummyRegressor'>), ('ElasticNet', <class 'sklearn.linear_model._coordinate_descent.ElasticNet'>), ('ElasticNetCV', <class 'sklearn.linear_model._coordinate_descent.ElasticNetCV'>), ('ExtraTreeRegressor', <class 'sklearn.tree._classes.ExtraTreeRegressor'>), ('GradientBoostingRegressor', <class 'sklearn.ensemble._gb.GradientBoostingRegressor'>), ('HistGradientBoostingRegressor', <class 'sklearn.ensemble._hist_gradient_boosting.gradient_boosting.HistGradientBoostingRegressor'>), ('HuberRegressor', <class 'sklearn.linear_model._huber.HuberRegressor'>), ('KNeighborsRegressor', <class 'sklearn.neighbors._regression.KNeighborsRegressor'>), ('Lars', <class 'sklearn.linear_model._least_angle.Lars'>), ('LarsCV', <class 'sklearn.linear_model._least_angle.LarsCV'>), ('Lasso', <class 'sklearn.linear_model._coordinate_descent.Lasso'>), ('LassoCV', <class 'sklearn.linear_model._coordinate_descent.LassoCV'>), ('LassoLars', <class 'sklearn.linear_model._least_angle.LassoLars'>), ('LassoLarsCV', <class 'sklearn.linear_model._least_angle.LassoLarsCV'>), ('LassoLarsIC', <class 'sklearn.linear_model._least_angle.LassoLarsIC'>), ('LinearRegression', <class 'sklearn.linear_model._base.LinearRegression'>), ('LinearSVR', <class 'sklearn.svm._classes.LinearSVR'>), ('MLPRegressor', <class 'sklearn.neural_network._multilayer_perceptron.MLPRegressor'>), ('OrthogonalMatchingPursuit', <class 'sklearn.linear_model._omp.OrthogonalMatchingPursuit'>), ('OrthogonalMatchingPursuitCV', <class 'sklearn.linear_model._omp.OrthogonalMatchingPursuitCV'>), ('PLSRegression', <class 'sklearn.cross_decomposition._pls.PLSRegression'>), ('PassiveAggressiveRegressor', <class 'sklearn.linear_model._passive_aggressive.PassiveAggressiveRegressor'>), ('PoissonRegressor', <class 'sklearn.linear_model._glm.glm.PoissonRegressor'>), ('RANSACRegressor', <class 'sklearn.linear_model._ransac.RANSACRegressor'>), ('RandomForestRegressor', <class 'sklearn.ensemble._forest.RandomForestRegressor'>), ('Ridge', <class 'sklearn.linear_model._ridge.Ridge'>), ('RidgeCV', <class 'sklearn.linear_model._ridge.RidgeCV'>), ('SGDRegressor', <class 'sklearn.linear_model._stochastic_gradient.SGDRegressor'>), ('TheilSenRegressor', <class 'sklearn.linear_model._theil_sen.TheilSenRegressor'>), ('TransformedTargetRegressor', <class 'sklearn.compose._target.TransformedTargetRegressor'>), ('VotingRegressor', <class 'sklearn.ensemble._voting.VotingRegressor'>)]\n",
      "'tuple' object has no attribute '__name__'\n",
      "Invalid Regressor(s)\n"
     ]
    },
    {
     "name": "stderr",
     "output_type": "stream",
     "text": [
      "  3%|▎         | 1/35 [00:21<12:27, 21.97s/it]"
     ]
    },
    {
     "name": "stdout",
     "output_type": "stream",
     "text": [
      "{'Model': 'AdaBoostRegressor', 'R-Squared': 0.09793737007879566, 'Adjusted R-Squared': 0.09783532127383276, 'RMSE': np.float64(35.068352888777696), 'Time taken': 21.972631692886353}\n"
     ]
    },
    {
     "name": "stderr",
     "output_type": "stream",
     "text": [
      "  6%|▌         | 2/35 [00:44<12:10, 22.14s/it]"
     ]
    },
    {
     "name": "stdout",
     "output_type": "stream",
     "text": [
      "{'Model': 'BaggingRegressor', 'R-Squared': -0.03982094633597599, 'Adjusted R-Squared': -0.03993857950403901, 'RMSE': np.float64(37.65098160485512), 'Time taken': 22.256836891174316}\n"
     ]
    },
    {
     "name": "stderr",
     "output_type": "stream",
     "text": [
      "  9%|▊         | 3/35 [00:46<07:02, 13.22s/it]"
     ]
    },
    {
     "name": "stdout",
     "output_type": "stream",
     "text": [
      "{'Model': 'BayesianRidge', 'R-Squared': 0.07442153245821603, 'Adjusted R-Squared': 0.07431682334669876, 'RMSE': np.float64(35.522509883659), 'Time taken': 2.596266746520996}\n"
     ]
    },
    {
     "name": "stderr",
     "output_type": "stream",
     "text": [
      " 11%|█▏        | 4/35 [00:50<04:50,  9.37s/it]"
     ]
    },
    {
     "name": "stdout",
     "output_type": "stream",
     "text": [
      "{'Model': 'DecisionTreeRegressor', 'R-Squared': -0.17768768445927052, 'Adjusted R-Squared': -0.17782091425599655, 'RMSE': np.float64(40.06933078415468), 'Time taken': 3.468587636947632}\n"
     ]
    },
    {
     "name": "stderr",
     "output_type": "stream",
     "text": [
      " 14%|█▍        | 5/35 [00:50<03:06,  6.22s/it]"
     ]
    },
    {
     "name": "stdout",
     "output_type": "stream",
     "text": [
      "{'Model': 'DummyRegressor', 'R-Squared': -8.635679995538936e-07, 'Adjusted R-Squared': -0.00011399195809591589, 'RMSE': np.float64(36.92301952318738), 'Time taken': 0.6310334205627441}\n"
     ]
    },
    {
     "name": "stderr",
     "output_type": "stream",
     "text": [
      " 17%|█▋        | 6/35 [00:51<02:09,  4.46s/it]"
     ]
    },
    {
     "name": "stdout",
     "output_type": "stream",
     "text": [
      "{'Model': 'ElasticNet', 'R-Squared': 0.04298490675659905, 'Adjusted R-Squared': 0.042876641273297156, 'RMSE': np.float64(36.12072144665061), 'Time taken': 1.050910234451294}\n"
     ]
    },
    {
     "name": "stderr",
     "output_type": "stream",
     "text": [
      " 20%|██        | 7/35 [00:56<02:03,  4.41s/it]"
     ]
    },
    {
     "name": "stdout",
     "output_type": "stream",
     "text": [
      "{'Model': 'ElasticNetCV', 'R-Squared': 0.07439913100857865, 'Adjusted R-Squared': 0.07429441936282355, 'RMSE': np.float64(35.52293975045542), 'Time taken': 4.315424919128418}\n"
     ]
    },
    {
     "name": "stderr",
     "output_type": "stream",
     "text": [
      " 23%|██▎       | 8/35 [01:00<01:55,  4.27s/it]"
     ]
    },
    {
     "name": "stdout",
     "output_type": "stream",
     "text": [
      "{'Model': 'ExtraTreeRegressor', 'R-Squared': -0.1793982337487352, 'Adjusted R-Squared': -0.17953165705698138, 'RMSE': np.float64(40.09841986103129), 'Time taken': 3.961958885192871}\n"
     ]
    },
    {
     "name": "stderr",
     "output_type": "stream",
     "text": [
      " 26%|██▌       | 9/35 [02:22<12:25, 28.68s/it]"
     ]
    },
    {
     "name": "stdout",
     "output_type": "stream",
     "text": [
      "{'Model': 'GradientBoostingRegressor', 'R-Squared': 0.1167788122495178, 'Adjusted R-Squared': 0.11667889494473405, 'RMSE': np.float64(34.70018273503785), 'Time taken': 82.35471105575562}\n"
     ]
    },
    {
     "name": "stderr",
     "output_type": "stream",
     "text": [
      " 29%|██▊       | 10/35 [02:29<09:05, 21.82s/it]"
     ]
    },
    {
     "name": "stdout",
     "output_type": "stream",
     "text": [
      "{'Model': 'HistGradientBoostingRegressor', 'R-Squared': 0.12439064411155942, 'Adjusted R-Squared': 0.12429158792031625, 'RMSE': np.float64(34.55033153387549), 'Time taken': 6.450016498565674}\n"
     ]
    },
    {
     "name": "stderr",
     "output_type": "stream",
     "text": [
      " 31%|███▏      | 11/35 [02:32<06:29, 16.21s/it]"
     ]
    },
    {
     "name": "stdout",
     "output_type": "stream",
     "text": [
      "{'Model': 'HuberRegressor', 'R-Squared': 0.06816439518609108, 'Adjusted R-Squared': 0.06805897821531881, 'RMSE': np.float64(35.64237807645514), 'Time taken': 3.4968979358673096}\n"
     ]
    },
    {
     "name": "stderr",
     "output_type": "stream",
     "text": [
      " 34%|███▍      | 12/35 [16:04<1:39:02, 258.36s/it]"
     ]
    },
    {
     "name": "stdout",
     "output_type": "stream",
     "text": [
      "{'Model': 'KNeighborsRegressor', 'R-Squared': -0.04863616543724558, 'Adjusted R-Squared': -0.04875479585599285, 'RMSE': np.float64(37.81024036205692), 'Time taken': 812.1906669139862}\n"
     ]
    },
    {
     "name": "stderr",
     "output_type": "stream",
     "text": [
      " 37%|███▋      | 13/35 [16:05<1:06:07, 180.35s/it]"
     ]
    },
    {
     "name": "stdout",
     "output_type": "stream",
     "text": [
      "{'Model': 'Lars', 'R-Squared': 0.07442171704379885, 'Adjusted R-Squared': 0.07431700795316343, 'RMSE': np.float64(35.52250634158032), 'Time taken': 0.8492865562438965}\n"
     ]
    },
    {
     "name": "stderr",
     "output_type": "stream",
     "text": [
      " 40%|████      | 14/35 [16:08<44:23, 126.84s/it]  "
     ]
    },
    {
     "name": "stdout",
     "output_type": "stream",
     "text": [
      "{'Model': 'LarsCV', 'R-Squared': 0.07441210559796374, 'Adjusted R-Squared': 0.07430739542000186, 'RMSE': np.float64(35.52269077857801), 'Time taken': 3.20343279838562}\n"
     ]
    },
    {
     "name": "stderr",
     "output_type": "stream",
     "text": [
      " 43%|████▎     | 15/35 [16:10<29:39, 88.98s/it] "
     ]
    },
    {
     "name": "stdout",
     "output_type": "stream",
     "text": [
      "{'Model': 'Lasso', 'R-Squared': 0.06646467602248052, 'Adjusted R-Squared': 0.06635906676538172, 'RMSE': np.float64(35.67487009096459), 'Time taken': 1.2227835655212402}\n"
     ]
    },
    {
     "name": "stderr",
     "output_type": "stream",
     "text": [
      " 46%|████▌     | 16/35 [16:14<20:05, 63.46s/it]"
     ]
    },
    {
     "name": "stdout",
     "output_type": "stream",
     "text": [
      "{'Model': 'LassoCV', 'R-Squared': 0.07442392383719176, 'Adjusted R-Squared': 0.07431921499620708, 'RMSE': np.float64(35.52246399460629), 'Time taken': 4.192577838897705}\n"
     ]
    },
    {
     "name": "stderr",
     "output_type": "stream",
     "text": [
      " 49%|████▊     | 17/35 [16:15<13:23, 44.63s/it]"
     ]
    },
    {
     "name": "stdout",
     "output_type": "stream",
     "text": [
      "{'Model': 'LassoLars', 'R-Squared': 0.06646558102521904, 'Adjusted R-Squared': 0.06635997187050169, 'RMSE': np.float64(35.67485279870894), 'Time taken': 0.8307070732116699}\n"
     ]
    },
    {
     "name": "stderr",
     "output_type": "stream",
     "text": [
      " 51%|█████▏    | 18/35 [16:18<09:06, 32.16s/it]"
     ]
    },
    {
     "name": "stdout",
     "output_type": "stream",
     "text": [
      "{'Model': 'LassoLarsCV', 'R-Squared': 0.07442282786105359, 'Adjusted R-Squared': 0.07431811889608297, 'RMSE': np.float64(35.52248502570377), 'Time taken': 3.1462275981903076}\n"
     ]
    },
    {
     "name": "stderr",
     "output_type": "stream",
     "text": [
      " 54%|█████▍    | 19/35 [16:20<06:08, 23.05s/it]"
     ]
    },
    {
     "name": "stdout",
     "output_type": "stream",
     "text": [
      "{'Model': 'LassoLarsIC', 'R-Squared': 0.07442378605755262, 'Adjusted R-Squared': 0.07431907720098119, 'RMSE': np.float64(35.522466638512185), 'Time taken': 1.8249974250793457}\n"
     ]
    },
    {
     "name": "stderr",
     "output_type": "stream",
     "text": [
      " 57%|█████▋    | 20/35 [16:21<04:08, 16.59s/it]"
     ]
    },
    {
     "name": "stdout",
     "output_type": "stream",
     "text": [
      "{'Model': 'LinearRegression', 'R-Squared': 0.07442171704380052, 'Adjusted R-Squared': 0.07431700795316509, 'RMSE': np.float64(35.52250634158028), 'Time taken': 1.5162632465362549}\n"
     ]
    },
    {
     "name": "stderr",
     "output_type": "stream",
     "text": [
      " 60%|██████    | 21/35 [16:40<04:01, 17.27s/it]"
     ]
    },
    {
     "name": "stdout",
     "output_type": "stream",
     "text": [
      "{'Model': 'LinearSVR', 'R-Squared': 0.06659042280750249, 'Adjusted R-Squared': 0.0664848277759228, 'RMSE': np.float64(35.67246731563274), 'Time taken': 18.878727436065674}\n"
     ]
    },
    {
     "name": "stderr",
     "output_type": "stream",
     "text": [
      " 63%|██████▎   | 22/35 [22:47<26:29, 122.24s/it]"
     ]
    },
    {
     "name": "stdout",
     "output_type": "stream",
     "text": [
      "{'Model': 'MLPRegressor', 'R-Squared': 0.11903875575790845, 'Adjusted R-Squared': 0.1189390941166748, 'RMSE': np.float64(34.655759728267505), 'Time taken': 367.0051918029785}\n"
     ]
    },
    {
     "name": "stderr",
     "output_type": "stream",
     "text": [
      " 66%|██████▌   | 23/35 [22:48<17:09, 85.81s/it] "
     ]
    },
    {
     "name": "stdout",
     "output_type": "stream",
     "text": [
      "{'Model': 'OrthogonalMatchingPursuit', 'R-Squared': 0.06927941166055473, 'Adjusted R-Squared': 0.06917412082969221, 'RMSE': np.float64(35.621047203157254), 'Time taken': 0.8519260883331299}\n"
     ]
    },
    {
     "name": "stderr",
     "output_type": "stream",
     "text": [
      " 69%|██████▊   | 24/35 [22:50<11:09, 60.86s/it]"
     ]
    },
    {
     "name": "stdout",
     "output_type": "stream",
     "text": [
      "{'Model': 'OrthogonalMatchingPursuitCV', 'R-Squared': 0.0739350525992547, 'Adjusted R-Squared': 0.07383028845310169, 'RMSE': np.float64(35.531843892659126), 'Time taken': 2.665550708770752}\n"
     ]
    },
    {
     "name": "stderr",
     "output_type": "stream",
     "text": [
      " 71%|███████▏  | 25/35 [22:52<07:09, 42.98s/it]"
     ]
    },
    {
     "name": "stdout",
     "output_type": "stream",
     "text": [
      "{'Model': 'PLSRegression', 'R-Squared': 0.0738881834487709, 'Adjusted R-Squared': 0.0737834140003909, 'RMSE': np.float64(35.53274303384372), 'Time taken': 1.2462124824523926}\n"
     ]
    },
    {
     "name": "stderr",
     "output_type": "stream",
     "text": [
      " 74%|███████▍  | 26/35 [22:55<04:39, 31.09s/it]"
     ]
    },
    {
     "name": "stdout",
     "output_type": "stream",
     "text": [
      "{'Model': 'PassiveAggressiveRegressor', 'R-Squared': -0.056695678690802165, 'Adjusted R-Squared': -0.05681522086852131, 'RMSE': np.float64(37.95526151523542), 'Time taken': 3.350600004196167}\n"
     ]
    },
    {
     "name": "stderr",
     "output_type": "stream",
     "text": [
      " 77%|███████▋  | 27/35 [22:56<02:56, 22.09s/it]"
     ]
    },
    {
     "name": "stdout",
     "output_type": "stream",
     "text": [
      "{'Model': 'PoissonRegressor', 'R-Squared': 0.08100715494675159, 'Adjusted R-Squared': 0.08090319085546083, 'RMSE': np.float64(35.39591043238455), 'Time taken': 1.1114521026611328}\n"
     ]
    },
    {
     "name": "stderr",
     "output_type": "stream",
     "text": [
      " 80%|████████  | 28/35 [23:02<01:59, 17.07s/it]"
     ]
    },
    {
     "name": "stdout",
     "output_type": "stream",
     "text": [
      "{'Model': 'RANSACRegressor', 'R-Squared': -0.06761128748987888, 'Adjusted R-Squared': -0.06773206453178204, 'RMSE': np.float64(38.15079574008444), 'Time taken': 5.353098392486572}\n"
     ]
    },
    {
     "name": "stderr",
     "output_type": "stream",
     "text": [
      " 83%|████████▎ | 29/35 [26:50<08:03, 80.62s/it]"
     ]
    },
    {
     "name": "stdout",
     "output_type": "stream",
     "text": [
      "{'Model': 'RandomForestRegressor', 'R-Squared': -0.017604286400627167, 'Adjusted R-Squared': -0.017719406235888968, 'RMSE': np.float64(37.2465872435219), 'Time taken': 228.88820934295654}\n"
     ]
    },
    {
     "name": "stderr",
     "output_type": "stream",
     "text": [
      " 86%|████████▌ | 30/35 [26:51<04:43, 56.65s/it]"
     ]
    },
    {
     "name": "stdout",
     "output_type": "stream",
     "text": [
      "{'Model': 'Ridge', 'R-Squared': 0.07442171487556926, 'Adjusted R-Squared': 0.07431700578468847, 'RMSE': np.float64(35.52250638318725), 'Time taken': 0.7236251831054688}\n"
     ]
    },
    {
     "name": "stderr",
     "output_type": "stream",
     "text": [
      " 89%|████████▊ | 31/35 [26:54<02:41, 40.48s/it]"
     ]
    },
    {
     "name": "stdout",
     "output_type": "stream",
     "text": [
      "{'Model': 'RidgeCV', 'R-Squared': 0.07442169500506779, 'Adjusted R-Squared': 0.07431698591193914, 'RMSE': np.float64(35.522506764489414), 'Time taken': 2.7583563327789307}\n"
     ]
    },
    {
     "name": "stderr",
     "output_type": "stream",
     "text": [
      " 91%|█████████▏| 32/35 [26:56<01:26, 28.85s/it]"
     ]
    },
    {
     "name": "stdout",
     "output_type": "stream",
     "text": [
      "{'Model': 'SGDRegressor', 'R-Squared': -1415766.5227149879, 'Adjusted R-Squared': -1415926.6860772711, 'RMSE': np.float64(43933.21594952337), 'Time taken': 1.7181837558746338}\n"
     ]
    },
    {
     "name": "stderr",
     "output_type": "stream",
     "text": [
      " 94%|█████████▍| 33/35 [30:05<02:34, 77.15s/it]"
     ]
    },
    {
     "name": "stdout",
     "output_type": "stream",
     "text": [
      "{'Model': 'TheilSenRegressor', 'R-Squared': 0.04058085651101517, 'Adjusted R-Squared': 0.04047231906161419, 'RMSE': np.float64(36.16606115163326), 'Time taken': 189.82979321479797}\n"
     ]
    },
    {
     "name": "stderr",
     "output_type": "stream",
     "text": [
      "100%|██████████| 35/35 [30:07<00:00, 51.64s/it]"
     ]
    },
    {
     "name": "stdout",
     "output_type": "stream",
     "text": [
      "{'Model': 'TransformedTargetRegressor', 'R-Squared': 0.07442171704380052, 'Adjusted R-Squared': 0.07431700795316509, 'RMSE': np.float64(35.52250634158028), 'Time taken': 1.3935425281524658}\n",
      "VotingRegressor model failed to execute\n",
      "VotingRegressor.__init__() missing 1 required positional argument: 'estimators'\n"
     ]
    },
    {
     "name": "stderr",
     "output_type": "stream",
     "text": [
      "\n"
     ]
    },
    {
     "data": {
      "text/html": [
       "<div>\n",
       "<style scoped>\n",
       "    .dataframe tbody tr th:only-of-type {\n",
       "        vertical-align: middle;\n",
       "    }\n",
       "\n",
       "    .dataframe tbody tr th {\n",
       "        vertical-align: top;\n",
       "    }\n",
       "\n",
       "    .dataframe thead th {\n",
       "        text-align: right;\n",
       "    }\n",
       "</style>\n",
       "<table border=\"1\" class=\"dataframe\">\n",
       "  <thead>\n",
       "    <tr style=\"text-align: right;\">\n",
       "      <th></th>\n",
       "      <th>Adjusted R-Squared</th>\n",
       "      <th>R-Squared</th>\n",
       "      <th>RMSE</th>\n",
       "      <th>Time Taken</th>\n",
       "      <th>Target</th>\n",
       "    </tr>\n",
       "    <tr>\n",
       "      <th>Model</th>\n",
       "      <th></th>\n",
       "      <th></th>\n",
       "      <th></th>\n",
       "      <th></th>\n",
       "      <th></th>\n",
       "    </tr>\n",
       "  </thead>\n",
       "  <tbody>\n",
       "    <tr>\n",
       "      <th>HistGradientBoostingRegressor</th>\n",
       "      <td>0.12</td>\n",
       "      <td>0.12</td>\n",
       "      <td>34.55</td>\n",
       "      <td>6.45</td>\n",
       "      <td>TurnoutTimeSeconds_mean</td>\n",
       "    </tr>\n",
       "    <tr>\n",
       "      <th>MLPRegressor</th>\n",
       "      <td>0.12</td>\n",
       "      <td>0.12</td>\n",
       "      <td>34.66</td>\n",
       "      <td>367.01</td>\n",
       "      <td>TurnoutTimeSeconds_mean</td>\n",
       "    </tr>\n",
       "    <tr>\n",
       "      <th>GradientBoostingRegressor</th>\n",
       "      <td>0.12</td>\n",
       "      <td>0.12</td>\n",
       "      <td>34.70</td>\n",
       "      <td>82.35</td>\n",
       "      <td>TurnoutTimeSeconds_mean</td>\n",
       "    </tr>\n",
       "    <tr>\n",
       "      <th>AdaBoostRegressor</th>\n",
       "      <td>0.10</td>\n",
       "      <td>0.10</td>\n",
       "      <td>35.07</td>\n",
       "      <td>21.97</td>\n",
       "      <td>TurnoutTimeSeconds_mean</td>\n",
       "    </tr>\n",
       "    <tr>\n",
       "      <th>PoissonRegressor</th>\n",
       "      <td>0.08</td>\n",
       "      <td>0.08</td>\n",
       "      <td>35.40</td>\n",
       "      <td>1.11</td>\n",
       "      <td>TurnoutTimeSeconds_mean</td>\n",
       "    </tr>\n",
       "    <tr>\n",
       "      <th>LassoCV</th>\n",
       "      <td>0.07</td>\n",
       "      <td>0.07</td>\n",
       "      <td>35.52</td>\n",
       "      <td>4.19</td>\n",
       "      <td>TurnoutTimeSeconds_mean</td>\n",
       "    </tr>\n",
       "    <tr>\n",
       "      <th>LassoLarsIC</th>\n",
       "      <td>0.07</td>\n",
       "      <td>0.07</td>\n",
       "      <td>35.52</td>\n",
       "      <td>1.82</td>\n",
       "      <td>TurnoutTimeSeconds_mean</td>\n",
       "    </tr>\n",
       "    <tr>\n",
       "      <th>LassoLarsCV</th>\n",
       "      <td>0.07</td>\n",
       "      <td>0.07</td>\n",
       "      <td>35.52</td>\n",
       "      <td>3.15</td>\n",
       "      <td>TurnoutTimeSeconds_mean</td>\n",
       "    </tr>\n",
       "    <tr>\n",
       "      <th>TransformedTargetRegressor</th>\n",
       "      <td>0.07</td>\n",
       "      <td>0.07</td>\n",
       "      <td>35.52</td>\n",
       "      <td>1.39</td>\n",
       "      <td>TurnoutTimeSeconds_mean</td>\n",
       "    </tr>\n",
       "    <tr>\n",
       "      <th>LinearRegression</th>\n",
       "      <td>0.07</td>\n",
       "      <td>0.07</td>\n",
       "      <td>35.52</td>\n",
       "      <td>1.52</td>\n",
       "      <td>TurnoutTimeSeconds_mean</td>\n",
       "    </tr>\n",
       "    <tr>\n",
       "      <th>Lars</th>\n",
       "      <td>0.07</td>\n",
       "      <td>0.07</td>\n",
       "      <td>35.52</td>\n",
       "      <td>0.85</td>\n",
       "      <td>TurnoutTimeSeconds_mean</td>\n",
       "    </tr>\n",
       "    <tr>\n",
       "      <th>Ridge</th>\n",
       "      <td>0.07</td>\n",
       "      <td>0.07</td>\n",
       "      <td>35.52</td>\n",
       "      <td>0.72</td>\n",
       "      <td>TurnoutTimeSeconds_mean</td>\n",
       "    </tr>\n",
       "    <tr>\n",
       "      <th>RidgeCV</th>\n",
       "      <td>0.07</td>\n",
       "      <td>0.07</td>\n",
       "      <td>35.52</td>\n",
       "      <td>2.76</td>\n",
       "      <td>TurnoutTimeSeconds_mean</td>\n",
       "    </tr>\n",
       "    <tr>\n",
       "      <th>BayesianRidge</th>\n",
       "      <td>0.07</td>\n",
       "      <td>0.07</td>\n",
       "      <td>35.52</td>\n",
       "      <td>2.60</td>\n",
       "      <td>TurnoutTimeSeconds_mean</td>\n",
       "    </tr>\n",
       "    <tr>\n",
       "      <th>LarsCV</th>\n",
       "      <td>0.07</td>\n",
       "      <td>0.07</td>\n",
       "      <td>35.52</td>\n",
       "      <td>3.20</td>\n",
       "      <td>TurnoutTimeSeconds_mean</td>\n",
       "    </tr>\n",
       "    <tr>\n",
       "      <th>ElasticNetCV</th>\n",
       "      <td>0.07</td>\n",
       "      <td>0.07</td>\n",
       "      <td>35.52</td>\n",
       "      <td>4.32</td>\n",
       "      <td>TurnoutTimeSeconds_mean</td>\n",
       "    </tr>\n",
       "    <tr>\n",
       "      <th>OrthogonalMatchingPursuitCV</th>\n",
       "      <td>0.07</td>\n",
       "      <td>0.07</td>\n",
       "      <td>35.53</td>\n",
       "      <td>2.67</td>\n",
       "      <td>TurnoutTimeSeconds_mean</td>\n",
       "    </tr>\n",
       "    <tr>\n",
       "      <th>PLSRegression</th>\n",
       "      <td>0.07</td>\n",
       "      <td>0.07</td>\n",
       "      <td>35.53</td>\n",
       "      <td>1.25</td>\n",
       "      <td>TurnoutTimeSeconds_mean</td>\n",
       "    </tr>\n",
       "    <tr>\n",
       "      <th>OrthogonalMatchingPursuit</th>\n",
       "      <td>0.07</td>\n",
       "      <td>0.07</td>\n",
       "      <td>35.62</td>\n",
       "      <td>0.85</td>\n",
       "      <td>TurnoutTimeSeconds_mean</td>\n",
       "    </tr>\n",
       "    <tr>\n",
       "      <th>HuberRegressor</th>\n",
       "      <td>0.07</td>\n",
       "      <td>0.07</td>\n",
       "      <td>35.64</td>\n",
       "      <td>3.50</td>\n",
       "      <td>TurnoutTimeSeconds_mean</td>\n",
       "    </tr>\n",
       "    <tr>\n",
       "      <th>LinearSVR</th>\n",
       "      <td>0.07</td>\n",
       "      <td>0.07</td>\n",
       "      <td>35.67</td>\n",
       "      <td>18.88</td>\n",
       "      <td>TurnoutTimeSeconds_mean</td>\n",
       "    </tr>\n",
       "    <tr>\n",
       "      <th>LassoLars</th>\n",
       "      <td>0.07</td>\n",
       "      <td>0.07</td>\n",
       "      <td>35.67</td>\n",
       "      <td>0.83</td>\n",
       "      <td>TurnoutTimeSeconds_mean</td>\n",
       "    </tr>\n",
       "    <tr>\n",
       "      <th>Lasso</th>\n",
       "      <td>0.07</td>\n",
       "      <td>0.07</td>\n",
       "      <td>35.67</td>\n",
       "      <td>1.22</td>\n",
       "      <td>TurnoutTimeSeconds_mean</td>\n",
       "    </tr>\n",
       "    <tr>\n",
       "      <th>ElasticNet</th>\n",
       "      <td>0.04</td>\n",
       "      <td>0.04</td>\n",
       "      <td>36.12</td>\n",
       "      <td>1.05</td>\n",
       "      <td>TurnoutTimeSeconds_mean</td>\n",
       "    </tr>\n",
       "    <tr>\n",
       "      <th>TheilSenRegressor</th>\n",
       "      <td>0.04</td>\n",
       "      <td>0.04</td>\n",
       "      <td>36.17</td>\n",
       "      <td>189.83</td>\n",
       "      <td>TurnoutTimeSeconds_mean</td>\n",
       "    </tr>\n",
       "    <tr>\n",
       "      <th>DummyRegressor</th>\n",
       "      <td>-0.00</td>\n",
       "      <td>-0.00</td>\n",
       "      <td>36.92</td>\n",
       "      <td>0.63</td>\n",
       "      <td>TurnoutTimeSeconds_mean</td>\n",
       "    </tr>\n",
       "    <tr>\n",
       "      <th>RandomForestRegressor</th>\n",
       "      <td>-0.02</td>\n",
       "      <td>-0.02</td>\n",
       "      <td>37.25</td>\n",
       "      <td>228.89</td>\n",
       "      <td>TurnoutTimeSeconds_mean</td>\n",
       "    </tr>\n",
       "    <tr>\n",
       "      <th>BaggingRegressor</th>\n",
       "      <td>-0.04</td>\n",
       "      <td>-0.04</td>\n",
       "      <td>37.65</td>\n",
       "      <td>22.26</td>\n",
       "      <td>TurnoutTimeSeconds_mean</td>\n",
       "    </tr>\n",
       "    <tr>\n",
       "      <th>KNeighborsRegressor</th>\n",
       "      <td>-0.05</td>\n",
       "      <td>-0.05</td>\n",
       "      <td>37.81</td>\n",
       "      <td>812.19</td>\n",
       "      <td>TurnoutTimeSeconds_mean</td>\n",
       "    </tr>\n",
       "    <tr>\n",
       "      <th>PassiveAggressiveRegressor</th>\n",
       "      <td>-0.06</td>\n",
       "      <td>-0.06</td>\n",
       "      <td>37.96</td>\n",
       "      <td>3.35</td>\n",
       "      <td>TurnoutTimeSeconds_mean</td>\n",
       "    </tr>\n",
       "    <tr>\n",
       "      <th>RANSACRegressor</th>\n",
       "      <td>-0.07</td>\n",
       "      <td>-0.07</td>\n",
       "      <td>38.15</td>\n",
       "      <td>5.35</td>\n",
       "      <td>TurnoutTimeSeconds_mean</td>\n",
       "    </tr>\n",
       "    <tr>\n",
       "      <th>DecisionTreeRegressor</th>\n",
       "      <td>-0.18</td>\n",
       "      <td>-0.18</td>\n",
       "      <td>40.07</td>\n",
       "      <td>3.47</td>\n",
       "      <td>TurnoutTimeSeconds_mean</td>\n",
       "    </tr>\n",
       "    <tr>\n",
       "      <th>ExtraTreeRegressor</th>\n",
       "      <td>-0.18</td>\n",
       "      <td>-0.18</td>\n",
       "      <td>40.10</td>\n",
       "      <td>3.96</td>\n",
       "      <td>TurnoutTimeSeconds_mean</td>\n",
       "    </tr>\n",
       "    <tr>\n",
       "      <th>SGDRegressor</th>\n",
       "      <td>-1415926.69</td>\n",
       "      <td>-1415766.52</td>\n",
       "      <td>43933.22</td>\n",
       "      <td>1.72</td>\n",
       "      <td>TurnoutTimeSeconds_mean</td>\n",
       "    </tr>\n",
       "  </tbody>\n",
       "</table>\n",
       "</div>"
      ],
      "text/plain": [
       "                               Adjusted R-Squared   R-Squared     RMSE  \\\n",
       "Model                                                                    \n",
       "HistGradientBoostingRegressor                0.12        0.12    34.55   \n",
       "MLPRegressor                                 0.12        0.12    34.66   \n",
       "GradientBoostingRegressor                    0.12        0.12    34.70   \n",
       "AdaBoostRegressor                            0.10        0.10    35.07   \n",
       "PoissonRegressor                             0.08        0.08    35.40   \n",
       "LassoCV                                      0.07        0.07    35.52   \n",
       "LassoLarsIC                                  0.07        0.07    35.52   \n",
       "LassoLarsCV                                  0.07        0.07    35.52   \n",
       "TransformedTargetRegressor                   0.07        0.07    35.52   \n",
       "LinearRegression                             0.07        0.07    35.52   \n",
       "Lars                                         0.07        0.07    35.52   \n",
       "Ridge                                        0.07        0.07    35.52   \n",
       "RidgeCV                                      0.07        0.07    35.52   \n",
       "BayesianRidge                                0.07        0.07    35.52   \n",
       "LarsCV                                       0.07        0.07    35.52   \n",
       "ElasticNetCV                                 0.07        0.07    35.52   \n",
       "OrthogonalMatchingPursuitCV                  0.07        0.07    35.53   \n",
       "PLSRegression                                0.07        0.07    35.53   \n",
       "OrthogonalMatchingPursuit                    0.07        0.07    35.62   \n",
       "HuberRegressor                               0.07        0.07    35.64   \n",
       "LinearSVR                                    0.07        0.07    35.67   \n",
       "LassoLars                                    0.07        0.07    35.67   \n",
       "Lasso                                        0.07        0.07    35.67   \n",
       "ElasticNet                                   0.04        0.04    36.12   \n",
       "TheilSenRegressor                            0.04        0.04    36.17   \n",
       "DummyRegressor                              -0.00       -0.00    36.92   \n",
       "RandomForestRegressor                       -0.02       -0.02    37.25   \n",
       "BaggingRegressor                            -0.04       -0.04    37.65   \n",
       "KNeighborsRegressor                         -0.05       -0.05    37.81   \n",
       "PassiveAggressiveRegressor                  -0.06       -0.06    37.96   \n",
       "RANSACRegressor                             -0.07       -0.07    38.15   \n",
       "DecisionTreeRegressor                       -0.18       -0.18    40.07   \n",
       "ExtraTreeRegressor                          -0.18       -0.18    40.10   \n",
       "SGDRegressor                          -1415926.69 -1415766.52 43933.22   \n",
       "\n",
       "                               Time Taken                   Target  \n",
       "Model                                                               \n",
       "HistGradientBoostingRegressor        6.45  TurnoutTimeSeconds_mean  \n",
       "MLPRegressor                       367.01  TurnoutTimeSeconds_mean  \n",
       "GradientBoostingRegressor           82.35  TurnoutTimeSeconds_mean  \n",
       "AdaBoostRegressor                   21.97  TurnoutTimeSeconds_mean  \n",
       "PoissonRegressor                     1.11  TurnoutTimeSeconds_mean  \n",
       "LassoCV                              4.19  TurnoutTimeSeconds_mean  \n",
       "LassoLarsIC                          1.82  TurnoutTimeSeconds_mean  \n",
       "LassoLarsCV                          3.15  TurnoutTimeSeconds_mean  \n",
       "TransformedTargetRegressor           1.39  TurnoutTimeSeconds_mean  \n",
       "LinearRegression                     1.52  TurnoutTimeSeconds_mean  \n",
       "Lars                                 0.85  TurnoutTimeSeconds_mean  \n",
       "Ridge                                0.72  TurnoutTimeSeconds_mean  \n",
       "RidgeCV                              2.76  TurnoutTimeSeconds_mean  \n",
       "BayesianRidge                        2.60  TurnoutTimeSeconds_mean  \n",
       "LarsCV                               3.20  TurnoutTimeSeconds_mean  \n",
       "ElasticNetCV                         4.32  TurnoutTimeSeconds_mean  \n",
       "OrthogonalMatchingPursuitCV          2.67  TurnoutTimeSeconds_mean  \n",
       "PLSRegression                        1.25  TurnoutTimeSeconds_mean  \n",
       "OrthogonalMatchingPursuit            0.85  TurnoutTimeSeconds_mean  \n",
       "HuberRegressor                       3.50  TurnoutTimeSeconds_mean  \n",
       "LinearSVR                           18.88  TurnoutTimeSeconds_mean  \n",
       "LassoLars                            0.83  TurnoutTimeSeconds_mean  \n",
       "Lasso                                1.22  TurnoutTimeSeconds_mean  \n",
       "ElasticNet                           1.05  TurnoutTimeSeconds_mean  \n",
       "TheilSenRegressor                  189.83  TurnoutTimeSeconds_mean  \n",
       "DummyRegressor                       0.63  TurnoutTimeSeconds_mean  \n",
       "RandomForestRegressor              228.89  TurnoutTimeSeconds_mean  \n",
       "BaggingRegressor                    22.26  TurnoutTimeSeconds_mean  \n",
       "KNeighborsRegressor                812.19  TurnoutTimeSeconds_mean  \n",
       "PassiveAggressiveRegressor           3.35  TurnoutTimeSeconds_mean  \n",
       "RANSACRegressor                      5.35  TurnoutTimeSeconds_mean  \n",
       "DecisionTreeRegressor                3.47  TurnoutTimeSeconds_mean  \n",
       "ExtraTreeRegressor                   3.96  TurnoutTimeSeconds_mean  \n",
       "SGDRegressor                         1.72  TurnoutTimeSeconds_mean  "
      ]
     },
     "metadata": {},
     "output_type": "display_data"
    },
    {
     "name": "stdout",
     "output_type": "stream",
     "text": [
      "(1016665, 45)\n",
      "cols_to_remove ['TurnoutTimeSeconds_min', 'TurnoutTimeSeconds_mean', 'TurnoutTimeSeconds_max', 'TravelTimeSeconds_min', 'TravelTimeSeconds_mean', 'TravelTimeSeconds_max', 'PumpSecondsOnSite_min', 'PumpSecondsOnSite_mean', 'PumpSecondsOnSite_max', 'NumPumpsAttending']\n",
      "cols_to_keep ['CalYear', 'HourOfCall_0', 'HourOfCall_1', 'HourOfCall_2', 'HourOfCall_3', 'HourOfCall_4', 'Postcode_district_0', 'Postcode_district_1', 'Postcode_district_2', 'Postcode_district_3', 'Postcode_district_4', 'Postcode_district_5', 'Postcode_district_6', 'Postcode_district_7', 'Postcode_district_8', 'StopCode_0', 'StopCode_1', 'StopCode_2', 'StopCode_3', 'StopCode_4', 'Month_0', 'Month_1', 'Month_2', 'Month_3', 'DayOfWeek_0', 'DayOfWeek_1', 'DayOfWeek_2']\n"
     ]
    },
    {
     "data": {
      "text/html": [
       "<div>\n",
       "<style scoped>\n",
       "    .dataframe tbody tr th:only-of-type {\n",
       "        vertical-align: middle;\n",
       "    }\n",
       "\n",
       "    .dataframe tbody tr th {\n",
       "        vertical-align: top;\n",
       "    }\n",
       "\n",
       "    .dataframe thead th {\n",
       "        text-align: right;\n",
       "    }\n",
       "</style>\n",
       "<table border=\"1\" class=\"dataframe\">\n",
       "  <thead>\n",
       "    <tr style=\"text-align: right;\">\n",
       "      <th></th>\n",
       "      <th>CalYear</th>\n",
       "      <th>HourOfCall_0</th>\n",
       "      <th>HourOfCall_1</th>\n",
       "      <th>HourOfCall_2</th>\n",
       "      <th>HourOfCall_3</th>\n",
       "      <th>HourOfCall_4</th>\n",
       "      <th>Postcode_district_0</th>\n",
       "      <th>Postcode_district_1</th>\n",
       "      <th>Postcode_district_2</th>\n",
       "      <th>Postcode_district_3</th>\n",
       "      <th>Postcode_district_4</th>\n",
       "      <th>Postcode_district_5</th>\n",
       "      <th>Postcode_district_6</th>\n",
       "      <th>Postcode_district_7</th>\n",
       "      <th>Postcode_district_8</th>\n",
       "      <th>StopCode_0</th>\n",
       "      <th>StopCode_1</th>\n",
       "      <th>StopCode_2</th>\n",
       "      <th>StopCode_3</th>\n",
       "      <th>StopCode_4</th>\n",
       "      <th>Month_0</th>\n",
       "      <th>Month_1</th>\n",
       "      <th>Month_2</th>\n",
       "      <th>Month_3</th>\n",
       "      <th>DayOfWeek_0</th>\n",
       "      <th>DayOfWeek_1</th>\n",
       "      <th>DayOfWeek_2</th>\n",
       "    </tr>\n",
       "  </thead>\n",
       "  <tbody>\n",
       "    <tr>\n",
       "      <th>574862</th>\n",
       "      <td>7</td>\n",
       "      <td>0</td>\n",
       "      <td>0</td>\n",
       "      <td>0</td>\n",
       "      <td>0</td>\n",
       "      <td>1</td>\n",
       "      <td>0</td>\n",
       "      <td>0</td>\n",
       "      <td>1</td>\n",
       "      <td>1</td>\n",
       "      <td>0</td>\n",
       "      <td>0</td>\n",
       "      <td>0</td>\n",
       "      <td>0</td>\n",
       "      <td>1</td>\n",
       "      <td>0</td>\n",
       "      <td>0</td>\n",
       "      <td>0</td>\n",
       "      <td>0</td>\n",
       "      <td>1</td>\n",
       "      <td>0</td>\n",
       "      <td>0</td>\n",
       "      <td>0</td>\n",
       "      <td>1</td>\n",
       "      <td>0</td>\n",
       "      <td>0</td>\n",
       "      <td>1</td>\n",
       "    </tr>\n",
       "    <tr>\n",
       "      <th>574863</th>\n",
       "      <td>7</td>\n",
       "      <td>0</td>\n",
       "      <td>0</td>\n",
       "      <td>0</td>\n",
       "      <td>0</td>\n",
       "      <td>1</td>\n",
       "      <td>0</td>\n",
       "      <td>1</td>\n",
       "      <td>0</td>\n",
       "      <td>0</td>\n",
       "      <td>0</td>\n",
       "      <td>1</td>\n",
       "      <td>1</td>\n",
       "      <td>1</td>\n",
       "      <td>1</td>\n",
       "      <td>0</td>\n",
       "      <td>0</td>\n",
       "      <td>0</td>\n",
       "      <td>1</td>\n",
       "      <td>0</td>\n",
       "      <td>0</td>\n",
       "      <td>0</td>\n",
       "      <td>0</td>\n",
       "      <td>1</td>\n",
       "      <td>0</td>\n",
       "      <td>0</td>\n",
       "      <td>1</td>\n",
       "    </tr>\n",
       "  </tbody>\n",
       "</table>\n",
       "</div>"
      ],
      "text/plain": [
       "        CalYear  HourOfCall_0  HourOfCall_1  HourOfCall_2  HourOfCall_3  \\\n",
       "574862        7             0             0             0             0   \n",
       "574863        7             0             0             0             0   \n",
       "\n",
       "        HourOfCall_4  Postcode_district_0  Postcode_district_1  \\\n",
       "574862             1                    0                    0   \n",
       "574863             1                    0                    1   \n",
       "\n",
       "        Postcode_district_2  Postcode_district_3  Postcode_district_4  \\\n",
       "574862                    1                    1                    0   \n",
       "574863                    0                    0                    0   \n",
       "\n",
       "        Postcode_district_5  Postcode_district_6  Postcode_district_7  \\\n",
       "574862                    0                    0                    0   \n",
       "574863                    1                    1                    1   \n",
       "\n",
       "        Postcode_district_8  StopCode_0  StopCode_1  StopCode_2  StopCode_3  \\\n",
       "574862                    1           0           0           0           0   \n",
       "574863                    1           0           0           0           1   \n",
       "\n",
       "        StopCode_4  Month_0  Month_1  Month_2  Month_3  DayOfWeek_0  \\\n",
       "574862           1        0        0        0        1            0   \n",
       "574863           0        0        0        0        1            0   \n",
       "\n",
       "        DayOfWeek_1  DayOfWeek_2  \n",
       "574862            0            1  \n",
       "574863            0            1  "
      ]
     },
     "metadata": {},
     "output_type": "display_data"
    },
    {
     "name": "stdout",
     "output_type": "stream",
     "text": [
      "(1016665, 27)\n",
      "cible TravelTimeSeconds_mean\n",
      "[('AdaBoostRegressor', <class 'sklearn.ensemble._weight_boosting.AdaBoostRegressor'>), ('BaggingRegressor', <class 'sklearn.ensemble._bagging.BaggingRegressor'>), ('BayesianRidge', <class 'sklearn.linear_model._bayes.BayesianRidge'>), ('DecisionTreeRegressor', <class 'sklearn.tree._classes.DecisionTreeRegressor'>), ('DummyRegressor', <class 'sklearn.dummy.DummyRegressor'>), ('ElasticNet', <class 'sklearn.linear_model._coordinate_descent.ElasticNet'>), ('ElasticNetCV', <class 'sklearn.linear_model._coordinate_descent.ElasticNetCV'>), ('ExtraTreeRegressor', <class 'sklearn.tree._classes.ExtraTreeRegressor'>), ('GradientBoostingRegressor', <class 'sklearn.ensemble._gb.GradientBoostingRegressor'>), ('HistGradientBoostingRegressor', <class 'sklearn.ensemble._hist_gradient_boosting.gradient_boosting.HistGradientBoostingRegressor'>), ('HuberRegressor', <class 'sklearn.linear_model._huber.HuberRegressor'>), ('KNeighborsRegressor', <class 'sklearn.neighbors._regression.KNeighborsRegressor'>), ('Lars', <class 'sklearn.linear_model._least_angle.Lars'>), ('LarsCV', <class 'sklearn.linear_model._least_angle.LarsCV'>), ('Lasso', <class 'sklearn.linear_model._coordinate_descent.Lasso'>), ('LassoCV', <class 'sklearn.linear_model._coordinate_descent.LassoCV'>), ('LassoLars', <class 'sklearn.linear_model._least_angle.LassoLars'>), ('LassoLarsCV', <class 'sklearn.linear_model._least_angle.LassoLarsCV'>), ('LassoLarsIC', <class 'sklearn.linear_model._least_angle.LassoLarsIC'>), ('LinearRegression', <class 'sklearn.linear_model._base.LinearRegression'>), ('LinearSVR', <class 'sklearn.svm._classes.LinearSVR'>), ('MLPRegressor', <class 'sklearn.neural_network._multilayer_perceptron.MLPRegressor'>), ('OrthogonalMatchingPursuit', <class 'sklearn.linear_model._omp.OrthogonalMatchingPursuit'>), ('OrthogonalMatchingPursuitCV', <class 'sklearn.linear_model._omp.OrthogonalMatchingPursuitCV'>), ('PLSRegression', <class 'sklearn.cross_decomposition._pls.PLSRegression'>), ('PassiveAggressiveRegressor', <class 'sklearn.linear_model._passive_aggressive.PassiveAggressiveRegressor'>), ('PoissonRegressor', <class 'sklearn.linear_model._glm.glm.PoissonRegressor'>), ('RANSACRegressor', <class 'sklearn.linear_model._ransac.RANSACRegressor'>), ('RandomForestRegressor', <class 'sklearn.ensemble._forest.RandomForestRegressor'>), ('Ridge', <class 'sklearn.linear_model._ridge.Ridge'>), ('RidgeCV', <class 'sklearn.linear_model._ridge.RidgeCV'>), ('SGDRegressor', <class 'sklearn.linear_model._stochastic_gradient.SGDRegressor'>), ('TheilSenRegressor', <class 'sklearn.linear_model._theil_sen.TheilSenRegressor'>), ('TransformedTargetRegressor', <class 'sklearn.compose._target.TransformedTargetRegressor'>), ('VotingRegressor', <class 'sklearn.ensemble._voting.VotingRegressor'>)]\n",
      "'tuple' object has no attribute '__name__'\n",
      "Invalid Regressor(s)\n"
     ]
    },
    {
     "name": "stderr",
     "output_type": "stream",
     "text": [
      "  3%|▎         | 1/35 [00:28<16:25, 28.99s/it]"
     ]
    },
    {
     "name": "stdout",
     "output_type": "stream",
     "text": [
      "{'Model': 'AdaBoostRegressor', 'R-Squared': -0.17563612214571056, 'Adjusted R-Squared': -0.17579225296048606, 'RMSE': np.float64(146.72818686532673), 'Time taken': 28.989661693572998}\n"
     ]
    },
    {
     "name": "stderr",
     "output_type": "stream",
     "text": [
      "  6%|▌         | 2/35 [01:08<19:11, 34.89s/it]"
     ]
    },
    {
     "name": "stdout",
     "output_type": "stream",
     "text": [
      "{'Model': 'BaggingRegressor', 'R-Squared': -0.07684312545433958, 'Adjusted R-Squared': -0.07698613602656978, 'RMSE': np.float64(140.42787050263792), 'Time taken': 39.01232194900513}\n"
     ]
    },
    {
     "name": "stderr",
     "output_type": "stream",
     "text": [
      "  9%|▊         | 3/35 [01:10<10:49, 20.30s/it]"
     ]
    },
    {
     "name": "stdout",
     "output_type": "stream",
     "text": [
      "{'Model': 'BayesianRidge', 'R-Squared': 0.012213424437306442, 'Adjusted R-Squared': 0.01208224105499811, 'RMSE': np.float64(134.4957775364409), 'Time taken': 2.9511916637420654}\n"
     ]
    },
    {
     "name": "stderr",
     "output_type": "stream",
     "text": [
      " 11%|█▏        | 4/35 [01:17<07:35, 14.68s/it]"
     ]
    },
    {
     "name": "stdout",
     "output_type": "stream",
     "text": [
      "{'Model': 'DecisionTreeRegressor', 'R-Squared': -0.9435189648884139, 'Adjusted R-Squared': -0.9437770746842968, 'RMSE': np.float64(188.65637339274753), 'Time taken': 6.05231499671936}\n"
     ]
    },
    {
     "name": "stderr",
     "output_type": "stream",
     "text": [
      " 14%|█▍        | 5/35 [01:17<04:49,  9.64s/it]"
     ]
    },
    {
     "name": "stdout",
     "output_type": "stream",
     "text": [
      "{'Model': 'DummyRegressor', 'R-Squared': -1.1625757556643634e-06, 'Adjusted R-Squared': -0.0001339681210670296, 'RMSE': np.float64(135.32478401816707), 'Time taken': 0.6985998153686523}\n"
     ]
    },
    {
     "name": "stderr",
     "output_type": "stream",
     "text": [
      " 17%|█▋        | 6/35 [01:19<03:17,  6.81s/it]"
     ]
    },
    {
     "name": "stdout",
     "output_type": "stream",
     "text": [
      "{'Model': 'ElasticNet', 'R-Squared': 0.008824791659156728, 'Adjusted R-Squared': 0.008693158248147648, 'RMSE': np.float64(134.7262760107925), 'Time taken': 1.3163535594940186}\n"
     ]
    },
    {
     "name": "stderr",
     "output_type": "stream",
     "text": [
      " 20%|██        | 7/35 [01:23<02:49,  6.06s/it]"
     ]
    },
    {
     "name": "stdout",
     "output_type": "stream",
     "text": [
      "{'Model': 'ElasticNetCV', 'R-Squared': 0.012209148818665194, 'Adjusted R-Squared': 0.012077964868531743, 'RMSE': np.float64(134.49606861755376), 'Time taken': 4.521284103393555}\n"
     ]
    },
    {
     "name": "stderr",
     "output_type": "stream",
     "text": [
      " 23%|██▎       | 8/35 [01:29<02:42,  6.00s/it]"
     ]
    },
    {
     "name": "stdout",
     "output_type": "stream",
     "text": [
      "{'Model': 'ExtraTreeRegressor', 'R-Squared': -0.9356634754993749, 'Adjusted R-Squared': -0.9359205420439187, 'RMSE': np.float64(188.27472322406408), 'Time taken': 5.867684364318848}\n"
     ]
    },
    {
     "name": "stderr",
     "output_type": "stream",
     "text": [
      " 26%|██▌       | 9/35 [03:21<16:57, 39.13s/it]"
     ]
    },
    {
     "name": "stdout",
     "output_type": "stream",
     "text": [
      "{'Model': 'GradientBoostingRegressor', 'R-Squared': 0.045084135990468344, 'Adjusted R-Squared': 0.04495731801585756, 'RMSE': np.float64(132.2390267714362), 'Time taken': 111.97804927825928}\n"
     ]
    },
    {
     "name": "stderr",
     "output_type": "stream",
     "text": [
      " 29%|██▊       | 10/35 [03:28<12:14, 29.36s/it]"
     ]
    },
    {
     "name": "stdout",
     "output_type": "stream",
     "text": [
      "{'Model': 'HistGradientBoostingRegressor', 'R-Squared': 0.10068023135979387, 'Adjusted R-Squared': 0.10056079684636199, 'RMSE': np.float64(128.331762892819), 'Time taken': 7.491511583328247}\n"
     ]
    },
    {
     "name": "stderr",
     "output_type": "stream",
     "text": [
      " 31%|███▏      | 11/35 [03:32<08:35, 21.49s/it]"
     ]
    },
    {
     "name": "stdout",
     "output_type": "stream",
     "text": [
      "{'Model': 'HuberRegressor', 'R-Squared': -0.0023867336410978712, 'Adjusted R-Squared': -0.0025198560031072237, 'RMSE': np.float64(135.48610112416688), 'Time taken': 3.6390984058380127}\n"
     ]
    },
    {
     "name": "stderr",
     "output_type": "stream",
     "text": [
      " 34%|███▍      | 12/35 [19:20<1:56:15, 303.30s/it]"
     ]
    },
    {
     "name": "stdout",
     "output_type": "stream",
     "text": [
      "{'Model': 'KNeighborsRegressor', 'R-Squared': -0.07659657651014418, 'Adjusted R-Squared': -0.07673955433934543, 'RMSE': np.float64(140.41179372954127), 'Time taken': 947.8574028015137}\n"
     ]
    },
    {
     "name": "stderr",
     "output_type": "stream",
     "text": [
      " 37%|███▋      | 13/35 [19:21<1:17:37, 211.71s/it]"
     ]
    },
    {
     "name": "stdout",
     "output_type": "stream",
     "text": [
      "{'Model': 'Lars', 'R-Squared': 0.01221425038247781, 'Adjusted R-Squared': 0.012083067109859513, 'RMSE': np.float64(134.49572130660138), 'Time taken': 0.9604799747467041}\n"
     ]
    },
    {
     "name": "stderr",
     "output_type": "stream",
     "text": [
      " 40%|████      | 14/35 [19:25<52:08, 148.96s/it]  "
     ]
    },
    {
     "name": "stdout",
     "output_type": "stream",
     "text": [
      "{'Model': 'LarsCV', 'R-Squared': 0.012211722555819482, 'Adjusted R-Squared': 0.01208053894749217, 'RMSE': np.float64(134.49589339941218), 'Time taken': 3.945680618286133}\n"
     ]
    },
    {
     "name": "stderr",
     "output_type": "stream",
     "text": [
      " 43%|████▎     | 15/35 [19:26<34:51, 104.57s/it]"
     ]
    },
    {
     "name": "stdout",
     "output_type": "stream",
     "text": [
      "{'Model': 'Lasso', 'R-Squared': 0.010495327453709069, 'Adjusted R-Squared': 0.01036391589885921, 'RMSE': np.float64(134.6126936812862), 'Time taken': 1.6923186779022217}\n"
     ]
    },
    {
     "name": "stderr",
     "output_type": "stream",
     "text": [
      " 46%|████▌     | 16/35 [19:32<23:37, 74.63s/it] "
     ]
    },
    {
     "name": "stdout",
     "output_type": "stream",
     "text": [
      "{'Model': 'LassoCV', 'R-Squared': 0.012212556440395206, 'Adjusted R-Squared': 0.012081372942812307, 'RMSE': np.float64(134.4958366291117), 'Time taken': 5.09607458114624}\n"
     ]
    },
    {
     "name": "stderr",
     "output_type": "stream",
     "text": [
      " 49%|████▊     | 17/35 [19:33<15:44, 52.49s/it]"
     ]
    },
    {
     "name": "stdout",
     "output_type": "stream",
     "text": [
      "{'Model': 'LassoLars', 'R-Squared': 0.01049539850413117, 'Adjusted R-Squared': 0.010363986958717208, 'RMSE': np.float64(134.61268884841925), 'Time taken': 1.003211259841919}\n"
     ]
    },
    {
     "name": "stderr",
     "output_type": "stream",
     "text": [
      " 51%|█████▏    | 18/35 [19:37<10:44, 37.90s/it]"
     ]
    },
    {
     "name": "stdout",
     "output_type": "stream",
     "text": [
      "{'Model': 'LassoLarsCV', 'R-Squared': 0.012211722555819482, 'Adjusted R-Squared': 0.01208053894749217, 'RMSE': np.float64(134.49589339941218), 'Time taken': 3.9525911808013916}\n"
     ]
    },
    {
     "name": "stderr",
     "output_type": "stream",
     "text": [
      " 54%|█████▍    | 19/35 [19:39<07:15, 27.25s/it]"
     ]
    },
    {
     "name": "stdout",
     "output_type": "stream",
     "text": [
      "{'Model': 'LassoLarsIC', 'R-Squared': 0.01221425038247781, 'Adjusted R-Squared': 0.012083067109859513, 'RMSE': np.float64(134.49572130660138), 'Time taken': 2.4160373210906982}\n"
     ]
    },
    {
     "name": "stderr",
     "output_type": "stream",
     "text": [
      " 57%|█████▋    | 20/35 [19:41<04:55, 19.68s/it]"
     ]
    },
    {
     "name": "stdout",
     "output_type": "stream",
     "text": [
      "{'Model': 'LinearRegression', 'R-Squared': 0.012214250382477587, 'Adjusted R-Squared': 0.012083067109859291, 'RMSE': np.float64(134.4957213066014), 'Time taken': 2.040627956390381}\n"
     ]
    },
    {
     "name": "stderr",
     "output_type": "stream",
     "text": [
      " 60%|██████    | 21/35 [19:45<03:30, 15.04s/it]"
     ]
    },
    {
     "name": "stdout",
     "output_type": "stream",
     "text": [
      "{'Model': 'LinearSVR', 'R-Squared': -0.010207263020196589, 'Adjusted R-Squared': -0.010341423990667176, 'RMSE': np.float64(136.01359931862342), 'Time taken': 4.224687576293945}\n"
     ]
    },
    {
     "name": "stderr",
     "output_type": "stream",
     "text": [
      " 63%|██████▎   | 22/35 [33:23<55:27, 256.00s/it]"
     ]
    },
    {
     "name": "stdout",
     "output_type": "stream",
     "text": [
      "{'Model': 'MLPRegressor', 'R-Squared': 0.11861182002831594, 'Adjusted R-Squared': 0.11849476692652683, 'RMSE': np.float64(127.04591375848086), 'Time taken': 817.9116389751434}\n"
     ]
    },
    {
     "name": "stderr",
     "output_type": "stream",
     "text": [
      " 66%|██████▌   | 23/35 [33:24<35:53, 179.47s/it]"
     ]
    },
    {
     "name": "stdout",
     "output_type": "stream",
     "text": [
      "{'Model': 'OrthogonalMatchingPursuit', 'R-Squared': 0.0036447503523806546, 'Adjusted R-Squared': 0.0035124290039608708, 'RMSE': np.float64(135.0778678512293), 'Time taken': 0.9089384078979492}\n"
     ]
    },
    {
     "name": "stderr",
     "output_type": "stream",
     "text": [
      " 69%|██████▊   | 24/35 [33:27<23:11, 126.49s/it]"
     ]
    },
    {
     "name": "stdout",
     "output_type": "stream",
     "text": [
      "{'Model': 'OrthogonalMatchingPursuitCV', 'R-Squared': 0.006423142583100505, 'Adjusted R-Squared': 0.006291190220147014, 'RMSE': np.float64(134.88940028411218), 'Time taken': 2.9020285606384277}\n"
     ]
    },
    {
     "name": "stderr",
     "output_type": "stream",
     "text": [
      " 71%|███████▏  | 25/35 [33:28<14:49, 88.93s/it] "
     ]
    },
    {
     "name": "stdout",
     "output_type": "stream",
     "text": [
      "{'Model': 'PLSRegression', 'R-Squared': 0.011632979250987496, 'Adjusted R-Squared': 0.011501718782429338, 'RMSE': np.float64(134.53528807617442), 'Time taken': 1.312802791595459}\n"
     ]
    },
    {
     "name": "stderr",
     "output_type": "stream",
     "text": [
      " 74%|███████▍  | 26/35 [33:31<09:26, 62.97s/it]"
     ]
    },
    {
     "name": "stdout",
     "output_type": "stream",
     "text": [
      "{'Model': 'PassiveAggressiveRegressor', 'R-Squared': -0.1454780837712688, 'Adjusted R-Squared': -0.14563020943596872, 'RMSE': np.float64(144.8339857321737), 'Time taken': 2.4108216762542725}\n"
     ]
    },
    {
     "name": "stderr",
     "output_type": "stream",
     "text": [
      " 77%|███████▋  | 27/35 [33:32<05:55, 44.41s/it]"
     ]
    },
    {
     "name": "stdout",
     "output_type": "stream",
     "text": [
      "{'Model': 'PoissonRegressor', 'R-Squared': 0.012059522877385986, 'Adjusted R-Squared': 0.011928319056120906, 'RMSE': np.float64(134.50625464976022), 'Time taken': 1.107499361038208}\n"
     ]
    },
    {
     "name": "stderr",
     "output_type": "stream",
     "text": [
      " 80%|████████  | 28/35 [33:37<03:49, 32.73s/it]"
     ]
    },
    {
     "name": "stdout",
     "output_type": "stream",
     "text": [
      "{'Model': 'RANSACRegressor', 'R-Squared': -1.176928403003461, 'Adjusted R-Squared': -1.177217510831016, 'RMSE': np.float64(199.6637221682547), 'Time taken': 5.463768720626831}\n"
     ]
    },
    {
     "name": "stderr",
     "output_type": "stream",
     "text": [
      " 83%|████████▎ | 29/35 [39:55<13:37, 136.18s/it]"
     ]
    },
    {
     "name": "stdout",
     "output_type": "stream",
     "text": [
      "{'Model': 'RandomForestRegressor', 'R-Squared': 0.015006826969397258, 'Adjusted R-Squared': 0.014876014566004181, 'RMSE': np.float64(134.30546980901482), 'Time taken': 377.5570590496063}\n"
     ]
    },
    {
     "name": "stderr",
     "output_type": "stream",
     "text": [
      " 86%|████████▌ | 30/35 [39:56<07:57, 95.58s/it] "
     ]
    },
    {
     "name": "stdout",
     "output_type": "stream",
     "text": [
      "{'Model': 'Ridge', 'R-Squared': 0.012214249875179495, 'Adjusted R-Squared': 0.012083066602493808, 'RMSE': np.float64(134.49572134113794), 'Time taken': 0.8614461421966553}\n"
     ]
    },
    {
     "name": "stderr",
     "output_type": "stream",
     "text": [
      " 89%|████████▊ | 31/35 [39:59<04:31, 67.93s/it]"
     ]
    },
    {
     "name": "stdout",
     "output_type": "stream",
     "text": [
      "{'Model': 'RidgeCV', 'R-Squared': 0.012214245357396014, 'Adjusted R-Squared': 0.012083062084110363, 'RMSE': np.float64(134.49572164870594), 'Time taken': 3.4204390048980713}\n"
     ]
    },
    {
     "name": "stderr",
     "output_type": "stream",
     "text": [
      " 91%|█████████▏| 32/35 [40:08<02:30, 50.25s/it]"
     ]
    },
    {
     "name": "stdout",
     "output_type": "stream",
     "text": [
      "{'Model': 'SGDRegressor', 'R-Squared': 0.010235769514899795, 'Adjusted R-Squared': 0.010104323489356415, 'RMSE': np.float64(134.63034771734408), 'Time taken': 8.993122816085815}\n"
     ]
    },
    {
     "name": "stderr",
     "output_type": "stream",
     "text": [
      " 94%|█████████▍| 33/35 [43:07<02:57, 88.70s/it]"
     ]
    },
    {
     "name": "stdout",
     "output_type": "stream",
     "text": [
      "{'Model': 'TheilSenRegressor', 'R-Squared': -0.06616942200307241, 'Adjusted R-Squared': -0.0663110150499433, 'RMSE': np.float64(139.73017453219455), 'Time taken': 178.39211249351501}\n"
     ]
    },
    {
     "name": "stderr",
     "output_type": "stream",
     "text": [
      "100%|██████████| 35/35 [43:09<00:00, 73.97s/it]"
     ]
    },
    {
     "name": "stdout",
     "output_type": "stream",
     "text": [
      "{'Model': 'TransformedTargetRegressor', 'R-Squared': 0.012214250382477587, 'Adjusted R-Squared': 0.012083067109859291, 'RMSE': np.float64(134.4957213066014), 'Time taken': 2.0055887699127197}\n",
      "VotingRegressor model failed to execute\n",
      "VotingRegressor.__init__() missing 1 required positional argument: 'estimators'\n"
     ]
    },
    {
     "name": "stderr",
     "output_type": "stream",
     "text": [
      "\n"
     ]
    },
    {
     "data": {
      "text/html": [
       "<div>\n",
       "<style scoped>\n",
       "    .dataframe tbody tr th:only-of-type {\n",
       "        vertical-align: middle;\n",
       "    }\n",
       "\n",
       "    .dataframe tbody tr th {\n",
       "        vertical-align: top;\n",
       "    }\n",
       "\n",
       "    .dataframe thead th {\n",
       "        text-align: right;\n",
       "    }\n",
       "</style>\n",
       "<table border=\"1\" class=\"dataframe\">\n",
       "  <thead>\n",
       "    <tr style=\"text-align: right;\">\n",
       "      <th></th>\n",
       "      <th>Adjusted R-Squared</th>\n",
       "      <th>R-Squared</th>\n",
       "      <th>RMSE</th>\n",
       "      <th>Time Taken</th>\n",
       "      <th>Target</th>\n",
       "    </tr>\n",
       "    <tr>\n",
       "      <th>Model</th>\n",
       "      <th></th>\n",
       "      <th></th>\n",
       "      <th></th>\n",
       "      <th></th>\n",
       "      <th></th>\n",
       "    </tr>\n",
       "  </thead>\n",
       "  <tbody>\n",
       "    <tr>\n",
       "      <th>MLPRegressor</th>\n",
       "      <td>0.12</td>\n",
       "      <td>0.12</td>\n",
       "      <td>127.05</td>\n",
       "      <td>817.91</td>\n",
       "      <td>TravelTimeSeconds_mean</td>\n",
       "    </tr>\n",
       "    <tr>\n",
       "      <th>HistGradientBoostingRegressor</th>\n",
       "      <td>0.10</td>\n",
       "      <td>0.10</td>\n",
       "      <td>128.33</td>\n",
       "      <td>7.49</td>\n",
       "      <td>TravelTimeSeconds_mean</td>\n",
       "    </tr>\n",
       "    <tr>\n",
       "      <th>GradientBoostingRegressor</th>\n",
       "      <td>0.04</td>\n",
       "      <td>0.05</td>\n",
       "      <td>132.24</td>\n",
       "      <td>111.98</td>\n",
       "      <td>TravelTimeSeconds_mean</td>\n",
       "    </tr>\n",
       "    <tr>\n",
       "      <th>RandomForestRegressor</th>\n",
       "      <td>0.01</td>\n",
       "      <td>0.02</td>\n",
       "      <td>134.31</td>\n",
       "      <td>377.56</td>\n",
       "      <td>TravelTimeSeconds_mean</td>\n",
       "    </tr>\n",
       "    <tr>\n",
       "      <th>Lars</th>\n",
       "      <td>0.01</td>\n",
       "      <td>0.01</td>\n",
       "      <td>134.50</td>\n",
       "      <td>0.96</td>\n",
       "      <td>TravelTimeSeconds_mean</td>\n",
       "    </tr>\n",
       "    <tr>\n",
       "      <th>LassoLarsIC</th>\n",
       "      <td>0.01</td>\n",
       "      <td>0.01</td>\n",
       "      <td>134.50</td>\n",
       "      <td>2.42</td>\n",
       "      <td>TravelTimeSeconds_mean</td>\n",
       "    </tr>\n",
       "    <tr>\n",
       "      <th>LinearRegression</th>\n",
       "      <td>0.01</td>\n",
       "      <td>0.01</td>\n",
       "      <td>134.50</td>\n",
       "      <td>2.04</td>\n",
       "      <td>TravelTimeSeconds_mean</td>\n",
       "    </tr>\n",
       "    <tr>\n",
       "      <th>TransformedTargetRegressor</th>\n",
       "      <td>0.01</td>\n",
       "      <td>0.01</td>\n",
       "      <td>134.50</td>\n",
       "      <td>2.01</td>\n",
       "      <td>TravelTimeSeconds_mean</td>\n",
       "    </tr>\n",
       "    <tr>\n",
       "      <th>Ridge</th>\n",
       "      <td>0.01</td>\n",
       "      <td>0.01</td>\n",
       "      <td>134.50</td>\n",
       "      <td>0.86</td>\n",
       "      <td>TravelTimeSeconds_mean</td>\n",
       "    </tr>\n",
       "    <tr>\n",
       "      <th>RidgeCV</th>\n",
       "      <td>0.01</td>\n",
       "      <td>0.01</td>\n",
       "      <td>134.50</td>\n",
       "      <td>3.42</td>\n",
       "      <td>TravelTimeSeconds_mean</td>\n",
       "    </tr>\n",
       "    <tr>\n",
       "      <th>BayesianRidge</th>\n",
       "      <td>0.01</td>\n",
       "      <td>0.01</td>\n",
       "      <td>134.50</td>\n",
       "      <td>2.95</td>\n",
       "      <td>TravelTimeSeconds_mean</td>\n",
       "    </tr>\n",
       "    <tr>\n",
       "      <th>LassoCV</th>\n",
       "      <td>0.01</td>\n",
       "      <td>0.01</td>\n",
       "      <td>134.50</td>\n",
       "      <td>5.10</td>\n",
       "      <td>TravelTimeSeconds_mean</td>\n",
       "    </tr>\n",
       "    <tr>\n",
       "      <th>LarsCV</th>\n",
       "      <td>0.01</td>\n",
       "      <td>0.01</td>\n",
       "      <td>134.50</td>\n",
       "      <td>3.95</td>\n",
       "      <td>TravelTimeSeconds_mean</td>\n",
       "    </tr>\n",
       "    <tr>\n",
       "      <th>LassoLarsCV</th>\n",
       "      <td>0.01</td>\n",
       "      <td>0.01</td>\n",
       "      <td>134.50</td>\n",
       "      <td>3.95</td>\n",
       "      <td>TravelTimeSeconds_mean</td>\n",
       "    </tr>\n",
       "    <tr>\n",
       "      <th>ElasticNetCV</th>\n",
       "      <td>0.01</td>\n",
       "      <td>0.01</td>\n",
       "      <td>134.50</td>\n",
       "      <td>4.52</td>\n",
       "      <td>TravelTimeSeconds_mean</td>\n",
       "    </tr>\n",
       "    <tr>\n",
       "      <th>PoissonRegressor</th>\n",
       "      <td>0.01</td>\n",
       "      <td>0.01</td>\n",
       "      <td>134.51</td>\n",
       "      <td>1.11</td>\n",
       "      <td>TravelTimeSeconds_mean</td>\n",
       "    </tr>\n",
       "    <tr>\n",
       "      <th>PLSRegression</th>\n",
       "      <td>0.01</td>\n",
       "      <td>0.01</td>\n",
       "      <td>134.54</td>\n",
       "      <td>1.31</td>\n",
       "      <td>TravelTimeSeconds_mean</td>\n",
       "    </tr>\n",
       "    <tr>\n",
       "      <th>LassoLars</th>\n",
       "      <td>0.01</td>\n",
       "      <td>0.01</td>\n",
       "      <td>134.61</td>\n",
       "      <td>1.00</td>\n",
       "      <td>TravelTimeSeconds_mean</td>\n",
       "    </tr>\n",
       "    <tr>\n",
       "      <th>Lasso</th>\n",
       "      <td>0.01</td>\n",
       "      <td>0.01</td>\n",
       "      <td>134.61</td>\n",
       "      <td>1.69</td>\n",
       "      <td>TravelTimeSeconds_mean</td>\n",
       "    </tr>\n",
       "    <tr>\n",
       "      <th>SGDRegressor</th>\n",
       "      <td>0.01</td>\n",
       "      <td>0.01</td>\n",
       "      <td>134.63</td>\n",
       "      <td>8.99</td>\n",
       "      <td>TravelTimeSeconds_mean</td>\n",
       "    </tr>\n",
       "    <tr>\n",
       "      <th>ElasticNet</th>\n",
       "      <td>0.01</td>\n",
       "      <td>0.01</td>\n",
       "      <td>134.73</td>\n",
       "      <td>1.32</td>\n",
       "      <td>TravelTimeSeconds_mean</td>\n",
       "    </tr>\n",
       "    <tr>\n",
       "      <th>OrthogonalMatchingPursuitCV</th>\n",
       "      <td>0.01</td>\n",
       "      <td>0.01</td>\n",
       "      <td>134.89</td>\n",
       "      <td>2.90</td>\n",
       "      <td>TravelTimeSeconds_mean</td>\n",
       "    </tr>\n",
       "    <tr>\n",
       "      <th>OrthogonalMatchingPursuit</th>\n",
       "      <td>0.00</td>\n",
       "      <td>0.00</td>\n",
       "      <td>135.08</td>\n",
       "      <td>0.91</td>\n",
       "      <td>TravelTimeSeconds_mean</td>\n",
       "    </tr>\n",
       "    <tr>\n",
       "      <th>DummyRegressor</th>\n",
       "      <td>-0.00</td>\n",
       "      <td>-0.00</td>\n",
       "      <td>135.32</td>\n",
       "      <td>0.70</td>\n",
       "      <td>TravelTimeSeconds_mean</td>\n",
       "    </tr>\n",
       "    <tr>\n",
       "      <th>HuberRegressor</th>\n",
       "      <td>-0.00</td>\n",
       "      <td>-0.00</td>\n",
       "      <td>135.49</td>\n",
       "      <td>3.64</td>\n",
       "      <td>TravelTimeSeconds_mean</td>\n",
       "    </tr>\n",
       "    <tr>\n",
       "      <th>LinearSVR</th>\n",
       "      <td>-0.01</td>\n",
       "      <td>-0.01</td>\n",
       "      <td>136.01</td>\n",
       "      <td>4.22</td>\n",
       "      <td>TravelTimeSeconds_mean</td>\n",
       "    </tr>\n",
       "    <tr>\n",
       "      <th>TheilSenRegressor</th>\n",
       "      <td>-0.07</td>\n",
       "      <td>-0.07</td>\n",
       "      <td>139.73</td>\n",
       "      <td>178.39</td>\n",
       "      <td>TravelTimeSeconds_mean</td>\n",
       "    </tr>\n",
       "    <tr>\n",
       "      <th>KNeighborsRegressor</th>\n",
       "      <td>-0.08</td>\n",
       "      <td>-0.08</td>\n",
       "      <td>140.41</td>\n",
       "      <td>947.86</td>\n",
       "      <td>TravelTimeSeconds_mean</td>\n",
       "    </tr>\n",
       "    <tr>\n",
       "      <th>BaggingRegressor</th>\n",
       "      <td>-0.08</td>\n",
       "      <td>-0.08</td>\n",
       "      <td>140.43</td>\n",
       "      <td>39.01</td>\n",
       "      <td>TravelTimeSeconds_mean</td>\n",
       "    </tr>\n",
       "    <tr>\n",
       "      <th>PassiveAggressiveRegressor</th>\n",
       "      <td>-0.15</td>\n",
       "      <td>-0.15</td>\n",
       "      <td>144.83</td>\n",
       "      <td>2.41</td>\n",
       "      <td>TravelTimeSeconds_mean</td>\n",
       "    </tr>\n",
       "    <tr>\n",
       "      <th>AdaBoostRegressor</th>\n",
       "      <td>-0.18</td>\n",
       "      <td>-0.18</td>\n",
       "      <td>146.73</td>\n",
       "      <td>28.99</td>\n",
       "      <td>TravelTimeSeconds_mean</td>\n",
       "    </tr>\n",
       "    <tr>\n",
       "      <th>ExtraTreeRegressor</th>\n",
       "      <td>-0.94</td>\n",
       "      <td>-0.94</td>\n",
       "      <td>188.27</td>\n",
       "      <td>5.87</td>\n",
       "      <td>TravelTimeSeconds_mean</td>\n",
       "    </tr>\n",
       "    <tr>\n",
       "      <th>DecisionTreeRegressor</th>\n",
       "      <td>-0.94</td>\n",
       "      <td>-0.94</td>\n",
       "      <td>188.66</td>\n",
       "      <td>6.05</td>\n",
       "      <td>TravelTimeSeconds_mean</td>\n",
       "    </tr>\n",
       "    <tr>\n",
       "      <th>RANSACRegressor</th>\n",
       "      <td>-1.18</td>\n",
       "      <td>-1.18</td>\n",
       "      <td>199.66</td>\n",
       "      <td>5.46</td>\n",
       "      <td>TravelTimeSeconds_mean</td>\n",
       "    </tr>\n",
       "  </tbody>\n",
       "</table>\n",
       "</div>"
      ],
      "text/plain": [
       "                               Adjusted R-Squared  R-Squared   RMSE  \\\n",
       "Model                                                                 \n",
       "MLPRegressor                                 0.12       0.12 127.05   \n",
       "HistGradientBoostingRegressor                0.10       0.10 128.33   \n",
       "GradientBoostingRegressor                    0.04       0.05 132.24   \n",
       "RandomForestRegressor                        0.01       0.02 134.31   \n",
       "Lars                                         0.01       0.01 134.50   \n",
       "LassoLarsIC                                  0.01       0.01 134.50   \n",
       "LinearRegression                             0.01       0.01 134.50   \n",
       "TransformedTargetRegressor                   0.01       0.01 134.50   \n",
       "Ridge                                        0.01       0.01 134.50   \n",
       "RidgeCV                                      0.01       0.01 134.50   \n",
       "BayesianRidge                                0.01       0.01 134.50   \n",
       "LassoCV                                      0.01       0.01 134.50   \n",
       "LarsCV                                       0.01       0.01 134.50   \n",
       "LassoLarsCV                                  0.01       0.01 134.50   \n",
       "ElasticNetCV                                 0.01       0.01 134.50   \n",
       "PoissonRegressor                             0.01       0.01 134.51   \n",
       "PLSRegression                                0.01       0.01 134.54   \n",
       "LassoLars                                    0.01       0.01 134.61   \n",
       "Lasso                                        0.01       0.01 134.61   \n",
       "SGDRegressor                                 0.01       0.01 134.63   \n",
       "ElasticNet                                   0.01       0.01 134.73   \n",
       "OrthogonalMatchingPursuitCV                  0.01       0.01 134.89   \n",
       "OrthogonalMatchingPursuit                    0.00       0.00 135.08   \n",
       "DummyRegressor                              -0.00      -0.00 135.32   \n",
       "HuberRegressor                              -0.00      -0.00 135.49   \n",
       "LinearSVR                                   -0.01      -0.01 136.01   \n",
       "TheilSenRegressor                           -0.07      -0.07 139.73   \n",
       "KNeighborsRegressor                         -0.08      -0.08 140.41   \n",
       "BaggingRegressor                            -0.08      -0.08 140.43   \n",
       "PassiveAggressiveRegressor                  -0.15      -0.15 144.83   \n",
       "AdaBoostRegressor                           -0.18      -0.18 146.73   \n",
       "ExtraTreeRegressor                          -0.94      -0.94 188.27   \n",
       "DecisionTreeRegressor                       -0.94      -0.94 188.66   \n",
       "RANSACRegressor                             -1.18      -1.18 199.66   \n",
       "\n",
       "                               Time Taken                  Target  \n",
       "Model                                                              \n",
       "MLPRegressor                       817.91  TravelTimeSeconds_mean  \n",
       "HistGradientBoostingRegressor        7.49  TravelTimeSeconds_mean  \n",
       "GradientBoostingRegressor          111.98  TravelTimeSeconds_mean  \n",
       "RandomForestRegressor              377.56  TravelTimeSeconds_mean  \n",
       "Lars                                 0.96  TravelTimeSeconds_mean  \n",
       "LassoLarsIC                          2.42  TravelTimeSeconds_mean  \n",
       "LinearRegression                     2.04  TravelTimeSeconds_mean  \n",
       "TransformedTargetRegressor           2.01  TravelTimeSeconds_mean  \n",
       "Ridge                                0.86  TravelTimeSeconds_mean  \n",
       "RidgeCV                              3.42  TravelTimeSeconds_mean  \n",
       "BayesianRidge                        2.95  TravelTimeSeconds_mean  \n",
       "LassoCV                              5.10  TravelTimeSeconds_mean  \n",
       "LarsCV                               3.95  TravelTimeSeconds_mean  \n",
       "LassoLarsCV                          3.95  TravelTimeSeconds_mean  \n",
       "ElasticNetCV                         4.52  TravelTimeSeconds_mean  \n",
       "PoissonRegressor                     1.11  TravelTimeSeconds_mean  \n",
       "PLSRegression                        1.31  TravelTimeSeconds_mean  \n",
       "LassoLars                            1.00  TravelTimeSeconds_mean  \n",
       "Lasso                                1.69  TravelTimeSeconds_mean  \n",
       "SGDRegressor                         8.99  TravelTimeSeconds_mean  \n",
       "ElasticNet                           1.32  TravelTimeSeconds_mean  \n",
       "OrthogonalMatchingPursuitCV          2.90  TravelTimeSeconds_mean  \n",
       "OrthogonalMatchingPursuit            0.91  TravelTimeSeconds_mean  \n",
       "DummyRegressor                       0.70  TravelTimeSeconds_mean  \n",
       "HuberRegressor                       3.64  TravelTimeSeconds_mean  \n",
       "LinearSVR                            4.22  TravelTimeSeconds_mean  \n",
       "TheilSenRegressor                  178.39  TravelTimeSeconds_mean  \n",
       "KNeighborsRegressor                947.86  TravelTimeSeconds_mean  \n",
       "BaggingRegressor                    39.01  TravelTimeSeconds_mean  \n",
       "PassiveAggressiveRegressor           2.41  TravelTimeSeconds_mean  \n",
       "AdaBoostRegressor                   28.99  TravelTimeSeconds_mean  \n",
       "ExtraTreeRegressor                   5.87  TravelTimeSeconds_mean  \n",
       "DecisionTreeRegressor                6.05  TravelTimeSeconds_mean  \n",
       "RANSACRegressor                      5.46  TravelTimeSeconds_mean  "
      ]
     },
     "metadata": {},
     "output_type": "display_data"
    },
    {
     "name": "stdout",
     "output_type": "stream",
     "text": [
      "(1016665, 40)\n",
      "cols_to_remove ['TurnoutTimeSeconds_min', 'TurnoutTimeSeconds_mean', 'TurnoutTimeSeconds_max', 'TravelTimeSeconds_min', 'TravelTimeSeconds_mean', 'TravelTimeSeconds_max', 'PumpSecondsOnSite_min', 'PumpSecondsOnSite_mean', 'PumpSecondsOnSite_max', 'NumPumpsAttending']\n",
      "cols_to_keep ['CalYear', 'PropertyType_0', 'PropertyType_1', 'PropertyType_2', 'PropertyType_3', 'PropertyType_4', 'PropertyType_5', 'PropertyType_6', 'StopCode_0', 'StopCode_1', 'StopCode_2', 'StopCode_3', 'StopCode_4']\n"
     ]
    },
    {
     "data": {
      "text/html": [
       "<div>\n",
       "<style scoped>\n",
       "    .dataframe tbody tr th:only-of-type {\n",
       "        vertical-align: middle;\n",
       "    }\n",
       "\n",
       "    .dataframe tbody tr th {\n",
       "        vertical-align: top;\n",
       "    }\n",
       "\n",
       "    .dataframe thead th {\n",
       "        text-align: right;\n",
       "    }\n",
       "</style>\n",
       "<table border=\"1\" class=\"dataframe\">\n",
       "  <thead>\n",
       "    <tr style=\"text-align: right;\">\n",
       "      <th></th>\n",
       "      <th>CalYear</th>\n",
       "      <th>PropertyType_0</th>\n",
       "      <th>PropertyType_1</th>\n",
       "      <th>PropertyType_2</th>\n",
       "      <th>PropertyType_3</th>\n",
       "      <th>PropertyType_4</th>\n",
       "      <th>PropertyType_5</th>\n",
       "      <th>PropertyType_6</th>\n",
       "      <th>StopCode_0</th>\n",
       "      <th>StopCode_1</th>\n",
       "      <th>StopCode_2</th>\n",
       "      <th>StopCode_3</th>\n",
       "      <th>StopCode_4</th>\n",
       "    </tr>\n",
       "  </thead>\n",
       "  <tbody>\n",
       "    <tr>\n",
       "      <th>574862</th>\n",
       "      <td>7</td>\n",
       "      <td>0</td>\n",
       "      <td>0</td>\n",
       "      <td>0</td>\n",
       "      <td>0</td>\n",
       "      <td>0</td>\n",
       "      <td>0</td>\n",
       "      <td>1</td>\n",
       "      <td>0</td>\n",
       "      <td>0</td>\n",
       "      <td>0</td>\n",
       "      <td>0</td>\n",
       "      <td>1</td>\n",
       "    </tr>\n",
       "    <tr>\n",
       "      <th>574863</th>\n",
       "      <td>7</td>\n",
       "      <td>0</td>\n",
       "      <td>0</td>\n",
       "      <td>0</td>\n",
       "      <td>0</td>\n",
       "      <td>0</td>\n",
       "      <td>1</td>\n",
       "      <td>0</td>\n",
       "      <td>0</td>\n",
       "      <td>0</td>\n",
       "      <td>0</td>\n",
       "      <td>1</td>\n",
       "      <td>0</td>\n",
       "    </tr>\n",
       "  </tbody>\n",
       "</table>\n",
       "</div>"
      ],
      "text/plain": [
       "        CalYear  PropertyType_0  PropertyType_1  PropertyType_2  \\\n",
       "574862        7               0               0               0   \n",
       "574863        7               0               0               0   \n",
       "\n",
       "        PropertyType_3  PropertyType_4  PropertyType_5  PropertyType_6  \\\n",
       "574862               0               0               0               1   \n",
       "574863               0               0               1               0   \n",
       "\n",
       "        StopCode_0  StopCode_1  StopCode_2  StopCode_3  StopCode_4  \n",
       "574862           0           0           0           0           1  \n",
       "574863           0           0           0           1           0  "
      ]
     },
     "metadata": {},
     "output_type": "display_data"
    },
    {
     "name": "stdout",
     "output_type": "stream",
     "text": [
      "(1016665, 13)\n",
      "cible PumpSecondsOnSite_mean\n",
      "[('AdaBoostRegressor', <class 'sklearn.ensemble._weight_boosting.AdaBoostRegressor'>), ('BaggingRegressor', <class 'sklearn.ensemble._bagging.BaggingRegressor'>), ('BayesianRidge', <class 'sklearn.linear_model._bayes.BayesianRidge'>), ('DecisionTreeRegressor', <class 'sklearn.tree._classes.DecisionTreeRegressor'>), ('DummyRegressor', <class 'sklearn.dummy.DummyRegressor'>), ('ElasticNet', <class 'sklearn.linear_model._coordinate_descent.ElasticNet'>), ('ElasticNetCV', <class 'sklearn.linear_model._coordinate_descent.ElasticNetCV'>), ('ExtraTreeRegressor', <class 'sklearn.tree._classes.ExtraTreeRegressor'>), ('GradientBoostingRegressor', <class 'sklearn.ensemble._gb.GradientBoostingRegressor'>), ('HistGradientBoostingRegressor', <class 'sklearn.ensemble._hist_gradient_boosting.gradient_boosting.HistGradientBoostingRegressor'>), ('HuberRegressor', <class 'sklearn.linear_model._huber.HuberRegressor'>), ('KNeighborsRegressor', <class 'sklearn.neighbors._regression.KNeighborsRegressor'>), ('Lars', <class 'sklearn.linear_model._least_angle.Lars'>), ('LarsCV', <class 'sklearn.linear_model._least_angle.LarsCV'>), ('Lasso', <class 'sklearn.linear_model._coordinate_descent.Lasso'>), ('LassoCV', <class 'sklearn.linear_model._coordinate_descent.LassoCV'>), ('LassoLars', <class 'sklearn.linear_model._least_angle.LassoLars'>), ('LassoLarsCV', <class 'sklearn.linear_model._least_angle.LassoLarsCV'>), ('LassoLarsIC', <class 'sklearn.linear_model._least_angle.LassoLarsIC'>), ('LinearRegression', <class 'sklearn.linear_model._base.LinearRegression'>), ('LinearSVR', <class 'sklearn.svm._classes.LinearSVR'>), ('MLPRegressor', <class 'sklearn.neural_network._multilayer_perceptron.MLPRegressor'>), ('OrthogonalMatchingPursuit', <class 'sklearn.linear_model._omp.OrthogonalMatchingPursuit'>), ('OrthogonalMatchingPursuitCV', <class 'sklearn.linear_model._omp.OrthogonalMatchingPursuitCV'>), ('PLSRegression', <class 'sklearn.cross_decomposition._pls.PLSRegression'>), ('PassiveAggressiveRegressor', <class 'sklearn.linear_model._passive_aggressive.PassiveAggressiveRegressor'>), ('PoissonRegressor', <class 'sklearn.linear_model._glm.glm.PoissonRegressor'>), ('RANSACRegressor', <class 'sklearn.linear_model._ransac.RANSACRegressor'>), ('RandomForestRegressor', <class 'sklearn.ensemble._forest.RandomForestRegressor'>), ('Ridge', <class 'sklearn.linear_model._ridge.Ridge'>), ('RidgeCV', <class 'sklearn.linear_model._ridge.RidgeCV'>), ('SGDRegressor', <class 'sklearn.linear_model._stochastic_gradient.SGDRegressor'>), ('TheilSenRegressor', <class 'sklearn.linear_model._theil_sen.TheilSenRegressor'>), ('TransformedTargetRegressor', <class 'sklearn.compose._target.TransformedTargetRegressor'>), ('VotingRegressor', <class 'sklearn.ensemble._voting.VotingRegressor'>)]\n",
      "'tuple' object has no attribute '__name__'\n",
      "Invalid Regressor(s)\n"
     ]
    },
    {
     "name": "stderr",
     "output_type": "stream",
     "text": [
      "  3%|▎         | 1/35 [00:06<03:35,  6.35s/it]"
     ]
    },
    {
     "name": "stdout",
     "output_type": "stream",
     "text": [
      "{'Model': 'AdaBoostRegressor', 'R-Squared': 0.14423566560609358, 'Adjusted R-Squared': 0.14418094894731037, 'RMSE': np.float64(1380.1897227677282), 'Time taken': 6.3516905307769775}\n"
     ]
    },
    {
     "name": "stderr",
     "output_type": "stream",
     "text": [
      "  6%|▌         | 2/35 [00:13<03:42,  6.74s/it]"
     ]
    },
    {
     "name": "stdout",
     "output_type": "stream",
     "text": [
      "{'Model': 'BaggingRegressor', 'R-Squared': 0.22138053731726592, 'Adjusted R-Squared': 0.2213307532192973, 'RMSE': np.float64(1316.5104951811138), 'Time taken': 7.0121681690216064}\n"
     ]
    },
    {
     "name": "stderr",
     "output_type": "stream",
     "text": [
      "  9%|▊         | 3/35 [00:14<02:12,  4.15s/it]"
     ]
    },
    {
     "name": "stdout",
     "output_type": "stream",
     "text": [
      "{'Model': 'BayesianRidge', 'R-Squared': 0.14319949611261207, 'Adjusted R-Squared': 0.14314471320225663, 'RMSE': np.float64(1381.0250449421471), 'Time taken': 1.0653154850006104}\n"
     ]
    },
    {
     "name": "stderr",
     "output_type": "stream",
     "text": [
      " 11%|█▏        | 4/35 [00:15<01:32,  2.99s/it]"
     ]
    },
    {
     "name": "stdout",
     "output_type": "stream",
     "text": [
      "{'Model': 'DecisionTreeRegressor', 'R-Squared': 0.2183074315445771, 'Adjusted R-Squared': 0.21825745095550309, 'RMSE': np.float64(1319.1059811804585), 'Time taken': 1.2016832828521729}\n"
     ]
    },
    {
     "name": "stderr",
     "output_type": "stream",
     "text": [
      " 14%|█▍        | 5/35 [00:15<01:01,  2.03s/it]"
     ]
    },
    {
     "name": "stdout",
     "output_type": "stream",
     "text": [
      "{'Model': 'DummyRegressor', 'R-Squared': -2.397442555590601e-08, 'Adjusted R-Squared': -6.396290935883897e-05, 'RMSE': np.float64(1491.9755399169019), 'Time taken': 0.3429751396179199}\n"
     ]
    },
    {
     "name": "stderr",
     "output_type": "stream",
     "text": [
      " 17%|█▋        | 6/35 [00:16<00:46,  1.60s/it]"
     ]
    },
    {
     "name": "stdout",
     "output_type": "stream",
     "text": [
      "{'Model': 'ElasticNet', 'R-Squared': 0.12997180409629483, 'Adjusted R-Squared': 0.12991617542142053, 'RMSE': np.float64(1391.6446736094433), 'Time taken': 0.7438199520111084}\n"
     ]
    },
    {
     "name": "stderr",
     "output_type": "stream",
     "text": [
      " 20%|██        | 7/35 [00:19<00:53,  1.90s/it]"
     ]
    },
    {
     "name": "stdout",
     "output_type": "stream",
     "text": [
      "{'Model': 'ElasticNetCV', 'R-Squared': 0.13032138070542099, 'Adjusted R-Squared': 0.1302657743821023, 'RMSE': np.float64(1391.365064680859), 'Time taken': 2.5308499336242676}\n"
     ]
    },
    {
     "name": "stderr",
     "output_type": "stream",
     "text": [
      " 23%|██▎       | 8/35 [00:20<00:44,  1.66s/it]"
     ]
    },
    {
     "name": "stdout",
     "output_type": "stream",
     "text": [
      "{'Model': 'ExtraTreeRegressor', 'R-Squared': 0.2193233369993931, 'Adjusted R-Squared': 0.2192734213662304, 'RMSE': np.float64(1318.248532420616), 'Time taken': 1.1491219997406006}\n"
     ]
    },
    {
     "name": "stderr",
     "output_type": "stream",
     "text": [
      " 26%|██▌       | 9/35 [00:53<04:59, 11.53s/it]"
     ]
    },
    {
     "name": "stdout",
     "output_type": "stream",
     "text": [
      "{'Model': 'GradientBoostingRegressor', 'R-Squared': 0.2103558758471269, 'Adjusted R-Squared': 0.21030538684406275, 'RMSE': np.float64(1325.798129683908), 'Time taken': 33.21415448188782}\n"
     ]
    },
    {
     "name": "stderr",
     "output_type": "stream",
     "text": [
      " 29%|██▊       | 10/35 [00:56<03:44,  8.98s/it]"
     ]
    },
    {
     "name": "stdout",
     "output_type": "stream",
     "text": [
      "{'Model': 'HistGradientBoostingRegressor', 'R-Squared': 0.22491564111108053, 'Adjusted R-Squared': 0.2248660830438779, 'RMSE': np.float64(1313.5184714499392), 'Time taken': 3.2927210330963135}\n"
     ]
    },
    {
     "name": "stderr",
     "output_type": "stream",
     "text": [
      " 31%|███▏      | 11/35 [00:59<02:48,  7.04s/it]"
     ]
    },
    {
     "name": "stdout",
     "output_type": "stream",
     "text": [
      "{'Model': 'HuberRegressor', 'R-Squared': 0.06619879544783247, 'Adjusted R-Squared': 0.06613908919480549, 'RMSE': np.float64(1441.7465235690258), 'Time taken': 2.6282663345336914}\n"
     ]
    },
    {
     "name": "stderr",
     "output_type": "stream",
     "text": [
      " 34%|███▍      | 12/35 [48:12<5:32:17, 866.86s/it]"
     ]
    },
    {
     "name": "stdout",
     "output_type": "stream",
     "text": [
      "{'Model': 'KNeighborsRegressor', 'R-Squared': 0.1313315867917877, 'Adjusted R-Squared': 0.1312760450599686, 'RMSE': np.float64(1390.5567351244806), 'Time taken': 2833.4455399513245}\n"
     ]
    },
    {
     "name": "stderr",
     "output_type": "stream",
     "text": [
      " 37%|███▋      | 13/35 [48:13<3:41:36, 604.40s/it]"
     ]
    },
    {
     "name": "stdout",
     "output_type": "stream",
     "text": [
      "{'Model': 'Lars', 'R-Squared': 0.14319914394934086, 'Adjusted R-Squared': 0.14314436101646855, 'RMSE': np.float64(1381.0253287574842), 'Time taken': 0.449399471282959}\n"
     ]
    },
    {
     "name": "stderr",
     "output_type": "stream",
     "text": [
      " 40%|████      | 14/35 [48:15<2:27:50, 422.39s/it]"
     ]
    },
    {
     "name": "stdout",
     "output_type": "stream",
     "text": [
      "{'Model': 'LarsCV', 'R-Squared': 0.14319914394934086, 'Adjusted R-Squared': 0.14314436101646855, 'RMSE': np.float64(1381.0253287574842), 'Time taken': 1.8244178295135498}\n"
     ]
    },
    {
     "name": "stderr",
     "output_type": "stream",
     "text": [
      " 43%|████▎     | 15/35 [48:16<1:38:28, 295.44s/it]"
     ]
    },
    {
     "name": "stdout",
     "output_type": "stream",
     "text": [
      "{'Model': 'Lasso', 'R-Squared': 0.14321108479014877, 'Adjusted R-Squared': 0.14315630262076107, 'RMSE': np.float64(1381.0157053654546), 'Time taken': 1.2379398345947266}\n"
     ]
    },
    {
     "name": "stderr",
     "output_type": "stream",
     "text": [
      " 46%|████▌     | 16/35 [48:19<1:05:41, 207.44s/it]"
     ]
    },
    {
     "name": "stdout",
     "output_type": "stream",
     "text": [
      "{'Model': 'LassoCV', 'R-Squared': 0.14320908261041465, 'Adjusted R-Squared': 0.14315430031300969, 'RMSE': np.float64(1381.0173189717893), 'Time taken': 3.064120054244995}\n"
     ]
    },
    {
     "name": "stderr",
     "output_type": "stream",
     "text": [
      " 49%|████▊     | 17/35 [48:20<43:33, 145.19s/it]  "
     ]
    },
    {
     "name": "stdout",
     "output_type": "stream",
     "text": [
      "{'Model': 'LassoLars', 'R-Squared': 0.14321115529828177, 'Adjusted R-Squared': 0.14315637313340224, 'RMSE': np.float64(1381.015648541166), 'Time taken': 0.44222092628479004}\n"
     ]
    },
    {
     "name": "stderr",
     "output_type": "stream",
     "text": [
      " 51%|█████▏    | 18/35 [48:21<28:55, 102.12s/it]"
     ]
    },
    {
     "name": "stdout",
     "output_type": "stream",
     "text": [
      "{'Model': 'LassoLarsCV', 'R-Squared': 0.14319914394934086, 'Adjusted R-Squared': 0.14314436101646855, 'RMSE': np.float64(1381.0253287574842), 'Time taken': 1.833991527557373}\n"
     ]
    },
    {
     "name": "stderr",
     "output_type": "stream",
     "text": [
      " 54%|█████▍    | 19/35 [48:22<19:07, 71.73s/it] "
     ]
    },
    {
     "name": "stdout",
     "output_type": "stream",
     "text": [
      "{'Model': 'LassoLarsIC', 'R-Squared': 0.14319914394934086, 'Adjusted R-Squared': 0.14314436101646855, 'RMSE': np.float64(1381.0253287574842), 'Time taken': 0.9563694000244141}\n"
     ]
    },
    {
     "name": "stderr",
     "output_type": "stream",
     "text": [
      " 57%|█████▋    | 20/35 [48:23<12:36, 50.41s/it]"
     ]
    },
    {
     "name": "stdout",
     "output_type": "stream",
     "text": [
      "{'Model': 'LinearRegression', 'R-Squared': 0.14319914394933853, 'Adjusted R-Squared': 0.14314436101646622, 'RMSE': np.float64(1381.025328757486), 'Time taken': 0.7168943881988525}\n"
     ]
    },
    {
     "name": "stderr",
     "output_type": "stream",
     "text": [
      " 60%|██████    | 21/35 [48:25<08:21, 35.84s/it]"
     ]
    },
    {
     "name": "stdout",
     "output_type": "stream",
     "text": [
      "{'Model': 'LinearSVR', 'R-Squared': 0.052533197849797264, 'Adjusted R-Squared': 0.052472617833035584, 'RMSE': np.float64(1452.2577370828355), 'Time taken': 1.8487153053283691}\n"
     ]
    },
    {
     "name": "stderr",
     "output_type": "stream",
     "text": [
      " 63%|██████▎   | 22/35 [59:46<49:43, 229.53s/it]"
     ]
    },
    {
     "name": "stdout",
     "output_type": "stream",
     "text": [
      "{'Model': 'MLPRegressor', 'R-Squared': 0.22053180224548563, 'Adjusted R-Squared': 0.22048196388030172, 'RMSE': np.float64(1317.2278316668812), 'Time taken': 681.2355332374573}\n"
     ]
    },
    {
     "name": "stderr",
     "output_type": "stream",
     "text": [
      " 66%|██████▌   | 23/35 [59:47<32:09, 160.79s/it]"
     ]
    },
    {
     "name": "stdout",
     "output_type": "stream",
     "text": [
      "{'Model': 'OrthogonalMatchingPursuit', 'R-Squared': 0.10646181018137113, 'Adjusted R-Squared': 0.10640467830256173, 'RMSE': np.float64(1410.3219247642946), 'Time taken': 0.4667837619781494}\n"
     ]
    },
    {
     "name": "stderr",
     "output_type": "stream",
     "text": [
      " 69%|██████▊   | 24/35 [59:48<20:43, 113.02s/it]"
     ]
    },
    {
     "name": "stdout",
     "output_type": "stream",
     "text": [
      "{'Model': 'OrthogonalMatchingPursuitCV', 'R-Squared': 0.1366836615632986, 'Adjusted R-Squared': 0.13662846203743195, 'RMSE': np.float64(1386.266339326716), 'Time taken': 1.586029291152954}\n"
     ]
    },
    {
     "name": "stderr",
     "output_type": "stream",
     "text": [
      " 71%|███████▏  | 25/35 [59:49<13:13, 79.33s/it] "
     ]
    },
    {
     "name": "stdout",
     "output_type": "stream",
     "text": [
      "{'Model': 'PLSRegression', 'R-Squared': 0.13712787607932508, 'Adjusted R-Squared': 0.13707270495606072, 'RMSE': np.float64(1385.9096457035191), 'Time taken': 0.7220582962036133}\n"
     ]
    },
    {
     "name": "stderr",
     "output_type": "stream",
     "text": [
      " 74%|███████▍  | 26/35 [59:50<08:23, 55.91s/it]"
     ]
    },
    {
     "name": "stdout",
     "output_type": "stream",
     "text": [
      "{'Model': 'PassiveAggressiveRegressor', 'R-Squared': 0.05006834588391662, 'Adjusted R-Squared': 0.05000760826714923, 'RMSE': np.float64(1454.145547428683), 'Time taken': 1.2846145629882812}\n"
     ]
    },
    {
     "name": "stderr",
     "output_type": "stream",
     "text": [
      " 77%|███████▋  | 27/35 [59:51<05:15, 39.39s/it]"
     ]
    },
    {
     "name": "stdout",
     "output_type": "stream",
     "text": [
      "{'Model': 'PoissonRegressor', 'R-Squared': 0.13177043058061, 'Adjusted R-Squared': 0.13171491690799475, 'RMSE': np.float64(1390.205442117823), 'Time taken': 0.8035624027252197}\n"
     ]
    },
    {
     "name": "stderr",
     "output_type": "stream",
     "text": [
      " 80%|████████  | 28/35 [59:54<03:19, 28.53s/it]"
     ]
    },
    {
     "name": "stdout",
     "output_type": "stream",
     "text": [
      "{'Model': 'RANSACRegressor', 'R-Squared': -0.12881598354007884, 'Adjusted R-Squared': -0.12888815883007165, 'RMSE': np.float64(1585.1606142576888), 'Time taken': 3.192640781402588}\n"
     ]
    },
    {
     "name": "stderr",
     "output_type": "stream",
     "text": [
      " 83%|████████▎ | 29/35 [1:00:59<03:55, 39.26s/it]"
     ]
    },
    {
     "name": "stdout",
     "output_type": "stream",
     "text": [
      "{'Model': 'RandomForestRegressor', 'R-Squared': 0.22170135344357378, 'Adjusted R-Squared': 0.22165158985824607, 'RMSE': np.float64(1316.2392450180057), 'Time taken': 64.30833554267883}\n"
     ]
    },
    {
     "name": "stderr",
     "output_type": "stream",
     "text": [
      " 86%|████████▌ | 30/35 [1:00:59<02:18, 27.62s/it]"
     ]
    },
    {
     "name": "stdout",
     "output_type": "stream",
     "text": [
      "{'Model': 'Ridge', 'R-Squared': 0.14319914844904325, 'Adjusted R-Squared': 0.1431443655164586, 'RMSE': np.float64(1381.0253251310855), 'Time taken': 0.45224881172180176}\n"
     ]
    },
    {
     "name": "stderr",
     "output_type": "stream",
     "text": [
      " 89%|████████▊ | 31/35 [1:01:00<01:18, 19.73s/it]"
     ]
    },
    {
     "name": "stdout",
     "output_type": "stream",
     "text": [
      "{'Model': 'RidgeCV', 'R-Squared': 0.14319918876160997, 'Adjusted R-Squared': 0.14314440583160293, 'RMSE': np.float64(1381.0252926423946), 'Time taken': 1.308300495147705}\n"
     ]
    },
    {
     "name": "stderr",
     "output_type": "stream",
     "text": [
      " 91%|█████████▏| 32/35 [1:01:06<00:46, 15.56s/it]"
     ]
    },
    {
     "name": "stdout",
     "output_type": "stream",
     "text": [
      "{'Model': 'SGDRegressor', 'R-Squared': 0.14170232818128414, 'Adjusted R-Squared': 0.14164744954360808, 'RMSE': np.float64(1382.2311156372214), 'Time taken': 5.828222274780273}\n"
     ]
    },
    {
     "name": "stderr",
     "output_type": "stream",
     "text": [
      " 94%|█████████▍| 33/35 [1:04:19<02:17, 68.72s/it]"
     ]
    },
    {
     "name": "stdout",
     "output_type": "stream",
     "text": [
      "{'Model': 'TheilSenRegressor', 'R-Squared': 0.008817407031186053, 'Adjusted R-Squared': 0.008754031873386747, 'RMSE': np.float64(1485.3832805091156), 'Time taken': 192.73929858207703}\n"
     ]
    },
    {
     "name": "stderr",
     "output_type": "stream",
     "text": [
      "100%|██████████| 35/35 [1:04:20<00:00, 110.30s/it]"
     ]
    },
    {
     "name": "stdout",
     "output_type": "stream",
     "text": [
      "{'Model': 'TransformedTargetRegressor', 'R-Squared': 0.14319914394933853, 'Adjusted R-Squared': 0.14314436101646622, 'RMSE': np.float64(1381.025328757486), 'Time taken': 1.1042931079864502}\n",
      "VotingRegressor model failed to execute\n",
      "VotingRegressor.__init__() missing 1 required positional argument: 'estimators'\n"
     ]
    },
    {
     "name": "stderr",
     "output_type": "stream",
     "text": [
      "\n"
     ]
    },
    {
     "data": {
      "text/html": [
       "<div>\n",
       "<style scoped>\n",
       "    .dataframe tbody tr th:only-of-type {\n",
       "        vertical-align: middle;\n",
       "    }\n",
       "\n",
       "    .dataframe tbody tr th {\n",
       "        vertical-align: top;\n",
       "    }\n",
       "\n",
       "    .dataframe thead th {\n",
       "        text-align: right;\n",
       "    }\n",
       "</style>\n",
       "<table border=\"1\" class=\"dataframe\">\n",
       "  <thead>\n",
       "    <tr style=\"text-align: right;\">\n",
       "      <th></th>\n",
       "      <th>Adjusted R-Squared</th>\n",
       "      <th>R-Squared</th>\n",
       "      <th>RMSE</th>\n",
       "      <th>Time Taken</th>\n",
       "      <th>Target</th>\n",
       "    </tr>\n",
       "    <tr>\n",
       "      <th>Model</th>\n",
       "      <th></th>\n",
       "      <th></th>\n",
       "      <th></th>\n",
       "      <th></th>\n",
       "      <th></th>\n",
       "    </tr>\n",
       "  </thead>\n",
       "  <tbody>\n",
       "    <tr>\n",
       "      <th>HistGradientBoostingRegressor</th>\n",
       "      <td>0.22</td>\n",
       "      <td>0.22</td>\n",
       "      <td>1313.52</td>\n",
       "      <td>3.29</td>\n",
       "      <td>PumpSecondsOnSite_mean</td>\n",
       "    </tr>\n",
       "    <tr>\n",
       "      <th>RandomForestRegressor</th>\n",
       "      <td>0.22</td>\n",
       "      <td>0.22</td>\n",
       "      <td>1316.24</td>\n",
       "      <td>64.31</td>\n",
       "      <td>PumpSecondsOnSite_mean</td>\n",
       "    </tr>\n",
       "    <tr>\n",
       "      <th>BaggingRegressor</th>\n",
       "      <td>0.22</td>\n",
       "      <td>0.22</td>\n",
       "      <td>1316.51</td>\n",
       "      <td>7.01</td>\n",
       "      <td>PumpSecondsOnSite_mean</td>\n",
       "    </tr>\n",
       "    <tr>\n",
       "      <th>MLPRegressor</th>\n",
       "      <td>0.22</td>\n",
       "      <td>0.22</td>\n",
       "      <td>1317.23</td>\n",
       "      <td>681.24</td>\n",
       "      <td>PumpSecondsOnSite_mean</td>\n",
       "    </tr>\n",
       "    <tr>\n",
       "      <th>ExtraTreeRegressor</th>\n",
       "      <td>0.22</td>\n",
       "      <td>0.22</td>\n",
       "      <td>1318.25</td>\n",
       "      <td>1.15</td>\n",
       "      <td>PumpSecondsOnSite_mean</td>\n",
       "    </tr>\n",
       "    <tr>\n",
       "      <th>DecisionTreeRegressor</th>\n",
       "      <td>0.22</td>\n",
       "      <td>0.22</td>\n",
       "      <td>1319.11</td>\n",
       "      <td>1.20</td>\n",
       "      <td>PumpSecondsOnSite_mean</td>\n",
       "    </tr>\n",
       "    <tr>\n",
       "      <th>GradientBoostingRegressor</th>\n",
       "      <td>0.21</td>\n",
       "      <td>0.21</td>\n",
       "      <td>1325.80</td>\n",
       "      <td>33.21</td>\n",
       "      <td>PumpSecondsOnSite_mean</td>\n",
       "    </tr>\n",
       "    <tr>\n",
       "      <th>AdaBoostRegressor</th>\n",
       "      <td>0.14</td>\n",
       "      <td>0.14</td>\n",
       "      <td>1380.19</td>\n",
       "      <td>6.35</td>\n",
       "      <td>PumpSecondsOnSite_mean</td>\n",
       "    </tr>\n",
       "    <tr>\n",
       "      <th>LassoLars</th>\n",
       "      <td>0.14</td>\n",
       "      <td>0.14</td>\n",
       "      <td>1381.02</td>\n",
       "      <td>0.44</td>\n",
       "      <td>PumpSecondsOnSite_mean</td>\n",
       "    </tr>\n",
       "    <tr>\n",
       "      <th>Lasso</th>\n",
       "      <td>0.14</td>\n",
       "      <td>0.14</td>\n",
       "      <td>1381.02</td>\n",
       "      <td>1.24</td>\n",
       "      <td>PumpSecondsOnSite_mean</td>\n",
       "    </tr>\n",
       "    <tr>\n",
       "      <th>LassoCV</th>\n",
       "      <td>0.14</td>\n",
       "      <td>0.14</td>\n",
       "      <td>1381.02</td>\n",
       "      <td>3.06</td>\n",
       "      <td>PumpSecondsOnSite_mean</td>\n",
       "    </tr>\n",
       "    <tr>\n",
       "      <th>BayesianRidge</th>\n",
       "      <td>0.14</td>\n",
       "      <td>0.14</td>\n",
       "      <td>1381.03</td>\n",
       "      <td>1.07</td>\n",
       "      <td>PumpSecondsOnSite_mean</td>\n",
       "    </tr>\n",
       "    <tr>\n",
       "      <th>RidgeCV</th>\n",
       "      <td>0.14</td>\n",
       "      <td>0.14</td>\n",
       "      <td>1381.03</td>\n",
       "      <td>1.31</td>\n",
       "      <td>PumpSecondsOnSite_mean</td>\n",
       "    </tr>\n",
       "    <tr>\n",
       "      <th>Ridge</th>\n",
       "      <td>0.14</td>\n",
       "      <td>0.14</td>\n",
       "      <td>1381.03</td>\n",
       "      <td>0.45</td>\n",
       "      <td>PumpSecondsOnSite_mean</td>\n",
       "    </tr>\n",
       "    <tr>\n",
       "      <th>Lars</th>\n",
       "      <td>0.14</td>\n",
       "      <td>0.14</td>\n",
       "      <td>1381.03</td>\n",
       "      <td>0.45</td>\n",
       "      <td>PumpSecondsOnSite_mean</td>\n",
       "    </tr>\n",
       "    <tr>\n",
       "      <th>LassoLarsCV</th>\n",
       "      <td>0.14</td>\n",
       "      <td>0.14</td>\n",
       "      <td>1381.03</td>\n",
       "      <td>1.83</td>\n",
       "      <td>PumpSecondsOnSite_mean</td>\n",
       "    </tr>\n",
       "    <tr>\n",
       "      <th>LarsCV</th>\n",
       "      <td>0.14</td>\n",
       "      <td>0.14</td>\n",
       "      <td>1381.03</td>\n",
       "      <td>1.82</td>\n",
       "      <td>PumpSecondsOnSite_mean</td>\n",
       "    </tr>\n",
       "    <tr>\n",
       "      <th>LassoLarsIC</th>\n",
       "      <td>0.14</td>\n",
       "      <td>0.14</td>\n",
       "      <td>1381.03</td>\n",
       "      <td>0.96</td>\n",
       "      <td>PumpSecondsOnSite_mean</td>\n",
       "    </tr>\n",
       "    <tr>\n",
       "      <th>LinearRegression</th>\n",
       "      <td>0.14</td>\n",
       "      <td>0.14</td>\n",
       "      <td>1381.03</td>\n",
       "      <td>0.72</td>\n",
       "      <td>PumpSecondsOnSite_mean</td>\n",
       "    </tr>\n",
       "    <tr>\n",
       "      <th>TransformedTargetRegressor</th>\n",
       "      <td>0.14</td>\n",
       "      <td>0.14</td>\n",
       "      <td>1381.03</td>\n",
       "      <td>1.10</td>\n",
       "      <td>PumpSecondsOnSite_mean</td>\n",
       "    </tr>\n",
       "    <tr>\n",
       "      <th>SGDRegressor</th>\n",
       "      <td>0.14</td>\n",
       "      <td>0.14</td>\n",
       "      <td>1382.23</td>\n",
       "      <td>5.83</td>\n",
       "      <td>PumpSecondsOnSite_mean</td>\n",
       "    </tr>\n",
       "    <tr>\n",
       "      <th>PLSRegression</th>\n",
       "      <td>0.14</td>\n",
       "      <td>0.14</td>\n",
       "      <td>1385.91</td>\n",
       "      <td>0.72</td>\n",
       "      <td>PumpSecondsOnSite_mean</td>\n",
       "    </tr>\n",
       "    <tr>\n",
       "      <th>OrthogonalMatchingPursuitCV</th>\n",
       "      <td>0.14</td>\n",
       "      <td>0.14</td>\n",
       "      <td>1386.27</td>\n",
       "      <td>1.59</td>\n",
       "      <td>PumpSecondsOnSite_mean</td>\n",
       "    </tr>\n",
       "    <tr>\n",
       "      <th>PoissonRegressor</th>\n",
       "      <td>0.13</td>\n",
       "      <td>0.13</td>\n",
       "      <td>1390.21</td>\n",
       "      <td>0.80</td>\n",
       "      <td>PumpSecondsOnSite_mean</td>\n",
       "    </tr>\n",
       "    <tr>\n",
       "      <th>KNeighborsRegressor</th>\n",
       "      <td>0.13</td>\n",
       "      <td>0.13</td>\n",
       "      <td>1390.56</td>\n",
       "      <td>2833.45</td>\n",
       "      <td>PumpSecondsOnSite_mean</td>\n",
       "    </tr>\n",
       "    <tr>\n",
       "      <th>ElasticNetCV</th>\n",
       "      <td>0.13</td>\n",
       "      <td>0.13</td>\n",
       "      <td>1391.37</td>\n",
       "      <td>2.53</td>\n",
       "      <td>PumpSecondsOnSite_mean</td>\n",
       "    </tr>\n",
       "    <tr>\n",
       "      <th>ElasticNet</th>\n",
       "      <td>0.13</td>\n",
       "      <td>0.13</td>\n",
       "      <td>1391.64</td>\n",
       "      <td>0.74</td>\n",
       "      <td>PumpSecondsOnSite_mean</td>\n",
       "    </tr>\n",
       "    <tr>\n",
       "      <th>OrthogonalMatchingPursuit</th>\n",
       "      <td>0.11</td>\n",
       "      <td>0.11</td>\n",
       "      <td>1410.32</td>\n",
       "      <td>0.47</td>\n",
       "      <td>PumpSecondsOnSite_mean</td>\n",
       "    </tr>\n",
       "    <tr>\n",
       "      <th>HuberRegressor</th>\n",
       "      <td>0.07</td>\n",
       "      <td>0.07</td>\n",
       "      <td>1441.75</td>\n",
       "      <td>2.63</td>\n",
       "      <td>PumpSecondsOnSite_mean</td>\n",
       "    </tr>\n",
       "    <tr>\n",
       "      <th>LinearSVR</th>\n",
       "      <td>0.05</td>\n",
       "      <td>0.05</td>\n",
       "      <td>1452.26</td>\n",
       "      <td>1.85</td>\n",
       "      <td>PumpSecondsOnSite_mean</td>\n",
       "    </tr>\n",
       "    <tr>\n",
       "      <th>PassiveAggressiveRegressor</th>\n",
       "      <td>0.05</td>\n",
       "      <td>0.05</td>\n",
       "      <td>1454.15</td>\n",
       "      <td>1.28</td>\n",
       "      <td>PumpSecondsOnSite_mean</td>\n",
       "    </tr>\n",
       "    <tr>\n",
       "      <th>TheilSenRegressor</th>\n",
       "      <td>0.01</td>\n",
       "      <td>0.01</td>\n",
       "      <td>1485.38</td>\n",
       "      <td>192.74</td>\n",
       "      <td>PumpSecondsOnSite_mean</td>\n",
       "    </tr>\n",
       "    <tr>\n",
       "      <th>DummyRegressor</th>\n",
       "      <td>-0.00</td>\n",
       "      <td>-0.00</td>\n",
       "      <td>1491.98</td>\n",
       "      <td>0.34</td>\n",
       "      <td>PumpSecondsOnSite_mean</td>\n",
       "    </tr>\n",
       "    <tr>\n",
       "      <th>RANSACRegressor</th>\n",
       "      <td>-0.13</td>\n",
       "      <td>-0.13</td>\n",
       "      <td>1585.16</td>\n",
       "      <td>3.19</td>\n",
       "      <td>PumpSecondsOnSite_mean</td>\n",
       "    </tr>\n",
       "  </tbody>\n",
       "</table>\n",
       "</div>"
      ],
      "text/plain": [
       "                               Adjusted R-Squared  R-Squared    RMSE  \\\n",
       "Model                                                                  \n",
       "HistGradientBoostingRegressor                0.22       0.22 1313.52   \n",
       "RandomForestRegressor                        0.22       0.22 1316.24   \n",
       "BaggingRegressor                             0.22       0.22 1316.51   \n",
       "MLPRegressor                                 0.22       0.22 1317.23   \n",
       "ExtraTreeRegressor                           0.22       0.22 1318.25   \n",
       "DecisionTreeRegressor                        0.22       0.22 1319.11   \n",
       "GradientBoostingRegressor                    0.21       0.21 1325.80   \n",
       "AdaBoostRegressor                            0.14       0.14 1380.19   \n",
       "LassoLars                                    0.14       0.14 1381.02   \n",
       "Lasso                                        0.14       0.14 1381.02   \n",
       "LassoCV                                      0.14       0.14 1381.02   \n",
       "BayesianRidge                                0.14       0.14 1381.03   \n",
       "RidgeCV                                      0.14       0.14 1381.03   \n",
       "Ridge                                        0.14       0.14 1381.03   \n",
       "Lars                                         0.14       0.14 1381.03   \n",
       "LassoLarsCV                                  0.14       0.14 1381.03   \n",
       "LarsCV                                       0.14       0.14 1381.03   \n",
       "LassoLarsIC                                  0.14       0.14 1381.03   \n",
       "LinearRegression                             0.14       0.14 1381.03   \n",
       "TransformedTargetRegressor                   0.14       0.14 1381.03   \n",
       "SGDRegressor                                 0.14       0.14 1382.23   \n",
       "PLSRegression                                0.14       0.14 1385.91   \n",
       "OrthogonalMatchingPursuitCV                  0.14       0.14 1386.27   \n",
       "PoissonRegressor                             0.13       0.13 1390.21   \n",
       "KNeighborsRegressor                          0.13       0.13 1390.56   \n",
       "ElasticNetCV                                 0.13       0.13 1391.37   \n",
       "ElasticNet                                   0.13       0.13 1391.64   \n",
       "OrthogonalMatchingPursuit                    0.11       0.11 1410.32   \n",
       "HuberRegressor                               0.07       0.07 1441.75   \n",
       "LinearSVR                                    0.05       0.05 1452.26   \n",
       "PassiveAggressiveRegressor                   0.05       0.05 1454.15   \n",
       "TheilSenRegressor                            0.01       0.01 1485.38   \n",
       "DummyRegressor                              -0.00      -0.00 1491.98   \n",
       "RANSACRegressor                             -0.13      -0.13 1585.16   \n",
       "\n",
       "                               Time Taken                  Target  \n",
       "Model                                                              \n",
       "HistGradientBoostingRegressor        3.29  PumpSecondsOnSite_mean  \n",
       "RandomForestRegressor               64.31  PumpSecondsOnSite_mean  \n",
       "BaggingRegressor                     7.01  PumpSecondsOnSite_mean  \n",
       "MLPRegressor                       681.24  PumpSecondsOnSite_mean  \n",
       "ExtraTreeRegressor                   1.15  PumpSecondsOnSite_mean  \n",
       "DecisionTreeRegressor                1.20  PumpSecondsOnSite_mean  \n",
       "GradientBoostingRegressor           33.21  PumpSecondsOnSite_mean  \n",
       "AdaBoostRegressor                    6.35  PumpSecondsOnSite_mean  \n",
       "LassoLars                            0.44  PumpSecondsOnSite_mean  \n",
       "Lasso                                1.24  PumpSecondsOnSite_mean  \n",
       "LassoCV                              3.06  PumpSecondsOnSite_mean  \n",
       "BayesianRidge                        1.07  PumpSecondsOnSite_mean  \n",
       "RidgeCV                              1.31  PumpSecondsOnSite_mean  \n",
       "Ridge                                0.45  PumpSecondsOnSite_mean  \n",
       "Lars                                 0.45  PumpSecondsOnSite_mean  \n",
       "LassoLarsCV                          1.83  PumpSecondsOnSite_mean  \n",
       "LarsCV                               1.82  PumpSecondsOnSite_mean  \n",
       "LassoLarsIC                          0.96  PumpSecondsOnSite_mean  \n",
       "LinearRegression                     0.72  PumpSecondsOnSite_mean  \n",
       "TransformedTargetRegressor           1.10  PumpSecondsOnSite_mean  \n",
       "SGDRegressor                         5.83  PumpSecondsOnSite_mean  \n",
       "PLSRegression                        0.72  PumpSecondsOnSite_mean  \n",
       "OrthogonalMatchingPursuitCV          1.59  PumpSecondsOnSite_mean  \n",
       "PoissonRegressor                     0.80  PumpSecondsOnSite_mean  \n",
       "KNeighborsRegressor               2833.45  PumpSecondsOnSite_mean  \n",
       "ElasticNetCV                         2.53  PumpSecondsOnSite_mean  \n",
       "ElasticNet                           0.74  PumpSecondsOnSite_mean  \n",
       "OrthogonalMatchingPursuit            0.47  PumpSecondsOnSite_mean  \n",
       "HuberRegressor                       2.63  PumpSecondsOnSite_mean  \n",
       "LinearSVR                            1.85  PumpSecondsOnSite_mean  \n",
       "PassiveAggressiveRegressor           1.28  PumpSecondsOnSite_mean  \n",
       "TheilSenRegressor                  192.74  PumpSecondsOnSite_mean  \n",
       "DummyRegressor                       0.34  PumpSecondsOnSite_mean  \n",
       "RANSACRegressor                      3.19  PumpSecondsOnSite_mean  "
      ]
     },
     "metadata": {},
     "output_type": "display_data"
    }
   ],
   "source": [
    "# Créez le cercle de corrélation\n",
    "# def draw_correlation_circle(df_charges_factorielles, pca, arrow_length=0.1, label_rotation=0):\n",
    "#     fig, ax = plt.subplots(figsize=(8, 8))\n",
    "#     for i, var in enumerate(df_charges_factorielles.columns):\n",
    "#         x = df_charges_factorielles.loc[0, var]\n",
    "#         y = df_charges_factorielles.loc[1, var]\n",
    "#         ax.arrow(0, 0, x, y, head_width=arrow_length, head_length=arrow_length, fc='gray', ec='gray')\n",
    "#         ax.text(x*1.15, y*1.15, var, ha='center', va='center', rotation=label_rotation, fontsize=9)\n",
    "#     circle = plt.Circle((0, 0), 1, facecolor='none', edgecolor='black')\n",
    "#     ax.add_artist(circle)\n",
    "#     ax.set_xlim(-1.1, 1.1)\n",
    "#     ax.set_ylim(-1.1, 1.1)\n",
    "#     ax.set_aspect('equal', adjustable='box')\n",
    "#     ax.set_xlabel('Axe 1 (PC1)')\n",
    "#     ax.set_ylabel('Axe 2 (PC2)')\n",
    "#     ax.set_title('Cercle des Corrélations')\n",
    "#     plt.grid()\n",
    "#     plt.show()\n",
    "\n",
    "ignore_regressors = [\n",
    "    \"ExtraTreesRegressor\",\n",
    "    \"NuSVR\",\n",
    "    \"QuantileRegressor\",\n",
    "    \"SVR\",\n",
    "    \"CCA\",\n",
    "    \"GammaRegressor\",\n",
    "    \"GaussianProcessRegressor\",\n",
    "    \"IsotonicRegression\",\n",
    "    \"MultiOutputRegressor\",\n",
    "    \"MultiTaskElasticNet\",\n",
    "    \"MultiTaskElasticNetCV\",\n",
    "    \"MultiTaskLasso\",\n",
    "    \"MultiTaskLassoCV\",\n",
    "    \"PLSCanonical\",\n",
    "    \"RadiusNeighborsRegressor\",\n",
    "    \"RegressorChain\",\n",
    "    \"StackingRegressor\",\n",
    "    \"KernelRidge\",\n",
    "    \"ARDRegression\",\n",
    "    \"TweedieRegressor\",\n",
    "]\n",
    "REGRESSORS = [\n",
    "    est\n",
    "    for est in all_estimators()\n",
    "    if (issubclass(est[1], RegressorMixin) and (not (est[0] in ignore_regressors)))\n",
    "]\n",
    "\n",
    "all_results = pd.DataFrame()\n",
    "\n",
    "for index, name in enumerate(cols_cible_type):\n",
    "    df = load_df(name)\n",
    "    # X = df.drop([\"PumpSecondsOnSite_min\", \"PumpSecondsOnSite_mean\", \"PumpSecondsOnSite_max\", \"TurnoutTimeSeconds_min\", \"TurnoutTimeSeconds_mean\",\n",
    "    #               \"TurnoutTimeSeconds_max\", \"TravelTimeSeconds_min\", \"TravelTimeSeconds_mean\", \"TravelTimeSeconds_max\", \"NumPumpsAttending\"], axis=1)\n",
    "    # display(X.head(2))\n",
    "    # print(X.shape)\n",
    "\n",
    "    # pca = PCA()\n",
    "    # data_2D = pca.fit_transform(X)\n",
    "    # display(data_2D)\n",
    "    # print(\"La part de variance expliquée est\", round(pca.explained_variance_ratio_.sum(), 5))\n",
    "\n",
    "    # plt.figure()\n",
    "    # plt.xlim(0,40)\n",
    "    # plt.xlabel('Nombre de composantes')\n",
    "    # plt.ylabel('Part de variance expliquée')\n",
    "    # plt.axhline(y = 0.95, color ='r', linestyle = '--')\n",
    "    # plt.plot(pca.explained_variance_ratio_.cumsum());\n",
    "    # plt.show()\n",
    "\n",
    "    # variance_expliquee = pca.explained_variance_ratio_\n",
    "    # charges_factorielles = pca.components_\n",
    "    # # Créez un DataFrame pour afficher les corrélations de chaque variable avec chaque axe\n",
    "    # df_charges_factorielles = pd.DataFrame(\n",
    "    #     charges_factorielles,\n",
    "    #     columns=X.columns,\n",
    "    #     #index=[\"Axe 1\", \"Axe 2\", \"Axe 3\", \"Axe 4\", \"Axe 5\", \"Axe 6\"],\n",
    "    # )\n",
    "\n",
    "    # # Affichez le DataFrame des charges factorielles\n",
    "    # display(df_charges_factorielles.head(2))\n",
    "\n",
    "    # charges_factorielles = pca.components_\n",
    "    # # Appelez la fonction pour tracer le cercle de corrélation\n",
    "    # draw_correlation_circle(df_charges_factorielles, pca)\n",
    "\n",
    "    # Auto ML\n",
    "    df_limited = df[df.CalYear > 6]\n",
    "    print(df_limited.shape)\n",
    "    # Crée X sans les target\n",
    "    cols_to_remove = [item for sublist in cols_cible for item in sublist] + [\n",
    "        \"NumPumpsAttending\"\n",
    "    ]\n",
    "    print(\"cols_to_remove\", cols_to_remove)\n",
    "    X = df_limited.drop(cols_to_remove, axis=1)\n",
    "    # Ne conserve que certaines colonnes explicatives\n",
    "    # Crée une liste des colonnes à conserver\n",
    "    cols_to_keep = [\n",
    "        col\n",
    "        for col in X.columns\n",
    "        if any(substring in col for substring in cols_Data[index])\n",
    "    ]\n",
    "    print(\"cols_to_keep\", cols_to_keep)\n",
    "    # Conserver uniquement ces colonnes\n",
    "    X = X[cols_to_keep]\n",
    "\n",
    "    display(X.head(2))\n",
    "    print(X.shape)\n",
    "\n",
    "    for col_cible in cols_cible[index]:\n",
    "        if not(col_cible in cols_cible_filter):\n",
    "            continue\n",
    "        print(\"cible\", col_cible)\n",
    "        y = df_limited[col_cible]\n",
    "        X_train, X_test, y_train, y_test = train_test_split(X, y, test_size=0.2)\n",
    "        myREGRESSORS = REGRESSORS\n",
    "        print(myREGRESSORS)\n",
    "        # myREGRESSORS = myREGRESSORS[4:6]\n",
    "        reg = LazyRegressor(\n",
    "            verbose=2,\n",
    "            ignore_warnings=False,\n",
    "            custom_metric=None,\n",
    "            regressors=myREGRESSORS,\n",
    "        )\n",
    "        models, predictions = reg.fit(X_train, X_test, y_train, y_test)\n",
    "        # Ajoute le nom de la colonne\n",
    "        models[\"Target\"] = col_cible\n",
    "        # Concaténe dans les résultats\n",
    "        all_results = pd.concat([all_results, models], axis=0)\n",
    "        display(models)\n",
    "        models.to_csv(f\"../data/_autoML_regressor_{col_cible}.csv\", sep=\";\", index=True)\n",
    "        # break\n",
    "    # break\n",
    "\n",
    "all_results.to_csv(f\"../data/_autoML_regressor.csv\", sep=\";\", index=True)\n",
    "\n",
    "# tester automl avant et après PCA et aussi gridsearch pour comparer\n",
    "# save du PCA"
   ]
  }
 ],
 "metadata": {
  "kernelspec": {
   "display_name": "projet-IA",
   "language": "python",
   "name": "python3"
  },
  "language_info": {
   "codemirror_mode": {
    "name": "ipython",
    "version": 3
   },
   "file_extension": ".py",
   "mimetype": "text/x-python",
   "name": "python",
   "nbconvert_exporter": "python",
   "pygments_lexer": "ipython3",
   "version": "3.13.1"
  }
 },
 "nbformat": 4,
 "nbformat_minor": 2
}
