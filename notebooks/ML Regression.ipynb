{
 "cells": [
  {
   "cell_type": "code",
   "execution_count": 1,
   "metadata": {},
   "outputs": [],
   "source": [
    "import numpy as np\n",
    "import pandas as pd\n",
    "from sklearn.decomposition import PCA\n",
    "import matplotlib.pyplot as plt\n",
    "import seaborn as sns\n",
    "%matplotlib inline\n",
    "\n",
    "from sklearn.model_selection import train_test_split\n",
    "from lazypredict.Supervised import LazyRegressor\n",
    "from sklearn.utils import all_estimators\n",
    "from sklearn.base import RegressorMixin\n",
    "from imblearn.under_sampling import RandomUnderSampler\n",
    "from sklearn.preprocessing import KBinsDiscretizer\n",
    "import time\n",
    "\n",
    "pd.set_option(\"display.max_rows\", None)\n",
    "pd.set_option(\"display.max_columns\", None)"
   ]
  },
  {
   "cell_type": "code",
   "execution_count": 2,
   "metadata": {},
   "outputs": [],
   "source": [
    "from collections import Counter\n",
    "\n",
    "cols_cible_type = [\"TurnoutTimeSeconds\", \"TravelTimeSeconds\", \"PumpSecondsOnSite\"]\n",
    "cols_Data = [\n",
    "    [\"CalYear\", \"HourOfCall\", \"Postcode_district\", \"Month\", \"DayOfWeek\"],\n",
    "    [\"CalYear\", \"HourOfCall\", \"Postcode_district\", \"Month\", \"DayOfWeek\"],\n",
    "    [\"CalYear\", \"PropertyType\", \"StopCode\"],\n",
    "]\n",
    "cols_cible = [\n",
    "    [\"TurnoutTimeSeconds_min\", \"TurnoutTimeSeconds_mean\", \"TurnoutTimeSeconds_max\"],\n",
    "    [\"TravelTimeSeconds_min\", \"TravelTimeSeconds_mean\", \"TravelTimeSeconds_max\"],\n",
    "    [\"PumpSecondsOnSite_min\", \"PumpSecondsOnSite_mean\", \"PumpSecondsOnSite_max\"]\n",
    "    # NumPumpsAttending??\n",
    "]\n",
    "\n",
    "def load_df(col_cible_type):\n",
    "    df = pd.read_csv(f\"../data/_df_ready_{col_cible_type}.csv\", sep=\";\", low_memory=False)\n",
    "    # Contrôle\n",
    "    # display(df.head(3))\n",
    "    # display(df.info())\n",
    "    return df\n",
    "\n",
    "def Create_X(df_limited, index):    \n",
    "    print(df_limited.shape)\n",
    "    # Crée X sans les target\n",
    "    cols_to_remove = [item for sublist in cols_cible for item in sublist] + [\n",
    "        \"NumPumpsAttending\"\n",
    "    ]\n",
    "    print(\"cols_to_remove\", cols_to_remove)\n",
    "    X = df_limited.drop(cols_to_remove, axis=1)\n",
    "    # Ne conserve que certaines colonnes explicatives\n",
    "    # Crée une liste des colonnes à conserver\n",
    "    cols_to_keep = [\n",
    "        col\n",
    "        for col in X.columns\n",
    "        if any(substring in col for substring in cols_Data[index])\n",
    "    ]\n",
    "    print(\"cols_to_keep\", cols_to_keep)\n",
    "    # Conserver uniquement ces colonnes\n",
    "    X = X[cols_to_keep]\n",
    "\n",
    "    display(X.head(2))\n",
    "    print(X.shape)\n",
    "    return X\n",
    "\n",
    "# Simulation d'un RandomUnderSampler\n",
    "def custom_random_undersampler(X_train, y_train, bins=25, random_state=42):\n",
    "    print(\"Resampling\")\n",
    "    print(len(X_train))\n",
    "    print(type(X_train), type(y_train))\n",
    "    # Discrétisation de la cible continue\n",
    "    y_binned, bin_edges = pd.cut(y_train, bins=bins, labels=False, retbins=True)\n",
    "    print(bin_edges)\n",
    "    print(y_binned.value_counts())\n",
    "    # Application de RandomUnderSampler\n",
    "    rus = RandomUnderSampler(sampling_strategy=\"majority\", random_state=random_state)\n",
    "    X_resampled, y_resampled_binned = rus.fit_resample(X_train, y_binned)\n",
    "    print(y_resampled_binned.value_counts())\n",
    "    # Récupérer les cibles originales à partir des bins\n",
    "    bin_midpoints = (bin_edges[:-1] + bin_edges[1:]) / 2\n",
    "    y_resampled = bin_midpoints[y_resampled_binned]\n",
    "    print(y_resampled)\n",
    "    print(len(X_resampled))\n",
    "    return X_resampled, y_resampled"
   ]
  },
  {
   "cell_type": "code",
   "execution_count": 3,
   "metadata": {},
   "outputs": [
    {
     "name": "stdout",
     "output_type": "stream",
     "text": [
      "-----------------------------------------------------\n",
      "year 2021\n",
      "-----------------------------------------------------\n",
      "(444247, 42)\n",
      "cols_to_remove ['TurnoutTimeSeconds_min', 'TurnoutTimeSeconds_mean', 'TurnoutTimeSeconds_max', 'TravelTimeSeconds_min', 'TravelTimeSeconds_mean', 'TravelTimeSeconds_max', 'PumpSecondsOnSite_min', 'PumpSecondsOnSite_mean', 'PumpSecondsOnSite_max', 'NumPumpsAttending']\n",
      "cols_to_keep ['CalYear', 'HourOfCall_0', 'HourOfCall_1', 'HourOfCall_2', 'HourOfCall_3', 'HourOfCall_4', 'Postcode_district_0', 'Postcode_district_1', 'Postcode_district_2', 'Postcode_district_3', 'Postcode_district_4', 'Month_0', 'Month_1', 'Month_2', 'Month_3', 'DayOfWeek_0', 'DayOfWeek_1', 'DayOfWeek_2']\n"
     ]
    },
    {
     "data": {
      "text/html": [
       "<div>\n",
       "<style scoped>\n",
       "    .dataframe tbody tr th:only-of-type {\n",
       "        vertical-align: middle;\n",
       "    }\n",
       "\n",
       "    .dataframe tbody tr th {\n",
       "        vertical-align: top;\n",
       "    }\n",
       "\n",
       "    .dataframe thead th {\n",
       "        text-align: right;\n",
       "    }\n",
       "</style>\n",
       "<table border=\"1\" class=\"dataframe\">\n",
       "  <thead>\n",
       "    <tr style=\"text-align: right;\">\n",
       "      <th></th>\n",
       "      <th>CalYear</th>\n",
       "      <th>HourOfCall_0</th>\n",
       "      <th>HourOfCall_1</th>\n",
       "      <th>HourOfCall_2</th>\n",
       "      <th>HourOfCall_3</th>\n",
       "      <th>HourOfCall_4</th>\n",
       "      <th>Postcode_district_0</th>\n",
       "      <th>Postcode_district_1</th>\n",
       "      <th>Postcode_district_2</th>\n",
       "      <th>Postcode_district_3</th>\n",
       "      <th>Postcode_district_4</th>\n",
       "      <th>Month_0</th>\n",
       "      <th>Month_1</th>\n",
       "      <th>Month_2</th>\n",
       "      <th>Month_3</th>\n",
       "      <th>DayOfWeek_0</th>\n",
       "      <th>DayOfWeek_1</th>\n",
       "      <th>DayOfWeek_2</th>\n",
       "    </tr>\n",
       "  </thead>\n",
       "  <tbody>\n",
       "    <tr>\n",
       "      <th>1147280</th>\n",
       "      <td>13</td>\n",
       "      <td>0</td>\n",
       "      <td>0</td>\n",
       "      <td>0</td>\n",
       "      <td>0</td>\n",
       "      <td>1</td>\n",
       "      <td>0</td>\n",
       "      <td>0</td>\n",
       "      <td>0</td>\n",
       "      <td>0</td>\n",
       "      <td>1</td>\n",
       "      <td>0</td>\n",
       "      <td>0</td>\n",
       "      <td>0</td>\n",
       "      <td>1</td>\n",
       "      <td>0</td>\n",
       "      <td>1</td>\n",
       "      <td>0</td>\n",
       "    </tr>\n",
       "    <tr>\n",
       "      <th>1147281</th>\n",
       "      <td>13</td>\n",
       "      <td>0</td>\n",
       "      <td>0</td>\n",
       "      <td>0</td>\n",
       "      <td>0</td>\n",
       "      <td>1</td>\n",
       "      <td>0</td>\n",
       "      <td>0</td>\n",
       "      <td>0</td>\n",
       "      <td>0</td>\n",
       "      <td>1</td>\n",
       "      <td>0</td>\n",
       "      <td>0</td>\n",
       "      <td>0</td>\n",
       "      <td>1</td>\n",
       "      <td>0</td>\n",
       "      <td>1</td>\n",
       "      <td>0</td>\n",
       "    </tr>\n",
       "  </tbody>\n",
       "</table>\n",
       "</div>"
      ],
      "text/plain": [
       "         CalYear  HourOfCall_0  HourOfCall_1  HourOfCall_2  HourOfCall_3  \\\n",
       "1147280       13             0             0             0             0   \n",
       "1147281       13             0             0             0             0   \n",
       "\n",
       "         HourOfCall_4  Postcode_district_0  Postcode_district_1  \\\n",
       "1147280             1                    0                    0   \n",
       "1147281             1                    0                    0   \n",
       "\n",
       "         Postcode_district_2  Postcode_district_3  Postcode_district_4  \\\n",
       "1147280                    0                    0                    1   \n",
       "1147281                    0                    0                    1   \n",
       "\n",
       "         Month_0  Month_1  Month_2  Month_3  DayOfWeek_0  DayOfWeek_1  \\\n",
       "1147280        0        0        0        1            0            1   \n",
       "1147281        0        0        0        1            0            1   \n",
       "\n",
       "         DayOfWeek_2  \n",
       "1147280            0  \n",
       "1147281            0  "
      ]
     },
     "metadata": {},
     "output_type": "display_data"
    },
    {
     "name": "stdout",
     "output_type": "stream",
     "text": [
      "(444247, 18)\n",
      "cible TurnoutTimeSeconds_mean\n",
      "[('AdaBoostRegressor', <class 'sklearn.ensemble._weight_boosting.AdaBoostRegressor'>), ('BaggingRegressor', <class 'sklearn.ensemble._bagging.BaggingRegressor'>), ('BayesianRidge', <class 'sklearn.linear_model._bayes.BayesianRidge'>), ('DecisionTreeRegressor', <class 'sklearn.tree._classes.DecisionTreeRegressor'>), ('DummyRegressor', <class 'sklearn.dummy.DummyRegressor'>), ('ElasticNet', <class 'sklearn.linear_model._coordinate_descent.ElasticNet'>), ('ElasticNetCV', <class 'sklearn.linear_model._coordinate_descent.ElasticNetCV'>), ('ExtraTreeRegressor', <class 'sklearn.tree._classes.ExtraTreeRegressor'>), ('GradientBoostingRegressor', <class 'sklearn.ensemble._gb.GradientBoostingRegressor'>), ('HistGradientBoostingRegressor', <class 'sklearn.ensemble._hist_gradient_boosting.gradient_boosting.HistGradientBoostingRegressor'>), ('HuberRegressor', <class 'sklearn.linear_model._huber.HuberRegressor'>), ('KNeighborsRegressor', <class 'sklearn.neighbors._regression.KNeighborsRegressor'>), ('Lars', <class 'sklearn.linear_model._least_angle.Lars'>), ('LarsCV', <class 'sklearn.linear_model._least_angle.LarsCV'>), ('Lasso', <class 'sklearn.linear_model._coordinate_descent.Lasso'>), ('LassoCV', <class 'sklearn.linear_model._coordinate_descent.LassoCV'>), ('LassoLars', <class 'sklearn.linear_model._least_angle.LassoLars'>), ('LassoLarsCV', <class 'sklearn.linear_model._least_angle.LassoLarsCV'>), ('LassoLarsIC', <class 'sklearn.linear_model._least_angle.LassoLarsIC'>), ('LinearRegression', <class 'sklearn.linear_model._base.LinearRegression'>), ('LinearSVR', <class 'sklearn.svm._classes.LinearSVR'>), ('MLPRegressor', <class 'sklearn.neural_network._multilayer_perceptron.MLPRegressor'>), ('OrthogonalMatchingPursuit', <class 'sklearn.linear_model._omp.OrthogonalMatchingPursuit'>), ('OrthogonalMatchingPursuitCV', <class 'sklearn.linear_model._omp.OrthogonalMatchingPursuitCV'>), ('PLSRegression', <class 'sklearn.cross_decomposition._pls.PLSRegression'>), ('PassiveAggressiveRegressor', <class 'sklearn.linear_model._passive_aggressive.PassiveAggressiveRegressor'>), ('PoissonRegressor', <class 'sklearn.linear_model._glm.glm.PoissonRegressor'>), ('RANSACRegressor', <class 'sklearn.linear_model._ransac.RANSACRegressor'>), ('RandomForestRegressor', <class 'sklearn.ensemble._forest.RandomForestRegressor'>), ('Ridge', <class 'sklearn.linear_model._ridge.Ridge'>), ('RidgeCV', <class 'sklearn.linear_model._ridge.RidgeCV'>), ('SGDRegressor', <class 'sklearn.linear_model._stochastic_gradient.SGDRegressor'>), ('TheilSenRegressor', <class 'sklearn.linear_model._theil_sen.TheilSenRegressor'>), ('TransformedTargetRegressor', <class 'sklearn.compose._target.TransformedTargetRegressor'>), ('VotingRegressor', <class 'sklearn.ensemble._voting.VotingRegressor'>)]\n",
      "'tuple' object has no attribute '__name__'\n",
      "Invalid Regressor(s)\n"
     ]
    },
    {
     "name": "stderr",
     "output_type": "stream",
     "text": [
      "  3%|▎         | 1/35 [00:05<02:56,  5.18s/it]"
     ]
    },
    {
     "name": "stdout",
     "output_type": "stream",
     "text": [
      "{'Model': 'AdaBoostRegressor', 'R-Squared': 0.11130882084114446, 'Adjusted R-Squared': 0.11112874360206282, 'RMSE': np.float64(34.86080349122066), 'Time taken': 5.182554721832275}\n"
     ]
    },
    {
     "name": "stderr",
     "output_type": "stream",
     "text": [
      "  6%|▌         | 2/35 [00:09<02:25,  4.42s/it]"
     ]
    },
    {
     "name": "stdout",
     "output_type": "stream",
     "text": [
      "{'Model': 'BaggingRegressor', 'R-Squared': 0.12324017630819317, 'Adjusted R-Squared': 0.12306251674310376, 'RMSE': np.float64(34.62599630194863), 'Time taken': 3.8913846015930176}\n"
     ]
    },
    {
     "name": "stderr",
     "output_type": "stream",
     "text": [
      "  9%|▊         | 3/35 [00:09<01:26,  2.70s/it]"
     ]
    },
    {
     "name": "stdout",
     "output_type": "stream",
     "text": [
      "{'Model': 'BayesianRidge', 'R-Squared': 0.08492706856723042, 'Adjusted R-Squared': 0.08474164554186991, 'RMSE': np.float64(35.37445946255802), 'Time taken': 0.650846004486084}\n"
     ]
    },
    {
     "name": "stderr",
     "output_type": "stream",
     "text": [
      " 14%|█▍        | 5/35 [00:10<00:38,  1.30s/it]"
     ]
    },
    {
     "name": "stdout",
     "output_type": "stream",
     "text": [
      "{'Model': 'DecisionTreeRegressor', 'R-Squared': 0.12466085336273203, 'Adjusted R-Squared': 0.12448348167222445, 'RMSE': np.float64(34.59793143130328), 'Time taken': 0.7239410877227783}\n",
      "{'Model': 'DummyRegressor', 'R-Squared': -4.337018878231014e-05, 'Adjusted R-Squared': -0.0002460109410356015, 'RMSE': np.float64(36.980380507705355), 'Time taken': 0.1936483383178711}\n"
     ]
    },
    {
     "name": "stderr",
     "output_type": "stream",
     "text": [
      " 17%|█▋        | 6/35 [00:10<00:27,  1.04it/s]"
     ]
    },
    {
     "name": "stdout",
     "output_type": "stream",
     "text": [
      "{'Model': 'ElasticNet', 'R-Squared': 0.050915505223587565, 'Adjusted R-Squared': 0.05072319036834583, 'RMSE': np.float64(36.02586333427516), 'Time taken': 0.31171107292175293}\n"
     ]
    },
    {
     "name": "stderr",
     "output_type": "stream",
     "text": [
      " 20%|██        | 7/35 [00:12<00:32,  1.15s/it]"
     ]
    },
    {
     "name": "stdout",
     "output_type": "stream",
     "text": [
      "{'Model': 'ElasticNetCV', 'R-Squared': 0.08492323291755621, 'Adjusted R-Squared': 0.08473780911497053, 'RMSE': np.float64(35.374533600851855), 'Time taken': 1.5205655097961426}\n"
     ]
    },
    {
     "name": "stderr",
     "output_type": "stream",
     "text": [
      " 23%|██▎       | 8/35 [00:13<00:27,  1.01s/it]"
     ]
    },
    {
     "name": "stdout",
     "output_type": "stream",
     "text": [
      "{'Model': 'ExtraTreeRegressor', 'R-Squared': 0.12466085336273203, 'Adjusted R-Squared': 0.12448348167222445, 'RMSE': np.float64(34.59793143130328), 'Time taken': 0.7330987453460693}\n"
     ]
    },
    {
     "name": "stderr",
     "output_type": "stream",
     "text": [
      " 26%|██▌       | 9/35 [00:33<03:03,  7.04s/it]"
     ]
    },
    {
     "name": "stdout",
     "output_type": "stream",
     "text": [
      "{'Model': 'GradientBoostingRegressor', 'R-Squared': 0.13328100861805303, 'Adjusted R-Squared': 0.13310538364653546, 'RMSE': np.float64(34.427153379507494), 'Time taken': 20.29652452468872}\n"
     ]
    },
    {
     "name": "stderr",
     "output_type": "stream",
     "text": [
      " 29%|██▊       | 10/35 [00:35<02:17,  5.50s/it]"
     ]
    },
    {
     "name": "stdout",
     "output_type": "stream",
     "text": [
      "{'Model': 'HistGradientBoostingRegressor', 'R-Squared': 0.13936000285173455, 'Adjusted R-Squared': 0.13918560967875804, 'RMSE': np.float64(34.306208339696155), 'Time taken': 2.035734176635742}\n"
     ]
    },
    {
     "name": "stderr",
     "output_type": "stream",
     "text": [
      " 31%|███▏      | 11/35 [00:36<01:39,  4.14s/it]"
     ]
    },
    {
     "name": "stdout",
     "output_type": "stream",
     "text": [
      "{'Model': 'HuberRegressor', 'R-Squared': 0.08162038226895174, 'Adjusted R-Squared': 0.08143428920325213, 'RMSE': np.float64(35.4383159896464), 'Time taken': 1.0552678108215332}\n"
     ]
    },
    {
     "name": "stderr",
     "output_type": "stream",
     "text": [
      " 34%|███▍      | 12/35 [02:03<11:16, 29.42s/it]"
     ]
    },
    {
     "name": "stdout",
     "output_type": "stream",
     "text": [
      "{'Model': 'KNeighborsRegressor', 'R-Squared': -0.02041881576548432, 'Adjusted R-Squared': -0.020625585234293364, 'RMSE': np.float64(37.35521041251704), 'Time taken': 87.25385165214539}\n"
     ]
    },
    {
     "name": "stderr",
     "output_type": "stream",
     "text": [
      " 37%|███▋      | 13/35 [02:04<07:33, 20.60s/it]"
     ]
    },
    {
     "name": "stdout",
     "output_type": "stream",
     "text": [
      "{'Model': 'Lars', 'R-Squared': 0.08492677520984082, 'Adjusted R-Squared': 0.08474135212503675, 'RMSE': np.float64(35.374465132793645), 'Time taken': 0.28549742698669434}\n"
     ]
    },
    {
     "name": "stderr",
     "output_type": "stream",
     "text": [
      " 40%|████      | 14/35 [02:05<05:08, 14.70s/it]"
     ]
    },
    {
     "name": "stdout",
     "output_type": "stream",
     "text": [
      "{'Model': 'LarsCV', 'R-Squared': 0.08494159860520589, 'Adjusted R-Squared': 0.08475617852409556, 'RMSE': np.float64(35.374178613752385), 'Time taken': 1.0762715339660645}\n"
     ]
    },
    {
     "name": "stderr",
     "output_type": "stream",
     "text": [
      " 43%|████▎     | 15/35 [02:05<03:28, 10.41s/it]"
     ]
    },
    {
     "name": "stdout",
     "output_type": "stream",
     "text": [
      "{'Model': 'Lasso', 'R-Squared': 0.077436872257581, 'Adjusted R-Squared': 0.07724993147903103, 'RMSE': np.float64(35.518940652613274), 'Time taken': 0.4588615894317627}\n"
     ]
    },
    {
     "name": "stderr",
     "output_type": "stream",
     "text": [
      " 46%|████▌     | 16/35 [02:07<02:27,  7.74s/it]"
     ]
    },
    {
     "name": "stdout",
     "output_type": "stream",
     "text": [
      "{'Model': 'LassoCV', 'R-Squared': 0.08494362790069232, 'Adjusted R-Squared': 0.08475820823078206, 'RMSE': np.float64(35.374139389643474), 'Time taken': 1.5343148708343506}\n"
     ]
    },
    {
     "name": "stderr",
     "output_type": "stream",
     "text": [
      " 49%|████▊     | 17/35 [02:07<01:39,  5.52s/it]"
     ]
    },
    {
     "name": "stdout",
     "output_type": "stream",
     "text": [
      "{'Model': 'LassoLars', 'R-Squared': 0.07743843201797751, 'Adjusted R-Squared': 0.07725149155548494, 'RMSE': np.float64(35.51891062699296), 'Time taken': 0.3542454242706299}\n"
     ]
    },
    {
     "name": "stderr",
     "output_type": "stream",
     "text": [
      " 51%|█████▏    | 18/35 [02:08<01:11,  4.18s/it]"
     ]
    },
    {
     "name": "stdout",
     "output_type": "stream",
     "text": [
      "{'Model': 'LassoLarsCV', 'R-Squared': 0.08494159860520589, 'Adjusted R-Squared': 0.08475617852409556, 'RMSE': np.float64(35.374178613752385), 'Time taken': 1.0787808895111084}\n"
     ]
    },
    {
     "name": "stderr",
     "output_type": "stream",
     "text": [
      " 54%|█████▍    | 19/35 [02:09<00:49,  3.11s/it]"
     ]
    },
    {
     "name": "stdout",
     "output_type": "stream",
     "text": [
      "{'Model': 'LassoLarsIC', 'R-Squared': 0.08493633271480994, 'Adjusted R-Squared': 0.08475091156666192, 'RMSE': np.float64(35.3742803975725), 'Time taken': 0.611912727355957}\n"
     ]
    },
    {
     "name": "stderr",
     "output_type": "stream",
     "text": [
      " 57%|█████▋    | 20/35 [02:09<00:35,  2.34s/it]"
     ]
    },
    {
     "name": "stdout",
     "output_type": "stream",
     "text": [
      "{'Model': 'LinearRegression', 'R-Squared': 0.08492677520983727, 'Adjusted R-Squared': 0.0847413521250332, 'RMSE': np.float64(35.37446513279371), 'Time taken': 0.5274789333343506}\n"
     ]
    },
    {
     "name": "stderr",
     "output_type": "stream",
     "text": [
      " 60%|██████    | 21/35 [02:15<00:46,  3.34s/it]"
     ]
    },
    {
     "name": "stdout",
     "output_type": "stream",
     "text": [
      "{'Model': 'LinearSVR', 'R-Squared': 0.08086438545753616, 'Adjusted R-Squared': 0.08067813920271782, 'RMSE': np.float64(35.4528991435503), 'Time taken': 5.669047117233276}\n"
     ]
    },
    {
     "name": "stderr",
     "output_type": "stream",
     "text": [
      " 63%|██████▎   | 22/35 [04:40<09:55, 45.78s/it]"
     ]
    },
    {
     "name": "stdout",
     "output_type": "stream",
     "text": [
      "{'Model': 'MLPRegressor', 'R-Squared': 0.1365277877940252, 'Adjusted R-Squared': 0.13635282072374888, 'RMSE': np.float64(34.36260982881066), 'Time taken': 144.76517963409424}\n"
     ]
    },
    {
     "name": "stderr",
     "output_type": "stream",
     "text": [
      " 66%|██████▌   | 23/35 [04:40<06:25, 32.14s/it]"
     ]
    },
    {
     "name": "stdout",
     "output_type": "stream",
     "text": [
      "{'Model': 'OrthogonalMatchingPursuit', 'R-Squared': 0.016516336350183014, 'Adjusted R-Squared': 0.016317051123790116, 'RMSE': np.float64(36.67292355513339), 'Time taken': 0.318037748336792}\n"
     ]
    },
    {
     "name": "stderr",
     "output_type": "stream",
     "text": [
      " 69%|██████▊   | 24/35 [04:41<04:10, 22.79s/it]"
     ]
    },
    {
     "name": "stdout",
     "output_type": "stream",
     "text": [
      "{'Model': 'OrthogonalMatchingPursuitCV', 'R-Squared': 0.08419413205076198, 'Adjusted R-Squared': 0.0840085605090356, 'RMSE': np.float64(35.38862338469532), 'Time taken': 0.9738452434539795}\n"
     ]
    },
    {
     "name": "stderr",
     "output_type": "stream",
     "text": [
      " 71%|███████▏  | 25/35 [04:42<02:41, 16.14s/it]"
     ]
    },
    {
     "name": "stdout",
     "output_type": "stream",
     "text": [
      "{'Model': 'PLSRegression', 'R-Squared': 0.0848467890634601, 'Adjusted R-Squared': 0.08466134977090611, 'RMSE': np.float64(35.37601113219658), 'Time taken': 0.6333377361297607}\n"
     ]
    },
    {
     "name": "stderr",
     "output_type": "stream",
     "text": [
      " 74%|███████▍  | 26/35 [04:42<01:43, 11.53s/it]"
     ]
    },
    {
     "name": "stdout",
     "output_type": "stream",
     "text": [
      "{'Model': 'PassiveAggressiveRegressor', 'R-Squared': -0.05537072300959789, 'Adjusted R-Squared': -0.05558457485201984, 'RMSE': np.float64(37.989578858359266), 'Time taken': 0.7553396224975586}\n"
     ]
    },
    {
     "name": "stderr",
     "output_type": "stream",
     "text": [
      " 77%|███████▋  | 27/35 [04:43<01:05,  8.19s/it]"
     ]
    },
    {
     "name": "stdout",
     "output_type": "stream",
     "text": [
      "{'Model': 'PoissonRegressor', 'R-Squared': 0.0924976071989897, 'Adjusted R-Squared': 0.09231371820674128, 'RMSE': np.float64(35.22782639039655), 'Time taken': 0.3905906677246094}\n"
     ]
    },
    {
     "name": "stderr",
     "output_type": "stream",
     "text": [
      " 80%|████████  | 28/35 [04:45<00:44,  6.36s/it]"
     ]
    },
    {
     "name": "stdout",
     "output_type": "stream",
     "text": [
      "{'Model': 'RANSACRegressor', 'R-Squared': -0.11744160495193867, 'Adjusted R-Squared': -0.11766803433907991, 'RMSE': np.float64(39.09078362799488), 'Time taken': 2.1063008308410645}\n"
     ]
    },
    {
     "name": "stderr",
     "output_type": "stream",
     "text": [
      " 83%|████████▎ | 29/35 [05:34<01:55, 19.20s/it]"
     ]
    },
    {
     "name": "stdout",
     "output_type": "stream",
     "text": [
      "{'Model': 'RandomForestRegressor', 'R-Squared': 0.12458000664136326, 'Adjusted R-Squared': 0.12440261856872581, 'RMSE': np.float64(34.59952913474774), 'Time taken': 49.151307582855225}\n"
     ]
    },
    {
     "name": "stderr",
     "output_type": "stream",
     "text": [
      " 86%|████████▌ | 30/35 [05:34<01:07, 13.54s/it]"
     ]
    },
    {
     "name": "stdout",
     "output_type": "stream",
     "text": [
      "{'Model': 'Ridge', 'R-Squared': 0.08492678083055027, 'Adjusted R-Squared': 0.08474135774688518, 'RMSE': np.float64(35.374465024152286), 'Time taken': 0.3461155891418457}\n"
     ]
    },
    {
     "name": "stderr",
     "output_type": "stream",
     "text": [
      " 89%|████████▊ | 31/35 [05:35<00:39,  9.78s/it]"
     ]
    },
    {
     "name": "stdout",
     "output_type": "stream",
     "text": [
      "{'Model': 'RidgeCV', 'R-Squared': 0.08492683095449671, 'Adjusted R-Squared': 0.08474140788098827, 'RMSE': np.float64(35.37446405531844), 'Time taken': 0.9874725341796875}\n"
     ]
    },
    {
     "name": "stderr",
     "output_type": "stream",
     "text": [
      " 91%|█████████▏| 32/35 [05:36<00:21,  7.09s/it]"
     ]
    },
    {
     "name": "stdout",
     "output_type": "stream",
     "text": [
      "{'Model': 'SGDRegressor', 'R-Squared': -1.7997106168339192e+18, 'Adjusted R-Squared': -1.80007529573096e+18, 'RMSE': np.float64(49609322644.50895), 'Time taken': 0.8243517875671387}\n"
     ]
    },
    {
     "name": "stderr",
     "output_type": "stream",
     "text": [
      " 94%|█████████▍| 33/35 [07:21<01:13, 36.54s/it]"
     ]
    },
    {
     "name": "stdout",
     "output_type": "stream",
     "text": [
      "{'Model': 'TheilSenRegressor', 'R-Squared': 0.0823124219815744, 'Adjusted R-Squared': 0.08212646914524091, 'RMSE': np.float64(35.42496130308906), 'Time taken': 105.25306057929993}\n"
     ]
    },
    {
     "name": "stderr",
     "output_type": "stream",
     "text": [
      "100%|██████████| 35/35 [07:22<00:00, 12.65s/it]"
     ]
    },
    {
     "name": "stdout",
     "output_type": "stream",
     "text": [
      "{'Model': 'TransformedTargetRegressor', 'R-Squared': 0.08492677520983727, 'Adjusted R-Squared': 0.0847413521250332, 'RMSE': np.float64(35.37446513279371), 'Time taken': 0.7070257663726807}\n",
      "VotingRegressor model failed to execute\n",
      "VotingRegressor.__init__() missing 1 required positional argument: 'estimators'\n"
     ]
    },
    {
     "name": "stderr",
     "output_type": "stream",
     "text": [
      "\n"
     ]
    },
    {
     "data": {
      "text/html": [
       "<div>\n",
       "<style scoped>\n",
       "    .dataframe tbody tr th:only-of-type {\n",
       "        vertical-align: middle;\n",
       "    }\n",
       "\n",
       "    .dataframe tbody tr th {\n",
       "        vertical-align: top;\n",
       "    }\n",
       "\n",
       "    .dataframe thead th {\n",
       "        text-align: right;\n",
       "    }\n",
       "</style>\n",
       "<table border=\"1\" class=\"dataframe\">\n",
       "  <thead>\n",
       "    <tr style=\"text-align: right;\">\n",
       "      <th></th>\n",
       "      <th>Adjusted R-Squared</th>\n",
       "      <th>R-Squared</th>\n",
       "      <th>RMSE</th>\n",
       "      <th>Time Taken</th>\n",
       "      <th>Target</th>\n",
       "      <th>Year floor</th>\n",
       "    </tr>\n",
       "    <tr>\n",
       "      <th>Model</th>\n",
       "      <th></th>\n",
       "      <th></th>\n",
       "      <th></th>\n",
       "      <th></th>\n",
       "      <th></th>\n",
       "      <th></th>\n",
       "    </tr>\n",
       "  </thead>\n",
       "  <tbody>\n",
       "    <tr>\n",
       "      <th>HistGradientBoostingRegressor</th>\n",
       "      <td>0.14</td>\n",
       "      <td>0.14</td>\n",
       "      <td>34.31</td>\n",
       "      <td>2.04</td>\n",
       "      <td>TurnoutTimeSeconds_mean</td>\n",
       "      <td>2021</td>\n",
       "    </tr>\n",
       "    <tr>\n",
       "      <th>MLPRegressor</th>\n",
       "      <td>0.14</td>\n",
       "      <td>0.14</td>\n",
       "      <td>34.36</td>\n",
       "      <td>144.77</td>\n",
       "      <td>TurnoutTimeSeconds_mean</td>\n",
       "      <td>2021</td>\n",
       "    </tr>\n",
       "    <tr>\n",
       "      <th>GradientBoostingRegressor</th>\n",
       "      <td>0.13</td>\n",
       "      <td>0.13</td>\n",
       "      <td>34.43</td>\n",
       "      <td>20.30</td>\n",
       "      <td>TurnoutTimeSeconds_mean</td>\n",
       "      <td>2021</td>\n",
       "    </tr>\n",
       "    <tr>\n",
       "      <th>DecisionTreeRegressor</th>\n",
       "      <td>0.12</td>\n",
       "      <td>0.12</td>\n",
       "      <td>34.60</td>\n",
       "      <td>0.72</td>\n",
       "      <td>TurnoutTimeSeconds_mean</td>\n",
       "      <td>2021</td>\n",
       "    </tr>\n",
       "    <tr>\n",
       "      <th>ExtraTreeRegressor</th>\n",
       "      <td>0.12</td>\n",
       "      <td>0.12</td>\n",
       "      <td>34.60</td>\n",
       "      <td>0.73</td>\n",
       "      <td>TurnoutTimeSeconds_mean</td>\n",
       "      <td>2021</td>\n",
       "    </tr>\n",
       "    <tr>\n",
       "      <th>RandomForestRegressor</th>\n",
       "      <td>0.12</td>\n",
       "      <td>0.12</td>\n",
       "      <td>34.60</td>\n",
       "      <td>49.15</td>\n",
       "      <td>TurnoutTimeSeconds_mean</td>\n",
       "      <td>2021</td>\n",
       "    </tr>\n",
       "    <tr>\n",
       "      <th>BaggingRegressor</th>\n",
       "      <td>0.12</td>\n",
       "      <td>0.12</td>\n",
       "      <td>34.63</td>\n",
       "      <td>3.89</td>\n",
       "      <td>TurnoutTimeSeconds_mean</td>\n",
       "      <td>2021</td>\n",
       "    </tr>\n",
       "    <tr>\n",
       "      <th>AdaBoostRegressor</th>\n",
       "      <td>0.11</td>\n",
       "      <td>0.11</td>\n",
       "      <td>34.86</td>\n",
       "      <td>5.18</td>\n",
       "      <td>TurnoutTimeSeconds_mean</td>\n",
       "      <td>2021</td>\n",
       "    </tr>\n",
       "    <tr>\n",
       "      <th>PoissonRegressor</th>\n",
       "      <td>0.09</td>\n",
       "      <td>0.09</td>\n",
       "      <td>35.23</td>\n",
       "      <td>0.39</td>\n",
       "      <td>TurnoutTimeSeconds_mean</td>\n",
       "      <td>2021</td>\n",
       "    </tr>\n",
       "    <tr>\n",
       "      <th>LassoCV</th>\n",
       "      <td>0.08</td>\n",
       "      <td>0.08</td>\n",
       "      <td>35.37</td>\n",
       "      <td>1.53</td>\n",
       "      <td>TurnoutTimeSeconds_mean</td>\n",
       "      <td>2021</td>\n",
       "    </tr>\n",
       "    <tr>\n",
       "      <th>LassoLarsCV</th>\n",
       "      <td>0.08</td>\n",
       "      <td>0.08</td>\n",
       "      <td>35.37</td>\n",
       "      <td>1.08</td>\n",
       "      <td>TurnoutTimeSeconds_mean</td>\n",
       "      <td>2021</td>\n",
       "    </tr>\n",
       "    <tr>\n",
       "      <th>LarsCV</th>\n",
       "      <td>0.08</td>\n",
       "      <td>0.08</td>\n",
       "      <td>35.37</td>\n",
       "      <td>1.08</td>\n",
       "      <td>TurnoutTimeSeconds_mean</td>\n",
       "      <td>2021</td>\n",
       "    </tr>\n",
       "    <tr>\n",
       "      <th>LassoLarsIC</th>\n",
       "      <td>0.08</td>\n",
       "      <td>0.08</td>\n",
       "      <td>35.37</td>\n",
       "      <td>0.61</td>\n",
       "      <td>TurnoutTimeSeconds_mean</td>\n",
       "      <td>2021</td>\n",
       "    </tr>\n",
       "    <tr>\n",
       "      <th>BayesianRidge</th>\n",
       "      <td>0.08</td>\n",
       "      <td>0.08</td>\n",
       "      <td>35.37</td>\n",
       "      <td>0.65</td>\n",
       "      <td>TurnoutTimeSeconds_mean</td>\n",
       "      <td>2021</td>\n",
       "    </tr>\n",
       "    <tr>\n",
       "      <th>RidgeCV</th>\n",
       "      <td>0.08</td>\n",
       "      <td>0.08</td>\n",
       "      <td>35.37</td>\n",
       "      <td>0.99</td>\n",
       "      <td>TurnoutTimeSeconds_mean</td>\n",
       "      <td>2021</td>\n",
       "    </tr>\n",
       "    <tr>\n",
       "      <th>Ridge</th>\n",
       "      <td>0.08</td>\n",
       "      <td>0.08</td>\n",
       "      <td>35.37</td>\n",
       "      <td>0.35</td>\n",
       "      <td>TurnoutTimeSeconds_mean</td>\n",
       "      <td>2021</td>\n",
       "    </tr>\n",
       "    <tr>\n",
       "      <th>Lars</th>\n",
       "      <td>0.08</td>\n",
       "      <td>0.08</td>\n",
       "      <td>35.37</td>\n",
       "      <td>0.29</td>\n",
       "      <td>TurnoutTimeSeconds_mean</td>\n",
       "      <td>2021</td>\n",
       "    </tr>\n",
       "    <tr>\n",
       "      <th>LinearRegression</th>\n",
       "      <td>0.08</td>\n",
       "      <td>0.08</td>\n",
       "      <td>35.37</td>\n",
       "      <td>0.53</td>\n",
       "      <td>TurnoutTimeSeconds_mean</td>\n",
       "      <td>2021</td>\n",
       "    </tr>\n",
       "    <tr>\n",
       "      <th>TransformedTargetRegressor</th>\n",
       "      <td>0.08</td>\n",
       "      <td>0.08</td>\n",
       "      <td>35.37</td>\n",
       "      <td>0.71</td>\n",
       "      <td>TurnoutTimeSeconds_mean</td>\n",
       "      <td>2021</td>\n",
       "    </tr>\n",
       "    <tr>\n",
       "      <th>ElasticNetCV</th>\n",
       "      <td>0.08</td>\n",
       "      <td>0.08</td>\n",
       "      <td>35.37</td>\n",
       "      <td>1.52</td>\n",
       "      <td>TurnoutTimeSeconds_mean</td>\n",
       "      <td>2021</td>\n",
       "    </tr>\n",
       "    <tr>\n",
       "      <th>PLSRegression</th>\n",
       "      <td>0.08</td>\n",
       "      <td>0.08</td>\n",
       "      <td>35.38</td>\n",
       "      <td>0.63</td>\n",
       "      <td>TurnoutTimeSeconds_mean</td>\n",
       "      <td>2021</td>\n",
       "    </tr>\n",
       "    <tr>\n",
       "      <th>OrthogonalMatchingPursuitCV</th>\n",
       "      <td>0.08</td>\n",
       "      <td>0.08</td>\n",
       "      <td>35.39</td>\n",
       "      <td>0.97</td>\n",
       "      <td>TurnoutTimeSeconds_mean</td>\n",
       "      <td>2021</td>\n",
       "    </tr>\n",
       "    <tr>\n",
       "      <th>TheilSenRegressor</th>\n",
       "      <td>0.08</td>\n",
       "      <td>0.08</td>\n",
       "      <td>35.42</td>\n",
       "      <td>105.25</td>\n",
       "      <td>TurnoutTimeSeconds_mean</td>\n",
       "      <td>2021</td>\n",
       "    </tr>\n",
       "    <tr>\n",
       "      <th>HuberRegressor</th>\n",
       "      <td>0.08</td>\n",
       "      <td>0.08</td>\n",
       "      <td>35.44</td>\n",
       "      <td>1.06</td>\n",
       "      <td>TurnoutTimeSeconds_mean</td>\n",
       "      <td>2021</td>\n",
       "    </tr>\n",
       "    <tr>\n",
       "      <th>LinearSVR</th>\n",
       "      <td>0.08</td>\n",
       "      <td>0.08</td>\n",
       "      <td>35.45</td>\n",
       "      <td>5.67</td>\n",
       "      <td>TurnoutTimeSeconds_mean</td>\n",
       "      <td>2021</td>\n",
       "    </tr>\n",
       "    <tr>\n",
       "      <th>LassoLars</th>\n",
       "      <td>0.08</td>\n",
       "      <td>0.08</td>\n",
       "      <td>35.52</td>\n",
       "      <td>0.35</td>\n",
       "      <td>TurnoutTimeSeconds_mean</td>\n",
       "      <td>2021</td>\n",
       "    </tr>\n",
       "    <tr>\n",
       "      <th>Lasso</th>\n",
       "      <td>0.08</td>\n",
       "      <td>0.08</td>\n",
       "      <td>35.52</td>\n",
       "      <td>0.46</td>\n",
       "      <td>TurnoutTimeSeconds_mean</td>\n",
       "      <td>2021</td>\n",
       "    </tr>\n",
       "    <tr>\n",
       "      <th>ElasticNet</th>\n",
       "      <td>0.05</td>\n",
       "      <td>0.05</td>\n",
       "      <td>36.03</td>\n",
       "      <td>0.31</td>\n",
       "      <td>TurnoutTimeSeconds_mean</td>\n",
       "      <td>2021</td>\n",
       "    </tr>\n",
       "    <tr>\n",
       "      <th>OrthogonalMatchingPursuit</th>\n",
       "      <td>0.02</td>\n",
       "      <td>0.02</td>\n",
       "      <td>36.67</td>\n",
       "      <td>0.32</td>\n",
       "      <td>TurnoutTimeSeconds_mean</td>\n",
       "      <td>2021</td>\n",
       "    </tr>\n",
       "    <tr>\n",
       "      <th>DummyRegressor</th>\n",
       "      <td>-0.00</td>\n",
       "      <td>-0.00</td>\n",
       "      <td>36.98</td>\n",
       "      <td>0.19</td>\n",
       "      <td>TurnoutTimeSeconds_mean</td>\n",
       "      <td>2021</td>\n",
       "    </tr>\n",
       "    <tr>\n",
       "      <th>KNeighborsRegressor</th>\n",
       "      <td>-0.02</td>\n",
       "      <td>-0.02</td>\n",
       "      <td>37.36</td>\n",
       "      <td>87.25</td>\n",
       "      <td>TurnoutTimeSeconds_mean</td>\n",
       "      <td>2021</td>\n",
       "    </tr>\n",
       "    <tr>\n",
       "      <th>PassiveAggressiveRegressor</th>\n",
       "      <td>-0.06</td>\n",
       "      <td>-0.06</td>\n",
       "      <td>37.99</td>\n",
       "      <td>0.76</td>\n",
       "      <td>TurnoutTimeSeconds_mean</td>\n",
       "      <td>2021</td>\n",
       "    </tr>\n",
       "    <tr>\n",
       "      <th>RANSACRegressor</th>\n",
       "      <td>-0.12</td>\n",
       "      <td>-0.12</td>\n",
       "      <td>39.09</td>\n",
       "      <td>2.11</td>\n",
       "      <td>TurnoutTimeSeconds_mean</td>\n",
       "      <td>2021</td>\n",
       "    </tr>\n",
       "    <tr>\n",
       "      <th>SGDRegressor</th>\n",
       "      <td>-1800075295730959872.00</td>\n",
       "      <td>-1799710616833919232.00</td>\n",
       "      <td>49609322644.51</td>\n",
       "      <td>0.82</td>\n",
       "      <td>TurnoutTimeSeconds_mean</td>\n",
       "      <td>2021</td>\n",
       "    </tr>\n",
       "  </tbody>\n",
       "</table>\n",
       "</div>"
      ],
      "text/plain": [
       "                                   Adjusted R-Squared               R-Squared  \\\n",
       "Model                                                                           \n",
       "HistGradientBoostingRegressor                    0.14                    0.14   \n",
       "MLPRegressor                                     0.14                    0.14   \n",
       "GradientBoostingRegressor                        0.13                    0.13   \n",
       "DecisionTreeRegressor                            0.12                    0.12   \n",
       "ExtraTreeRegressor                               0.12                    0.12   \n",
       "RandomForestRegressor                            0.12                    0.12   \n",
       "BaggingRegressor                                 0.12                    0.12   \n",
       "AdaBoostRegressor                                0.11                    0.11   \n",
       "PoissonRegressor                                 0.09                    0.09   \n",
       "LassoCV                                          0.08                    0.08   \n",
       "LassoLarsCV                                      0.08                    0.08   \n",
       "LarsCV                                           0.08                    0.08   \n",
       "LassoLarsIC                                      0.08                    0.08   \n",
       "BayesianRidge                                    0.08                    0.08   \n",
       "RidgeCV                                          0.08                    0.08   \n",
       "Ridge                                            0.08                    0.08   \n",
       "Lars                                             0.08                    0.08   \n",
       "LinearRegression                                 0.08                    0.08   \n",
       "TransformedTargetRegressor                       0.08                    0.08   \n",
       "ElasticNetCV                                     0.08                    0.08   \n",
       "PLSRegression                                    0.08                    0.08   \n",
       "OrthogonalMatchingPursuitCV                      0.08                    0.08   \n",
       "TheilSenRegressor                                0.08                    0.08   \n",
       "HuberRegressor                                   0.08                    0.08   \n",
       "LinearSVR                                        0.08                    0.08   \n",
       "LassoLars                                        0.08                    0.08   \n",
       "Lasso                                            0.08                    0.08   \n",
       "ElasticNet                                       0.05                    0.05   \n",
       "OrthogonalMatchingPursuit                        0.02                    0.02   \n",
       "DummyRegressor                                  -0.00                   -0.00   \n",
       "KNeighborsRegressor                             -0.02                   -0.02   \n",
       "PassiveAggressiveRegressor                      -0.06                   -0.06   \n",
       "RANSACRegressor                                 -0.12                   -0.12   \n",
       "SGDRegressor                  -1800075295730959872.00 -1799710616833919232.00   \n",
       "\n",
       "                                        RMSE  Time Taken  \\\n",
       "Model                                                      \n",
       "HistGradientBoostingRegressor          34.31        2.04   \n",
       "MLPRegressor                           34.36      144.77   \n",
       "GradientBoostingRegressor              34.43       20.30   \n",
       "DecisionTreeRegressor                  34.60        0.72   \n",
       "ExtraTreeRegressor                     34.60        0.73   \n",
       "RandomForestRegressor                  34.60       49.15   \n",
       "BaggingRegressor                       34.63        3.89   \n",
       "AdaBoostRegressor                      34.86        5.18   \n",
       "PoissonRegressor                       35.23        0.39   \n",
       "LassoCV                                35.37        1.53   \n",
       "LassoLarsCV                            35.37        1.08   \n",
       "LarsCV                                 35.37        1.08   \n",
       "LassoLarsIC                            35.37        0.61   \n",
       "BayesianRidge                          35.37        0.65   \n",
       "RidgeCV                                35.37        0.99   \n",
       "Ridge                                  35.37        0.35   \n",
       "Lars                                   35.37        0.29   \n",
       "LinearRegression                       35.37        0.53   \n",
       "TransformedTargetRegressor             35.37        0.71   \n",
       "ElasticNetCV                           35.37        1.52   \n",
       "PLSRegression                          35.38        0.63   \n",
       "OrthogonalMatchingPursuitCV            35.39        0.97   \n",
       "TheilSenRegressor                      35.42      105.25   \n",
       "HuberRegressor                         35.44        1.06   \n",
       "LinearSVR                              35.45        5.67   \n",
       "LassoLars                              35.52        0.35   \n",
       "Lasso                                  35.52        0.46   \n",
       "ElasticNet                             36.03        0.31   \n",
       "OrthogonalMatchingPursuit              36.67        0.32   \n",
       "DummyRegressor                         36.98        0.19   \n",
       "KNeighborsRegressor                    37.36       87.25   \n",
       "PassiveAggressiveRegressor             37.99        0.76   \n",
       "RANSACRegressor                        39.09        2.11   \n",
       "SGDRegressor                  49609322644.51        0.82   \n",
       "\n",
       "                                                Target  Year floor  \n",
       "Model                                                               \n",
       "HistGradientBoostingRegressor  TurnoutTimeSeconds_mean        2021  \n",
       "MLPRegressor                   TurnoutTimeSeconds_mean        2021  \n",
       "GradientBoostingRegressor      TurnoutTimeSeconds_mean        2021  \n",
       "DecisionTreeRegressor          TurnoutTimeSeconds_mean        2021  \n",
       "ExtraTreeRegressor             TurnoutTimeSeconds_mean        2021  \n",
       "RandomForestRegressor          TurnoutTimeSeconds_mean        2021  \n",
       "BaggingRegressor               TurnoutTimeSeconds_mean        2021  \n",
       "AdaBoostRegressor              TurnoutTimeSeconds_mean        2021  \n",
       "PoissonRegressor               TurnoutTimeSeconds_mean        2021  \n",
       "LassoCV                        TurnoutTimeSeconds_mean        2021  \n",
       "LassoLarsCV                    TurnoutTimeSeconds_mean        2021  \n",
       "LarsCV                         TurnoutTimeSeconds_mean        2021  \n",
       "LassoLarsIC                    TurnoutTimeSeconds_mean        2021  \n",
       "BayesianRidge                  TurnoutTimeSeconds_mean        2021  \n",
       "RidgeCV                        TurnoutTimeSeconds_mean        2021  \n",
       "Ridge                          TurnoutTimeSeconds_mean        2021  \n",
       "Lars                           TurnoutTimeSeconds_mean        2021  \n",
       "LinearRegression               TurnoutTimeSeconds_mean        2021  \n",
       "TransformedTargetRegressor     TurnoutTimeSeconds_mean        2021  \n",
       "ElasticNetCV                   TurnoutTimeSeconds_mean        2021  \n",
       "PLSRegression                  TurnoutTimeSeconds_mean        2021  \n",
       "OrthogonalMatchingPursuitCV    TurnoutTimeSeconds_mean        2021  \n",
       "TheilSenRegressor              TurnoutTimeSeconds_mean        2021  \n",
       "HuberRegressor                 TurnoutTimeSeconds_mean        2021  \n",
       "LinearSVR                      TurnoutTimeSeconds_mean        2021  \n",
       "LassoLars                      TurnoutTimeSeconds_mean        2021  \n",
       "Lasso                          TurnoutTimeSeconds_mean        2021  \n",
       "ElasticNet                     TurnoutTimeSeconds_mean        2021  \n",
       "OrthogonalMatchingPursuit      TurnoutTimeSeconds_mean        2021  \n",
       "DummyRegressor                 TurnoutTimeSeconds_mean        2021  \n",
       "KNeighborsRegressor            TurnoutTimeSeconds_mean        2021  \n",
       "PassiveAggressiveRegressor     TurnoutTimeSeconds_mean        2021  \n",
       "RANSACRegressor                TurnoutTimeSeconds_mean        2021  \n",
       "SGDRegressor                   TurnoutTimeSeconds_mean        2021  "
      ]
     },
     "metadata": {},
     "output_type": "display_data"
    },
    {
     "name": "stdout",
     "output_type": "stream",
     "text": [
      "-----------------------------------------------------\n",
      "year 2022\n",
      "-----------------------------------------------------\n",
      "(342634, 42)\n",
      "cols_to_remove ['TurnoutTimeSeconds_min', 'TurnoutTimeSeconds_mean', 'TurnoutTimeSeconds_max', 'TravelTimeSeconds_min', 'TravelTimeSeconds_mean', 'TravelTimeSeconds_max', 'PumpSecondsOnSite_min', 'PumpSecondsOnSite_mean', 'PumpSecondsOnSite_max', 'NumPumpsAttending']\n",
      "cols_to_keep ['CalYear', 'HourOfCall_0', 'HourOfCall_1', 'HourOfCall_2', 'HourOfCall_3', 'HourOfCall_4', 'Postcode_district_0', 'Postcode_district_1', 'Postcode_district_2', 'Postcode_district_3', 'Postcode_district_4', 'Month_0', 'Month_1', 'Month_2', 'Month_3', 'DayOfWeek_0', 'DayOfWeek_1', 'DayOfWeek_2']\n"
     ]
    },
    {
     "data": {
      "text/html": [
       "<div>\n",
       "<style scoped>\n",
       "    .dataframe tbody tr th:only-of-type {\n",
       "        vertical-align: middle;\n",
       "    }\n",
       "\n",
       "    .dataframe tbody tr th {\n",
       "        vertical-align: top;\n",
       "    }\n",
       "\n",
       "    .dataframe thead th {\n",
       "        text-align: right;\n",
       "    }\n",
       "</style>\n",
       "<table border=\"1\" class=\"dataframe\">\n",
       "  <thead>\n",
       "    <tr style=\"text-align: right;\">\n",
       "      <th></th>\n",
       "      <th>CalYear</th>\n",
       "      <th>HourOfCall_0</th>\n",
       "      <th>HourOfCall_1</th>\n",
       "      <th>HourOfCall_2</th>\n",
       "      <th>HourOfCall_3</th>\n",
       "      <th>HourOfCall_4</th>\n",
       "      <th>Postcode_district_0</th>\n",
       "      <th>Postcode_district_1</th>\n",
       "      <th>Postcode_district_2</th>\n",
       "      <th>Postcode_district_3</th>\n",
       "      <th>Postcode_district_4</th>\n",
       "      <th>Month_0</th>\n",
       "      <th>Month_1</th>\n",
       "      <th>Month_2</th>\n",
       "      <th>Month_3</th>\n",
       "      <th>DayOfWeek_0</th>\n",
       "      <th>DayOfWeek_1</th>\n",
       "      <th>DayOfWeek_2</th>\n",
       "    </tr>\n",
       "  </thead>\n",
       "  <tbody>\n",
       "    <tr>\n",
       "      <th>1248893</th>\n",
       "      <td>14</td>\n",
       "      <td>0</td>\n",
       "      <td>0</td>\n",
       "      <td>0</td>\n",
       "      <td>0</td>\n",
       "      <td>1</td>\n",
       "      <td>0</td>\n",
       "      <td>0</td>\n",
       "      <td>0</td>\n",
       "      <td>0</td>\n",
       "      <td>1</td>\n",
       "      <td>0</td>\n",
       "      <td>0</td>\n",
       "      <td>0</td>\n",
       "      <td>1</td>\n",
       "      <td>0</td>\n",
       "      <td>1</td>\n",
       "      <td>1</td>\n",
       "    </tr>\n",
       "    <tr>\n",
       "      <th>1248894</th>\n",
       "      <td>14</td>\n",
       "      <td>0</td>\n",
       "      <td>0</td>\n",
       "      <td>0</td>\n",
       "      <td>0</td>\n",
       "      <td>1</td>\n",
       "      <td>0</td>\n",
       "      <td>0</td>\n",
       "      <td>0</td>\n",
       "      <td>0</td>\n",
       "      <td>1</td>\n",
       "      <td>0</td>\n",
       "      <td>0</td>\n",
       "      <td>0</td>\n",
       "      <td>1</td>\n",
       "      <td>0</td>\n",
       "      <td>1</td>\n",
       "      <td>1</td>\n",
       "    </tr>\n",
       "  </tbody>\n",
       "</table>\n",
       "</div>"
      ],
      "text/plain": [
       "         CalYear  HourOfCall_0  HourOfCall_1  HourOfCall_2  HourOfCall_3  \\\n",
       "1248893       14             0             0             0             0   \n",
       "1248894       14             0             0             0             0   \n",
       "\n",
       "         HourOfCall_4  Postcode_district_0  Postcode_district_1  \\\n",
       "1248893             1                    0                    0   \n",
       "1248894             1                    0                    0   \n",
       "\n",
       "         Postcode_district_2  Postcode_district_3  Postcode_district_4  \\\n",
       "1248893                    0                    0                    1   \n",
       "1248894                    0                    0                    1   \n",
       "\n",
       "         Month_0  Month_1  Month_2  Month_3  DayOfWeek_0  DayOfWeek_1  \\\n",
       "1248893        0        0        0        1            0            1   \n",
       "1248894        0        0        0        1            0            1   \n",
       "\n",
       "         DayOfWeek_2  \n",
       "1248893            1  \n",
       "1248894            1  "
      ]
     },
     "metadata": {},
     "output_type": "display_data"
    },
    {
     "name": "stdout",
     "output_type": "stream",
     "text": [
      "(342634, 18)\n",
      "cible TurnoutTimeSeconds_mean\n",
      "[('AdaBoostRegressor', <class 'sklearn.ensemble._weight_boosting.AdaBoostRegressor'>), ('BaggingRegressor', <class 'sklearn.ensemble._bagging.BaggingRegressor'>), ('BayesianRidge', <class 'sklearn.linear_model._bayes.BayesianRidge'>), ('DecisionTreeRegressor', <class 'sklearn.tree._classes.DecisionTreeRegressor'>), ('DummyRegressor', <class 'sklearn.dummy.DummyRegressor'>), ('ElasticNet', <class 'sklearn.linear_model._coordinate_descent.ElasticNet'>), ('ElasticNetCV', <class 'sklearn.linear_model._coordinate_descent.ElasticNetCV'>), ('ExtraTreeRegressor', <class 'sklearn.tree._classes.ExtraTreeRegressor'>), ('GradientBoostingRegressor', <class 'sklearn.ensemble._gb.GradientBoostingRegressor'>), ('HistGradientBoostingRegressor', <class 'sklearn.ensemble._hist_gradient_boosting.gradient_boosting.HistGradientBoostingRegressor'>), ('HuberRegressor', <class 'sklearn.linear_model._huber.HuberRegressor'>), ('KNeighborsRegressor', <class 'sklearn.neighbors._regression.KNeighborsRegressor'>), ('Lars', <class 'sklearn.linear_model._least_angle.Lars'>), ('LarsCV', <class 'sklearn.linear_model._least_angle.LarsCV'>), ('Lasso', <class 'sklearn.linear_model._coordinate_descent.Lasso'>), ('LassoCV', <class 'sklearn.linear_model._coordinate_descent.LassoCV'>), ('LassoLars', <class 'sklearn.linear_model._least_angle.LassoLars'>), ('LassoLarsCV', <class 'sklearn.linear_model._least_angle.LassoLarsCV'>), ('LassoLarsIC', <class 'sklearn.linear_model._least_angle.LassoLarsIC'>), ('LinearRegression', <class 'sklearn.linear_model._base.LinearRegression'>), ('LinearSVR', <class 'sklearn.svm._classes.LinearSVR'>), ('MLPRegressor', <class 'sklearn.neural_network._multilayer_perceptron.MLPRegressor'>), ('OrthogonalMatchingPursuit', <class 'sklearn.linear_model._omp.OrthogonalMatchingPursuit'>), ('OrthogonalMatchingPursuitCV', <class 'sklearn.linear_model._omp.OrthogonalMatchingPursuitCV'>), ('PLSRegression', <class 'sklearn.cross_decomposition._pls.PLSRegression'>), ('PassiveAggressiveRegressor', <class 'sklearn.linear_model._passive_aggressive.PassiveAggressiveRegressor'>), ('PoissonRegressor', <class 'sklearn.linear_model._glm.glm.PoissonRegressor'>), ('RANSACRegressor', <class 'sklearn.linear_model._ransac.RANSACRegressor'>), ('RandomForestRegressor', <class 'sklearn.ensemble._forest.RandomForestRegressor'>), ('Ridge', <class 'sklearn.linear_model._ridge.Ridge'>), ('RidgeCV', <class 'sklearn.linear_model._ridge.RidgeCV'>), ('SGDRegressor', <class 'sklearn.linear_model._stochastic_gradient.SGDRegressor'>), ('TheilSenRegressor', <class 'sklearn.linear_model._theil_sen.TheilSenRegressor'>), ('TransformedTargetRegressor', <class 'sklearn.compose._target.TransformedTargetRegressor'>), ('VotingRegressor', <class 'sklearn.ensemble._voting.VotingRegressor'>)]\n",
      "'tuple' object has no attribute '__name__'\n",
      "Invalid Regressor(s)\n"
     ]
    },
    {
     "name": "stderr",
     "output_type": "stream",
     "text": [
      "  3%|▎         | 1/35 [00:04<02:30,  4.43s/it]"
     ]
    },
    {
     "name": "stdout",
     "output_type": "stream",
     "text": [
      "{'Model': 'AdaBoostRegressor', 'R-Squared': 0.12599650459486367, 'Adjusted R-Squared': 0.12576686626186184, 'RMSE': np.float64(34.8312319961197), 'Time taken': 4.424940586090088}\n"
     ]
    },
    {
     "name": "stderr",
     "output_type": "stream",
     "text": [
      "  6%|▌         | 2/35 [00:07<02:05,  3.80s/it]"
     ]
    },
    {
     "name": "stdout",
     "output_type": "stream",
     "text": [
      "{'Model': 'BaggingRegressor', 'R-Squared': 0.1318485788834266, 'Adjusted R-Squared': 0.1316204781421979, 'RMSE': np.float64(34.714426222261274), 'Time taken': 3.354196548461914}\n"
     ]
    },
    {
     "name": "stderr",
     "output_type": "stream",
     "text": [
      "  9%|▊         | 3/35 [00:08<01:13,  2.30s/it]"
     ]
    },
    {
     "name": "stdout",
     "output_type": "stream",
     "text": [
      "{'Model': 'BayesianRidge', 'R-Squared': 0.09237368217626019, 'Adjusted R-Squared': 0.09213520968077316, 'RMSE': np.float64(35.49488646216231), 'Time taken': 0.519798994064331}\n"
     ]
    },
    {
     "name": "stderr",
     "output_type": "stream",
     "text": [
      " 14%|█▍        | 5/35 [00:09<00:33,  1.11s/it]"
     ]
    },
    {
     "name": "stdout",
     "output_type": "stream",
     "text": [
      "{'Model': 'DecisionTreeRegressor', 'R-Squared': 0.13344285956965074, 'Adjusted R-Squared': 0.13321517771457192, 'RMSE': np.float64(34.68253664052118), 'Time taken': 0.6216635704040527}\n",
      "{'Model': 'DummyRegressor', 'R-Squared': -2.205498493657032e-05, 'Adjusted R-Squared': -0.0002848038170397693, 'RMSE': np.float64(37.2577856910285), 'Time taken': 0.16295528411865234}\n"
     ]
    },
    {
     "name": "stderr",
     "output_type": "stream",
     "text": [
      " 17%|█▋        | 6/35 [00:09<00:24,  1.20it/s]"
     ]
    },
    {
     "name": "stdout",
     "output_type": "stream",
     "text": [
      "{'Model': 'ElasticNet', 'R-Squared': 0.05414804098238224, 'Adjusted R-Squared': 0.05389952496582484, 'RMSE': np.float64(36.234630333962656), 'Time taken': 0.30979418754577637}\n"
     ]
    },
    {
     "name": "stderr",
     "output_type": "stream",
     "text": [
      " 20%|██        | 7/35 [00:10<00:26,  1.04it/s]"
     ]
    },
    {
     "name": "stdout",
     "output_type": "stream",
     "text": [
      "{'Model': 'ElasticNetCV', 'R-Squared': 0.09229566194847783, 'Adjusted R-Squared': 0.09205716895371918, 'RMSE': np.float64(35.49641201269004), 'Time taken': 1.2209925651550293}\n"
     ]
    },
    {
     "name": "stderr",
     "output_type": "stream",
     "text": [
      " 23%|██▎       | 8/35 [00:11<00:22,  1.18it/s]"
     ]
    },
    {
     "name": "stdout",
     "output_type": "stream",
     "text": [
      "{'Model': 'ExtraTreeRegressor', 'R-Squared': 0.13344285956965074, 'Adjusted R-Squared': 0.13321517771457192, 'RMSE': np.float64(34.68253664052118), 'Time taken': 0.6048851013183594}\n"
     ]
    },
    {
     "name": "stderr",
     "output_type": "stream",
     "text": [
      " 26%|██▌       | 9/35 [00:28<02:37,  6.05s/it]"
     ]
    },
    {
     "name": "stdout",
     "output_type": "stream",
     "text": [
      "{'Model': 'GradientBoostingRegressor', 'R-Squared': 0.14322833522960254, 'Adjusted R-Squared': 0.14300322444012015, 'RMSE': np.float64(34.48615681442885), 'Time taken': 17.48780107498169}\n"
     ]
    },
    {
     "name": "stderr",
     "output_type": "stream",
     "text": [
      " 29%|██▊       | 10/35 [00:30<01:57,  4.70s/it]"
     ]
    },
    {
     "name": "stdout",
     "output_type": "stream",
     "text": [
      "{'Model': 'HistGradientBoostingRegressor', 'R-Squared': 0.14791214920791973, 'Adjusted R-Squared': 0.14768826905794818, 'RMSE': np.float64(34.39176287332295), 'Time taken': 1.6790556907653809}\n"
     ]
    },
    {
     "name": "stderr",
     "output_type": "stream",
     "text": [
      " 31%|███▏      | 11/35 [00:31<01:26,  3.60s/it]"
     ]
    },
    {
     "name": "stdout",
     "output_type": "stream",
     "text": [
      "{'Model': 'HuberRegressor', 'R-Squared': 0.08852108165958827, 'Adjusted R-Squared': 0.08828159692014004, 'RMSE': np.float64(35.57013924477113), 'Time taken': 1.086517572402954}\n"
     ]
    },
    {
     "name": "stderr",
     "output_type": "stream",
     "text": [
      " 34%|███▍      | 12/35 [01:29<07:45, 20.23s/it]"
     ]
    },
    {
     "name": "stdout",
     "output_type": "stream",
     "text": [
      "{'Model': 'KNeighborsRegressor', 'R-Squared': -0.005384995466507059, 'Adjusted R-Squared': -0.005649153373881166, 'RMSE': np.float64(37.357555548082686), 'Time taken': 58.26331877708435}\n"
     ]
    },
    {
     "name": "stderr",
     "output_type": "stream",
     "text": [
      " 37%|███▋      | 13/35 [01:29<05:11, 14.17s/it]"
     ]
    },
    {
     "name": "stdout",
     "output_type": "stream",
     "text": [
      "{'Model': 'Lars', 'R-Squared': 0.09237527313425409, 'Adjusted R-Squared': 0.09213680105678024, 'RMSE': np.float64(35.494855353050006), 'Time taken': 0.24555444717407227}\n"
     ]
    },
    {
     "name": "stderr",
     "output_type": "stream",
     "text": [
      " 40%|████      | 14/35 [01:31<03:34, 10.20s/it]"
     ]
    },
    {
     "name": "stdout",
     "output_type": "stream",
     "text": [
      "{'Model': 'LarsCV', 'R-Squared': 0.09235298370961154, 'Adjusted R-Squared': 0.09211450577574654, 'RMSE': np.float64(35.49529119124553), 'Time taken': 1.0134539604187012}\n"
     ]
    },
    {
     "name": "stderr",
     "output_type": "stream",
     "text": [
      " 43%|████▎     | 15/35 [01:31<02:25,  7.26s/it]"
     ]
    },
    {
     "name": "stdout",
     "output_type": "stream",
     "text": [
      "{'Model': 'Lasso', 'R-Squared': 0.08306264612850067, 'Adjusted R-Squared': 0.08282172722312198, 'RMSE': np.float64(35.676487013776025), 'Time taken': 0.44733190536499023}\n"
     ]
    },
    {
     "name": "stderr",
     "output_type": "stream",
     "text": [
      " 46%|████▌     | 16/35 [01:32<01:44,  5.51s/it]"
     ]
    },
    {
     "name": "stdout",
     "output_type": "stream",
     "text": [
      "{'Model': 'LassoCV', 'R-Squared': 0.09235530205012621, 'Adjusted R-Squared': 0.09211682472538907, 'RMSE': np.float64(35.49524585962281), 'Time taken': 1.453282356262207}\n"
     ]
    },
    {
     "name": "stderr",
     "output_type": "stream",
     "text": [
      " 49%|████▊     | 17/35 [01:33<01:11,  3.95s/it]"
     ]
    },
    {
     "name": "stdout",
     "output_type": "stream",
     "text": [
      "{'Model': 'LassoLars', 'R-Squared': 0.08306349096841703, 'Adjusted R-Squared': 0.0828225722850141, 'RMSE': np.float64(35.67647057812363), 'Time taken': 0.3094964027404785}\n"
     ]
    },
    {
     "name": "stderr",
     "output_type": "stream",
     "text": [
      " 51%|█████▏    | 18/35 [01:34<00:51,  3.05s/it]"
     ]
    },
    {
     "name": "stdout",
     "output_type": "stream",
     "text": [
      "{'Model': 'LassoLarsCV', 'R-Squared': 0.09235298370961154, 'Adjusted R-Squared': 0.09211450577574654, 'RMSE': np.float64(35.49529119124553), 'Time taken': 0.9467723369598389}\n"
     ]
    },
    {
     "name": "stderr",
     "output_type": "stream",
     "text": [
      " 54%|█████▍    | 19/35 [01:34<00:36,  2.30s/it]"
     ]
    },
    {
     "name": "stdout",
     "output_type": "stream",
     "text": [
      "{'Model': 'LassoLarsIC', 'R-Squared': 0.09236329060693171, 'Adjusted R-Squared': 0.09212481538113226, 'RMSE': np.float64(35.49508965510113), 'Time taken': 0.5609588623046875}\n"
     ]
    },
    {
     "name": "stderr",
     "output_type": "stream",
     "text": [
      " 57%|█████▋    | 20/35 [01:35<00:25,  1.73s/it]"
     ]
    },
    {
     "name": "stdout",
     "output_type": "stream",
     "text": [
      "{'Model': 'LinearRegression', 'R-Squared': 0.09237604822603762, 'Adjusted R-Squared': 0.09213757635221376, 'RMSE': np.float64(35.4948401971294), 'Time taken': 0.3903639316558838}\n"
     ]
    },
    {
     "name": "stderr",
     "output_type": "stream",
     "text": [
      " 60%|██████    | 21/35 [01:38<00:32,  2.36s/it]"
     ]
    },
    {
     "name": "stdout",
     "output_type": "stream",
     "text": [
      "{'Model': 'LinearSVR', 'R-Squared': 0.08760413780762388, 'Adjusted R-Squared': 0.08736441214756285, 'RMSE': np.float64(35.58802645045286), 'Time taken': 3.8195879459381104}\n"
     ]
    },
    {
     "name": "stderr",
     "output_type": "stream",
     "text": [
      " 63%|██████▎   | 22/35 [05:43<16:16, 75.09s/it]"
     ]
    },
    {
     "name": "stdout",
     "output_type": "stream",
     "text": [
      "{'Model': 'MLPRegressor', 'R-Squared': 0.14309743683892318, 'Adjusted R-Squared': 0.14287229165679993, 'RMSE': np.float64(34.48879112775074), 'Time taken': 244.6969907283783}\n"
     ]
    },
    {
     "name": "stderr",
     "output_type": "stream",
     "text": [
      " 66%|██████▌   | 23/35 [05:43<10:31, 52.63s/it]"
     ]
    },
    {
     "name": "stdout",
     "output_type": "stream",
     "text": [
      "{'Model': 'OrthogonalMatchingPursuit', 'R-Squared': 0.01966724669862452, 'Adjusted R-Squared': 0.019409671093448155, 'RMSE': np.float64(36.88918051485514), 'Time taken': 0.2652618885040283}\n"
     ]
    },
    {
     "name": "stderr",
     "output_type": "stream",
     "text": [
      " 69%|██████▊   | 24/35 [05:44<06:47, 37.08s/it]"
     ]
    },
    {
     "name": "stdout",
     "output_type": "stream",
     "text": [
      "{'Model': 'OrthogonalMatchingPursuitCV', 'R-Squared': 0.09133570053518092, 'Adjusted R-Squared': 0.09109695531724482, 'RMSE': np.float64(35.515177033383885), 'Time taken': 0.7877099514007568}\n"
     ]
    },
    {
     "name": "stderr",
     "output_type": "stream",
     "text": [
      " 71%|███████▏  | 25/35 [05:45<04:20, 26.06s/it]"
     ]
    },
    {
     "name": "stdout",
     "output_type": "stream",
     "text": [
      "{'Model': 'PLSRegression', 'R-Squared': 0.09081895154622621, 'Adjusted R-Squared': 0.0905800705560913, 'RMSE': np.float64(35.525274174518636), 'Time taken': 0.36124277114868164}\n"
     ]
    },
    {
     "name": "stderr",
     "output_type": "stream",
     "text": [
      " 74%|███████▍  | 26/35 [05:45<02:45, 18.40s/it]"
     ]
    },
    {
     "name": "stdout",
     "output_type": "stream",
     "text": [
      "{'Model': 'PassiveAggressiveRegressor', 'R-Squared': -0.0532382541977805, 'Adjusted R-Squared': -0.05351498521569886, 'RMSE': np.float64(38.23627385410224), 'Time taken': 0.53794264793396}\n"
     ]
    },
    {
     "name": "stderr",
     "output_type": "stream",
     "text": [
      " 77%|███████▋  | 27/35 [05:46<01:44, 13.01s/it]"
     ]
    },
    {
     "name": "stdout",
     "output_type": "stream",
     "text": [
      "{'Model': 'PoissonRegressor', 'R-Squared': 0.10013670545769993, 'Adjusted R-Squared': 0.09990027264252865, 'RMSE': np.float64(35.342764738278255), 'Time taken': 0.4126434326171875}\n"
     ]
    },
    {
     "name": "stderr",
     "output_type": "stream",
     "text": [
      " 80%|████████  | 28/35 [05:47<01:06,  9.57s/it]"
     ]
    },
    {
     "name": "stdout",
     "output_type": "stream",
     "text": [
      "{'Model': 'RANSACRegressor', 'R-Squared': -0.09020806979055473, 'Adjusted R-Squared': -0.0904945143701108, 'RMSE': np.float64(38.90155372426134), 'Time taken': 1.5479800701141357}\n"
     ]
    },
    {
     "name": "stderr",
     "output_type": "stream",
     "text": [
      " 83%|████████▎ | 29/35 [06:19<01:36, 16.16s/it]"
     ]
    },
    {
     "name": "stdout",
     "output_type": "stream",
     "text": [
      "{'Model': 'RandomForestRegressor', 'R-Squared': 0.13335612958252208, 'Adjusted R-Squared': 0.13312842493974297, 'RMSE': np.float64(34.68427221025743), 'Time taken': 31.525437116622925}\n"
     ]
    },
    {
     "name": "stderr",
     "output_type": "stream",
     "text": [
      " 86%|████████▌ | 30/35 [06:19<00:56, 11.38s/it]"
     ]
    },
    {
     "name": "stdout",
     "output_type": "stream",
     "text": [
      "{'Model': 'Ridge', 'R-Squared': 0.09237600354486908, 'Adjusted R-Squared': 0.0921375316593055, 'RMSE': np.float64(35.49484107081222), 'Time taken': 0.2484743595123291}\n"
     ]
    },
    {
     "name": "stderr",
     "output_type": "stream",
     "text": [
      " 89%|████████▊ | 31/35 [06:20<00:32,  8.18s/it]"
     ]
    },
    {
     "name": "stdout",
     "output_type": "stream",
     "text": [
      "{'Model': 'RidgeCV', 'R-Squared': 0.09237560071405959, 'Adjusted R-Squared': 0.092137128722655, 'RMSE': np.float64(35.494848947650006), 'Time taken': 0.6908106803894043}\n"
     ]
    },
    {
     "name": "stderr",
     "output_type": "stream",
     "text": [
      " 91%|█████████▏| 32/35 [06:20<00:17,  5.88s/it]"
     ]
    },
    {
     "name": "stdout",
     "output_type": "stream",
     "text": [
      "{'Model': 'SGDRegressor', 'R-Squared': -1.8897816391627126e+20, 'Adjusted R-Squared': -1.8902781661304377e+20, 'RMSE': np.float64(512174631600.04016), 'Time taken': 0.5337514877319336}\n"
     ]
    },
    {
     "name": "stderr",
     "output_type": "stream",
     "text": [
      " 94%|█████████▍| 33/35 [07:17<00:42, 21.17s/it]"
     ]
    },
    {
     "name": "stdout",
     "output_type": "stream",
     "text": [
      "{'Model': 'TheilSenRegressor', 'R-Squared': 0.08899367247218182, 'Adjusted R-Squared': 0.08875431190267902, 'RMSE': np.float64(35.560916705336744), 'Time taken': 56.81883525848389}\n"
     ]
    },
    {
     "name": "stderr",
     "output_type": "stream",
     "text": [
      "100%|██████████| 35/35 [07:17<00:00, 12.51s/it]"
     ]
    },
    {
     "name": "stdout",
     "output_type": "stream",
     "text": [
      "{'Model': 'TransformedTargetRegressor', 'R-Squared': 0.09237604822603762, 'Adjusted R-Squared': 0.09213757635221376, 'RMSE': np.float64(35.4948401971294), 'Time taken': 0.47028636932373047}\n",
      "VotingRegressor model failed to execute\n",
      "VotingRegressor.__init__() missing 1 required positional argument: 'estimators'\n"
     ]
    },
    {
     "name": "stderr",
     "output_type": "stream",
     "text": [
      "\n"
     ]
    },
    {
     "data": {
      "text/html": [
       "<div>\n",
       "<style scoped>\n",
       "    .dataframe tbody tr th:only-of-type {\n",
       "        vertical-align: middle;\n",
       "    }\n",
       "\n",
       "    .dataframe tbody tr th {\n",
       "        vertical-align: top;\n",
       "    }\n",
       "\n",
       "    .dataframe thead th {\n",
       "        text-align: right;\n",
       "    }\n",
       "</style>\n",
       "<table border=\"1\" class=\"dataframe\">\n",
       "  <thead>\n",
       "    <tr style=\"text-align: right;\">\n",
       "      <th></th>\n",
       "      <th>Adjusted R-Squared</th>\n",
       "      <th>R-Squared</th>\n",
       "      <th>RMSE</th>\n",
       "      <th>Time Taken</th>\n",
       "      <th>Target</th>\n",
       "      <th>Year floor</th>\n",
       "    </tr>\n",
       "    <tr>\n",
       "      <th>Model</th>\n",
       "      <th></th>\n",
       "      <th></th>\n",
       "      <th></th>\n",
       "      <th></th>\n",
       "      <th></th>\n",
       "      <th></th>\n",
       "    </tr>\n",
       "  </thead>\n",
       "  <tbody>\n",
       "    <tr>\n",
       "      <th>HistGradientBoostingRegressor</th>\n",
       "      <td>0.15</td>\n",
       "      <td>0.15</td>\n",
       "      <td>34.39</td>\n",
       "      <td>1.68</td>\n",
       "      <td>TurnoutTimeSeconds_mean</td>\n",
       "      <td>2022</td>\n",
       "    </tr>\n",
       "    <tr>\n",
       "      <th>GradientBoostingRegressor</th>\n",
       "      <td>0.14</td>\n",
       "      <td>0.14</td>\n",
       "      <td>34.49</td>\n",
       "      <td>17.49</td>\n",
       "      <td>TurnoutTimeSeconds_mean</td>\n",
       "      <td>2022</td>\n",
       "    </tr>\n",
       "    <tr>\n",
       "      <th>MLPRegressor</th>\n",
       "      <td>0.14</td>\n",
       "      <td>0.14</td>\n",
       "      <td>34.49</td>\n",
       "      <td>244.70</td>\n",
       "      <td>TurnoutTimeSeconds_mean</td>\n",
       "      <td>2022</td>\n",
       "    </tr>\n",
       "    <tr>\n",
       "      <th>DecisionTreeRegressor</th>\n",
       "      <td>0.13</td>\n",
       "      <td>0.13</td>\n",
       "      <td>34.68</td>\n",
       "      <td>0.62</td>\n",
       "      <td>TurnoutTimeSeconds_mean</td>\n",
       "      <td>2022</td>\n",
       "    </tr>\n",
       "    <tr>\n",
       "      <th>ExtraTreeRegressor</th>\n",
       "      <td>0.13</td>\n",
       "      <td>0.13</td>\n",
       "      <td>34.68</td>\n",
       "      <td>0.60</td>\n",
       "      <td>TurnoutTimeSeconds_mean</td>\n",
       "      <td>2022</td>\n",
       "    </tr>\n",
       "    <tr>\n",
       "      <th>RandomForestRegressor</th>\n",
       "      <td>0.13</td>\n",
       "      <td>0.13</td>\n",
       "      <td>34.68</td>\n",
       "      <td>31.53</td>\n",
       "      <td>TurnoutTimeSeconds_mean</td>\n",
       "      <td>2022</td>\n",
       "    </tr>\n",
       "    <tr>\n",
       "      <th>BaggingRegressor</th>\n",
       "      <td>0.13</td>\n",
       "      <td>0.13</td>\n",
       "      <td>34.71</td>\n",
       "      <td>3.35</td>\n",
       "      <td>TurnoutTimeSeconds_mean</td>\n",
       "      <td>2022</td>\n",
       "    </tr>\n",
       "    <tr>\n",
       "      <th>AdaBoostRegressor</th>\n",
       "      <td>0.13</td>\n",
       "      <td>0.13</td>\n",
       "      <td>34.83</td>\n",
       "      <td>4.42</td>\n",
       "      <td>TurnoutTimeSeconds_mean</td>\n",
       "      <td>2022</td>\n",
       "    </tr>\n",
       "    <tr>\n",
       "      <th>PoissonRegressor</th>\n",
       "      <td>0.10</td>\n",
       "      <td>0.10</td>\n",
       "      <td>35.34</td>\n",
       "      <td>0.41</td>\n",
       "      <td>TurnoutTimeSeconds_mean</td>\n",
       "      <td>2022</td>\n",
       "    </tr>\n",
       "    <tr>\n",
       "      <th>LinearRegression</th>\n",
       "      <td>0.09</td>\n",
       "      <td>0.09</td>\n",
       "      <td>35.49</td>\n",
       "      <td>0.39</td>\n",
       "      <td>TurnoutTimeSeconds_mean</td>\n",
       "      <td>2022</td>\n",
       "    </tr>\n",
       "    <tr>\n",
       "      <th>TransformedTargetRegressor</th>\n",
       "      <td>0.09</td>\n",
       "      <td>0.09</td>\n",
       "      <td>35.49</td>\n",
       "      <td>0.47</td>\n",
       "      <td>TurnoutTimeSeconds_mean</td>\n",
       "      <td>2022</td>\n",
       "    </tr>\n",
       "    <tr>\n",
       "      <th>Ridge</th>\n",
       "      <td>0.09</td>\n",
       "      <td>0.09</td>\n",
       "      <td>35.49</td>\n",
       "      <td>0.25</td>\n",
       "      <td>TurnoutTimeSeconds_mean</td>\n",
       "      <td>2022</td>\n",
       "    </tr>\n",
       "    <tr>\n",
       "      <th>RidgeCV</th>\n",
       "      <td>0.09</td>\n",
       "      <td>0.09</td>\n",
       "      <td>35.49</td>\n",
       "      <td>0.69</td>\n",
       "      <td>TurnoutTimeSeconds_mean</td>\n",
       "      <td>2022</td>\n",
       "    </tr>\n",
       "    <tr>\n",
       "      <th>Lars</th>\n",
       "      <td>0.09</td>\n",
       "      <td>0.09</td>\n",
       "      <td>35.49</td>\n",
       "      <td>0.25</td>\n",
       "      <td>TurnoutTimeSeconds_mean</td>\n",
       "      <td>2022</td>\n",
       "    </tr>\n",
       "    <tr>\n",
       "      <th>BayesianRidge</th>\n",
       "      <td>0.09</td>\n",
       "      <td>0.09</td>\n",
       "      <td>35.49</td>\n",
       "      <td>0.52</td>\n",
       "      <td>TurnoutTimeSeconds_mean</td>\n",
       "      <td>2022</td>\n",
       "    </tr>\n",
       "    <tr>\n",
       "      <th>LassoLarsIC</th>\n",
       "      <td>0.09</td>\n",
       "      <td>0.09</td>\n",
       "      <td>35.50</td>\n",
       "      <td>0.56</td>\n",
       "      <td>TurnoutTimeSeconds_mean</td>\n",
       "      <td>2022</td>\n",
       "    </tr>\n",
       "    <tr>\n",
       "      <th>LassoCV</th>\n",
       "      <td>0.09</td>\n",
       "      <td>0.09</td>\n",
       "      <td>35.50</td>\n",
       "      <td>1.45</td>\n",
       "      <td>TurnoutTimeSeconds_mean</td>\n",
       "      <td>2022</td>\n",
       "    </tr>\n",
       "    <tr>\n",
       "      <th>LassoLarsCV</th>\n",
       "      <td>0.09</td>\n",
       "      <td>0.09</td>\n",
       "      <td>35.50</td>\n",
       "      <td>0.95</td>\n",
       "      <td>TurnoutTimeSeconds_mean</td>\n",
       "      <td>2022</td>\n",
       "    </tr>\n",
       "    <tr>\n",
       "      <th>LarsCV</th>\n",
       "      <td>0.09</td>\n",
       "      <td>0.09</td>\n",
       "      <td>35.50</td>\n",
       "      <td>1.01</td>\n",
       "      <td>TurnoutTimeSeconds_mean</td>\n",
       "      <td>2022</td>\n",
       "    </tr>\n",
       "    <tr>\n",
       "      <th>ElasticNetCV</th>\n",
       "      <td>0.09</td>\n",
       "      <td>0.09</td>\n",
       "      <td>35.50</td>\n",
       "      <td>1.22</td>\n",
       "      <td>TurnoutTimeSeconds_mean</td>\n",
       "      <td>2022</td>\n",
       "    </tr>\n",
       "    <tr>\n",
       "      <th>OrthogonalMatchingPursuitCV</th>\n",
       "      <td>0.09</td>\n",
       "      <td>0.09</td>\n",
       "      <td>35.52</td>\n",
       "      <td>0.79</td>\n",
       "      <td>TurnoutTimeSeconds_mean</td>\n",
       "      <td>2022</td>\n",
       "    </tr>\n",
       "    <tr>\n",
       "      <th>PLSRegression</th>\n",
       "      <td>0.09</td>\n",
       "      <td>0.09</td>\n",
       "      <td>35.53</td>\n",
       "      <td>0.36</td>\n",
       "      <td>TurnoutTimeSeconds_mean</td>\n",
       "      <td>2022</td>\n",
       "    </tr>\n",
       "    <tr>\n",
       "      <th>TheilSenRegressor</th>\n",
       "      <td>0.09</td>\n",
       "      <td>0.09</td>\n",
       "      <td>35.56</td>\n",
       "      <td>56.82</td>\n",
       "      <td>TurnoutTimeSeconds_mean</td>\n",
       "      <td>2022</td>\n",
       "    </tr>\n",
       "    <tr>\n",
       "      <th>HuberRegressor</th>\n",
       "      <td>0.09</td>\n",
       "      <td>0.09</td>\n",
       "      <td>35.57</td>\n",
       "      <td>1.09</td>\n",
       "      <td>TurnoutTimeSeconds_mean</td>\n",
       "      <td>2022</td>\n",
       "    </tr>\n",
       "    <tr>\n",
       "      <th>LinearSVR</th>\n",
       "      <td>0.09</td>\n",
       "      <td>0.09</td>\n",
       "      <td>35.59</td>\n",
       "      <td>3.82</td>\n",
       "      <td>TurnoutTimeSeconds_mean</td>\n",
       "      <td>2022</td>\n",
       "    </tr>\n",
       "    <tr>\n",
       "      <th>LassoLars</th>\n",
       "      <td>0.08</td>\n",
       "      <td>0.08</td>\n",
       "      <td>35.68</td>\n",
       "      <td>0.31</td>\n",
       "      <td>TurnoutTimeSeconds_mean</td>\n",
       "      <td>2022</td>\n",
       "    </tr>\n",
       "    <tr>\n",
       "      <th>Lasso</th>\n",
       "      <td>0.08</td>\n",
       "      <td>0.08</td>\n",
       "      <td>35.68</td>\n",
       "      <td>0.45</td>\n",
       "      <td>TurnoutTimeSeconds_mean</td>\n",
       "      <td>2022</td>\n",
       "    </tr>\n",
       "    <tr>\n",
       "      <th>ElasticNet</th>\n",
       "      <td>0.05</td>\n",
       "      <td>0.05</td>\n",
       "      <td>36.23</td>\n",
       "      <td>0.31</td>\n",
       "      <td>TurnoutTimeSeconds_mean</td>\n",
       "      <td>2022</td>\n",
       "    </tr>\n",
       "    <tr>\n",
       "      <th>OrthogonalMatchingPursuit</th>\n",
       "      <td>0.02</td>\n",
       "      <td>0.02</td>\n",
       "      <td>36.89</td>\n",
       "      <td>0.27</td>\n",
       "      <td>TurnoutTimeSeconds_mean</td>\n",
       "      <td>2022</td>\n",
       "    </tr>\n",
       "    <tr>\n",
       "      <th>DummyRegressor</th>\n",
       "      <td>-0.00</td>\n",
       "      <td>-0.00</td>\n",
       "      <td>37.26</td>\n",
       "      <td>0.16</td>\n",
       "      <td>TurnoutTimeSeconds_mean</td>\n",
       "      <td>2022</td>\n",
       "    </tr>\n",
       "    <tr>\n",
       "      <th>KNeighborsRegressor</th>\n",
       "      <td>-0.01</td>\n",
       "      <td>-0.01</td>\n",
       "      <td>37.36</td>\n",
       "      <td>58.26</td>\n",
       "      <td>TurnoutTimeSeconds_mean</td>\n",
       "      <td>2022</td>\n",
       "    </tr>\n",
       "    <tr>\n",
       "      <th>PassiveAggressiveRegressor</th>\n",
       "      <td>-0.05</td>\n",
       "      <td>-0.05</td>\n",
       "      <td>38.24</td>\n",
       "      <td>0.54</td>\n",
       "      <td>TurnoutTimeSeconds_mean</td>\n",
       "      <td>2022</td>\n",
       "    </tr>\n",
       "    <tr>\n",
       "      <th>RANSACRegressor</th>\n",
       "      <td>-0.09</td>\n",
       "      <td>-0.09</td>\n",
       "      <td>38.90</td>\n",
       "      <td>1.55</td>\n",
       "      <td>TurnoutTimeSeconds_mean</td>\n",
       "      <td>2022</td>\n",
       "    </tr>\n",
       "    <tr>\n",
       "      <th>SGDRegressor</th>\n",
       "      <td>-189027816613043765248.00</td>\n",
       "      <td>-188978163916271255552.00</td>\n",
       "      <td>512174631600.04</td>\n",
       "      <td>0.53</td>\n",
       "      <td>TurnoutTimeSeconds_mean</td>\n",
       "      <td>2022</td>\n",
       "    </tr>\n",
       "  </tbody>\n",
       "</table>\n",
       "</div>"
      ],
      "text/plain": [
       "                                     Adjusted R-Squared  \\\n",
       "Model                                                     \n",
       "HistGradientBoostingRegressor                      0.15   \n",
       "GradientBoostingRegressor                          0.14   \n",
       "MLPRegressor                                       0.14   \n",
       "DecisionTreeRegressor                              0.13   \n",
       "ExtraTreeRegressor                                 0.13   \n",
       "RandomForestRegressor                              0.13   \n",
       "BaggingRegressor                                   0.13   \n",
       "AdaBoostRegressor                                  0.13   \n",
       "PoissonRegressor                                   0.10   \n",
       "LinearRegression                                   0.09   \n",
       "TransformedTargetRegressor                         0.09   \n",
       "Ridge                                              0.09   \n",
       "RidgeCV                                            0.09   \n",
       "Lars                                               0.09   \n",
       "BayesianRidge                                      0.09   \n",
       "LassoLarsIC                                        0.09   \n",
       "LassoCV                                            0.09   \n",
       "LassoLarsCV                                        0.09   \n",
       "LarsCV                                             0.09   \n",
       "ElasticNetCV                                       0.09   \n",
       "OrthogonalMatchingPursuitCV                        0.09   \n",
       "PLSRegression                                      0.09   \n",
       "TheilSenRegressor                                  0.09   \n",
       "HuberRegressor                                     0.09   \n",
       "LinearSVR                                          0.09   \n",
       "LassoLars                                          0.08   \n",
       "Lasso                                              0.08   \n",
       "ElasticNet                                         0.05   \n",
       "OrthogonalMatchingPursuit                          0.02   \n",
       "DummyRegressor                                    -0.00   \n",
       "KNeighborsRegressor                               -0.01   \n",
       "PassiveAggressiveRegressor                        -0.05   \n",
       "RANSACRegressor                                   -0.09   \n",
       "SGDRegressor                  -189027816613043765248.00   \n",
       "\n",
       "                                              R-Squared            RMSE  \\\n",
       "Model                                                                     \n",
       "HistGradientBoostingRegressor                      0.15           34.39   \n",
       "GradientBoostingRegressor                          0.14           34.49   \n",
       "MLPRegressor                                       0.14           34.49   \n",
       "DecisionTreeRegressor                              0.13           34.68   \n",
       "ExtraTreeRegressor                                 0.13           34.68   \n",
       "RandomForestRegressor                              0.13           34.68   \n",
       "BaggingRegressor                                   0.13           34.71   \n",
       "AdaBoostRegressor                                  0.13           34.83   \n",
       "PoissonRegressor                                   0.10           35.34   \n",
       "LinearRegression                                   0.09           35.49   \n",
       "TransformedTargetRegressor                         0.09           35.49   \n",
       "Ridge                                              0.09           35.49   \n",
       "RidgeCV                                            0.09           35.49   \n",
       "Lars                                               0.09           35.49   \n",
       "BayesianRidge                                      0.09           35.49   \n",
       "LassoLarsIC                                        0.09           35.50   \n",
       "LassoCV                                            0.09           35.50   \n",
       "LassoLarsCV                                        0.09           35.50   \n",
       "LarsCV                                             0.09           35.50   \n",
       "ElasticNetCV                                       0.09           35.50   \n",
       "OrthogonalMatchingPursuitCV                        0.09           35.52   \n",
       "PLSRegression                                      0.09           35.53   \n",
       "TheilSenRegressor                                  0.09           35.56   \n",
       "HuberRegressor                                     0.09           35.57   \n",
       "LinearSVR                                          0.09           35.59   \n",
       "LassoLars                                          0.08           35.68   \n",
       "Lasso                                              0.08           35.68   \n",
       "ElasticNet                                         0.05           36.23   \n",
       "OrthogonalMatchingPursuit                          0.02           36.89   \n",
       "DummyRegressor                                    -0.00           37.26   \n",
       "KNeighborsRegressor                               -0.01           37.36   \n",
       "PassiveAggressiveRegressor                        -0.05           38.24   \n",
       "RANSACRegressor                                   -0.09           38.90   \n",
       "SGDRegressor                  -188978163916271255552.00 512174631600.04   \n",
       "\n",
       "                               Time Taken                   Target  Year floor  \n",
       "Model                                                                           \n",
       "HistGradientBoostingRegressor        1.68  TurnoutTimeSeconds_mean        2022  \n",
       "GradientBoostingRegressor           17.49  TurnoutTimeSeconds_mean        2022  \n",
       "MLPRegressor                       244.70  TurnoutTimeSeconds_mean        2022  \n",
       "DecisionTreeRegressor                0.62  TurnoutTimeSeconds_mean        2022  \n",
       "ExtraTreeRegressor                   0.60  TurnoutTimeSeconds_mean        2022  \n",
       "RandomForestRegressor               31.53  TurnoutTimeSeconds_mean        2022  \n",
       "BaggingRegressor                     3.35  TurnoutTimeSeconds_mean        2022  \n",
       "AdaBoostRegressor                    4.42  TurnoutTimeSeconds_mean        2022  \n",
       "PoissonRegressor                     0.41  TurnoutTimeSeconds_mean        2022  \n",
       "LinearRegression                     0.39  TurnoutTimeSeconds_mean        2022  \n",
       "TransformedTargetRegressor           0.47  TurnoutTimeSeconds_mean        2022  \n",
       "Ridge                                0.25  TurnoutTimeSeconds_mean        2022  \n",
       "RidgeCV                              0.69  TurnoutTimeSeconds_mean        2022  \n",
       "Lars                                 0.25  TurnoutTimeSeconds_mean        2022  \n",
       "BayesianRidge                        0.52  TurnoutTimeSeconds_mean        2022  \n",
       "LassoLarsIC                          0.56  TurnoutTimeSeconds_mean        2022  \n",
       "LassoCV                              1.45  TurnoutTimeSeconds_mean        2022  \n",
       "LassoLarsCV                          0.95  TurnoutTimeSeconds_mean        2022  \n",
       "LarsCV                               1.01  TurnoutTimeSeconds_mean        2022  \n",
       "ElasticNetCV                         1.22  TurnoutTimeSeconds_mean        2022  \n",
       "OrthogonalMatchingPursuitCV          0.79  TurnoutTimeSeconds_mean        2022  \n",
       "PLSRegression                        0.36  TurnoutTimeSeconds_mean        2022  \n",
       "TheilSenRegressor                   56.82  TurnoutTimeSeconds_mean        2022  \n",
       "HuberRegressor                       1.09  TurnoutTimeSeconds_mean        2022  \n",
       "LinearSVR                            3.82  TurnoutTimeSeconds_mean        2022  \n",
       "LassoLars                            0.31  TurnoutTimeSeconds_mean        2022  \n",
       "Lasso                                0.45  TurnoutTimeSeconds_mean        2022  \n",
       "ElasticNet                           0.31  TurnoutTimeSeconds_mean        2022  \n",
       "OrthogonalMatchingPursuit            0.27  TurnoutTimeSeconds_mean        2022  \n",
       "DummyRegressor                       0.16  TurnoutTimeSeconds_mean        2022  \n",
       "KNeighborsRegressor                 58.26  TurnoutTimeSeconds_mean        2022  \n",
       "PassiveAggressiveRegressor           0.54  TurnoutTimeSeconds_mean        2022  \n",
       "RANSACRegressor                      1.55  TurnoutTimeSeconds_mean        2022  \n",
       "SGDRegressor                         0.53  TurnoutTimeSeconds_mean        2022  "
      ]
     },
     "metadata": {},
     "output_type": "display_data"
    },
    {
     "name": "stdout",
     "output_type": "stream",
     "text": [
      "-----------------------------------------------------\n",
      "year 2023\n",
      "-----------------------------------------------------\n",
      "(225027, 42)\n",
      "cols_to_remove ['TurnoutTimeSeconds_min', 'TurnoutTimeSeconds_mean', 'TurnoutTimeSeconds_max', 'TravelTimeSeconds_min', 'TravelTimeSeconds_mean', 'TravelTimeSeconds_max', 'PumpSecondsOnSite_min', 'PumpSecondsOnSite_mean', 'PumpSecondsOnSite_max', 'NumPumpsAttending']\n",
      "cols_to_keep ['CalYear', 'HourOfCall_0', 'HourOfCall_1', 'HourOfCall_2', 'HourOfCall_3', 'HourOfCall_4', 'Postcode_district_0', 'Postcode_district_1', 'Postcode_district_2', 'Postcode_district_3', 'Postcode_district_4', 'Month_0', 'Month_1', 'Month_2', 'Month_3', 'DayOfWeek_0', 'DayOfWeek_1', 'DayOfWeek_2']\n"
     ]
    },
    {
     "data": {
      "text/html": [
       "<div>\n",
       "<style scoped>\n",
       "    .dataframe tbody tr th:only-of-type {\n",
       "        vertical-align: middle;\n",
       "    }\n",
       "\n",
       "    .dataframe tbody tr th {\n",
       "        vertical-align: top;\n",
       "    }\n",
       "\n",
       "    .dataframe thead th {\n",
       "        text-align: right;\n",
       "    }\n",
       "</style>\n",
       "<table border=\"1\" class=\"dataframe\">\n",
       "  <thead>\n",
       "    <tr style=\"text-align: right;\">\n",
       "      <th></th>\n",
       "      <th>CalYear</th>\n",
       "      <th>HourOfCall_0</th>\n",
       "      <th>HourOfCall_1</th>\n",
       "      <th>HourOfCall_2</th>\n",
       "      <th>HourOfCall_3</th>\n",
       "      <th>HourOfCall_4</th>\n",
       "      <th>Postcode_district_0</th>\n",
       "      <th>Postcode_district_1</th>\n",
       "      <th>Postcode_district_2</th>\n",
       "      <th>Postcode_district_3</th>\n",
       "      <th>Postcode_district_4</th>\n",
       "      <th>Month_0</th>\n",
       "      <th>Month_1</th>\n",
       "      <th>Month_2</th>\n",
       "      <th>Month_3</th>\n",
       "      <th>DayOfWeek_0</th>\n",
       "      <th>DayOfWeek_1</th>\n",
       "      <th>DayOfWeek_2</th>\n",
       "    </tr>\n",
       "  </thead>\n",
       "  <tbody>\n",
       "    <tr>\n",
       "      <th>1366500</th>\n",
       "      <td>15</td>\n",
       "      <td>0</td>\n",
       "      <td>0</td>\n",
       "      <td>0</td>\n",
       "      <td>0</td>\n",
       "      <td>1</td>\n",
       "      <td>0</td>\n",
       "      <td>0</td>\n",
       "      <td>0</td>\n",
       "      <td>0</td>\n",
       "      <td>1</td>\n",
       "      <td>0</td>\n",
       "      <td>0</td>\n",
       "      <td>0</td>\n",
       "      <td>1</td>\n",
       "      <td>1</td>\n",
       "      <td>0</td>\n",
       "      <td>0</td>\n",
       "    </tr>\n",
       "    <tr>\n",
       "      <th>1366501</th>\n",
       "      <td>15</td>\n",
       "      <td>0</td>\n",
       "      <td>0</td>\n",
       "      <td>0</td>\n",
       "      <td>0</td>\n",
       "      <td>1</td>\n",
       "      <td>0</td>\n",
       "      <td>0</td>\n",
       "      <td>0</td>\n",
       "      <td>0</td>\n",
       "      <td>1</td>\n",
       "      <td>0</td>\n",
       "      <td>0</td>\n",
       "      <td>0</td>\n",
       "      <td>1</td>\n",
       "      <td>1</td>\n",
       "      <td>0</td>\n",
       "      <td>0</td>\n",
       "    </tr>\n",
       "  </tbody>\n",
       "</table>\n",
       "</div>"
      ],
      "text/plain": [
       "         CalYear  HourOfCall_0  HourOfCall_1  HourOfCall_2  HourOfCall_3  \\\n",
       "1366500       15             0             0             0             0   \n",
       "1366501       15             0             0             0             0   \n",
       "\n",
       "         HourOfCall_4  Postcode_district_0  Postcode_district_1  \\\n",
       "1366500             1                    0                    0   \n",
       "1366501             1                    0                    0   \n",
       "\n",
       "         Postcode_district_2  Postcode_district_3  Postcode_district_4  \\\n",
       "1366500                    0                    0                    1   \n",
       "1366501                    0                    0                    1   \n",
       "\n",
       "         Month_0  Month_1  Month_2  Month_3  DayOfWeek_0  DayOfWeek_1  \\\n",
       "1366500        0        0        0        1            1            0   \n",
       "1366501        0        0        0        1            1            0   \n",
       "\n",
       "         DayOfWeek_2  \n",
       "1366500            0  \n",
       "1366501            0  "
      ]
     },
     "metadata": {},
     "output_type": "display_data"
    },
    {
     "name": "stdout",
     "output_type": "stream",
     "text": [
      "(225027, 18)\n",
      "cible TurnoutTimeSeconds_mean\n",
      "[('AdaBoostRegressor', <class 'sklearn.ensemble._weight_boosting.AdaBoostRegressor'>), ('BaggingRegressor', <class 'sklearn.ensemble._bagging.BaggingRegressor'>), ('BayesianRidge', <class 'sklearn.linear_model._bayes.BayesianRidge'>), ('DecisionTreeRegressor', <class 'sklearn.tree._classes.DecisionTreeRegressor'>), ('DummyRegressor', <class 'sklearn.dummy.DummyRegressor'>), ('ElasticNet', <class 'sklearn.linear_model._coordinate_descent.ElasticNet'>), ('ElasticNetCV', <class 'sklearn.linear_model._coordinate_descent.ElasticNetCV'>), ('ExtraTreeRegressor', <class 'sklearn.tree._classes.ExtraTreeRegressor'>), ('GradientBoostingRegressor', <class 'sklearn.ensemble._gb.GradientBoostingRegressor'>), ('HistGradientBoostingRegressor', <class 'sklearn.ensemble._hist_gradient_boosting.gradient_boosting.HistGradientBoostingRegressor'>), ('HuberRegressor', <class 'sklearn.linear_model._huber.HuberRegressor'>), ('KNeighborsRegressor', <class 'sklearn.neighbors._regression.KNeighborsRegressor'>), ('Lars', <class 'sklearn.linear_model._least_angle.Lars'>), ('LarsCV', <class 'sklearn.linear_model._least_angle.LarsCV'>), ('Lasso', <class 'sklearn.linear_model._coordinate_descent.Lasso'>), ('LassoCV', <class 'sklearn.linear_model._coordinate_descent.LassoCV'>), ('LassoLars', <class 'sklearn.linear_model._least_angle.LassoLars'>), ('LassoLarsCV', <class 'sklearn.linear_model._least_angle.LassoLarsCV'>), ('LassoLarsIC', <class 'sklearn.linear_model._least_angle.LassoLarsIC'>), ('LinearRegression', <class 'sklearn.linear_model._base.LinearRegression'>), ('LinearSVR', <class 'sklearn.svm._classes.LinearSVR'>), ('MLPRegressor', <class 'sklearn.neural_network._multilayer_perceptron.MLPRegressor'>), ('OrthogonalMatchingPursuit', <class 'sklearn.linear_model._omp.OrthogonalMatchingPursuit'>), ('OrthogonalMatchingPursuitCV', <class 'sklearn.linear_model._omp.OrthogonalMatchingPursuitCV'>), ('PLSRegression', <class 'sklearn.cross_decomposition._pls.PLSRegression'>), ('PassiveAggressiveRegressor', <class 'sklearn.linear_model._passive_aggressive.PassiveAggressiveRegressor'>), ('PoissonRegressor', <class 'sklearn.linear_model._glm.glm.PoissonRegressor'>), ('RANSACRegressor', <class 'sklearn.linear_model._ransac.RANSACRegressor'>), ('RandomForestRegressor', <class 'sklearn.ensemble._forest.RandomForestRegressor'>), ('Ridge', <class 'sklearn.linear_model._ridge.Ridge'>), ('RidgeCV', <class 'sklearn.linear_model._ridge.RidgeCV'>), ('SGDRegressor', <class 'sklearn.linear_model._stochastic_gradient.SGDRegressor'>), ('TheilSenRegressor', <class 'sklearn.linear_model._theil_sen.TheilSenRegressor'>), ('TransformedTargetRegressor', <class 'sklearn.compose._target.TransformedTargetRegressor'>), ('VotingRegressor', <class 'sklearn.ensemble._voting.VotingRegressor'>)]\n",
      "'tuple' object has no attribute '__name__'\n",
      "Invalid Regressor(s)\n"
     ]
    },
    {
     "name": "stderr",
     "output_type": "stream",
     "text": [
      "  3%|▎         | 1/35 [00:05<02:50,  5.01s/it]"
     ]
    },
    {
     "name": "stdout",
     "output_type": "stream",
     "text": [
      "{'Model': 'AdaBoostRegressor', 'R-Squared': -0.04960069525440902, 'Adjusted R-Squared': -0.05002065685475099, 'RMSE': np.float64(38.39995374737945), 'Time taken': 5.0117082595825195}\n"
     ]
    },
    {
     "name": "stderr",
     "output_type": "stream",
     "text": [
      "  6%|▌         | 2/35 [00:07<01:47,  3.27s/it]"
     ]
    },
    {
     "name": "stdout",
     "output_type": "stream",
     "text": [
      "{'Model': 'BaggingRegressor', 'R-Squared': 0.13198956912244242, 'Adjusted R-Squared': 0.13164226461767892, 'RMSE': np.float64(34.920553475764216), 'Time taken': 2.0432441234588623}\n"
     ]
    },
    {
     "name": "stderr",
     "output_type": "stream",
     "text": [
      "  9%|▊         | 3/35 [00:07<01:02,  1.95s/it]"
     ]
    },
    {
     "name": "stdout",
     "output_type": "stream",
     "text": [
      "{'Model': 'BayesianRidge', 'R-Squared': 0.0871286394808981, 'Adjusted R-Squared': 0.08676338541885031, 'RMSE': np.float64(35.81157629571082), 'Time taken': 0.38448047637939453}\n"
     ]
    },
    {
     "name": "stderr",
     "output_type": "stream",
     "text": [
      " 14%|█▍        | 5/35 [00:07<00:26,  1.12it/s]"
     ]
    },
    {
     "name": "stdout",
     "output_type": "stream",
     "text": [
      "{'Model': 'DecisionTreeRegressor', 'R-Squared': 0.13319220691419165, 'Adjusted R-Squared': 0.13284538360355647, 'RMSE': np.float64(34.896353689300206), 'Time taken': 0.3761160373687744}\n",
      "{'Model': 'DummyRegressor', 'R-Squared': -1.0532731738788215e-05, 'Adjusted R-Squared': -0.000410652534996947, 'RMSE': np.float64(37.481842684359655), 'Time taken': 0.12277412414550781}\n"
     ]
    },
    {
     "name": "stderr",
     "output_type": "stream",
     "text": [
      " 17%|█▋        | 6/35 [00:08<00:19,  1.52it/s]"
     ]
    },
    {
     "name": "stdout",
     "output_type": "stream",
     "text": [
      "{'Model': 'ElasticNet', 'R-Squared': 0.05256179429984753, 'Adjusted R-Squared': 0.05218270950418202, 'RMSE': np.float64(36.48329822865079), 'Time taken': 0.1921236515045166}\n"
     ]
    },
    {
     "name": "stderr",
     "output_type": "stream",
     "text": [
      " 20%|██        | 7/35 [00:08<00:20,  1.39it/s]"
     ]
    },
    {
     "name": "stdout",
     "output_type": "stream",
     "text": [
      "{'Model': 'ElasticNetCV', 'R-Squared': 0.08714147149215945, 'Adjusted R-Squared': 0.08677622256439943, 'RMSE': np.float64(35.81132459750607), 'Time taken': 0.8458871841430664}\n"
     ]
    },
    {
     "name": "stderr",
     "output_type": "stream",
     "text": [
      " 23%|██▎       | 8/35 [00:09<00:16,  1.61it/s]"
     ]
    },
    {
     "name": "stdout",
     "output_type": "stream",
     "text": [
      "{'Model': 'ExtraTreeRegressor', 'R-Squared': 0.13319220691419165, 'Adjusted R-Squared': 0.13284538360355647, 'RMSE': np.float64(34.896353689300206), 'Time taken': 0.41458559036254883}\n"
     ]
    },
    {
     "name": "stderr",
     "output_type": "stream",
     "text": [
      " 26%|██▌       | 9/35 [00:20<01:37,  3.76s/it]"
     ]
    },
    {
     "name": "stdout",
     "output_type": "stream",
     "text": [
      "{'Model': 'GradientBoostingRegressor', 'R-Squared': 0.14313683911196495, 'Adjusted R-Squared': 0.14279399480369848, 'RMSE': np.float64(34.69559839866171), 'Time taken': 10.641571044921875}\n"
     ]
    },
    {
     "name": "stderr",
     "output_type": "stream",
     "text": [
      " 29%|██▊       | 10/35 [00:21<01:13,  2.96s/it]"
     ]
    },
    {
     "name": "stdout",
     "output_type": "stream",
     "text": [
      "{'Model': 'HistGradientBoostingRegressor', 'R-Squared': 0.14868415178052263, 'Adjusted R-Squared': 0.1483435270385316, 'RMSE': np.float64(34.583106777437855), 'Time taken': 1.1697421073913574}\n"
     ]
    },
    {
     "name": "stderr",
     "output_type": "stream",
     "text": [
      " 31%|███▏      | 11/35 [00:21<00:54,  2.26s/it]"
     ]
    },
    {
     "name": "stdout",
     "output_type": "stream",
     "text": [
      "{'Model': 'HuberRegressor', 'R-Squared': 0.08331955912063871, 'Adjusted R-Squared': 0.08295278098615921, 'RMSE': np.float64(35.88621286415991), 'Time taken': 0.6799006462097168}\n"
     ]
    },
    {
     "name": "stderr",
     "output_type": "stream",
     "text": [
      " 37%|███▋      | 13/35 [00:56<03:07,  8.53s/it]"
     ]
    },
    {
     "name": "stdout",
     "output_type": "stream",
     "text": [
      "{'Model': 'KNeighborsRegressor', 'R-Squared': -0.02738788757966093, 'Adjusted R-Squared': -0.027798961489377882, 'RMSE': np.float64(37.99144979786126), 'Time taken': 34.79447793960571}\n",
      "{'Model': 'Lars', 'R-Squared': 0.08712702392866167, 'Adjusted R-Squared': 0.08676176922020629, 'RMSE': np.float64(35.81160798442902), 'Time taken': 0.17085719108581543}\n"
     ]
    },
    {
     "name": "stderr",
     "output_type": "stream",
     "text": [
      " 40%|████      | 14/35 [00:57<02:08,  6.13s/it]"
     ]
    },
    {
     "name": "stdout",
     "output_type": "stream",
     "text": [
      "{'Model': 'LarsCV', 'R-Squared': 0.08718332181826083, 'Adjusted R-Squared': 0.08681808963546866, 'RMSE': np.float64(35.81050369659788), 'Time taken': 0.595963716506958}\n"
     ]
    },
    {
     "name": "stderr",
     "output_type": "stream",
     "text": [
      " 43%|████▎     | 15/35 [00:57<01:27,  4.35s/it]"
     ]
    },
    {
     "name": "stdout",
     "output_type": "stream",
     "text": [
      "{'Model': 'Lasso', 'R-Squared': 0.08054593121604758, 'Adjusted R-Squared': 0.08017804330980549, 'RMSE': np.float64(35.94046286182815), 'Time taken': 0.22911834716796875}\n"
     ]
    },
    {
     "name": "stderr",
     "output_type": "stream",
     "text": [
      " 49%|████▊     | 17/35 [00:58<00:42,  2.35s/it]"
     ]
    },
    {
     "name": "stdout",
     "output_type": "stream",
     "text": [
      "{'Model': 'LassoCV', 'R-Squared': 0.08716891291377504, 'Adjusted R-Squared': 0.08680367496575558, 'RMSE': np.float64(35.81078633171151), 'Time taken': 0.8068387508392334}\n",
      "{'Model': 'LassoLars', 'R-Squared': 0.0805466128116421, 'Adjusted R-Squared': 0.08017872517811708, 'RMSE': np.float64(35.94044954040921), 'Time taken': 0.16887784004211426}\n"
     ]
    },
    {
     "name": "stderr",
     "output_type": "stream",
     "text": [
      " 51%|█████▏    | 18/35 [00:59<00:31,  1.83s/it]"
     ]
    },
    {
     "name": "stdout",
     "output_type": "stream",
     "text": [
      "{'Model': 'LassoLarsCV', 'R-Squared': 0.08718332181826083, 'Adjusted R-Squared': 0.08681808963546866, 'RMSE': np.float64(35.81050369659788), 'Time taken': 0.6126816272735596}\n"
     ]
    },
    {
     "name": "stderr",
     "output_type": "stream",
     "text": [
      " 54%|█████▍    | 19/35 [00:59<00:22,  1.38s/it]"
     ]
    },
    {
     "name": "stdout",
     "output_type": "stream",
     "text": [
      "{'Model': 'LassoLarsIC', 'R-Squared': 0.08715601607877466, 'Adjusted R-Squared': 0.0867907729705304, 'RMSE': np.float64(35.81103930522316), 'Time taken': 0.3451671600341797}\n"
     ]
    },
    {
     "name": "stderr",
     "output_type": "stream",
     "text": [
      " 57%|█████▋    | 20/35 [00:59<00:15,  1.05s/it]"
     ]
    },
    {
     "name": "stdout",
     "output_type": "stream",
     "text": [
      "{'Model': 'LinearRegression', 'R-Squared': 0.08712702392866434, 'Adjusted R-Squared': 0.08676176922020895, 'RMSE': np.float64(35.81160798442896), 'Time taken': 0.2603728771209717}\n"
     ]
    },
    {
     "name": "stderr",
     "output_type": "stream",
     "text": [
      " 60%|██████    | 21/35 [01:01<00:18,  1.29s/it]"
     ]
    },
    {
     "name": "stdout",
     "output_type": "stream",
     "text": [
      "{'Model': 'LinearSVR', 'R-Squared': 0.08288283225650439, 'Adjusted R-Squared': 0.08251587938079841, 'RMSE': np.float64(35.8947603395271), 'Time taken': 1.858008861541748}\n"
     ]
    },
    {
     "name": "stderr",
     "output_type": "stream",
     "text": [
      " 66%|██████▌   | 23/35 [02:59<05:05, 25.48s/it]"
     ]
    },
    {
     "name": "stdout",
     "output_type": "stream",
     "text": [
      "{'Model': 'MLPRegressor', 'R-Squared': 0.14513737354858813, 'Adjusted R-Squared': 0.14479532968533593, 'RMSE': np.float64(34.65507249967209), 'Time taken': 118.021311044693}\n",
      "{'Model': 'OrthogonalMatchingPursuit', 'R-Squared': 0.017155433725365432, 'Adjusted R-Squared': 0.016762182292886174, 'RMSE': np.float64(37.15874749804184), 'Time taken': 0.17224478721618652}\n"
     ]
    },
    {
     "name": "stderr",
     "output_type": "stream",
     "text": [
      " 69%|██████▊   | 24/35 [03:00<03:17, 17.99s/it]"
     ]
    },
    {
     "name": "stdout",
     "output_type": "stream",
     "text": [
      "{'Model': 'OrthogonalMatchingPursuitCV', 'R-Squared': 0.08677481289877154, 'Adjusted R-Squared': 0.08640941726519247, 'RMSE': np.float64(35.81851586058651), 'Time taken': 0.5238089561462402}\n"
     ]
    },
    {
     "name": "stderr",
     "output_type": "stream",
     "text": [
      " 71%|███████▏  | 25/35 [03:00<02:06, 12.67s/it]"
     ]
    },
    {
     "name": "stdout",
     "output_type": "stream",
     "text": [
      "{'Model': 'PLSRegression', 'R-Squared': 0.08609361644794922, 'Adjusted R-Squared': 0.08572794825705099, 'RMSE': np.float64(35.83187231301825), 'Time taken': 0.2563142776489258}\n"
     ]
    },
    {
     "name": "stderr",
     "output_type": "stream",
     "text": [
      " 74%|███████▍  | 26/35 [03:01<01:21,  9.00s/it]"
     ]
    },
    {
     "name": "stdout",
     "output_type": "stream",
     "text": [
      "{'Model': 'PassiveAggressiveRegressor', 'R-Squared': 0.029918759639049886, 'Adjusted R-Squared': 0.029530615012235528, 'RMSE': np.float64(36.916685310174316), 'Time taken': 0.4435718059539795}\n"
     ]
    },
    {
     "name": "stderr",
     "output_type": "stream",
     "text": [
      " 77%|███████▋  | 27/35 [03:01<00:50,  6.37s/it]"
     ]
    },
    {
     "name": "stdout",
     "output_type": "stream",
     "text": [
      "{'Model': 'PoissonRegressor', 'R-Squared': 0.09548528119221156, 'Adjusted R-Squared': 0.09512337075278376, 'RMSE': np.float64(35.64728559568091), 'Time taken': 0.22310185432434082}\n"
     ]
    },
    {
     "name": "stderr",
     "output_type": "stream",
     "text": [
      " 80%|████████  | 28/35 [03:02<00:33,  4.79s/it]"
     ]
    },
    {
     "name": "stdout",
     "output_type": "stream",
     "text": [
      "{'Model': 'RANSACRegressor', 'R-Squared': -0.06868902726065151, 'Adjusted R-Squared': -0.06911662640019611, 'RMSE': np.float64(38.74755662050952), 'Time taken': 1.1159722805023193}\n"
     ]
    },
    {
     "name": "stderr",
     "output_type": "stream",
     "text": [
      " 86%|████████▌ | 30/35 [03:20<00:30,  6.17s/it]"
     ]
    },
    {
     "name": "stdout",
     "output_type": "stream",
     "text": [
      "{'Model': 'RandomForestRegressor', 'R-Squared': 0.13318652142140863, 'Adjusted R-Squared': 0.13283969583591915, 'RMSE': np.float64(34.89646813372681), 'Time taken': 17.935132026672363}\n",
      "{'Model': 'Ridge', 'R-Squared': 0.08712705596633563, 'Adjusted R-Squared': 0.08676180127069899, 'RMSE': np.float64(35.811607356017035), 'Time taken': 0.16988134384155273}\n"
     ]
    },
    {
     "name": "stderr",
     "output_type": "stream",
     "text": [
      " 89%|████████▊ | 31/35 [03:21<00:17,  4.48s/it]"
     ]
    },
    {
     "name": "stdout",
     "output_type": "stream",
     "text": [
      "{'Model': 'RidgeCV', 'R-Squared': 0.08712734228828922, 'Adjusted R-Squared': 0.0867620877072145, 'RMSE': np.float64(35.81160173987392), 'Time taken': 0.5551998615264893}\n"
     ]
    },
    {
     "name": "stderr",
     "output_type": "stream",
     "text": [
      " 91%|█████████▏| 32/35 [03:21<00:09,  3.26s/it]"
     ]
    },
    {
     "name": "stdout",
     "output_type": "stream",
     "text": [
      "{'Model': 'SGDRegressor', 'R-Squared': -9.605041198672398e+18, 'Adjusted R-Squared': -9.608884325388474e+18, 'RMSE': np.float64(116163118469.7985), 'Time taken': 0.4086620807647705}\n"
     ]
    },
    {
     "name": "stderr",
     "output_type": "stream",
     "text": [
      " 94%|█████████▍| 33/35 [04:11<00:34, 17.28s/it]"
     ]
    },
    {
     "name": "stdout",
     "output_type": "stream",
     "text": [
      "{'Model': 'TheilSenRegressor', 'R-Squared': 0.08459855223537383, 'Adjusted R-Squared': 0.08423228584597775, 'RMSE': np.float64(35.86116910948555), 'Time taken': 49.990851402282715}\n"
     ]
    },
    {
     "name": "stderr",
     "output_type": "stream",
     "text": [
      "100%|██████████| 35/35 [04:11<00:00,  7.20s/it]"
     ]
    },
    {
     "name": "stdout",
     "output_type": "stream",
     "text": [
      "{'Model': 'TransformedTargetRegressor', 'R-Squared': 0.08712702392866434, 'Adjusted R-Squared': 0.08676176922020895, 'RMSE': np.float64(35.81160798442896), 'Time taken': 0.2622387409210205}\n",
      "VotingRegressor model failed to execute\n",
      "VotingRegressor.__init__() missing 1 required positional argument: 'estimators'\n"
     ]
    },
    {
     "name": "stderr",
     "output_type": "stream",
     "text": [
      "\n"
     ]
    },
    {
     "data": {
      "text/html": [
       "<div>\n",
       "<style scoped>\n",
       "    .dataframe tbody tr th:only-of-type {\n",
       "        vertical-align: middle;\n",
       "    }\n",
       "\n",
       "    .dataframe tbody tr th {\n",
       "        vertical-align: top;\n",
       "    }\n",
       "\n",
       "    .dataframe thead th {\n",
       "        text-align: right;\n",
       "    }\n",
       "</style>\n",
       "<table border=\"1\" class=\"dataframe\">\n",
       "  <thead>\n",
       "    <tr style=\"text-align: right;\">\n",
       "      <th></th>\n",
       "      <th>Adjusted R-Squared</th>\n",
       "      <th>R-Squared</th>\n",
       "      <th>RMSE</th>\n",
       "      <th>Time Taken</th>\n",
       "      <th>Target</th>\n",
       "      <th>Year floor</th>\n",
       "    </tr>\n",
       "    <tr>\n",
       "      <th>Model</th>\n",
       "      <th></th>\n",
       "      <th></th>\n",
       "      <th></th>\n",
       "      <th></th>\n",
       "      <th></th>\n",
       "      <th></th>\n",
       "    </tr>\n",
       "  </thead>\n",
       "  <tbody>\n",
       "    <tr>\n",
       "      <th>HistGradientBoostingRegressor</th>\n",
       "      <td>0.15</td>\n",
       "      <td>0.15</td>\n",
       "      <td>34.58</td>\n",
       "      <td>1.17</td>\n",
       "      <td>TurnoutTimeSeconds_mean</td>\n",
       "      <td>2023</td>\n",
       "    </tr>\n",
       "    <tr>\n",
       "      <th>MLPRegressor</th>\n",
       "      <td>0.14</td>\n",
       "      <td>0.15</td>\n",
       "      <td>34.66</td>\n",
       "      <td>118.02</td>\n",
       "      <td>TurnoutTimeSeconds_mean</td>\n",
       "      <td>2023</td>\n",
       "    </tr>\n",
       "    <tr>\n",
       "      <th>GradientBoostingRegressor</th>\n",
       "      <td>0.14</td>\n",
       "      <td>0.14</td>\n",
       "      <td>34.70</td>\n",
       "      <td>10.64</td>\n",
       "      <td>TurnoutTimeSeconds_mean</td>\n",
       "      <td>2023</td>\n",
       "    </tr>\n",
       "    <tr>\n",
       "      <th>DecisionTreeRegressor</th>\n",
       "      <td>0.13</td>\n",
       "      <td>0.13</td>\n",
       "      <td>34.90</td>\n",
       "      <td>0.38</td>\n",
       "      <td>TurnoutTimeSeconds_mean</td>\n",
       "      <td>2023</td>\n",
       "    </tr>\n",
       "    <tr>\n",
       "      <th>ExtraTreeRegressor</th>\n",
       "      <td>0.13</td>\n",
       "      <td>0.13</td>\n",
       "      <td>34.90</td>\n",
       "      <td>0.41</td>\n",
       "      <td>TurnoutTimeSeconds_mean</td>\n",
       "      <td>2023</td>\n",
       "    </tr>\n",
       "    <tr>\n",
       "      <th>RandomForestRegressor</th>\n",
       "      <td>0.13</td>\n",
       "      <td>0.13</td>\n",
       "      <td>34.90</td>\n",
       "      <td>17.94</td>\n",
       "      <td>TurnoutTimeSeconds_mean</td>\n",
       "      <td>2023</td>\n",
       "    </tr>\n",
       "    <tr>\n",
       "      <th>BaggingRegressor</th>\n",
       "      <td>0.13</td>\n",
       "      <td>0.13</td>\n",
       "      <td>34.92</td>\n",
       "      <td>2.04</td>\n",
       "      <td>TurnoutTimeSeconds_mean</td>\n",
       "      <td>2023</td>\n",
       "    </tr>\n",
       "    <tr>\n",
       "      <th>PoissonRegressor</th>\n",
       "      <td>0.10</td>\n",
       "      <td>0.10</td>\n",
       "      <td>35.65</td>\n",
       "      <td>0.22</td>\n",
       "      <td>TurnoutTimeSeconds_mean</td>\n",
       "      <td>2023</td>\n",
       "    </tr>\n",
       "    <tr>\n",
       "      <th>LarsCV</th>\n",
       "      <td>0.09</td>\n",
       "      <td>0.09</td>\n",
       "      <td>35.81</td>\n",
       "      <td>0.60</td>\n",
       "      <td>TurnoutTimeSeconds_mean</td>\n",
       "      <td>2023</td>\n",
       "    </tr>\n",
       "    <tr>\n",
       "      <th>LassoLarsCV</th>\n",
       "      <td>0.09</td>\n",
       "      <td>0.09</td>\n",
       "      <td>35.81</td>\n",
       "      <td>0.61</td>\n",
       "      <td>TurnoutTimeSeconds_mean</td>\n",
       "      <td>2023</td>\n",
       "    </tr>\n",
       "    <tr>\n",
       "      <th>LassoCV</th>\n",
       "      <td>0.09</td>\n",
       "      <td>0.09</td>\n",
       "      <td>35.81</td>\n",
       "      <td>0.81</td>\n",
       "      <td>TurnoutTimeSeconds_mean</td>\n",
       "      <td>2023</td>\n",
       "    </tr>\n",
       "    <tr>\n",
       "      <th>LassoLarsIC</th>\n",
       "      <td>0.09</td>\n",
       "      <td>0.09</td>\n",
       "      <td>35.81</td>\n",
       "      <td>0.35</td>\n",
       "      <td>TurnoutTimeSeconds_mean</td>\n",
       "      <td>2023</td>\n",
       "    </tr>\n",
       "    <tr>\n",
       "      <th>ElasticNetCV</th>\n",
       "      <td>0.09</td>\n",
       "      <td>0.09</td>\n",
       "      <td>35.81</td>\n",
       "      <td>0.85</td>\n",
       "      <td>TurnoutTimeSeconds_mean</td>\n",
       "      <td>2023</td>\n",
       "    </tr>\n",
       "    <tr>\n",
       "      <th>BayesianRidge</th>\n",
       "      <td>0.09</td>\n",
       "      <td>0.09</td>\n",
       "      <td>35.81</td>\n",
       "      <td>0.38</td>\n",
       "      <td>TurnoutTimeSeconds_mean</td>\n",
       "      <td>2023</td>\n",
       "    </tr>\n",
       "    <tr>\n",
       "      <th>RidgeCV</th>\n",
       "      <td>0.09</td>\n",
       "      <td>0.09</td>\n",
       "      <td>35.81</td>\n",
       "      <td>0.56</td>\n",
       "      <td>TurnoutTimeSeconds_mean</td>\n",
       "      <td>2023</td>\n",
       "    </tr>\n",
       "    <tr>\n",
       "      <th>Ridge</th>\n",
       "      <td>0.09</td>\n",
       "      <td>0.09</td>\n",
       "      <td>35.81</td>\n",
       "      <td>0.17</td>\n",
       "      <td>TurnoutTimeSeconds_mean</td>\n",
       "      <td>2023</td>\n",
       "    </tr>\n",
       "    <tr>\n",
       "      <th>TransformedTargetRegressor</th>\n",
       "      <td>0.09</td>\n",
       "      <td>0.09</td>\n",
       "      <td>35.81</td>\n",
       "      <td>0.26</td>\n",
       "      <td>TurnoutTimeSeconds_mean</td>\n",
       "      <td>2023</td>\n",
       "    </tr>\n",
       "    <tr>\n",
       "      <th>LinearRegression</th>\n",
       "      <td>0.09</td>\n",
       "      <td>0.09</td>\n",
       "      <td>35.81</td>\n",
       "      <td>0.26</td>\n",
       "      <td>TurnoutTimeSeconds_mean</td>\n",
       "      <td>2023</td>\n",
       "    </tr>\n",
       "    <tr>\n",
       "      <th>Lars</th>\n",
       "      <td>0.09</td>\n",
       "      <td>0.09</td>\n",
       "      <td>35.81</td>\n",
       "      <td>0.17</td>\n",
       "      <td>TurnoutTimeSeconds_mean</td>\n",
       "      <td>2023</td>\n",
       "    </tr>\n",
       "    <tr>\n",
       "      <th>OrthogonalMatchingPursuitCV</th>\n",
       "      <td>0.09</td>\n",
       "      <td>0.09</td>\n",
       "      <td>35.82</td>\n",
       "      <td>0.52</td>\n",
       "      <td>TurnoutTimeSeconds_mean</td>\n",
       "      <td>2023</td>\n",
       "    </tr>\n",
       "    <tr>\n",
       "      <th>PLSRegression</th>\n",
       "      <td>0.09</td>\n",
       "      <td>0.09</td>\n",
       "      <td>35.83</td>\n",
       "      <td>0.26</td>\n",
       "      <td>TurnoutTimeSeconds_mean</td>\n",
       "      <td>2023</td>\n",
       "    </tr>\n",
       "    <tr>\n",
       "      <th>TheilSenRegressor</th>\n",
       "      <td>0.08</td>\n",
       "      <td>0.08</td>\n",
       "      <td>35.86</td>\n",
       "      <td>49.99</td>\n",
       "      <td>TurnoutTimeSeconds_mean</td>\n",
       "      <td>2023</td>\n",
       "    </tr>\n",
       "    <tr>\n",
       "      <th>HuberRegressor</th>\n",
       "      <td>0.08</td>\n",
       "      <td>0.08</td>\n",
       "      <td>35.89</td>\n",
       "      <td>0.68</td>\n",
       "      <td>TurnoutTimeSeconds_mean</td>\n",
       "      <td>2023</td>\n",
       "    </tr>\n",
       "    <tr>\n",
       "      <th>LinearSVR</th>\n",
       "      <td>0.08</td>\n",
       "      <td>0.08</td>\n",
       "      <td>35.89</td>\n",
       "      <td>1.86</td>\n",
       "      <td>TurnoutTimeSeconds_mean</td>\n",
       "      <td>2023</td>\n",
       "    </tr>\n",
       "    <tr>\n",
       "      <th>LassoLars</th>\n",
       "      <td>0.08</td>\n",
       "      <td>0.08</td>\n",
       "      <td>35.94</td>\n",
       "      <td>0.17</td>\n",
       "      <td>TurnoutTimeSeconds_mean</td>\n",
       "      <td>2023</td>\n",
       "    </tr>\n",
       "    <tr>\n",
       "      <th>Lasso</th>\n",
       "      <td>0.08</td>\n",
       "      <td>0.08</td>\n",
       "      <td>35.94</td>\n",
       "      <td>0.23</td>\n",
       "      <td>TurnoutTimeSeconds_mean</td>\n",
       "      <td>2023</td>\n",
       "    </tr>\n",
       "    <tr>\n",
       "      <th>ElasticNet</th>\n",
       "      <td>0.05</td>\n",
       "      <td>0.05</td>\n",
       "      <td>36.48</td>\n",
       "      <td>0.19</td>\n",
       "      <td>TurnoutTimeSeconds_mean</td>\n",
       "      <td>2023</td>\n",
       "    </tr>\n",
       "    <tr>\n",
       "      <th>PassiveAggressiveRegressor</th>\n",
       "      <td>0.03</td>\n",
       "      <td>0.03</td>\n",
       "      <td>36.92</td>\n",
       "      <td>0.44</td>\n",
       "      <td>TurnoutTimeSeconds_mean</td>\n",
       "      <td>2023</td>\n",
       "    </tr>\n",
       "    <tr>\n",
       "      <th>OrthogonalMatchingPursuit</th>\n",
       "      <td>0.02</td>\n",
       "      <td>0.02</td>\n",
       "      <td>37.16</td>\n",
       "      <td>0.17</td>\n",
       "      <td>TurnoutTimeSeconds_mean</td>\n",
       "      <td>2023</td>\n",
       "    </tr>\n",
       "    <tr>\n",
       "      <th>DummyRegressor</th>\n",
       "      <td>-0.00</td>\n",
       "      <td>-0.00</td>\n",
       "      <td>37.48</td>\n",
       "      <td>0.12</td>\n",
       "      <td>TurnoutTimeSeconds_mean</td>\n",
       "      <td>2023</td>\n",
       "    </tr>\n",
       "    <tr>\n",
       "      <th>KNeighborsRegressor</th>\n",
       "      <td>-0.03</td>\n",
       "      <td>-0.03</td>\n",
       "      <td>37.99</td>\n",
       "      <td>34.79</td>\n",
       "      <td>TurnoutTimeSeconds_mean</td>\n",
       "      <td>2023</td>\n",
       "    </tr>\n",
       "    <tr>\n",
       "      <th>AdaBoostRegressor</th>\n",
       "      <td>-0.05</td>\n",
       "      <td>-0.05</td>\n",
       "      <td>38.40</td>\n",
       "      <td>5.01</td>\n",
       "      <td>TurnoutTimeSeconds_mean</td>\n",
       "      <td>2023</td>\n",
       "    </tr>\n",
       "    <tr>\n",
       "      <th>RANSACRegressor</th>\n",
       "      <td>-0.07</td>\n",
       "      <td>-0.07</td>\n",
       "      <td>38.75</td>\n",
       "      <td>1.12</td>\n",
       "      <td>TurnoutTimeSeconds_mean</td>\n",
       "      <td>2023</td>\n",
       "    </tr>\n",
       "    <tr>\n",
       "      <th>SGDRegressor</th>\n",
       "      <td>-9608884325388474368.00</td>\n",
       "      <td>-9605041198672398336.00</td>\n",
       "      <td>116163118469.80</td>\n",
       "      <td>0.41</td>\n",
       "      <td>TurnoutTimeSeconds_mean</td>\n",
       "      <td>2023</td>\n",
       "    </tr>\n",
       "  </tbody>\n",
       "</table>\n",
       "</div>"
      ],
      "text/plain": [
       "                                   Adjusted R-Squared               R-Squared  \\\n",
       "Model                                                                           \n",
       "HistGradientBoostingRegressor                    0.15                    0.15   \n",
       "MLPRegressor                                     0.14                    0.15   \n",
       "GradientBoostingRegressor                        0.14                    0.14   \n",
       "DecisionTreeRegressor                            0.13                    0.13   \n",
       "ExtraTreeRegressor                               0.13                    0.13   \n",
       "RandomForestRegressor                            0.13                    0.13   \n",
       "BaggingRegressor                                 0.13                    0.13   \n",
       "PoissonRegressor                                 0.10                    0.10   \n",
       "LarsCV                                           0.09                    0.09   \n",
       "LassoLarsCV                                      0.09                    0.09   \n",
       "LassoCV                                          0.09                    0.09   \n",
       "LassoLarsIC                                      0.09                    0.09   \n",
       "ElasticNetCV                                     0.09                    0.09   \n",
       "BayesianRidge                                    0.09                    0.09   \n",
       "RidgeCV                                          0.09                    0.09   \n",
       "Ridge                                            0.09                    0.09   \n",
       "TransformedTargetRegressor                       0.09                    0.09   \n",
       "LinearRegression                                 0.09                    0.09   \n",
       "Lars                                             0.09                    0.09   \n",
       "OrthogonalMatchingPursuitCV                      0.09                    0.09   \n",
       "PLSRegression                                    0.09                    0.09   \n",
       "TheilSenRegressor                                0.08                    0.08   \n",
       "HuberRegressor                                   0.08                    0.08   \n",
       "LinearSVR                                        0.08                    0.08   \n",
       "LassoLars                                        0.08                    0.08   \n",
       "Lasso                                            0.08                    0.08   \n",
       "ElasticNet                                       0.05                    0.05   \n",
       "PassiveAggressiveRegressor                       0.03                    0.03   \n",
       "OrthogonalMatchingPursuit                        0.02                    0.02   \n",
       "DummyRegressor                                  -0.00                   -0.00   \n",
       "KNeighborsRegressor                             -0.03                   -0.03   \n",
       "AdaBoostRegressor                               -0.05                   -0.05   \n",
       "RANSACRegressor                                 -0.07                   -0.07   \n",
       "SGDRegressor                  -9608884325388474368.00 -9605041198672398336.00   \n",
       "\n",
       "                                         RMSE  Time Taken  \\\n",
       "Model                                                       \n",
       "HistGradientBoostingRegressor           34.58        1.17   \n",
       "MLPRegressor                            34.66      118.02   \n",
       "GradientBoostingRegressor               34.70       10.64   \n",
       "DecisionTreeRegressor                   34.90        0.38   \n",
       "ExtraTreeRegressor                      34.90        0.41   \n",
       "RandomForestRegressor                   34.90       17.94   \n",
       "BaggingRegressor                        34.92        2.04   \n",
       "PoissonRegressor                        35.65        0.22   \n",
       "LarsCV                                  35.81        0.60   \n",
       "LassoLarsCV                             35.81        0.61   \n",
       "LassoCV                                 35.81        0.81   \n",
       "LassoLarsIC                             35.81        0.35   \n",
       "ElasticNetCV                            35.81        0.85   \n",
       "BayesianRidge                           35.81        0.38   \n",
       "RidgeCV                                 35.81        0.56   \n",
       "Ridge                                   35.81        0.17   \n",
       "TransformedTargetRegressor              35.81        0.26   \n",
       "LinearRegression                        35.81        0.26   \n",
       "Lars                                    35.81        0.17   \n",
       "OrthogonalMatchingPursuitCV             35.82        0.52   \n",
       "PLSRegression                           35.83        0.26   \n",
       "TheilSenRegressor                       35.86       49.99   \n",
       "HuberRegressor                          35.89        0.68   \n",
       "LinearSVR                               35.89        1.86   \n",
       "LassoLars                               35.94        0.17   \n",
       "Lasso                                   35.94        0.23   \n",
       "ElasticNet                              36.48        0.19   \n",
       "PassiveAggressiveRegressor              36.92        0.44   \n",
       "OrthogonalMatchingPursuit               37.16        0.17   \n",
       "DummyRegressor                          37.48        0.12   \n",
       "KNeighborsRegressor                     37.99       34.79   \n",
       "AdaBoostRegressor                       38.40        5.01   \n",
       "RANSACRegressor                         38.75        1.12   \n",
       "SGDRegressor                  116163118469.80        0.41   \n",
       "\n",
       "                                                Target  Year floor  \n",
       "Model                                                               \n",
       "HistGradientBoostingRegressor  TurnoutTimeSeconds_mean        2023  \n",
       "MLPRegressor                   TurnoutTimeSeconds_mean        2023  \n",
       "GradientBoostingRegressor      TurnoutTimeSeconds_mean        2023  \n",
       "DecisionTreeRegressor          TurnoutTimeSeconds_mean        2023  \n",
       "ExtraTreeRegressor             TurnoutTimeSeconds_mean        2023  \n",
       "RandomForestRegressor          TurnoutTimeSeconds_mean        2023  \n",
       "BaggingRegressor               TurnoutTimeSeconds_mean        2023  \n",
       "PoissonRegressor               TurnoutTimeSeconds_mean        2023  \n",
       "LarsCV                         TurnoutTimeSeconds_mean        2023  \n",
       "LassoLarsCV                    TurnoutTimeSeconds_mean        2023  \n",
       "LassoCV                        TurnoutTimeSeconds_mean        2023  \n",
       "LassoLarsIC                    TurnoutTimeSeconds_mean        2023  \n",
       "ElasticNetCV                   TurnoutTimeSeconds_mean        2023  \n",
       "BayesianRidge                  TurnoutTimeSeconds_mean        2023  \n",
       "RidgeCV                        TurnoutTimeSeconds_mean        2023  \n",
       "Ridge                          TurnoutTimeSeconds_mean        2023  \n",
       "TransformedTargetRegressor     TurnoutTimeSeconds_mean        2023  \n",
       "LinearRegression               TurnoutTimeSeconds_mean        2023  \n",
       "Lars                           TurnoutTimeSeconds_mean        2023  \n",
       "OrthogonalMatchingPursuitCV    TurnoutTimeSeconds_mean        2023  \n",
       "PLSRegression                  TurnoutTimeSeconds_mean        2023  \n",
       "TheilSenRegressor              TurnoutTimeSeconds_mean        2023  \n",
       "HuberRegressor                 TurnoutTimeSeconds_mean        2023  \n",
       "LinearSVR                      TurnoutTimeSeconds_mean        2023  \n",
       "LassoLars                      TurnoutTimeSeconds_mean        2023  \n",
       "Lasso                          TurnoutTimeSeconds_mean        2023  \n",
       "ElasticNet                     TurnoutTimeSeconds_mean        2023  \n",
       "PassiveAggressiveRegressor     TurnoutTimeSeconds_mean        2023  \n",
       "OrthogonalMatchingPursuit      TurnoutTimeSeconds_mean        2023  \n",
       "DummyRegressor                 TurnoutTimeSeconds_mean        2023  \n",
       "KNeighborsRegressor            TurnoutTimeSeconds_mean        2023  \n",
       "AdaBoostRegressor              TurnoutTimeSeconds_mean        2023  \n",
       "RANSACRegressor                TurnoutTimeSeconds_mean        2023  \n",
       "SGDRegressor                   TurnoutTimeSeconds_mean        2023  "
      ]
     },
     "metadata": {},
     "output_type": "display_data"
    },
    {
     "name": "stdout",
     "output_type": "stream",
     "text": [
      "-----------------------------------------------------\n",
      "year 2021\n",
      "-----------------------------------------------------\n",
      "(444247, 45)\n",
      "cols_to_remove ['TurnoutTimeSeconds_min', 'TurnoutTimeSeconds_mean', 'TurnoutTimeSeconds_max', 'TravelTimeSeconds_min', 'TravelTimeSeconds_mean', 'TravelTimeSeconds_max', 'PumpSecondsOnSite_min', 'PumpSecondsOnSite_mean', 'PumpSecondsOnSite_max', 'NumPumpsAttending']\n",
      "cols_to_keep ['CalYear', 'HourOfCall_0', 'HourOfCall_1', 'HourOfCall_2', 'HourOfCall_3', 'HourOfCall_4', 'Postcode_district_0', 'Postcode_district_1', 'Postcode_district_2', 'Postcode_district_3', 'Postcode_district_4', 'Postcode_district_5', 'Postcode_district_6', 'Postcode_district_7', 'Postcode_district_8', 'Month_0', 'Month_1', 'Month_2', 'Month_3', 'DayOfWeek_0', 'DayOfWeek_1', 'DayOfWeek_2']\n"
     ]
    },
    {
     "data": {
      "text/html": [
       "<div>\n",
       "<style scoped>\n",
       "    .dataframe tbody tr th:only-of-type {\n",
       "        vertical-align: middle;\n",
       "    }\n",
       "\n",
       "    .dataframe tbody tr th {\n",
       "        vertical-align: top;\n",
       "    }\n",
       "\n",
       "    .dataframe thead th {\n",
       "        text-align: right;\n",
       "    }\n",
       "</style>\n",
       "<table border=\"1\" class=\"dataframe\">\n",
       "  <thead>\n",
       "    <tr style=\"text-align: right;\">\n",
       "      <th></th>\n",
       "      <th>CalYear</th>\n",
       "      <th>HourOfCall_0</th>\n",
       "      <th>HourOfCall_1</th>\n",
       "      <th>HourOfCall_2</th>\n",
       "      <th>HourOfCall_3</th>\n",
       "      <th>HourOfCall_4</th>\n",
       "      <th>Postcode_district_0</th>\n",
       "      <th>Postcode_district_1</th>\n",
       "      <th>Postcode_district_2</th>\n",
       "      <th>Postcode_district_3</th>\n",
       "      <th>Postcode_district_4</th>\n",
       "      <th>Postcode_district_5</th>\n",
       "      <th>Postcode_district_6</th>\n",
       "      <th>Postcode_district_7</th>\n",
       "      <th>Postcode_district_8</th>\n",
       "      <th>Month_0</th>\n",
       "      <th>Month_1</th>\n",
       "      <th>Month_2</th>\n",
       "      <th>Month_3</th>\n",
       "      <th>DayOfWeek_0</th>\n",
       "      <th>DayOfWeek_1</th>\n",
       "      <th>DayOfWeek_2</th>\n",
       "    </tr>\n",
       "  </thead>\n",
       "  <tbody>\n",
       "    <tr>\n",
       "      <th>1147280</th>\n",
       "      <td>13</td>\n",
       "      <td>0</td>\n",
       "      <td>0</td>\n",
       "      <td>0</td>\n",
       "      <td>0</td>\n",
       "      <td>1</td>\n",
       "      <td>0</td>\n",
       "      <td>1</td>\n",
       "      <td>1</td>\n",
       "      <td>0</td>\n",
       "      <td>1</td>\n",
       "      <td>0</td>\n",
       "      <td>0</td>\n",
       "      <td>1</td>\n",
       "      <td>1</td>\n",
       "      <td>0</td>\n",
       "      <td>0</td>\n",
       "      <td>0</td>\n",
       "      <td>1</td>\n",
       "      <td>0</td>\n",
       "      <td>1</td>\n",
       "      <td>0</td>\n",
       "    </tr>\n",
       "    <tr>\n",
       "      <th>1147281</th>\n",
       "      <td>13</td>\n",
       "      <td>0</td>\n",
       "      <td>0</td>\n",
       "      <td>0</td>\n",
       "      <td>0</td>\n",
       "      <td>1</td>\n",
       "      <td>0</td>\n",
       "      <td>1</td>\n",
       "      <td>0</td>\n",
       "      <td>0</td>\n",
       "      <td>1</td>\n",
       "      <td>0</td>\n",
       "      <td>0</td>\n",
       "      <td>1</td>\n",
       "      <td>0</td>\n",
       "      <td>0</td>\n",
       "      <td>0</td>\n",
       "      <td>0</td>\n",
       "      <td>1</td>\n",
       "      <td>0</td>\n",
       "      <td>1</td>\n",
       "      <td>0</td>\n",
       "    </tr>\n",
       "  </tbody>\n",
       "</table>\n",
       "</div>"
      ],
      "text/plain": [
       "         CalYear  HourOfCall_0  HourOfCall_1  HourOfCall_2  HourOfCall_3  \\\n",
       "1147280       13             0             0             0             0   \n",
       "1147281       13             0             0             0             0   \n",
       "\n",
       "         HourOfCall_4  Postcode_district_0  Postcode_district_1  \\\n",
       "1147280             1                    0                    1   \n",
       "1147281             1                    0                    1   \n",
       "\n",
       "         Postcode_district_2  Postcode_district_3  Postcode_district_4  \\\n",
       "1147280                    1                    0                    1   \n",
       "1147281                    0                    0                    1   \n",
       "\n",
       "         Postcode_district_5  Postcode_district_6  Postcode_district_7  \\\n",
       "1147280                    0                    0                    1   \n",
       "1147281                    0                    0                    1   \n",
       "\n",
       "         Postcode_district_8  Month_0  Month_1  Month_2  Month_3  DayOfWeek_0  \\\n",
       "1147280                    1        0        0        0        1            0   \n",
       "1147281                    0        0        0        0        1            0   \n",
       "\n",
       "         DayOfWeek_1  DayOfWeek_2  \n",
       "1147280            1            0  \n",
       "1147281            1            0  "
      ]
     },
     "metadata": {},
     "output_type": "display_data"
    },
    {
     "name": "stdout",
     "output_type": "stream",
     "text": [
      "(444247, 22)\n",
      "cible TravelTimeSeconds_mean\n",
      "[('AdaBoostRegressor', <class 'sklearn.ensemble._weight_boosting.AdaBoostRegressor'>), ('BaggingRegressor', <class 'sklearn.ensemble._bagging.BaggingRegressor'>), ('BayesianRidge', <class 'sklearn.linear_model._bayes.BayesianRidge'>), ('DecisionTreeRegressor', <class 'sklearn.tree._classes.DecisionTreeRegressor'>), ('DummyRegressor', <class 'sklearn.dummy.DummyRegressor'>), ('ElasticNet', <class 'sklearn.linear_model._coordinate_descent.ElasticNet'>), ('ElasticNetCV', <class 'sklearn.linear_model._coordinate_descent.ElasticNetCV'>), ('ExtraTreeRegressor', <class 'sklearn.tree._classes.ExtraTreeRegressor'>), ('GradientBoostingRegressor', <class 'sklearn.ensemble._gb.GradientBoostingRegressor'>), ('HistGradientBoostingRegressor', <class 'sklearn.ensemble._hist_gradient_boosting.gradient_boosting.HistGradientBoostingRegressor'>), ('HuberRegressor', <class 'sklearn.linear_model._huber.HuberRegressor'>), ('KNeighborsRegressor', <class 'sklearn.neighbors._regression.KNeighborsRegressor'>), ('Lars', <class 'sklearn.linear_model._least_angle.Lars'>), ('LarsCV', <class 'sklearn.linear_model._least_angle.LarsCV'>), ('Lasso', <class 'sklearn.linear_model._coordinate_descent.Lasso'>), ('LassoCV', <class 'sklearn.linear_model._coordinate_descent.LassoCV'>), ('LassoLars', <class 'sklearn.linear_model._least_angle.LassoLars'>), ('LassoLarsCV', <class 'sklearn.linear_model._least_angle.LassoLarsCV'>), ('LassoLarsIC', <class 'sklearn.linear_model._least_angle.LassoLarsIC'>), ('LinearRegression', <class 'sklearn.linear_model._base.LinearRegression'>), ('LinearSVR', <class 'sklearn.svm._classes.LinearSVR'>), ('MLPRegressor', <class 'sklearn.neural_network._multilayer_perceptron.MLPRegressor'>), ('OrthogonalMatchingPursuit', <class 'sklearn.linear_model._omp.OrthogonalMatchingPursuit'>), ('OrthogonalMatchingPursuitCV', <class 'sklearn.linear_model._omp.OrthogonalMatchingPursuitCV'>), ('PLSRegression', <class 'sklearn.cross_decomposition._pls.PLSRegression'>), ('PassiveAggressiveRegressor', <class 'sklearn.linear_model._passive_aggressive.PassiveAggressiveRegressor'>), ('PoissonRegressor', <class 'sklearn.linear_model._glm.glm.PoissonRegressor'>), ('RANSACRegressor', <class 'sklearn.linear_model._ransac.RANSACRegressor'>), ('RandomForestRegressor', <class 'sklearn.ensemble._forest.RandomForestRegressor'>), ('Ridge', <class 'sklearn.linear_model._ridge.Ridge'>), ('RidgeCV', <class 'sklearn.linear_model._ridge.RidgeCV'>), ('SGDRegressor', <class 'sklearn.linear_model._stochastic_gradient.SGDRegressor'>), ('TheilSenRegressor', <class 'sklearn.linear_model._theil_sen.TheilSenRegressor'>), ('TransformedTargetRegressor', <class 'sklearn.compose._target.TransformedTargetRegressor'>), ('VotingRegressor', <class 'sklearn.ensemble._voting.VotingRegressor'>)]\n",
      "'tuple' object has no attribute '__name__'\n",
      "Invalid Regressor(s)\n"
     ]
    },
    {
     "name": "stderr",
     "output_type": "stream",
     "text": [
      "  3%|▎         | 1/35 [00:10<05:48, 10.25s/it]"
     ]
    },
    {
     "name": "stdout",
     "output_type": "stream",
     "text": [
      "{'Model': 'AdaBoostRegressor', 'R-Squared': -0.13706815777533254, 'Adjusted R-Squared': -0.1373497782226185, 'RMSE': np.float64(143.5583110000657), 'Time taken': 10.254190921783447}\n"
     ]
    },
    {
     "name": "stderr",
     "output_type": "stream",
     "text": [
      "  6%|▌         | 2/35 [00:23<06:41, 12.16s/it]"
     ]
    },
    {
     "name": "stdout",
     "output_type": "stream",
     "text": [
      "{'Model': 'BaggingRegressor', 'R-Squared': -0.12653105653915664, 'Adjusted R-Squared': -0.1268100672368484, 'RMSE': np.float64(142.8915922712637), 'Time taken': 13.494449138641357}\n"
     ]
    },
    {
     "name": "stderr",
     "output_type": "stream",
     "text": [
      "  9%|▊         | 3/35 [00:24<03:46,  7.08s/it]"
     ]
    },
    {
     "name": "stdout",
     "output_type": "stream",
     "text": [
      "{'Model': 'BayesianRidge', 'R-Squared': 0.013327806406410847, 'Adjusted R-Squared': 0.013083434894831436, 'RMSE': np.float64(133.72774943953982), 'Time taken': 1.0347704887390137}\n"
     ]
    },
    {
     "name": "stderr",
     "output_type": "stream",
     "text": [
      " 11%|█▏        | 4/35 [00:27<02:40,  5.17s/it]"
     ]
    },
    {
     "name": "stdout",
     "output_type": "stream",
     "text": [
      "{'Model': 'DecisionTreeRegressor', 'R-Squared': -0.8432904149664138, 'Adjusted R-Squared': -0.843746947204689, 'RMSE': np.float64(182.78138911795193), 'Time taken': 2.2405242919921875}\n"
     ]
    },
    {
     "name": "stderr",
     "output_type": "stream",
     "text": [
      " 14%|█▍        | 5/35 [00:27<01:42,  3.41s/it]"
     ]
    },
    {
     "name": "stdout",
     "output_type": "stream",
     "text": [
      "{'Model': 'DummyRegressor', 'R-Squared': -8.56828541095922e-06, 'Adjusted R-Squared': -0.0002562428494770064, 'RMSE': np.float64(134.6284828773335), 'Time taken': 0.29282259941101074}\n"
     ]
    },
    {
     "name": "stderr",
     "output_type": "stream",
     "text": [
      " 17%|█▋        | 6/35 [00:27<01:10,  2.42s/it]"
     ]
    },
    {
     "name": "stdout",
     "output_type": "stream",
     "text": [
      "{'Model': 'ElasticNet', 'R-Squared': 0.009338054081781788, 'Adjusted R-Squared': 0.009092694418501357, 'RMSE': np.float64(133.99785045595354), 'Time taken': 0.5004911422729492}\n"
     ]
    },
    {
     "name": "stderr",
     "output_type": "stream",
     "text": [
      " 20%|██        | 7/35 [00:29<01:03,  2.25s/it]"
     ]
    },
    {
     "name": "stdout",
     "output_type": "stream",
     "text": [
      "{'Model': 'ElasticNetCV', 'R-Squared': 0.013325512247449933, 'Adjusted R-Squared': 0.01308114016767048, 'RMSE': np.float64(133.72790490785968), 'Time taken': 1.894300937652588}\n"
     ]
    },
    {
     "name": "stderr",
     "output_type": "stream",
     "text": [
      " 23%|██▎       | 8/35 [00:31<00:59,  2.21s/it]"
     ]
    },
    {
     "name": "stdout",
     "output_type": "stream",
     "text": [
      "{'Model': 'ExtraTreeRegressor', 'R-Squared': -0.8278733853946469, 'Adjusted R-Squared': -0.8283260992595607, 'RMSE': np.float64(182.01540480590586), 'Time taken': 2.137822151184082}\n"
     ]
    },
    {
     "name": "stderr",
     "output_type": "stream",
     "text": [
      " 26%|██▌       | 9/35 [01:08<05:33, 12.83s/it]"
     ]
    },
    {
     "name": "stdout",
     "output_type": "stream",
     "text": [
      "{'Model': 'GradientBoostingRegressor', 'R-Squared': 0.046878685376884555, 'Adjusted R-Squared': 0.04664262349342885, 'RMSE': np.float64(131.4344409066989), 'Time taken': 36.1697952747345}\n"
     ]
    },
    {
     "name": "stderr",
     "output_type": "stream",
     "text": [
      " 29%|██▊       | 10/35 [01:10<04:00,  9.63s/it]"
     ]
    },
    {
     "name": "stdout",
     "output_type": "stream",
     "text": [
      "{'Model': 'HistGradientBoostingRegressor', 'R-Squared': 0.09416154721038605, 'Adjusted R-Squared': 0.09393719598878247, 'RMSE': np.float64(128.13284451021914), 'Time taken': 2.465505599975586}\n"
     ]
    },
    {
     "name": "stderr",
     "output_type": "stream",
     "text": [
      " 31%|███▏      | 11/35 [01:11<02:50,  7.09s/it]"
     ]
    },
    {
     "name": "stdout",
     "output_type": "stream",
     "text": [
      "{'Model': 'HuberRegressor', 'R-Squared': 0.0003046327693331241, 'Adjusted R-Squared': 5.703577653715097e-05, 'RMSE': np.float64(134.60739851553205), 'Time taken': 1.3259599208831787}\n"
     ]
    },
    {
     "name": "stderr",
     "output_type": "stream",
     "text": [
      " 34%|███▍      | 12/35 [03:22<17:09, 44.77s/it]"
     ]
    },
    {
     "name": "stdout",
     "output_type": "stream",
     "text": [
      "{'Model': 'KNeighborsRegressor', 'R-Squared': -0.07479002955833014, 'Adjusted R-Squared': -0.07505622542952128, 'RMSE': np.float64(139.57155133371376), 'Time taken': 130.951589345932}\n"
     ]
    },
    {
     "name": "stderr",
     "output_type": "stream",
     "text": [
      " 37%|███▋      | 13/35 [03:23<11:28, 31.31s/it]"
     ]
    },
    {
     "name": "stdout",
     "output_type": "stream",
     "text": [
      "{'Model': 'Lars', 'R-Squared': 0.013329299062370237, 'Adjusted R-Squared': 0.013084927920480549, 'RMSE': np.float64(133.72764828659413), 'Time taken': 0.3500399589538574}\n"
     ]
    },
    {
     "name": "stderr",
     "output_type": "stream",
     "text": [
      " 40%|████      | 14/35 [03:24<07:47, 22.28s/it]"
     ]
    },
    {
     "name": "stdout",
     "output_type": "stream",
     "text": [
      "{'Model': 'LarsCV', 'R-Squared': 0.013329299062370237, 'Adjusted R-Squared': 0.013084927920480549, 'RMSE': np.float64(133.72764828659413), 'Time taken': 1.4001257419586182}\n"
     ]
    },
    {
     "name": "stderr",
     "output_type": "stream",
     "text": [
      " 43%|████▎     | 15/35 [03:25<05:14, 15.74s/it]"
     ]
    },
    {
     "name": "stdout",
     "output_type": "stream",
     "text": [
      "{'Model': 'Lasso', 'R-Squared': 0.011778808568376098, 'Adjusted R-Squared': 0.011534053412719514, 'RMSE': np.float64(133.83267930374208), 'Time taken': 0.5687837600708008}\n"
     ]
    },
    {
     "name": "stderr",
     "output_type": "stream",
     "text": [
      " 46%|████▌     | 16/35 [03:26<03:39, 11.56s/it]"
     ]
    },
    {
     "name": "stdout",
     "output_type": "stream",
     "text": [
      "{'Model': 'LassoCV', 'R-Squared': 0.013330147922376856, 'Adjusted R-Squared': 0.013085776990726439, 'RMSE': np.float64(133.72759076179042), 'Time taken': 1.847545862197876}\n"
     ]
    },
    {
     "name": "stderr",
     "output_type": "stream",
     "text": [
      " 49%|████▊     | 17/35 [03:27<02:27,  8.19s/it]"
     ]
    },
    {
     "name": "stdout",
     "output_type": "stream",
     "text": [
      "{'Model': 'LassoLars', 'R-Squared': 0.011778880363285449, 'Adjusted R-Squared': 0.01153412522541053, 'RMSE': np.float64(133.8326744422266), 'Time taken': 0.37293243408203125}\n"
     ]
    },
    {
     "name": "stderr",
     "output_type": "stream",
     "text": [
      " 51%|█████▏    | 18/35 [03:28<01:44,  6.15s/it]"
     ]
    },
    {
     "name": "stdout",
     "output_type": "stream",
     "text": [
      "{'Model': 'LassoLarsCV', 'R-Squared': 0.013329299062370237, 'Adjusted R-Squared': 0.013084927920480549, 'RMSE': np.float64(133.72764828659413), 'Time taken': 1.390455961227417}\n"
     ]
    },
    {
     "name": "stderr",
     "output_type": "stream",
     "text": [
      " 54%|█████▍    | 19/35 [03:29<01:12,  4.56s/it]"
     ]
    },
    {
     "name": "stdout",
     "output_type": "stream",
     "text": [
      "{'Model': 'LassoLarsIC', 'R-Squared': 0.013329299062370237, 'Adjusted R-Squared': 0.013084927920480549, 'RMSE': np.float64(133.72764828659413), 'Time taken': 0.838536262512207}\n"
     ]
    },
    {
     "name": "stderr",
     "output_type": "stream",
     "text": [
      " 57%|█████▋    | 20/35 [03:30<00:50,  3.38s/it]"
     ]
    },
    {
     "name": "stdout",
     "output_type": "stream",
     "text": [
      "{'Model': 'LinearRegression', 'R-Squared': 0.01332929906237057, 'Adjusted R-Squared': 0.013084927920480882, 'RMSE': np.float64(133.7276482865941), 'Time taken': 0.6443250179290771}\n"
     ]
    },
    {
     "name": "stderr",
     "output_type": "stream",
     "text": [
      " 60%|██████    | 21/35 [03:31<00:38,  2.78s/it]"
     ]
    },
    {
     "name": "stdout",
     "output_type": "stream",
     "text": [
      "{'Model': 'LinearSVR', 'R-Squared': -0.006360279347285225, 'Adjusted R-Squared': -0.006609527055140285, 'RMSE': np.float64(135.05536304976215), 'Time taken': 1.383850336074829}\n"
     ]
    },
    {
     "name": "stderr",
     "output_type": "stream",
     "text": [
      " 63%|██████▎   | 22/35 [08:48<21:01, 97.04s/it]"
     ]
    },
    {
     "name": "stdout",
     "output_type": "stream",
     "text": [
      "{'Model': 'MLPRegressor', 'R-Squared': 0.11081598047651775, 'Adjusted R-Squared': 0.1105957540990703, 'RMSE': np.float64(126.94947689372721), 'Time taken': 316.83947134017944}\n"
     ]
    },
    {
     "name": "stderr",
     "output_type": "stream",
     "text": [
      " 66%|██████▌   | 23/35 [08:48<13:36, 68.02s/it]"
     ]
    },
    {
     "name": "stdout",
     "output_type": "stream",
     "text": [
      "{'Model': 'OrthogonalMatchingPursuit', 'R-Squared': 0.0034368174543716323, 'Adjusted R-Squared': 0.003189996217405233, 'RMSE': np.float64(134.39636122901572), 'Time taken': 0.34688377380371094}\n"
     ]
    },
    {
     "name": "stderr",
     "output_type": "stream",
     "text": [
      " 69%|██████▊   | 24/35 [08:49<08:47, 47.97s/it]"
     ]
    },
    {
     "name": "stdout",
     "output_type": "stream",
     "text": [
      "{'Model': 'OrthogonalMatchingPursuitCV', 'R-Squared': 0.008546242904273638, 'Adjusted R-Squared': 0.00830068713118537, 'RMSE': np.float64(134.05139031568788), 'Time taken': 1.185312271118164}\n"
     ]
    },
    {
     "name": "stderr",
     "output_type": "stream",
     "text": [
      " 71%|███████▏  | 25/35 [08:50<05:37, 33.74s/it]"
     ]
    },
    {
     "name": "stdout",
     "output_type": "stream",
     "text": [
      "{'Model': 'PLSRegression', 'R-Squared': 0.012932140121959201, 'Adjusted R-Squared': 0.01268767061474485, 'RMSE': np.float64(133.7545598932182), 'Time taken': 0.5536727905273438}\n"
     ]
    },
    {
     "name": "stderr",
     "output_type": "stream",
     "text": [
      " 74%|███████▍  | 26/35 [08:51<03:34, 23.87s/it]"
     ]
    },
    {
     "name": "stdout",
     "output_type": "stream",
     "text": [
      "{'Model': 'PassiveAggressiveRegressor', 'R-Squared': -0.061255481434038694, 'Adjusted R-Squared': -0.06151832517064526, 'RMSE': np.float64(138.68997325448532), 'Time taken': 0.8252747058868408}\n"
     ]
    },
    {
     "name": "stderr",
     "output_type": "stream",
     "text": [
      " 77%|███████▋  | 27/35 [08:52<02:15, 17.00s/it]"
     ]
    },
    {
     "name": "stdout",
     "output_type": "stream",
     "text": [
      "{'Model': 'PoissonRegressor', 'R-Squared': 0.013079253470130281, 'Adjusted R-Squared': 0.01283482039883821, 'RMSE': np.float64(133.74459208088973), 'Time taken': 0.9660482406616211}\n"
     ]
    },
    {
     "name": "stderr",
     "output_type": "stream",
     "text": [
      " 80%|████████  | 28/35 [08:54<01:28, 12.61s/it]"
     ]
    },
    {
     "name": "stdout",
     "output_type": "stream",
     "text": [
      "{'Model': 'RANSACRegressor', 'R-Squared': -0.43676719299132727, 'Adjusted R-Squared': -0.43712304063051155, 'RMSE': np.float64(161.37204125935082), 'Time taken': 2.3742668628692627}\n"
     ]
    },
    {
     "name": "stderr",
     "output_type": "stream",
     "text": [
      " 83%|████████▎ | 29/35 [11:04<04:46, 47.79s/it]"
     ]
    },
    {
     "name": "stdout",
     "output_type": "stream",
     "text": [
      "{'Model': 'RandomForestRegressor', 'R-Squared': -0.052076797638889616, 'Adjusted R-Squared': -0.052337368068466894, 'RMSE': np.float64(138.088913523184), 'Time taken': 129.85652613639832}\n"
     ]
    },
    {
     "name": "stderr",
     "output_type": "stream",
     "text": [
      " 86%|████████▌ | 30/35 [11:04<02:47, 33.55s/it]"
     ]
    },
    {
     "name": "stdout",
     "output_type": "stream",
     "text": [
      "{'Model': 'Ridge', 'R-Squared': 0.013329297797645245, 'Adjusted R-Squared': 0.013084926655442253, 'RMSE': np.float64(133.72764837230088), 'Time taken': 0.33574962615966797}\n"
     ]
    },
    {
     "name": "stderr",
     "output_type": "stream",
     "text": [
      " 89%|████████▊ | 31/35 [11:06<01:35, 23.86s/it]"
     ]
    },
    {
     "name": "stdout",
     "output_type": "stream",
     "text": [
      "{'Model': 'RidgeCV', 'R-Squared': 0.013329286377982252, 'Adjusted R-Squared': 0.013084915232950967, 'RMSE': np.float64(133.72764914617846), 'Time taken': 1.2338566780090332}\n"
     ]
    },
    {
     "name": "stderr",
     "output_type": "stream",
     "text": [
      " 91%|█████████▏| 32/35 [11:08<00:52, 17.45s/it]"
     ]
    },
    {
     "name": "stdout",
     "output_type": "stream",
     "text": [
      "{'Model': 'SGDRegressor', 'R-Squared': 0.011497231465150248, 'Adjusted R-Squared': 0.011252406570605, 'RMSE': np.float64(133.85174463774445), 'Time taken': 2.498288869857788}\n"
     ]
    },
    {
     "name": "stderr",
     "output_type": "stream",
     "text": [
      " 94%|█████████▍| 33/35 [12:37<01:17, 38.85s/it]"
     ]
    },
    {
     "name": "stdout",
     "output_type": "stream",
     "text": [
      "{'Model': 'TheilSenRegressor', 'R-Squared': -0.043864914143246336, 'Adjusted R-Squared': -0.04412345071558543, 'RMSE': np.float64(137.5489379605774), 'Time taken': 88.77251434326172}\n"
     ]
    },
    {
     "name": "stderr",
     "output_type": "stream",
     "text": [
      "100%|██████████| 35/35 [12:38<00:00, 21.66s/it]"
     ]
    },
    {
     "name": "stdout",
     "output_type": "stream",
     "text": [
      "{'Model': 'TransformedTargetRegressor', 'R-Squared': 0.01332929906237057, 'Adjusted R-Squared': 0.013084927920480882, 'RMSE': np.float64(133.7276482865941), 'Time taken': 0.8184373378753662}\n",
      "VotingRegressor model failed to execute\n",
      "VotingRegressor.__init__() missing 1 required positional argument: 'estimators'\n"
     ]
    },
    {
     "name": "stderr",
     "output_type": "stream",
     "text": [
      "\n"
     ]
    },
    {
     "data": {
      "text/html": [
       "<div>\n",
       "<style scoped>\n",
       "    .dataframe tbody tr th:only-of-type {\n",
       "        vertical-align: middle;\n",
       "    }\n",
       "\n",
       "    .dataframe tbody tr th {\n",
       "        vertical-align: top;\n",
       "    }\n",
       "\n",
       "    .dataframe thead th {\n",
       "        text-align: right;\n",
       "    }\n",
       "</style>\n",
       "<table border=\"1\" class=\"dataframe\">\n",
       "  <thead>\n",
       "    <tr style=\"text-align: right;\">\n",
       "      <th></th>\n",
       "      <th>Adjusted R-Squared</th>\n",
       "      <th>R-Squared</th>\n",
       "      <th>RMSE</th>\n",
       "      <th>Time Taken</th>\n",
       "      <th>Target</th>\n",
       "      <th>Year floor</th>\n",
       "    </tr>\n",
       "    <tr>\n",
       "      <th>Model</th>\n",
       "      <th></th>\n",
       "      <th></th>\n",
       "      <th></th>\n",
       "      <th></th>\n",
       "      <th></th>\n",
       "      <th></th>\n",
       "    </tr>\n",
       "  </thead>\n",
       "  <tbody>\n",
       "    <tr>\n",
       "      <th>MLPRegressor</th>\n",
       "      <td>0.11</td>\n",
       "      <td>0.11</td>\n",
       "      <td>126.95</td>\n",
       "      <td>316.84</td>\n",
       "      <td>TravelTimeSeconds_mean</td>\n",
       "      <td>2021</td>\n",
       "    </tr>\n",
       "    <tr>\n",
       "      <th>HistGradientBoostingRegressor</th>\n",
       "      <td>0.09</td>\n",
       "      <td>0.09</td>\n",
       "      <td>128.13</td>\n",
       "      <td>2.47</td>\n",
       "      <td>TravelTimeSeconds_mean</td>\n",
       "      <td>2021</td>\n",
       "    </tr>\n",
       "    <tr>\n",
       "      <th>GradientBoostingRegressor</th>\n",
       "      <td>0.05</td>\n",
       "      <td>0.05</td>\n",
       "      <td>131.43</td>\n",
       "      <td>36.17</td>\n",
       "      <td>TravelTimeSeconds_mean</td>\n",
       "      <td>2021</td>\n",
       "    </tr>\n",
       "    <tr>\n",
       "      <th>LassoCV</th>\n",
       "      <td>0.01</td>\n",
       "      <td>0.01</td>\n",
       "      <td>133.73</td>\n",
       "      <td>1.85</td>\n",
       "      <td>TravelTimeSeconds_mean</td>\n",
       "      <td>2021</td>\n",
       "    </tr>\n",
       "    <tr>\n",
       "      <th>LinearRegression</th>\n",
       "      <td>0.01</td>\n",
       "      <td>0.01</td>\n",
       "      <td>133.73</td>\n",
       "      <td>0.64</td>\n",
       "      <td>TravelTimeSeconds_mean</td>\n",
       "      <td>2021</td>\n",
       "    </tr>\n",
       "    <tr>\n",
       "      <th>TransformedTargetRegressor</th>\n",
       "      <td>0.01</td>\n",
       "      <td>0.01</td>\n",
       "      <td>133.73</td>\n",
       "      <td>0.82</td>\n",
       "      <td>TravelTimeSeconds_mean</td>\n",
       "      <td>2021</td>\n",
       "    </tr>\n",
       "    <tr>\n",
       "      <th>LassoLarsIC</th>\n",
       "      <td>0.01</td>\n",
       "      <td>0.01</td>\n",
       "      <td>133.73</td>\n",
       "      <td>0.84</td>\n",
       "      <td>TravelTimeSeconds_mean</td>\n",
       "      <td>2021</td>\n",
       "    </tr>\n",
       "    <tr>\n",
       "      <th>LassoLarsCV</th>\n",
       "      <td>0.01</td>\n",
       "      <td>0.01</td>\n",
       "      <td>133.73</td>\n",
       "      <td>1.39</td>\n",
       "      <td>TravelTimeSeconds_mean</td>\n",
       "      <td>2021</td>\n",
       "    </tr>\n",
       "    <tr>\n",
       "      <th>Lars</th>\n",
       "      <td>0.01</td>\n",
       "      <td>0.01</td>\n",
       "      <td>133.73</td>\n",
       "      <td>0.35</td>\n",
       "      <td>TravelTimeSeconds_mean</td>\n",
       "      <td>2021</td>\n",
       "    </tr>\n",
       "    <tr>\n",
       "      <th>LarsCV</th>\n",
       "      <td>0.01</td>\n",
       "      <td>0.01</td>\n",
       "      <td>133.73</td>\n",
       "      <td>1.40</td>\n",
       "      <td>TravelTimeSeconds_mean</td>\n",
       "      <td>2021</td>\n",
       "    </tr>\n",
       "    <tr>\n",
       "      <th>Ridge</th>\n",
       "      <td>0.01</td>\n",
       "      <td>0.01</td>\n",
       "      <td>133.73</td>\n",
       "      <td>0.34</td>\n",
       "      <td>TravelTimeSeconds_mean</td>\n",
       "      <td>2021</td>\n",
       "    </tr>\n",
       "    <tr>\n",
       "      <th>RidgeCV</th>\n",
       "      <td>0.01</td>\n",
       "      <td>0.01</td>\n",
       "      <td>133.73</td>\n",
       "      <td>1.23</td>\n",
       "      <td>TravelTimeSeconds_mean</td>\n",
       "      <td>2021</td>\n",
       "    </tr>\n",
       "    <tr>\n",
       "      <th>BayesianRidge</th>\n",
       "      <td>0.01</td>\n",
       "      <td>0.01</td>\n",
       "      <td>133.73</td>\n",
       "      <td>1.03</td>\n",
       "      <td>TravelTimeSeconds_mean</td>\n",
       "      <td>2021</td>\n",
       "    </tr>\n",
       "    <tr>\n",
       "      <th>ElasticNetCV</th>\n",
       "      <td>0.01</td>\n",
       "      <td>0.01</td>\n",
       "      <td>133.73</td>\n",
       "      <td>1.89</td>\n",
       "      <td>TravelTimeSeconds_mean</td>\n",
       "      <td>2021</td>\n",
       "    </tr>\n",
       "    <tr>\n",
       "      <th>PoissonRegressor</th>\n",
       "      <td>0.01</td>\n",
       "      <td>0.01</td>\n",
       "      <td>133.74</td>\n",
       "      <td>0.97</td>\n",
       "      <td>TravelTimeSeconds_mean</td>\n",
       "      <td>2021</td>\n",
       "    </tr>\n",
       "    <tr>\n",
       "      <th>PLSRegression</th>\n",
       "      <td>0.01</td>\n",
       "      <td>0.01</td>\n",
       "      <td>133.75</td>\n",
       "      <td>0.55</td>\n",
       "      <td>TravelTimeSeconds_mean</td>\n",
       "      <td>2021</td>\n",
       "    </tr>\n",
       "    <tr>\n",
       "      <th>LassoLars</th>\n",
       "      <td>0.01</td>\n",
       "      <td>0.01</td>\n",
       "      <td>133.83</td>\n",
       "      <td>0.37</td>\n",
       "      <td>TravelTimeSeconds_mean</td>\n",
       "      <td>2021</td>\n",
       "    </tr>\n",
       "    <tr>\n",
       "      <th>Lasso</th>\n",
       "      <td>0.01</td>\n",
       "      <td>0.01</td>\n",
       "      <td>133.83</td>\n",
       "      <td>0.57</td>\n",
       "      <td>TravelTimeSeconds_mean</td>\n",
       "      <td>2021</td>\n",
       "    </tr>\n",
       "    <tr>\n",
       "      <th>SGDRegressor</th>\n",
       "      <td>0.01</td>\n",
       "      <td>0.01</td>\n",
       "      <td>133.85</td>\n",
       "      <td>2.50</td>\n",
       "      <td>TravelTimeSeconds_mean</td>\n",
       "      <td>2021</td>\n",
       "    </tr>\n",
       "    <tr>\n",
       "      <th>ElasticNet</th>\n",
       "      <td>0.01</td>\n",
       "      <td>0.01</td>\n",
       "      <td>134.00</td>\n",
       "      <td>0.50</td>\n",
       "      <td>TravelTimeSeconds_mean</td>\n",
       "      <td>2021</td>\n",
       "    </tr>\n",
       "    <tr>\n",
       "      <th>OrthogonalMatchingPursuitCV</th>\n",
       "      <td>0.01</td>\n",
       "      <td>0.01</td>\n",
       "      <td>134.05</td>\n",
       "      <td>1.19</td>\n",
       "      <td>TravelTimeSeconds_mean</td>\n",
       "      <td>2021</td>\n",
       "    </tr>\n",
       "    <tr>\n",
       "      <th>OrthogonalMatchingPursuit</th>\n",
       "      <td>0.00</td>\n",
       "      <td>0.00</td>\n",
       "      <td>134.40</td>\n",
       "      <td>0.35</td>\n",
       "      <td>TravelTimeSeconds_mean</td>\n",
       "      <td>2021</td>\n",
       "    </tr>\n",
       "    <tr>\n",
       "      <th>HuberRegressor</th>\n",
       "      <td>0.00</td>\n",
       "      <td>0.00</td>\n",
       "      <td>134.61</td>\n",
       "      <td>1.33</td>\n",
       "      <td>TravelTimeSeconds_mean</td>\n",
       "      <td>2021</td>\n",
       "    </tr>\n",
       "    <tr>\n",
       "      <th>DummyRegressor</th>\n",
       "      <td>-0.00</td>\n",
       "      <td>-0.00</td>\n",
       "      <td>134.63</td>\n",
       "      <td>0.29</td>\n",
       "      <td>TravelTimeSeconds_mean</td>\n",
       "      <td>2021</td>\n",
       "    </tr>\n",
       "    <tr>\n",
       "      <th>LinearSVR</th>\n",
       "      <td>-0.01</td>\n",
       "      <td>-0.01</td>\n",
       "      <td>135.06</td>\n",
       "      <td>1.38</td>\n",
       "      <td>TravelTimeSeconds_mean</td>\n",
       "      <td>2021</td>\n",
       "    </tr>\n",
       "    <tr>\n",
       "      <th>TheilSenRegressor</th>\n",
       "      <td>-0.04</td>\n",
       "      <td>-0.04</td>\n",
       "      <td>137.55</td>\n",
       "      <td>88.77</td>\n",
       "      <td>TravelTimeSeconds_mean</td>\n",
       "      <td>2021</td>\n",
       "    </tr>\n",
       "    <tr>\n",
       "      <th>RandomForestRegressor</th>\n",
       "      <td>-0.05</td>\n",
       "      <td>-0.05</td>\n",
       "      <td>138.09</td>\n",
       "      <td>129.86</td>\n",
       "      <td>TravelTimeSeconds_mean</td>\n",
       "      <td>2021</td>\n",
       "    </tr>\n",
       "    <tr>\n",
       "      <th>PassiveAggressiveRegressor</th>\n",
       "      <td>-0.06</td>\n",
       "      <td>-0.06</td>\n",
       "      <td>138.69</td>\n",
       "      <td>0.83</td>\n",
       "      <td>TravelTimeSeconds_mean</td>\n",
       "      <td>2021</td>\n",
       "    </tr>\n",
       "    <tr>\n",
       "      <th>KNeighborsRegressor</th>\n",
       "      <td>-0.08</td>\n",
       "      <td>-0.07</td>\n",
       "      <td>139.57</td>\n",
       "      <td>130.95</td>\n",
       "      <td>TravelTimeSeconds_mean</td>\n",
       "      <td>2021</td>\n",
       "    </tr>\n",
       "    <tr>\n",
       "      <th>BaggingRegressor</th>\n",
       "      <td>-0.13</td>\n",
       "      <td>-0.13</td>\n",
       "      <td>142.89</td>\n",
       "      <td>13.49</td>\n",
       "      <td>TravelTimeSeconds_mean</td>\n",
       "      <td>2021</td>\n",
       "    </tr>\n",
       "    <tr>\n",
       "      <th>AdaBoostRegressor</th>\n",
       "      <td>-0.14</td>\n",
       "      <td>-0.14</td>\n",
       "      <td>143.56</td>\n",
       "      <td>10.25</td>\n",
       "      <td>TravelTimeSeconds_mean</td>\n",
       "      <td>2021</td>\n",
       "    </tr>\n",
       "    <tr>\n",
       "      <th>RANSACRegressor</th>\n",
       "      <td>-0.44</td>\n",
       "      <td>-0.44</td>\n",
       "      <td>161.37</td>\n",
       "      <td>2.37</td>\n",
       "      <td>TravelTimeSeconds_mean</td>\n",
       "      <td>2021</td>\n",
       "    </tr>\n",
       "    <tr>\n",
       "      <th>ExtraTreeRegressor</th>\n",
       "      <td>-0.83</td>\n",
       "      <td>-0.83</td>\n",
       "      <td>182.02</td>\n",
       "      <td>2.14</td>\n",
       "      <td>TravelTimeSeconds_mean</td>\n",
       "      <td>2021</td>\n",
       "    </tr>\n",
       "    <tr>\n",
       "      <th>DecisionTreeRegressor</th>\n",
       "      <td>-0.84</td>\n",
       "      <td>-0.84</td>\n",
       "      <td>182.78</td>\n",
       "      <td>2.24</td>\n",
       "      <td>TravelTimeSeconds_mean</td>\n",
       "      <td>2021</td>\n",
       "    </tr>\n",
       "  </tbody>\n",
       "</table>\n",
       "</div>"
      ],
      "text/plain": [
       "                               Adjusted R-Squared  R-Squared   RMSE  \\\n",
       "Model                                                                 \n",
       "MLPRegressor                                 0.11       0.11 126.95   \n",
       "HistGradientBoostingRegressor                0.09       0.09 128.13   \n",
       "GradientBoostingRegressor                    0.05       0.05 131.43   \n",
       "LassoCV                                      0.01       0.01 133.73   \n",
       "LinearRegression                             0.01       0.01 133.73   \n",
       "TransformedTargetRegressor                   0.01       0.01 133.73   \n",
       "LassoLarsIC                                  0.01       0.01 133.73   \n",
       "LassoLarsCV                                  0.01       0.01 133.73   \n",
       "Lars                                         0.01       0.01 133.73   \n",
       "LarsCV                                       0.01       0.01 133.73   \n",
       "Ridge                                        0.01       0.01 133.73   \n",
       "RidgeCV                                      0.01       0.01 133.73   \n",
       "BayesianRidge                                0.01       0.01 133.73   \n",
       "ElasticNetCV                                 0.01       0.01 133.73   \n",
       "PoissonRegressor                             0.01       0.01 133.74   \n",
       "PLSRegression                                0.01       0.01 133.75   \n",
       "LassoLars                                    0.01       0.01 133.83   \n",
       "Lasso                                        0.01       0.01 133.83   \n",
       "SGDRegressor                                 0.01       0.01 133.85   \n",
       "ElasticNet                                   0.01       0.01 134.00   \n",
       "OrthogonalMatchingPursuitCV                  0.01       0.01 134.05   \n",
       "OrthogonalMatchingPursuit                    0.00       0.00 134.40   \n",
       "HuberRegressor                               0.00       0.00 134.61   \n",
       "DummyRegressor                              -0.00      -0.00 134.63   \n",
       "LinearSVR                                   -0.01      -0.01 135.06   \n",
       "TheilSenRegressor                           -0.04      -0.04 137.55   \n",
       "RandomForestRegressor                       -0.05      -0.05 138.09   \n",
       "PassiveAggressiveRegressor                  -0.06      -0.06 138.69   \n",
       "KNeighborsRegressor                         -0.08      -0.07 139.57   \n",
       "BaggingRegressor                            -0.13      -0.13 142.89   \n",
       "AdaBoostRegressor                           -0.14      -0.14 143.56   \n",
       "RANSACRegressor                             -0.44      -0.44 161.37   \n",
       "ExtraTreeRegressor                          -0.83      -0.83 182.02   \n",
       "DecisionTreeRegressor                       -0.84      -0.84 182.78   \n",
       "\n",
       "                               Time Taken                  Target  Year floor  \n",
       "Model                                                                          \n",
       "MLPRegressor                       316.84  TravelTimeSeconds_mean        2021  \n",
       "HistGradientBoostingRegressor        2.47  TravelTimeSeconds_mean        2021  \n",
       "GradientBoostingRegressor           36.17  TravelTimeSeconds_mean        2021  \n",
       "LassoCV                              1.85  TravelTimeSeconds_mean        2021  \n",
       "LinearRegression                     0.64  TravelTimeSeconds_mean        2021  \n",
       "TransformedTargetRegressor           0.82  TravelTimeSeconds_mean        2021  \n",
       "LassoLarsIC                          0.84  TravelTimeSeconds_mean        2021  \n",
       "LassoLarsCV                          1.39  TravelTimeSeconds_mean        2021  \n",
       "Lars                                 0.35  TravelTimeSeconds_mean        2021  \n",
       "LarsCV                               1.40  TravelTimeSeconds_mean        2021  \n",
       "Ridge                                0.34  TravelTimeSeconds_mean        2021  \n",
       "RidgeCV                              1.23  TravelTimeSeconds_mean        2021  \n",
       "BayesianRidge                        1.03  TravelTimeSeconds_mean        2021  \n",
       "ElasticNetCV                         1.89  TravelTimeSeconds_mean        2021  \n",
       "PoissonRegressor                     0.97  TravelTimeSeconds_mean        2021  \n",
       "PLSRegression                        0.55  TravelTimeSeconds_mean        2021  \n",
       "LassoLars                            0.37  TravelTimeSeconds_mean        2021  \n",
       "Lasso                                0.57  TravelTimeSeconds_mean        2021  \n",
       "SGDRegressor                         2.50  TravelTimeSeconds_mean        2021  \n",
       "ElasticNet                           0.50  TravelTimeSeconds_mean        2021  \n",
       "OrthogonalMatchingPursuitCV          1.19  TravelTimeSeconds_mean        2021  \n",
       "OrthogonalMatchingPursuit            0.35  TravelTimeSeconds_mean        2021  \n",
       "HuberRegressor                       1.33  TravelTimeSeconds_mean        2021  \n",
       "DummyRegressor                       0.29  TravelTimeSeconds_mean        2021  \n",
       "LinearSVR                            1.38  TravelTimeSeconds_mean        2021  \n",
       "TheilSenRegressor                   88.77  TravelTimeSeconds_mean        2021  \n",
       "RandomForestRegressor              129.86  TravelTimeSeconds_mean        2021  \n",
       "PassiveAggressiveRegressor           0.83  TravelTimeSeconds_mean        2021  \n",
       "KNeighborsRegressor                130.95  TravelTimeSeconds_mean        2021  \n",
       "BaggingRegressor                    13.49  TravelTimeSeconds_mean        2021  \n",
       "AdaBoostRegressor                   10.25  TravelTimeSeconds_mean        2021  \n",
       "RANSACRegressor                      2.37  TravelTimeSeconds_mean        2021  \n",
       "ExtraTreeRegressor                   2.14  TravelTimeSeconds_mean        2021  \n",
       "DecisionTreeRegressor                2.24  TravelTimeSeconds_mean        2021  "
      ]
     },
     "metadata": {},
     "output_type": "display_data"
    },
    {
     "name": "stdout",
     "output_type": "stream",
     "text": [
      "-----------------------------------------------------\n",
      "year 2022\n",
      "-----------------------------------------------------\n",
      "(342634, 45)\n",
      "cols_to_remove ['TurnoutTimeSeconds_min', 'TurnoutTimeSeconds_mean', 'TurnoutTimeSeconds_max', 'TravelTimeSeconds_min', 'TravelTimeSeconds_mean', 'TravelTimeSeconds_max', 'PumpSecondsOnSite_min', 'PumpSecondsOnSite_mean', 'PumpSecondsOnSite_max', 'NumPumpsAttending']\n",
      "cols_to_keep ['CalYear', 'HourOfCall_0', 'HourOfCall_1', 'HourOfCall_2', 'HourOfCall_3', 'HourOfCall_4', 'Postcode_district_0', 'Postcode_district_1', 'Postcode_district_2', 'Postcode_district_3', 'Postcode_district_4', 'Postcode_district_5', 'Postcode_district_6', 'Postcode_district_7', 'Postcode_district_8', 'Month_0', 'Month_1', 'Month_2', 'Month_3', 'DayOfWeek_0', 'DayOfWeek_1', 'DayOfWeek_2']\n"
     ]
    },
    {
     "data": {
      "text/html": [
       "<div>\n",
       "<style scoped>\n",
       "    .dataframe tbody tr th:only-of-type {\n",
       "        vertical-align: middle;\n",
       "    }\n",
       "\n",
       "    .dataframe tbody tr th {\n",
       "        vertical-align: top;\n",
       "    }\n",
       "\n",
       "    .dataframe thead th {\n",
       "        text-align: right;\n",
       "    }\n",
       "</style>\n",
       "<table border=\"1\" class=\"dataframe\">\n",
       "  <thead>\n",
       "    <tr style=\"text-align: right;\">\n",
       "      <th></th>\n",
       "      <th>CalYear</th>\n",
       "      <th>HourOfCall_0</th>\n",
       "      <th>HourOfCall_1</th>\n",
       "      <th>HourOfCall_2</th>\n",
       "      <th>HourOfCall_3</th>\n",
       "      <th>HourOfCall_4</th>\n",
       "      <th>Postcode_district_0</th>\n",
       "      <th>Postcode_district_1</th>\n",
       "      <th>Postcode_district_2</th>\n",
       "      <th>Postcode_district_3</th>\n",
       "      <th>Postcode_district_4</th>\n",
       "      <th>Postcode_district_5</th>\n",
       "      <th>Postcode_district_6</th>\n",
       "      <th>Postcode_district_7</th>\n",
       "      <th>Postcode_district_8</th>\n",
       "      <th>Month_0</th>\n",
       "      <th>Month_1</th>\n",
       "      <th>Month_2</th>\n",
       "      <th>Month_3</th>\n",
       "      <th>DayOfWeek_0</th>\n",
       "      <th>DayOfWeek_1</th>\n",
       "      <th>DayOfWeek_2</th>\n",
       "    </tr>\n",
       "  </thead>\n",
       "  <tbody>\n",
       "    <tr>\n",
       "      <th>1248893</th>\n",
       "      <td>14</td>\n",
       "      <td>0</td>\n",
       "      <td>0</td>\n",
       "      <td>0</td>\n",
       "      <td>0</td>\n",
       "      <td>1</td>\n",
       "      <td>0</td>\n",
       "      <td>1</td>\n",
       "      <td>0</td>\n",
       "      <td>0</td>\n",
       "      <td>0</td>\n",
       "      <td>0</td>\n",
       "      <td>0</td>\n",
       "      <td>0</td>\n",
       "      <td>0</td>\n",
       "      <td>0</td>\n",
       "      <td>0</td>\n",
       "      <td>0</td>\n",
       "      <td>1</td>\n",
       "      <td>0</td>\n",
       "      <td>1</td>\n",
       "      <td>1</td>\n",
       "    </tr>\n",
       "    <tr>\n",
       "      <th>1248894</th>\n",
       "      <td>14</td>\n",
       "      <td>0</td>\n",
       "      <td>0</td>\n",
       "      <td>0</td>\n",
       "      <td>0</td>\n",
       "      <td>1</td>\n",
       "      <td>0</td>\n",
       "      <td>1</td>\n",
       "      <td>0</td>\n",
       "      <td>0</td>\n",
       "      <td>0</td>\n",
       "      <td>1</td>\n",
       "      <td>1</td>\n",
       "      <td>0</td>\n",
       "      <td>0</td>\n",
       "      <td>0</td>\n",
       "      <td>0</td>\n",
       "      <td>0</td>\n",
       "      <td>1</td>\n",
       "      <td>0</td>\n",
       "      <td>1</td>\n",
       "      <td>1</td>\n",
       "    </tr>\n",
       "  </tbody>\n",
       "</table>\n",
       "</div>"
      ],
      "text/plain": [
       "         CalYear  HourOfCall_0  HourOfCall_1  HourOfCall_2  HourOfCall_3  \\\n",
       "1248893       14             0             0             0             0   \n",
       "1248894       14             0             0             0             0   \n",
       "\n",
       "         HourOfCall_4  Postcode_district_0  Postcode_district_1  \\\n",
       "1248893             1                    0                    1   \n",
       "1248894             1                    0                    1   \n",
       "\n",
       "         Postcode_district_2  Postcode_district_3  Postcode_district_4  \\\n",
       "1248893                    0                    0                    0   \n",
       "1248894                    0                    0                    0   \n",
       "\n",
       "         Postcode_district_5  Postcode_district_6  Postcode_district_7  \\\n",
       "1248893                    0                    0                    0   \n",
       "1248894                    1                    1                    0   \n",
       "\n",
       "         Postcode_district_8  Month_0  Month_1  Month_2  Month_3  DayOfWeek_0  \\\n",
       "1248893                    0        0        0        0        1            0   \n",
       "1248894                    0        0        0        0        1            0   \n",
       "\n",
       "         DayOfWeek_1  DayOfWeek_2  \n",
       "1248893            1            1  \n",
       "1248894            1            1  "
      ]
     },
     "metadata": {},
     "output_type": "display_data"
    },
    {
     "name": "stdout",
     "output_type": "stream",
     "text": [
      "(342634, 22)\n",
      "cible TravelTimeSeconds_mean\n",
      "[('AdaBoostRegressor', <class 'sklearn.ensemble._weight_boosting.AdaBoostRegressor'>), ('BaggingRegressor', <class 'sklearn.ensemble._bagging.BaggingRegressor'>), ('BayesianRidge', <class 'sklearn.linear_model._bayes.BayesianRidge'>), ('DecisionTreeRegressor', <class 'sklearn.tree._classes.DecisionTreeRegressor'>), ('DummyRegressor', <class 'sklearn.dummy.DummyRegressor'>), ('ElasticNet', <class 'sklearn.linear_model._coordinate_descent.ElasticNet'>), ('ElasticNetCV', <class 'sklearn.linear_model._coordinate_descent.ElasticNetCV'>), ('ExtraTreeRegressor', <class 'sklearn.tree._classes.ExtraTreeRegressor'>), ('GradientBoostingRegressor', <class 'sklearn.ensemble._gb.GradientBoostingRegressor'>), ('HistGradientBoostingRegressor', <class 'sklearn.ensemble._hist_gradient_boosting.gradient_boosting.HistGradientBoostingRegressor'>), ('HuberRegressor', <class 'sklearn.linear_model._huber.HuberRegressor'>), ('KNeighborsRegressor', <class 'sklearn.neighbors._regression.KNeighborsRegressor'>), ('Lars', <class 'sklearn.linear_model._least_angle.Lars'>), ('LarsCV', <class 'sklearn.linear_model._least_angle.LarsCV'>), ('Lasso', <class 'sklearn.linear_model._coordinate_descent.Lasso'>), ('LassoCV', <class 'sklearn.linear_model._coordinate_descent.LassoCV'>), ('LassoLars', <class 'sklearn.linear_model._least_angle.LassoLars'>), ('LassoLarsCV', <class 'sklearn.linear_model._least_angle.LassoLarsCV'>), ('LassoLarsIC', <class 'sklearn.linear_model._least_angle.LassoLarsIC'>), ('LinearRegression', <class 'sklearn.linear_model._base.LinearRegression'>), ('LinearSVR', <class 'sklearn.svm._classes.LinearSVR'>), ('MLPRegressor', <class 'sklearn.neural_network._multilayer_perceptron.MLPRegressor'>), ('OrthogonalMatchingPursuit', <class 'sklearn.linear_model._omp.OrthogonalMatchingPursuit'>), ('OrthogonalMatchingPursuitCV', <class 'sklearn.linear_model._omp.OrthogonalMatchingPursuitCV'>), ('PLSRegression', <class 'sklearn.cross_decomposition._pls.PLSRegression'>), ('PassiveAggressiveRegressor', <class 'sklearn.linear_model._passive_aggressive.PassiveAggressiveRegressor'>), ('PoissonRegressor', <class 'sklearn.linear_model._glm.glm.PoissonRegressor'>), ('RANSACRegressor', <class 'sklearn.linear_model._ransac.RANSACRegressor'>), ('RandomForestRegressor', <class 'sklearn.ensemble._forest.RandomForestRegressor'>), ('Ridge', <class 'sklearn.linear_model._ridge.Ridge'>), ('RidgeCV', <class 'sklearn.linear_model._ridge.RidgeCV'>), ('SGDRegressor', <class 'sklearn.linear_model._stochastic_gradient.SGDRegressor'>), ('TheilSenRegressor', <class 'sklearn.linear_model._theil_sen.TheilSenRegressor'>), ('TransformedTargetRegressor', <class 'sklearn.compose._target.TransformedTargetRegressor'>), ('VotingRegressor', <class 'sklearn.ensemble._voting.VotingRegressor'>)]\n",
      "'tuple' object has no attribute '__name__'\n",
      "Invalid Regressor(s)\n"
     ]
    },
    {
     "name": "stderr",
     "output_type": "stream",
     "text": [
      "  3%|▎         | 1/35 [00:05<03:21,  5.93s/it]"
     ]
    },
    {
     "name": "stdout",
     "output_type": "stream",
     "text": [
      "{'Model': 'AdaBoostRegressor', 'R-Squared': -0.09976261123865893, 'Adjusted R-Squared': -0.10011579904444035, 'RMSE': np.float64(142.1572342908685), 'Time taken': 5.930860996246338}\n"
     ]
    },
    {
     "name": "stderr",
     "output_type": "stream",
     "text": [
      "  6%|▌         | 2/35 [00:15<04:33,  8.29s/it]"
     ]
    },
    {
     "name": "stdout",
     "output_type": "stream",
     "text": [
      "{'Model': 'BaggingRegressor', 'R-Squared': -0.12746346109395645, 'Adjusted R-Squared': -0.12782554500356835, 'RMSE': np.float64(143.9364304513902), 'Time taken': 9.940322637557983}\n"
     ]
    },
    {
     "name": "stderr",
     "output_type": "stream",
     "text": [
      "  9%|▊         | 3/35 [00:16<02:35,  4.86s/it]"
     ]
    },
    {
     "name": "stdout",
     "output_type": "stream",
     "text": [
      "{'Model': 'BayesianRidge', 'R-Squared': 0.01295450042652746, 'Adjusted R-Squared': 0.012637511623091013, 'RMSE': np.float64(134.67533871285048), 'Time taken': 0.7800443172454834}\n"
     ]
    },
    {
     "name": "stderr",
     "output_type": "stream",
     "text": [
      " 11%|█▏        | 4/35 [00:18<01:50,  3.58s/it]"
     ]
    },
    {
     "name": "stdout",
     "output_type": "stream",
     "text": [
      "{'Model': 'DecisionTreeRegressor', 'R-Squared': -0.8337291336508552, 'Adjusted R-Squared': -0.834318034166742, 'RMSE': np.float64(183.56381820291446), 'Time taken': 1.603163480758667}\n"
     ]
    },
    {
     "name": "stderr",
     "output_type": "stream",
     "text": [
      " 14%|█▍        | 5/35 [00:18<01:10,  2.36s/it]"
     ]
    },
    {
     "name": "stdout",
     "output_type": "stream",
     "text": [
      "{'Model': 'DummyRegressor', 'R-Squared': -4.352980250033056e-06, 'Adjusted R-Squared': -0.00032550350818350005, 'RMSE': np.float64(135.5565275700215), 'Time taken': 0.20979022979736328}\n"
     ]
    },
    {
     "name": "stderr",
     "output_type": "stream",
     "text": [
      " 17%|█▋        | 6/35 [00:18<00:49,  1.71s/it]"
     ]
    },
    {
     "name": "stdout",
     "output_type": "stream",
     "text": [
      "{'Model': 'ElasticNet', 'R-Squared': 0.009070930958758772, 'Adjusted R-Squared': 0.008752694950366569, 'RMSE': np.float64(134.94002133467066), 'Time taken': 0.452664852142334}\n"
     ]
    },
    {
     "name": "stderr",
     "output_type": "stream",
     "text": [
      " 20%|██        | 7/35 [00:20<00:45,  1.64s/it]"
     ]
    },
    {
     "name": "stdout",
     "output_type": "stream",
     "text": [
      "{'Model': 'ElasticNetCV', 'R-Squared': 0.012952333366476276, 'Adjusted R-Squared': 0.01263534386709042, 'RMSE': np.float64(134.67548655273544), 'Time taken': 1.480557918548584}\n"
     ]
    },
    {
     "name": "stderr",
     "output_type": "stream",
     "text": [
      " 23%|██▎       | 8/35 [00:22<00:44,  1.64s/it]"
     ]
    },
    {
     "name": "stdout",
     "output_type": "stream",
     "text": [
      "{'Model': 'ExtraTreeRegressor', 'R-Squared': -0.816608296540505, 'Adjusted R-Squared': -0.8171916987144494, 'RMSE': np.float64(182.7048755365297), 'Time taken': 1.6421558856964111}\n"
     ]
    },
    {
     "name": "stderr",
     "output_type": "stream",
     "text": [
      " 26%|██▌       | 9/35 [00:48<04:07,  9.53s/it]"
     ]
    },
    {
     "name": "stdout",
     "output_type": "stream",
     "text": [
      "{'Model': 'GradientBoostingRegressor', 'R-Squared': 0.046460402249899224, 'Adjusted R-Squared': 0.0461541738376825, 'RMSE': np.float64(132.36978288312542), 'Time taken': 26.87322688102722}\n"
     ]
    },
    {
     "name": "stderr",
     "output_type": "stream",
     "text": [
      " 29%|██▊       | 10/35 [00:51<03:02,  7.28s/it]"
     ]
    },
    {
     "name": "stdout",
     "output_type": "stream",
     "text": [
      "{'Model': 'HistGradientBoostingRegressor', 'R-Squared': 0.09376845473790096, 'Adjusted R-Squared': 0.09347741926558173, 'RMSE': np.float64(129.04437481751597), 'Time taken': 2.2592110633850098}\n"
     ]
    },
    {
     "name": "stderr",
     "output_type": "stream",
     "text": [
      " 31%|███▏      | 11/35 [00:52<02:09,  5.40s/it]"
     ]
    },
    {
     "name": "stdout",
     "output_type": "stream",
     "text": [
      "{'Model': 'HuberRegressor', 'R-Squared': 0.0008774071656969529, 'Adjusted R-Squared': 0.0005565398142671762, 'RMSE': np.float64(135.49675047829257), 'Time taken': 1.1384682655334473}\n"
     ]
    },
    {
     "name": "stderr",
     "output_type": "stream",
     "text": [
      " 34%|███▍      | 12/35 [02:17<11:24, 29.75s/it]"
     ]
    },
    {
     "name": "stdout",
     "output_type": "stream",
     "text": [
      "{'Model': 'KNeighborsRegressor', 'R-Squared': -0.07372229760386251, 'Adjusted R-Squared': -0.07406712258557557, 'RMSE': np.float64(140.46414375812108), 'Time taken': 85.42594289779663}\n"
     ]
    },
    {
     "name": "stderr",
     "output_type": "stream",
     "text": [
      " 37%|███▋      | 13/35 [02:18<07:38, 20.83s/it]"
     ]
    },
    {
     "name": "stdout",
     "output_type": "stream",
     "text": [
      "{'Model': 'Lars', 'R-Squared': 0.012954764574578892, 'Adjusted R-Squared': 0.012637775855973366, 'RMSE': np.float64(134.67532069228776), 'Time taken': 0.3003270626068115}\n"
     ]
    },
    {
     "name": "stderr",
     "output_type": "stream",
     "text": [
      " 40%|████      | 14/35 [02:19<05:12, 14.87s/it]"
     ]
    },
    {
     "name": "stdout",
     "output_type": "stream",
     "text": [
      "{'Model': 'LarsCV', 'R-Squared': 0.012954764574578892, 'Adjusted R-Squared': 0.012637775855973366, 'RMSE': np.float64(134.67532069228776), 'Time taken': 1.0857176780700684}\n"
     ]
    },
    {
     "name": "stderr",
     "output_type": "stream",
     "text": [
      " 43%|████▎     | 15/35 [02:19<03:30, 10.52s/it]"
     ]
    },
    {
     "name": "stdout",
     "output_type": "stream",
     "text": [
      "{'Model': 'Lasso', 'R-Squared': 0.011227976273173512, 'Adjusted R-Squared': 0.010910432998007313, 'RMSE': np.float64(134.79307322150228), 'Time taken': 0.44010233879089355}\n"
     ]
    },
    {
     "name": "stderr",
     "output_type": "stream",
     "text": [
      " 46%|████▌     | 16/35 [02:21<02:28,  7.79s/it]"
     ]
    },
    {
     "name": "stdout",
     "output_type": "stream",
     "text": [
      "{'Model': 'LassoCV', 'R-Squared': 0.012954061870758982, 'Adjusted R-Squared': 0.012637072926480752, 'RMSE': np.float64(134.675368631755), 'Time taken': 1.457737922668457}\n"
     ]
    },
    {
     "name": "stderr",
     "output_type": "stream",
     "text": [
      " 49%|████▊     | 17/35 [02:21<01:39,  5.54s/it]"
     ]
    },
    {
     "name": "stdout",
     "output_type": "stream",
     "text": [
      "{'Model': 'LassoLars', 'R-Squared': 0.011228042329009869, 'Adjusted R-Squared': 0.010910499075057478, 'RMSE': np.float64(134.79306871901377), 'Time taken': 0.3036153316497803}\n"
     ]
    },
    {
     "name": "stderr",
     "output_type": "stream",
     "text": [
      " 51%|█████▏    | 18/35 [02:22<01:11,  4.20s/it]"
     ]
    },
    {
     "name": "stdout",
     "output_type": "stream",
     "text": [
      "{'Model': 'LassoLarsCV', 'R-Squared': 0.012954764574578892, 'Adjusted R-Squared': 0.012637775855973366, 'RMSE': np.float64(134.67532069228776), 'Time taken': 1.0932488441467285}\n"
     ]
    },
    {
     "name": "stderr",
     "output_type": "stream",
     "text": [
      " 54%|█████▍    | 19/35 [02:23<00:50,  3.13s/it]"
     ]
    },
    {
     "name": "stdout",
     "output_type": "stream",
     "text": [
      "{'Model': 'LassoLarsIC', 'R-Squared': 0.012954764574578892, 'Adjusted R-Squared': 0.012637775855973366, 'RMSE': np.float64(134.67532069228776), 'Time taken': 0.6429703235626221}\n"
     ]
    },
    {
     "name": "stderr",
     "output_type": "stream",
     "text": [
      " 57%|█████▋    | 20/35 [02:23<00:35,  2.35s/it]"
     ]
    },
    {
     "name": "stdout",
     "output_type": "stream",
     "text": [
      "{'Model': 'LinearRegression', 'R-Squared': 0.012954764574578559, 'Adjusted R-Squared': 0.012637775855973032, 'RMSE': np.float64(134.67532069228778), 'Time taken': 0.5190608501434326}\n"
     ]
    },
    {
     "name": "stderr",
     "output_type": "stream",
     "text": [
      " 60%|██████    | 21/35 [02:24<00:27,  1.96s/it]"
     ]
    },
    {
     "name": "stdout",
     "output_type": "stream",
     "text": [
      "{'Model': 'LinearSVR', 'R-Squared': -0.0065263538622155615, 'Adjusted R-Squared': -0.006849598925058098, 'RMSE': np.float64(135.99785712663987), 'Time taken': 1.0617640018463135}\n"
     ]
    },
    {
     "name": "stderr",
     "output_type": "stream",
     "text": [
      " 63%|██████▎   | 22/35 [06:56<18:00, 83.08s/it]"
     ]
    },
    {
     "name": "stdout",
     "output_type": "stream",
     "text": [
      "{'Model': 'MLPRegressor', 'R-Squared': 0.10821285559284022, 'Adjusted R-Squared': 0.10792645892728858, 'RMSE': np.float64(128.011826395485), 'Time taken': 272.25479531288147}\n"
     ]
    },
    {
     "name": "stderr",
     "output_type": "stream",
     "text": [
      " 66%|██████▌   | 23/35 [06:57<11:38, 58.24s/it]"
     ]
    },
    {
     "name": "stdout",
     "output_type": "stream",
     "text": [
      "{'Model': 'OrthogonalMatchingPursuit', 'R-Squared': 0.0031963851873932914, 'Adjusted R-Squared': 0.0028762625737376313, 'RMSE': np.float64(135.33941416925242), 'Time taken': 0.30855870246887207}\n"
     ]
    },
    {
     "name": "stderr",
     "output_type": "stream",
     "text": [
      " 69%|██████▊   | 24/35 [06:58<07:31, 41.04s/it]"
     ]
    },
    {
     "name": "stdout",
     "output_type": "stream",
     "text": [
      "{'Model': 'OrthogonalMatchingPursuitCV', 'R-Squared': 0.008202775447983202, 'Adjusted R-Squared': 0.007884260632204043, 'RMSE': np.float64(134.9991190437905), 'Time taken': 0.905576229095459}\n"
     ]
    },
    {
     "name": "stderr",
     "output_type": "stream",
     "text": [
      " 71%|███████▏  | 25/35 [06:58<04:48, 28.85s/it]"
     ]
    },
    {
     "name": "stdout",
     "output_type": "stream",
     "text": [
      "{'Model': 'PLSRegression', 'R-Squared': 0.012199396732609946, 'Adjusted R-Squared': 0.011882165428279134, 'RMSE': np.float64(134.72684312876436), 'Time taken': 0.41864681243896484}\n"
     ]
    },
    {
     "name": "stderr",
     "output_type": "stream",
     "text": [
      " 74%|███████▍  | 26/35 [06:59<03:03, 20.44s/it]"
     ]
    },
    {
     "name": "stdout",
     "output_type": "stream",
     "text": [
      "{'Model': 'PassiveAggressiveRegressor', 'R-Squared': -0.08753992684203893, 'Adjusted R-Squared': -0.08788918934336021, 'RMSE': np.float64(141.36506435359559), 'Time taken': 0.8045463562011719}\n"
     ]
    },
    {
     "name": "stderr",
     "output_type": "stream",
     "text": [
      " 77%|███████▋  | 27/35 [06:59<01:55, 14.42s/it]"
     ]
    },
    {
     "name": "stdout",
     "output_type": "stream",
     "text": [
      "{'Model': 'PoissonRegressor', 'R-Squared': 0.012672300765965483, 'Adjusted R-Squared': 0.012355221334353628, 'RMSE': np.float64(134.69458940535247), 'Time taken': 0.38893842697143555}\n"
     ]
    },
    {
     "name": "stderr",
     "output_type": "stream",
     "text": [
      " 80%|████████  | 28/35 [07:01<01:14, 10.63s/it]"
     ]
    },
    {
     "name": "stdout",
     "output_type": "stream",
     "text": [
      "{'Model': 'RANSACRegressor', 'R-Squared': -2.2018692895773015, 'Adjusted R-Squared': -2.2028975671139515, 'RMSE': np.float64(242.56117596970725), 'Time taken': 1.7765793800354004}\n"
     ]
    },
    {
     "name": "stderr",
     "output_type": "stream",
     "text": [
      " 83%|████████▎ | 29/35 [08:26<03:18, 33.06s/it]"
     ]
    },
    {
     "name": "stdout",
     "output_type": "stream",
     "text": [
      "{'Model': 'RandomForestRegressor', 'R-Squared': -0.05282613615402276, 'Adjusted R-Squared': -0.0531642503516665, 'RMSE': np.float64(139.09061230153523), 'Time taken': 85.39562249183655}\n"
     ]
    },
    {
     "name": "stderr",
     "output_type": "stream",
     "text": [
      " 86%|████████▌ | 30/35 [08:27<01:56, 23.22s/it]"
     ]
    },
    {
     "name": "stdout",
     "output_type": "stream",
     "text": [
      "{'Model': 'Ridge', 'R-Squared': 0.012954764923156614, 'Adjusted R-Squared': 0.012637776204662998, 'RMSE': np.float64(134.67532066850728), 'Time taken': 0.2619166374206543}\n"
     ]
    },
    {
     "name": "stderr",
     "output_type": "stream",
     "text": [
      " 89%|████████▊ | 31/35 [08:28<01:06, 16.55s/it]"
     ]
    },
    {
     "name": "stdout",
     "output_type": "stream",
     "text": [
      "{'Model': 'RidgeCV', 'R-Squared': 0.012954767996503525, 'Adjusted R-Squared': 0.012637779278996897, 'RMSE': np.float64(134.67532045883908), 'Time taken': 0.9728875160217285}\n"
     ]
    },
    {
     "name": "stderr",
     "output_type": "stream",
     "text": [
      " 91%|█████████▏| 32/35 [08:30<00:36, 12.20s/it]"
     ]
    },
    {
     "name": "stdout",
     "output_type": "stream",
     "text": [
      "{'Model': 'SGDRegressor', 'R-Squared': 0.011717840302035931, 'Adjusted R-Squared': 0.011400454346276456, 'RMSE': np.float64(134.75967904334846), 'Time taken': 2.064096212387085}\n"
     ]
    },
    {
     "name": "stderr",
     "output_type": "stream",
     "text": [
      " 94%|█████████▍| 33/35 [09:44<01:01, 30.92s/it]"
     ]
    },
    {
     "name": "stdout",
     "output_type": "stream",
     "text": [
      "{'Model': 'TheilSenRegressor', 'R-Squared': -0.03998260568039669, 'Adjusted R-Squared': -0.04031659518940289, 'RMSE': np.float64(138.23961891097332), 'Time taken': 74.58366632461548}\n"
     ]
    },
    {
     "name": "stderr",
     "output_type": "stream",
     "text": [
      "100%|██████████| 35/35 [09:45<00:00, 16.73s/it]"
     ]
    },
    {
     "name": "stdout",
     "output_type": "stream",
     "text": [
      "{'Model': 'TransformedTargetRegressor', 'R-Squared': 0.012954764574578559, 'Adjusted R-Squared': 0.012637775855973032, 'RMSE': np.float64(134.67532069228778), 'Time taken': 0.5820651054382324}\n",
      "VotingRegressor model failed to execute\n",
      "VotingRegressor.__init__() missing 1 required positional argument: 'estimators'\n"
     ]
    },
    {
     "name": "stderr",
     "output_type": "stream",
     "text": [
      "\n"
     ]
    },
    {
     "data": {
      "text/html": [
       "<div>\n",
       "<style scoped>\n",
       "    .dataframe tbody tr th:only-of-type {\n",
       "        vertical-align: middle;\n",
       "    }\n",
       "\n",
       "    .dataframe tbody tr th {\n",
       "        vertical-align: top;\n",
       "    }\n",
       "\n",
       "    .dataframe thead th {\n",
       "        text-align: right;\n",
       "    }\n",
       "</style>\n",
       "<table border=\"1\" class=\"dataframe\">\n",
       "  <thead>\n",
       "    <tr style=\"text-align: right;\">\n",
       "      <th></th>\n",
       "      <th>Adjusted R-Squared</th>\n",
       "      <th>R-Squared</th>\n",
       "      <th>RMSE</th>\n",
       "      <th>Time Taken</th>\n",
       "      <th>Target</th>\n",
       "      <th>Year floor</th>\n",
       "    </tr>\n",
       "    <tr>\n",
       "      <th>Model</th>\n",
       "      <th></th>\n",
       "      <th></th>\n",
       "      <th></th>\n",
       "      <th></th>\n",
       "      <th></th>\n",
       "      <th></th>\n",
       "    </tr>\n",
       "  </thead>\n",
       "  <tbody>\n",
       "    <tr>\n",
       "      <th>MLPRegressor</th>\n",
       "      <td>0.11</td>\n",
       "      <td>0.11</td>\n",
       "      <td>128.01</td>\n",
       "      <td>272.25</td>\n",
       "      <td>TravelTimeSeconds_mean</td>\n",
       "      <td>2022</td>\n",
       "    </tr>\n",
       "    <tr>\n",
       "      <th>HistGradientBoostingRegressor</th>\n",
       "      <td>0.09</td>\n",
       "      <td>0.09</td>\n",
       "      <td>129.04</td>\n",
       "      <td>2.26</td>\n",
       "      <td>TravelTimeSeconds_mean</td>\n",
       "      <td>2022</td>\n",
       "    </tr>\n",
       "    <tr>\n",
       "      <th>GradientBoostingRegressor</th>\n",
       "      <td>0.05</td>\n",
       "      <td>0.05</td>\n",
       "      <td>132.37</td>\n",
       "      <td>26.87</td>\n",
       "      <td>TravelTimeSeconds_mean</td>\n",
       "      <td>2022</td>\n",
       "    </tr>\n",
       "    <tr>\n",
       "      <th>RidgeCV</th>\n",
       "      <td>0.01</td>\n",
       "      <td>0.01</td>\n",
       "      <td>134.68</td>\n",
       "      <td>0.97</td>\n",
       "      <td>TravelTimeSeconds_mean</td>\n",
       "      <td>2022</td>\n",
       "    </tr>\n",
       "    <tr>\n",
       "      <th>Ridge</th>\n",
       "      <td>0.01</td>\n",
       "      <td>0.01</td>\n",
       "      <td>134.68</td>\n",
       "      <td>0.26</td>\n",
       "      <td>TravelTimeSeconds_mean</td>\n",
       "      <td>2022</td>\n",
       "    </tr>\n",
       "    <tr>\n",
       "      <th>LassoLarsCV</th>\n",
       "      <td>0.01</td>\n",
       "      <td>0.01</td>\n",
       "      <td>134.68</td>\n",
       "      <td>1.09</td>\n",
       "      <td>TravelTimeSeconds_mean</td>\n",
       "      <td>2022</td>\n",
       "    </tr>\n",
       "    <tr>\n",
       "      <th>LassoLarsIC</th>\n",
       "      <td>0.01</td>\n",
       "      <td>0.01</td>\n",
       "      <td>134.68</td>\n",
       "      <td>0.64</td>\n",
       "      <td>TravelTimeSeconds_mean</td>\n",
       "      <td>2022</td>\n",
       "    </tr>\n",
       "    <tr>\n",
       "      <th>LarsCV</th>\n",
       "      <td>0.01</td>\n",
       "      <td>0.01</td>\n",
       "      <td>134.68</td>\n",
       "      <td>1.09</td>\n",
       "      <td>TravelTimeSeconds_mean</td>\n",
       "      <td>2022</td>\n",
       "    </tr>\n",
       "    <tr>\n",
       "      <th>Lars</th>\n",
       "      <td>0.01</td>\n",
       "      <td>0.01</td>\n",
       "      <td>134.68</td>\n",
       "      <td>0.30</td>\n",
       "      <td>TravelTimeSeconds_mean</td>\n",
       "      <td>2022</td>\n",
       "    </tr>\n",
       "    <tr>\n",
       "      <th>LinearRegression</th>\n",
       "      <td>0.01</td>\n",
       "      <td>0.01</td>\n",
       "      <td>134.68</td>\n",
       "      <td>0.52</td>\n",
       "      <td>TravelTimeSeconds_mean</td>\n",
       "      <td>2022</td>\n",
       "    </tr>\n",
       "    <tr>\n",
       "      <th>TransformedTargetRegressor</th>\n",
       "      <td>0.01</td>\n",
       "      <td>0.01</td>\n",
       "      <td>134.68</td>\n",
       "      <td>0.58</td>\n",
       "      <td>TravelTimeSeconds_mean</td>\n",
       "      <td>2022</td>\n",
       "    </tr>\n",
       "    <tr>\n",
       "      <th>BayesianRidge</th>\n",
       "      <td>0.01</td>\n",
       "      <td>0.01</td>\n",
       "      <td>134.68</td>\n",
       "      <td>0.78</td>\n",
       "      <td>TravelTimeSeconds_mean</td>\n",
       "      <td>2022</td>\n",
       "    </tr>\n",
       "    <tr>\n",
       "      <th>LassoCV</th>\n",
       "      <td>0.01</td>\n",
       "      <td>0.01</td>\n",
       "      <td>134.68</td>\n",
       "      <td>1.46</td>\n",
       "      <td>TravelTimeSeconds_mean</td>\n",
       "      <td>2022</td>\n",
       "    </tr>\n",
       "    <tr>\n",
       "      <th>ElasticNetCV</th>\n",
       "      <td>0.01</td>\n",
       "      <td>0.01</td>\n",
       "      <td>134.68</td>\n",
       "      <td>1.48</td>\n",
       "      <td>TravelTimeSeconds_mean</td>\n",
       "      <td>2022</td>\n",
       "    </tr>\n",
       "    <tr>\n",
       "      <th>PoissonRegressor</th>\n",
       "      <td>0.01</td>\n",
       "      <td>0.01</td>\n",
       "      <td>134.69</td>\n",
       "      <td>0.39</td>\n",
       "      <td>TravelTimeSeconds_mean</td>\n",
       "      <td>2022</td>\n",
       "    </tr>\n",
       "    <tr>\n",
       "      <th>PLSRegression</th>\n",
       "      <td>0.01</td>\n",
       "      <td>0.01</td>\n",
       "      <td>134.73</td>\n",
       "      <td>0.42</td>\n",
       "      <td>TravelTimeSeconds_mean</td>\n",
       "      <td>2022</td>\n",
       "    </tr>\n",
       "    <tr>\n",
       "      <th>SGDRegressor</th>\n",
       "      <td>0.01</td>\n",
       "      <td>0.01</td>\n",
       "      <td>134.76</td>\n",
       "      <td>2.06</td>\n",
       "      <td>TravelTimeSeconds_mean</td>\n",
       "      <td>2022</td>\n",
       "    </tr>\n",
       "    <tr>\n",
       "      <th>LassoLars</th>\n",
       "      <td>0.01</td>\n",
       "      <td>0.01</td>\n",
       "      <td>134.79</td>\n",
       "      <td>0.30</td>\n",
       "      <td>TravelTimeSeconds_mean</td>\n",
       "      <td>2022</td>\n",
       "    </tr>\n",
       "    <tr>\n",
       "      <th>Lasso</th>\n",
       "      <td>0.01</td>\n",
       "      <td>0.01</td>\n",
       "      <td>134.79</td>\n",
       "      <td>0.44</td>\n",
       "      <td>TravelTimeSeconds_mean</td>\n",
       "      <td>2022</td>\n",
       "    </tr>\n",
       "    <tr>\n",
       "      <th>ElasticNet</th>\n",
       "      <td>0.01</td>\n",
       "      <td>0.01</td>\n",
       "      <td>134.94</td>\n",
       "      <td>0.45</td>\n",
       "      <td>TravelTimeSeconds_mean</td>\n",
       "      <td>2022</td>\n",
       "    </tr>\n",
       "    <tr>\n",
       "      <th>OrthogonalMatchingPursuitCV</th>\n",
       "      <td>0.01</td>\n",
       "      <td>0.01</td>\n",
       "      <td>135.00</td>\n",
       "      <td>0.91</td>\n",
       "      <td>TravelTimeSeconds_mean</td>\n",
       "      <td>2022</td>\n",
       "    </tr>\n",
       "    <tr>\n",
       "      <th>OrthogonalMatchingPursuit</th>\n",
       "      <td>0.00</td>\n",
       "      <td>0.00</td>\n",
       "      <td>135.34</td>\n",
       "      <td>0.31</td>\n",
       "      <td>TravelTimeSeconds_mean</td>\n",
       "      <td>2022</td>\n",
       "    </tr>\n",
       "    <tr>\n",
       "      <th>HuberRegressor</th>\n",
       "      <td>0.00</td>\n",
       "      <td>0.00</td>\n",
       "      <td>135.50</td>\n",
       "      <td>1.14</td>\n",
       "      <td>TravelTimeSeconds_mean</td>\n",
       "      <td>2022</td>\n",
       "    </tr>\n",
       "    <tr>\n",
       "      <th>DummyRegressor</th>\n",
       "      <td>-0.00</td>\n",
       "      <td>-0.00</td>\n",
       "      <td>135.56</td>\n",
       "      <td>0.21</td>\n",
       "      <td>TravelTimeSeconds_mean</td>\n",
       "      <td>2022</td>\n",
       "    </tr>\n",
       "    <tr>\n",
       "      <th>LinearSVR</th>\n",
       "      <td>-0.01</td>\n",
       "      <td>-0.01</td>\n",
       "      <td>136.00</td>\n",
       "      <td>1.06</td>\n",
       "      <td>TravelTimeSeconds_mean</td>\n",
       "      <td>2022</td>\n",
       "    </tr>\n",
       "    <tr>\n",
       "      <th>TheilSenRegressor</th>\n",
       "      <td>-0.04</td>\n",
       "      <td>-0.04</td>\n",
       "      <td>138.24</td>\n",
       "      <td>74.58</td>\n",
       "      <td>TravelTimeSeconds_mean</td>\n",
       "      <td>2022</td>\n",
       "    </tr>\n",
       "    <tr>\n",
       "      <th>RandomForestRegressor</th>\n",
       "      <td>-0.05</td>\n",
       "      <td>-0.05</td>\n",
       "      <td>139.09</td>\n",
       "      <td>85.40</td>\n",
       "      <td>TravelTimeSeconds_mean</td>\n",
       "      <td>2022</td>\n",
       "    </tr>\n",
       "    <tr>\n",
       "      <th>KNeighborsRegressor</th>\n",
       "      <td>-0.07</td>\n",
       "      <td>-0.07</td>\n",
       "      <td>140.46</td>\n",
       "      <td>85.43</td>\n",
       "      <td>TravelTimeSeconds_mean</td>\n",
       "      <td>2022</td>\n",
       "    </tr>\n",
       "    <tr>\n",
       "      <th>PassiveAggressiveRegressor</th>\n",
       "      <td>-0.09</td>\n",
       "      <td>-0.09</td>\n",
       "      <td>141.37</td>\n",
       "      <td>0.80</td>\n",
       "      <td>TravelTimeSeconds_mean</td>\n",
       "      <td>2022</td>\n",
       "    </tr>\n",
       "    <tr>\n",
       "      <th>AdaBoostRegressor</th>\n",
       "      <td>-0.10</td>\n",
       "      <td>-0.10</td>\n",
       "      <td>142.16</td>\n",
       "      <td>5.93</td>\n",
       "      <td>TravelTimeSeconds_mean</td>\n",
       "      <td>2022</td>\n",
       "    </tr>\n",
       "    <tr>\n",
       "      <th>BaggingRegressor</th>\n",
       "      <td>-0.13</td>\n",
       "      <td>-0.13</td>\n",
       "      <td>143.94</td>\n",
       "      <td>9.94</td>\n",
       "      <td>TravelTimeSeconds_mean</td>\n",
       "      <td>2022</td>\n",
       "    </tr>\n",
       "    <tr>\n",
       "      <th>ExtraTreeRegressor</th>\n",
       "      <td>-0.82</td>\n",
       "      <td>-0.82</td>\n",
       "      <td>182.70</td>\n",
       "      <td>1.64</td>\n",
       "      <td>TravelTimeSeconds_mean</td>\n",
       "      <td>2022</td>\n",
       "    </tr>\n",
       "    <tr>\n",
       "      <th>DecisionTreeRegressor</th>\n",
       "      <td>-0.83</td>\n",
       "      <td>-0.83</td>\n",
       "      <td>183.56</td>\n",
       "      <td>1.60</td>\n",
       "      <td>TravelTimeSeconds_mean</td>\n",
       "      <td>2022</td>\n",
       "    </tr>\n",
       "    <tr>\n",
       "      <th>RANSACRegressor</th>\n",
       "      <td>-2.20</td>\n",
       "      <td>-2.20</td>\n",
       "      <td>242.56</td>\n",
       "      <td>1.78</td>\n",
       "      <td>TravelTimeSeconds_mean</td>\n",
       "      <td>2022</td>\n",
       "    </tr>\n",
       "  </tbody>\n",
       "</table>\n",
       "</div>"
      ],
      "text/plain": [
       "                               Adjusted R-Squared  R-Squared   RMSE  \\\n",
       "Model                                                                 \n",
       "MLPRegressor                                 0.11       0.11 128.01   \n",
       "HistGradientBoostingRegressor                0.09       0.09 129.04   \n",
       "GradientBoostingRegressor                    0.05       0.05 132.37   \n",
       "RidgeCV                                      0.01       0.01 134.68   \n",
       "Ridge                                        0.01       0.01 134.68   \n",
       "LassoLarsCV                                  0.01       0.01 134.68   \n",
       "LassoLarsIC                                  0.01       0.01 134.68   \n",
       "LarsCV                                       0.01       0.01 134.68   \n",
       "Lars                                         0.01       0.01 134.68   \n",
       "LinearRegression                             0.01       0.01 134.68   \n",
       "TransformedTargetRegressor                   0.01       0.01 134.68   \n",
       "BayesianRidge                                0.01       0.01 134.68   \n",
       "LassoCV                                      0.01       0.01 134.68   \n",
       "ElasticNetCV                                 0.01       0.01 134.68   \n",
       "PoissonRegressor                             0.01       0.01 134.69   \n",
       "PLSRegression                                0.01       0.01 134.73   \n",
       "SGDRegressor                                 0.01       0.01 134.76   \n",
       "LassoLars                                    0.01       0.01 134.79   \n",
       "Lasso                                        0.01       0.01 134.79   \n",
       "ElasticNet                                   0.01       0.01 134.94   \n",
       "OrthogonalMatchingPursuitCV                  0.01       0.01 135.00   \n",
       "OrthogonalMatchingPursuit                    0.00       0.00 135.34   \n",
       "HuberRegressor                               0.00       0.00 135.50   \n",
       "DummyRegressor                              -0.00      -0.00 135.56   \n",
       "LinearSVR                                   -0.01      -0.01 136.00   \n",
       "TheilSenRegressor                           -0.04      -0.04 138.24   \n",
       "RandomForestRegressor                       -0.05      -0.05 139.09   \n",
       "KNeighborsRegressor                         -0.07      -0.07 140.46   \n",
       "PassiveAggressiveRegressor                  -0.09      -0.09 141.37   \n",
       "AdaBoostRegressor                           -0.10      -0.10 142.16   \n",
       "BaggingRegressor                            -0.13      -0.13 143.94   \n",
       "ExtraTreeRegressor                          -0.82      -0.82 182.70   \n",
       "DecisionTreeRegressor                       -0.83      -0.83 183.56   \n",
       "RANSACRegressor                             -2.20      -2.20 242.56   \n",
       "\n",
       "                               Time Taken                  Target  Year floor  \n",
       "Model                                                                          \n",
       "MLPRegressor                       272.25  TravelTimeSeconds_mean        2022  \n",
       "HistGradientBoostingRegressor        2.26  TravelTimeSeconds_mean        2022  \n",
       "GradientBoostingRegressor           26.87  TravelTimeSeconds_mean        2022  \n",
       "RidgeCV                              0.97  TravelTimeSeconds_mean        2022  \n",
       "Ridge                                0.26  TravelTimeSeconds_mean        2022  \n",
       "LassoLarsCV                          1.09  TravelTimeSeconds_mean        2022  \n",
       "LassoLarsIC                          0.64  TravelTimeSeconds_mean        2022  \n",
       "LarsCV                               1.09  TravelTimeSeconds_mean        2022  \n",
       "Lars                                 0.30  TravelTimeSeconds_mean        2022  \n",
       "LinearRegression                     0.52  TravelTimeSeconds_mean        2022  \n",
       "TransformedTargetRegressor           0.58  TravelTimeSeconds_mean        2022  \n",
       "BayesianRidge                        0.78  TravelTimeSeconds_mean        2022  \n",
       "LassoCV                              1.46  TravelTimeSeconds_mean        2022  \n",
       "ElasticNetCV                         1.48  TravelTimeSeconds_mean        2022  \n",
       "PoissonRegressor                     0.39  TravelTimeSeconds_mean        2022  \n",
       "PLSRegression                        0.42  TravelTimeSeconds_mean        2022  \n",
       "SGDRegressor                         2.06  TravelTimeSeconds_mean        2022  \n",
       "LassoLars                            0.30  TravelTimeSeconds_mean        2022  \n",
       "Lasso                                0.44  TravelTimeSeconds_mean        2022  \n",
       "ElasticNet                           0.45  TravelTimeSeconds_mean        2022  \n",
       "OrthogonalMatchingPursuitCV          0.91  TravelTimeSeconds_mean        2022  \n",
       "OrthogonalMatchingPursuit            0.31  TravelTimeSeconds_mean        2022  \n",
       "HuberRegressor                       1.14  TravelTimeSeconds_mean        2022  \n",
       "DummyRegressor                       0.21  TravelTimeSeconds_mean        2022  \n",
       "LinearSVR                            1.06  TravelTimeSeconds_mean        2022  \n",
       "TheilSenRegressor                   74.58  TravelTimeSeconds_mean        2022  \n",
       "RandomForestRegressor               85.40  TravelTimeSeconds_mean        2022  \n",
       "KNeighborsRegressor                 85.43  TravelTimeSeconds_mean        2022  \n",
       "PassiveAggressiveRegressor           0.80  TravelTimeSeconds_mean        2022  \n",
       "AdaBoostRegressor                    5.93  TravelTimeSeconds_mean        2022  \n",
       "BaggingRegressor                     9.94  TravelTimeSeconds_mean        2022  \n",
       "ExtraTreeRegressor                   1.64  TravelTimeSeconds_mean        2022  \n",
       "DecisionTreeRegressor                1.60  TravelTimeSeconds_mean        2022  \n",
       "RANSACRegressor                      1.78  TravelTimeSeconds_mean        2022  "
      ]
     },
     "metadata": {},
     "output_type": "display_data"
    },
    {
     "name": "stdout",
     "output_type": "stream",
     "text": [
      "-----------------------------------------------------\n",
      "year 2023\n",
      "-----------------------------------------------------\n",
      "(225027, 45)\n",
      "cols_to_remove ['TurnoutTimeSeconds_min', 'TurnoutTimeSeconds_mean', 'TurnoutTimeSeconds_max', 'TravelTimeSeconds_min', 'TravelTimeSeconds_mean', 'TravelTimeSeconds_max', 'PumpSecondsOnSite_min', 'PumpSecondsOnSite_mean', 'PumpSecondsOnSite_max', 'NumPumpsAttending']\n",
      "cols_to_keep ['CalYear', 'HourOfCall_0', 'HourOfCall_1', 'HourOfCall_2', 'HourOfCall_3', 'HourOfCall_4', 'Postcode_district_0', 'Postcode_district_1', 'Postcode_district_2', 'Postcode_district_3', 'Postcode_district_4', 'Postcode_district_5', 'Postcode_district_6', 'Postcode_district_7', 'Postcode_district_8', 'Month_0', 'Month_1', 'Month_2', 'Month_3', 'DayOfWeek_0', 'DayOfWeek_1', 'DayOfWeek_2']\n"
     ]
    },
    {
     "data": {
      "text/html": [
       "<div>\n",
       "<style scoped>\n",
       "    .dataframe tbody tr th:only-of-type {\n",
       "        vertical-align: middle;\n",
       "    }\n",
       "\n",
       "    .dataframe tbody tr th {\n",
       "        vertical-align: top;\n",
       "    }\n",
       "\n",
       "    .dataframe thead th {\n",
       "        text-align: right;\n",
       "    }\n",
       "</style>\n",
       "<table border=\"1\" class=\"dataframe\">\n",
       "  <thead>\n",
       "    <tr style=\"text-align: right;\">\n",
       "      <th></th>\n",
       "      <th>CalYear</th>\n",
       "      <th>HourOfCall_0</th>\n",
       "      <th>HourOfCall_1</th>\n",
       "      <th>HourOfCall_2</th>\n",
       "      <th>HourOfCall_3</th>\n",
       "      <th>HourOfCall_4</th>\n",
       "      <th>Postcode_district_0</th>\n",
       "      <th>Postcode_district_1</th>\n",
       "      <th>Postcode_district_2</th>\n",
       "      <th>Postcode_district_3</th>\n",
       "      <th>Postcode_district_4</th>\n",
       "      <th>Postcode_district_5</th>\n",
       "      <th>Postcode_district_6</th>\n",
       "      <th>Postcode_district_7</th>\n",
       "      <th>Postcode_district_8</th>\n",
       "      <th>Month_0</th>\n",
       "      <th>Month_1</th>\n",
       "      <th>Month_2</th>\n",
       "      <th>Month_3</th>\n",
       "      <th>DayOfWeek_0</th>\n",
       "      <th>DayOfWeek_1</th>\n",
       "      <th>DayOfWeek_2</th>\n",
       "    </tr>\n",
       "  </thead>\n",
       "  <tbody>\n",
       "    <tr>\n",
       "      <th>1366500</th>\n",
       "      <td>15</td>\n",
       "      <td>0</td>\n",
       "      <td>0</td>\n",
       "      <td>0</td>\n",
       "      <td>0</td>\n",
       "      <td>1</td>\n",
       "      <td>0</td>\n",
       "      <td>1</td>\n",
       "      <td>0</td>\n",
       "      <td>0</td>\n",
       "      <td>1</td>\n",
       "      <td>0</td>\n",
       "      <td>0</td>\n",
       "      <td>0</td>\n",
       "      <td>1</td>\n",
       "      <td>0</td>\n",
       "      <td>0</td>\n",
       "      <td>0</td>\n",
       "      <td>1</td>\n",
       "      <td>1</td>\n",
       "      <td>0</td>\n",
       "      <td>0</td>\n",
       "    </tr>\n",
       "    <tr>\n",
       "      <th>1366501</th>\n",
       "      <td>15</td>\n",
       "      <td>0</td>\n",
       "      <td>0</td>\n",
       "      <td>0</td>\n",
       "      <td>0</td>\n",
       "      <td>1</td>\n",
       "      <td>0</td>\n",
       "      <td>1</td>\n",
       "      <td>0</td>\n",
       "      <td>1</td>\n",
       "      <td>1</td>\n",
       "      <td>1</td>\n",
       "      <td>1</td>\n",
       "      <td>1</td>\n",
       "      <td>0</td>\n",
       "      <td>0</td>\n",
       "      <td>0</td>\n",
       "      <td>0</td>\n",
       "      <td>1</td>\n",
       "      <td>1</td>\n",
       "      <td>0</td>\n",
       "      <td>0</td>\n",
       "    </tr>\n",
       "  </tbody>\n",
       "</table>\n",
       "</div>"
      ],
      "text/plain": [
       "         CalYear  HourOfCall_0  HourOfCall_1  HourOfCall_2  HourOfCall_3  \\\n",
       "1366500       15             0             0             0             0   \n",
       "1366501       15             0             0             0             0   \n",
       "\n",
       "         HourOfCall_4  Postcode_district_0  Postcode_district_1  \\\n",
       "1366500             1                    0                    1   \n",
       "1366501             1                    0                    1   \n",
       "\n",
       "         Postcode_district_2  Postcode_district_3  Postcode_district_4  \\\n",
       "1366500                    0                    0                    1   \n",
       "1366501                    0                    1                    1   \n",
       "\n",
       "         Postcode_district_5  Postcode_district_6  Postcode_district_7  \\\n",
       "1366500                    0                    0                    0   \n",
       "1366501                    1                    1                    1   \n",
       "\n",
       "         Postcode_district_8  Month_0  Month_1  Month_2  Month_3  DayOfWeek_0  \\\n",
       "1366500                    1        0        0        0        1            1   \n",
       "1366501                    0        0        0        0        1            1   \n",
       "\n",
       "         DayOfWeek_1  DayOfWeek_2  \n",
       "1366500            0            0  \n",
       "1366501            0            0  "
      ]
     },
     "metadata": {},
     "output_type": "display_data"
    },
    {
     "name": "stdout",
     "output_type": "stream",
     "text": [
      "(225027, 22)\n",
      "cible TravelTimeSeconds_mean\n",
      "[('AdaBoostRegressor', <class 'sklearn.ensemble._weight_boosting.AdaBoostRegressor'>), ('BaggingRegressor', <class 'sklearn.ensemble._bagging.BaggingRegressor'>), ('BayesianRidge', <class 'sklearn.linear_model._bayes.BayesianRidge'>), ('DecisionTreeRegressor', <class 'sklearn.tree._classes.DecisionTreeRegressor'>), ('DummyRegressor', <class 'sklearn.dummy.DummyRegressor'>), ('ElasticNet', <class 'sklearn.linear_model._coordinate_descent.ElasticNet'>), ('ElasticNetCV', <class 'sklearn.linear_model._coordinate_descent.ElasticNetCV'>), ('ExtraTreeRegressor', <class 'sklearn.tree._classes.ExtraTreeRegressor'>), ('GradientBoostingRegressor', <class 'sklearn.ensemble._gb.GradientBoostingRegressor'>), ('HistGradientBoostingRegressor', <class 'sklearn.ensemble._hist_gradient_boosting.gradient_boosting.HistGradientBoostingRegressor'>), ('HuberRegressor', <class 'sklearn.linear_model._huber.HuberRegressor'>), ('KNeighborsRegressor', <class 'sklearn.neighbors._regression.KNeighborsRegressor'>), ('Lars', <class 'sklearn.linear_model._least_angle.Lars'>), ('LarsCV', <class 'sklearn.linear_model._least_angle.LarsCV'>), ('Lasso', <class 'sklearn.linear_model._coordinate_descent.Lasso'>), ('LassoCV', <class 'sklearn.linear_model._coordinate_descent.LassoCV'>), ('LassoLars', <class 'sklearn.linear_model._least_angle.LassoLars'>), ('LassoLarsCV', <class 'sklearn.linear_model._least_angle.LassoLarsCV'>), ('LassoLarsIC', <class 'sklearn.linear_model._least_angle.LassoLarsIC'>), ('LinearRegression', <class 'sklearn.linear_model._base.LinearRegression'>), ('LinearSVR', <class 'sklearn.svm._classes.LinearSVR'>), ('MLPRegressor', <class 'sklearn.neural_network._multilayer_perceptron.MLPRegressor'>), ('OrthogonalMatchingPursuit', <class 'sklearn.linear_model._omp.OrthogonalMatchingPursuit'>), ('OrthogonalMatchingPursuitCV', <class 'sklearn.linear_model._omp.OrthogonalMatchingPursuitCV'>), ('PLSRegression', <class 'sklearn.cross_decomposition._pls.PLSRegression'>), ('PassiveAggressiveRegressor', <class 'sklearn.linear_model._passive_aggressive.PassiveAggressiveRegressor'>), ('PoissonRegressor', <class 'sklearn.linear_model._glm.glm.PoissonRegressor'>), ('RANSACRegressor', <class 'sklearn.linear_model._ransac.RANSACRegressor'>), ('RandomForestRegressor', <class 'sklearn.ensemble._forest.RandomForestRegressor'>), ('Ridge', <class 'sklearn.linear_model._ridge.Ridge'>), ('RidgeCV', <class 'sklearn.linear_model._ridge.RidgeCV'>), ('SGDRegressor', <class 'sklearn.linear_model._stochastic_gradient.SGDRegressor'>), ('TheilSenRegressor', <class 'sklearn.linear_model._theil_sen.TheilSenRegressor'>), ('TransformedTargetRegressor', <class 'sklearn.compose._target.TransformedTargetRegressor'>), ('VotingRegressor', <class 'sklearn.ensemble._voting.VotingRegressor'>)]\n",
      "'tuple' object has no attribute '__name__'\n",
      "Invalid Regressor(s)\n"
     ]
    },
    {
     "name": "stderr",
     "output_type": "stream",
     "text": [
      "  3%|▎         | 1/35 [00:04<02:46,  4.91s/it]"
     ]
    },
    {
     "name": "stdout",
     "output_type": "stream",
     "text": [
      "{'Model': 'AdaBoostRegressor', 'R-Squared': -0.12367442260931893, 'Adjusted R-Squared': -0.12422398216064723, 'RMSE': np.float64(141.8381235124389), 'Time taken': 4.907531261444092}\n"
     ]
    },
    {
     "name": "stderr",
     "output_type": "stream",
     "text": [
      "  6%|▌         | 2/35 [00:11<03:07,  5.69s/it]"
     ]
    },
    {
     "name": "stdout",
     "output_type": "stream",
     "text": [
      "{'Model': 'BaggingRegressor', 'R-Squared': -0.13028314239413663, 'Adjusted R-Squared': -0.13083593409617222, 'RMSE': np.float64(142.254611680655), 'Time taken': 6.23301887512207}\n"
     ]
    },
    {
     "name": "stderr",
     "output_type": "stream",
     "text": [
      "  9%|▊         | 3/35 [00:11<01:46,  3.34s/it]"
     ]
    },
    {
     "name": "stdout",
     "output_type": "stream",
     "text": [
      "{'Model': 'BayesianRidge', 'R-Squared': 0.013822844614997831, 'Adjusted R-Squared': 0.013340531354022134, 'RMSE': np.float64(132.87711745725557), 'Time taken': 0.5525155067443848}\n"
     ]
    },
    {
     "name": "stderr",
     "output_type": "stream",
     "text": [
      " 14%|█▍        | 5/35 [00:12<00:48,  1.62s/it]"
     ]
    },
    {
     "name": "stdout",
     "output_type": "stream",
     "text": [
      "{'Model': 'DecisionTreeRegressor', 'R-Squared': -0.8549668654210252, 'Adjusted R-Squared': -0.8558740808366103, 'RMSE': np.float64(182.2387834085472), 'Time taken': 1.050340175628662}\n",
      "{'Model': 'DummyRegressor', 'R-Squared': -1.7971754026957498e-05, 'Adjusted R-Squared': -0.0005070541935838779, 'RMSE': np.float64(133.80632155935763), 'Time taken': 0.1790459156036377}\n"
     ]
    },
    {
     "name": "stderr",
     "output_type": "stream",
     "text": [
      " 17%|█▋        | 6/35 [00:13<00:33,  1.16s/it]"
     ]
    },
    {
     "name": "stdout",
     "output_type": "stream",
     "text": [
      "{'Model': 'ElasticNet', 'R-Squared': 0.009986945099905498, 'Adjusted R-Squared': 0.009502755801552687, 'RMSE': np.float64(133.13529043632343), 'Time taken': 0.26813578605651855}\n"
     ]
    },
    {
     "name": "stderr",
     "output_type": "stream",
     "text": [
      " 20%|██        | 7/35 [00:14<00:31,  1.12s/it]"
     ]
    },
    {
     "name": "stdout",
     "output_type": "stream",
     "text": [
      "{'Model': 'ElasticNetCV', 'R-Squared': 0.013823174716916187, 'Adjusted R-Squared': 0.01334086161738468, 'RMSE': np.float64(132.87709521835316), 'Time taken': 1.030026912689209}\n"
     ]
    },
    {
     "name": "stderr",
     "output_type": "stream",
     "text": [
      " 23%|██▎       | 8/35 [00:15<00:30,  1.12s/it]"
     ]
    },
    {
     "name": "stdout",
     "output_type": "stream",
     "text": [
      "{'Model': 'ExtraTreeRegressor', 'R-Squared': -0.8575034473501655, 'Adjusted R-Squared': -0.8584119033411333, 'RMSE': np.float64(182.3633424209739), 'Time taken': 1.1079206466674805}\n"
     ]
    },
    {
     "name": "stderr",
     "output_type": "stream",
     "text": [
      " 26%|██▌       | 9/35 [00:32<02:36,  6.02s/it]"
     ]
    },
    {
     "name": "stdout",
     "output_type": "stream",
     "text": [
      "{'Model': 'GradientBoostingRegressor', 'R-Squared': 0.04748228493112594, 'Adjusted R-Squared': 0.04701643361548413, 'RMSE': np.float64(130.5898009880598), 'Time taken': 16.797926425933838}\n"
     ]
    },
    {
     "name": "stderr",
     "output_type": "stream",
     "text": [
      " 29%|██▊       | 10/35 [00:33<01:56,  4.65s/it]"
     ]
    },
    {
     "name": "stdout",
     "output_type": "stream",
     "text": [
      "{'Model': 'HistGradientBoostingRegressor', 'R-Squared': 0.0961850174860912, 'Adjusted R-Squared': 0.09574298539362724, 'RMSE': np.float64(127.20743553559181), 'Time taken': 1.5704538822174072}\n"
     ]
    },
    {
     "name": "stderr",
     "output_type": "stream",
     "text": [
      " 31%|███▏      | 11/35 [00:34<01:22,  3.45s/it]"
     ]
    },
    {
     "name": "stdout",
     "output_type": "stream",
     "text": [
      "{'Model': 'HuberRegressor', 'R-Squared': 0.0024839597141601555, 'Adjusted R-Squared': 0.0019961009033585553, 'RMSE': np.float64(133.63883261908182), 'Time taken': 0.7267816066741943}\n"
     ]
    },
    {
     "name": "stderr",
     "output_type": "stream",
     "text": [
      " 34%|███▍      | 12/35 [01:09<04:59, 13.01s/it]"
     ]
    },
    {
     "name": "stdout",
     "output_type": "stream",
     "text": [
      "{'Model': 'KNeighborsRegressor', 'R-Squared': -0.08234086608744651, 'Adjusted R-Squared': -0.08287021048541732, 'RMSE': np.float64(139.2049752773983), 'Time taken': 34.87552857398987}\n",
      "{'Model': 'Lars', 'R-Squared': 0.013818913832822077, 'Adjusted R-Squared': 0.013336598649404396, 'RMSE': np.float64(132.87738227300474), 'Time taken': 0.20241594314575195}\n"
     ]
    },
    {
     "name": "stderr",
     "output_type": "stream",
     "text": [
      " 40%|████      | 14/35 [01:10<02:18,  6.60s/it]"
     ]
    },
    {
     "name": "stdout",
     "output_type": "stream",
     "text": [
      "{'Model': 'LarsCV', 'R-Squared': 0.013819476804246222, 'Adjusted R-Squared': 0.013337161896162963, 'RMSE': np.float64(132.87734434580207), 'Time taken': 0.7389733791351318}\n"
     ]
    },
    {
     "name": "stderr",
     "output_type": "stream",
     "text": [
      " 43%|████▎     | 15/35 [01:10<01:34,  4.70s/it]"
     ]
    },
    {
     "name": "stdout",
     "output_type": "stream",
     "text": [
      "{'Model': 'Lasso', 'R-Squared': 0.012216963613244092, 'Adjusted R-Squared': 0.011733864958185292, 'RMSE': np.float64(132.985261333612), 'Time taken': 0.31737804412841797}\n"
     ]
    },
    {
     "name": "stderr",
     "output_type": "stream",
     "text": [
      " 49%|████▊     | 17/35 [01:11<00:46,  2.57s/it]"
     ]
    },
    {
     "name": "stdout",
     "output_type": "stream",
     "text": [
      "{'Model': 'LassoCV', 'R-Squared': 0.01381913533166923, 'Adjusted R-Squared': 0.013336820256580784, 'RMSE': np.float64(132.87736735070038), 'Time taken': 0.9825704097747803}\n",
      "{'Model': 'LassoLars', 'R-Squared': 0.012216999748581037, 'Adjusted R-Squared': 0.0117339011111951, 'RMSE': np.float64(132.9852589011612), 'Time taken': 0.19811797142028809}\n"
     ]
    },
    {
     "name": "stderr",
     "output_type": "stream",
     "text": [
      " 51%|█████▏    | 18/35 [01:12<00:34,  2.02s/it]"
     ]
    },
    {
     "name": "stdout",
     "output_type": "stream",
     "text": [
      "{'Model': 'LassoLarsCV', 'R-Squared': 0.013819476804246222, 'Adjusted R-Squared': 0.013337161896162963, 'RMSE': np.float64(132.87734434580207), 'Time taken': 0.739008903503418}\n"
     ]
    },
    {
     "name": "stderr",
     "output_type": "stream",
     "text": [
      " 54%|█████▍    | 19/35 [01:12<00:24,  1.54s/it]"
     ]
    },
    {
     "name": "stdout",
     "output_type": "stream",
     "text": [
      "{'Model': 'LassoLarsIC', 'R-Squared': 0.013818913832822077, 'Adjusted R-Squared': 0.013336598649404396, 'RMSE': np.float64(132.87738227300474), 'Time taken': 0.4269442558288574}\n"
     ]
    },
    {
     "name": "stderr",
     "output_type": "stream",
     "text": [
      " 57%|█████▋    | 20/35 [01:13<00:17,  1.18s/it]"
     ]
    },
    {
     "name": "stdout",
     "output_type": "stream",
     "text": [
      "{'Model': 'LinearRegression', 'R-Squared': 0.013818913832822965, 'Adjusted R-Squared': 0.013336598649405285, 'RMSE': np.float64(132.87738227300466), 'Time taken': 0.3481168746948242}\n"
     ]
    },
    {
     "name": "stderr",
     "output_type": "stream",
     "text": [
      " 60%|██████    | 21/35 [01:13<00:14,  1.02s/it]"
     ]
    },
    {
     "name": "stdout",
     "output_type": "stream",
     "text": [
      "{'Model': 'LinearSVR', 'R-Squared': -0.00588417667556107, 'Adjusted R-Squared': -0.006376128121370783, 'RMSE': np.float64(134.19820828591767), 'Time taken': 0.6446142196655273}\n"
     ]
    },
    {
     "name": "stderr",
     "output_type": "stream",
     "text": [
      " 63%|██████▎   | 22/35 [03:50<10:20, 47.72s/it]"
     ]
    },
    {
     "name": "stdout",
     "output_type": "stream",
     "text": [
      "{'Model': 'MLPRegressor', 'R-Squared': 0.1054624273023429, 'Adjusted R-Squared': 0.10502493254656076, 'RMSE': np.float64(126.55287698658795), 'Time taken': 156.6246473789215}\n"
     ]
    },
    {
     "name": "stderr",
     "output_type": "stream",
     "text": [
      " 66%|██████▌   | 23/35 [03:50<06:41, 33.46s/it]"
     ]
    },
    {
     "name": "stdout",
     "output_type": "stream",
     "text": [
      "{'Model': 'OrthogonalMatchingPursuit', 'R-Squared': 0.0031582828313471145, 'Adjusted R-Squared': 0.0026707538142137777, 'RMSE': np.float64(133.59365490498377), 'Time taken': 0.20162248611450195}\n"
     ]
    },
    {
     "name": "stderr",
     "output_type": "stream",
     "text": [
      " 69%|██████▊   | 24/35 [03:51<04:19, 23.61s/it]"
     ]
    },
    {
     "name": "stdout",
     "output_type": "stream",
     "text": [
      "{'Model': 'OrthogonalMatchingPursuitCV', 'R-Squared': 0.009131513899872101, 'Adjusted R-Squared': 0.008646906232659957, 'RMSE': np.float64(133.19279649130686), 'Time taken': 0.613868236541748}\n"
     ]
    },
    {
     "name": "stderr",
     "output_type": "stream",
     "text": [
      " 71%|███████▏  | 25/35 [03:51<02:46, 16.61s/it]"
     ]
    },
    {
     "name": "stdout",
     "output_type": "stream",
     "text": [
      "{'Model': 'PLSRegression', 'R-Squared': 0.01299317019672852, 'Adjusted R-Squared': 0.01251045116385674, 'RMSE': np.float64(132.93300070650164), 'Time taken': 0.29131460189819336}\n"
     ]
    },
    {
     "name": "stderr",
     "output_type": "stream",
     "text": [
      " 74%|███████▍  | 26/35 [03:52<01:45, 11.78s/it]"
     ]
    },
    {
     "name": "stdout",
     "output_type": "stream",
     "text": [
      "{'Model': 'PassiveAggressiveRegressor', 'R-Squared': -0.15979297083577948, 'Adjusted R-Squared': -0.16036019501732324, 'RMSE': np.float64(144.09966309396128), 'Time taken': 0.495654821395874}\n"
     ]
    },
    {
     "name": "stderr",
     "output_type": "stream",
     "text": [
      " 77%|███████▋  | 27/35 [03:52<01:06,  8.32s/it]"
     ]
    },
    {
     "name": "stdout",
     "output_type": "stream",
     "text": [
      "{'Model': 'PoissonRegressor', 'R-Squared': 0.013497503051403514, 'Adjusted R-Squared': 0.013015030674441763, 'RMSE': np.float64(132.89903384624373), 'Time taken': 0.2418506145477295}\n"
     ]
    },
    {
     "name": "stderr",
     "output_type": "stream",
     "text": [
      " 80%|████████  | 28/35 [03:53<00:43,  6.20s/it]"
     ]
    },
    {
     "name": "stdout",
     "output_type": "stream",
     "text": [
      "{'Model': 'RANSACRegressor', 'R-Squared': -0.9650369894058146, 'Adjusted R-Squared': -0.9659980372186978, 'RMSE': np.float64(187.56771778913318), 'Time taken': 1.276834487915039}\n"
     ]
    },
    {
     "name": "stderr",
     "output_type": "stream",
     "text": [
      " 86%|████████▌ | 30/35 [04:50<01:14, 14.95s/it]"
     ]
    },
    {
     "name": "stdout",
     "output_type": "stream",
     "text": [
      "{'Model': 'RandomForestRegressor', 'R-Squared': -0.053842427762670786, 'Adjusted R-Squared': -0.05435783432538965, 'RMSE': np.float64(137.36009070692867), 'Time taken': 56.47691988945007}\n",
      "{'Model': 'Ridge', 'R-Squared': 0.013818919663518336, 'Adjusted R-Squared': 0.013336604482952263, 'RMSE': np.float64(132.87738188019267), 'Time taken': 0.16500377655029297}\n"
     ]
    },
    {
     "name": "stderr",
     "output_type": "stream",
     "text": [
      " 89%|████████▊ | 31/35 [04:50<00:42, 10.64s/it]"
     ]
    },
    {
     "name": "stdout",
     "output_type": "stream",
     "text": [
      "{'Model': 'RidgeCV', 'R-Squared': 0.013818971977954009, 'Adjusted R-Squared': 0.01333665682297358, 'RMSE': np.float64(132.8773783557865), 'Time taken': 0.5758359432220459}\n"
     ]
    },
    {
     "name": "stderr",
     "output_type": "stream",
     "text": [
      " 91%|█████████▏| 32/35 [04:51<00:23,  7.74s/it]"
     ]
    },
    {
     "name": "stdout",
     "output_type": "stream",
     "text": [
      "{'Model': 'SGDRegressor', 'R-Squared': 0.01158432074112914, 'Adjusted R-Squared': 0.011100912677111774, 'RMSE': np.float64(133.02784088190975), 'Time taken': 0.984473705291748}\n"
     ]
    },
    {
     "name": "stderr",
     "output_type": "stream",
     "text": [
      " 94%|█████████▍| 33/35 [05:39<00:39, 19.84s/it]"
     ]
    },
    {
     "name": "stdout",
     "output_type": "stream",
     "text": [
      "{'Model': 'TheilSenRegressor', 'R-Squared': -0.04003677432247521, 'Adjusted R-Squared': -0.04054542890387469, 'RMSE': np.float64(136.45739527014638), 'Time taken': 48.05342984199524}\n"
     ]
    },
    {
     "name": "stderr",
     "output_type": "stream",
     "text": [
      "100%|██████████| 35/35 [05:40<00:00,  9.72s/it]"
     ]
    },
    {
     "name": "stdout",
     "output_type": "stream",
     "text": [
      "{'Model': 'TransformedTargetRegressor', 'R-Squared': 0.013818913832822965, 'Adjusted R-Squared': 0.013336598649405285, 'RMSE': np.float64(132.87738227300466), 'Time taken': 0.3636817932128906}\n",
      "VotingRegressor model failed to execute\n",
      "VotingRegressor.__init__() missing 1 required positional argument: 'estimators'\n"
     ]
    },
    {
     "name": "stderr",
     "output_type": "stream",
     "text": [
      "\n"
     ]
    },
    {
     "data": {
      "text/html": [
       "<div>\n",
       "<style scoped>\n",
       "    .dataframe tbody tr th:only-of-type {\n",
       "        vertical-align: middle;\n",
       "    }\n",
       "\n",
       "    .dataframe tbody tr th {\n",
       "        vertical-align: top;\n",
       "    }\n",
       "\n",
       "    .dataframe thead th {\n",
       "        text-align: right;\n",
       "    }\n",
       "</style>\n",
       "<table border=\"1\" class=\"dataframe\">\n",
       "  <thead>\n",
       "    <tr style=\"text-align: right;\">\n",
       "      <th></th>\n",
       "      <th>Adjusted R-Squared</th>\n",
       "      <th>R-Squared</th>\n",
       "      <th>RMSE</th>\n",
       "      <th>Time Taken</th>\n",
       "      <th>Target</th>\n",
       "      <th>Year floor</th>\n",
       "    </tr>\n",
       "    <tr>\n",
       "      <th>Model</th>\n",
       "      <th></th>\n",
       "      <th></th>\n",
       "      <th></th>\n",
       "      <th></th>\n",
       "      <th></th>\n",
       "      <th></th>\n",
       "    </tr>\n",
       "  </thead>\n",
       "  <tbody>\n",
       "    <tr>\n",
       "      <th>MLPRegressor</th>\n",
       "      <td>0.11</td>\n",
       "      <td>0.11</td>\n",
       "      <td>126.55</td>\n",
       "      <td>156.62</td>\n",
       "      <td>TravelTimeSeconds_mean</td>\n",
       "      <td>2023</td>\n",
       "    </tr>\n",
       "    <tr>\n",
       "      <th>HistGradientBoostingRegressor</th>\n",
       "      <td>0.10</td>\n",
       "      <td>0.10</td>\n",
       "      <td>127.21</td>\n",
       "      <td>1.57</td>\n",
       "      <td>TravelTimeSeconds_mean</td>\n",
       "      <td>2023</td>\n",
       "    </tr>\n",
       "    <tr>\n",
       "      <th>GradientBoostingRegressor</th>\n",
       "      <td>0.05</td>\n",
       "      <td>0.05</td>\n",
       "      <td>130.59</td>\n",
       "      <td>16.80</td>\n",
       "      <td>TravelTimeSeconds_mean</td>\n",
       "      <td>2023</td>\n",
       "    </tr>\n",
       "    <tr>\n",
       "      <th>ElasticNetCV</th>\n",
       "      <td>0.01</td>\n",
       "      <td>0.01</td>\n",
       "      <td>132.88</td>\n",
       "      <td>1.03</td>\n",
       "      <td>TravelTimeSeconds_mean</td>\n",
       "      <td>2023</td>\n",
       "    </tr>\n",
       "    <tr>\n",
       "      <th>BayesianRidge</th>\n",
       "      <td>0.01</td>\n",
       "      <td>0.01</td>\n",
       "      <td>132.88</td>\n",
       "      <td>0.55</td>\n",
       "      <td>TravelTimeSeconds_mean</td>\n",
       "      <td>2023</td>\n",
       "    </tr>\n",
       "    <tr>\n",
       "      <th>LassoLarsCV</th>\n",
       "      <td>0.01</td>\n",
       "      <td>0.01</td>\n",
       "      <td>132.88</td>\n",
       "      <td>0.74</td>\n",
       "      <td>TravelTimeSeconds_mean</td>\n",
       "      <td>2023</td>\n",
       "    </tr>\n",
       "    <tr>\n",
       "      <th>LarsCV</th>\n",
       "      <td>0.01</td>\n",
       "      <td>0.01</td>\n",
       "      <td>132.88</td>\n",
       "      <td>0.74</td>\n",
       "      <td>TravelTimeSeconds_mean</td>\n",
       "      <td>2023</td>\n",
       "    </tr>\n",
       "    <tr>\n",
       "      <th>LassoCV</th>\n",
       "      <td>0.01</td>\n",
       "      <td>0.01</td>\n",
       "      <td>132.88</td>\n",
       "      <td>0.98</td>\n",
       "      <td>TravelTimeSeconds_mean</td>\n",
       "      <td>2023</td>\n",
       "    </tr>\n",
       "    <tr>\n",
       "      <th>RidgeCV</th>\n",
       "      <td>0.01</td>\n",
       "      <td>0.01</td>\n",
       "      <td>132.88</td>\n",
       "      <td>0.58</td>\n",
       "      <td>TravelTimeSeconds_mean</td>\n",
       "      <td>2023</td>\n",
       "    </tr>\n",
       "    <tr>\n",
       "      <th>Ridge</th>\n",
       "      <td>0.01</td>\n",
       "      <td>0.01</td>\n",
       "      <td>132.88</td>\n",
       "      <td>0.17</td>\n",
       "      <td>TravelTimeSeconds_mean</td>\n",
       "      <td>2023</td>\n",
       "    </tr>\n",
       "    <tr>\n",
       "      <th>LinearRegression</th>\n",
       "      <td>0.01</td>\n",
       "      <td>0.01</td>\n",
       "      <td>132.88</td>\n",
       "      <td>0.35</td>\n",
       "      <td>TravelTimeSeconds_mean</td>\n",
       "      <td>2023</td>\n",
       "    </tr>\n",
       "    <tr>\n",
       "      <th>TransformedTargetRegressor</th>\n",
       "      <td>0.01</td>\n",
       "      <td>0.01</td>\n",
       "      <td>132.88</td>\n",
       "      <td>0.36</td>\n",
       "      <td>TravelTimeSeconds_mean</td>\n",
       "      <td>2023</td>\n",
       "    </tr>\n",
       "    <tr>\n",
       "      <th>LassoLarsIC</th>\n",
       "      <td>0.01</td>\n",
       "      <td>0.01</td>\n",
       "      <td>132.88</td>\n",
       "      <td>0.43</td>\n",
       "      <td>TravelTimeSeconds_mean</td>\n",
       "      <td>2023</td>\n",
       "    </tr>\n",
       "    <tr>\n",
       "      <th>Lars</th>\n",
       "      <td>0.01</td>\n",
       "      <td>0.01</td>\n",
       "      <td>132.88</td>\n",
       "      <td>0.20</td>\n",
       "      <td>TravelTimeSeconds_mean</td>\n",
       "      <td>2023</td>\n",
       "    </tr>\n",
       "    <tr>\n",
       "      <th>PoissonRegressor</th>\n",
       "      <td>0.01</td>\n",
       "      <td>0.01</td>\n",
       "      <td>132.90</td>\n",
       "      <td>0.24</td>\n",
       "      <td>TravelTimeSeconds_mean</td>\n",
       "      <td>2023</td>\n",
       "    </tr>\n",
       "    <tr>\n",
       "      <th>PLSRegression</th>\n",
       "      <td>0.01</td>\n",
       "      <td>0.01</td>\n",
       "      <td>132.93</td>\n",
       "      <td>0.29</td>\n",
       "      <td>TravelTimeSeconds_mean</td>\n",
       "      <td>2023</td>\n",
       "    </tr>\n",
       "    <tr>\n",
       "      <th>LassoLars</th>\n",
       "      <td>0.01</td>\n",
       "      <td>0.01</td>\n",
       "      <td>132.99</td>\n",
       "      <td>0.20</td>\n",
       "      <td>TravelTimeSeconds_mean</td>\n",
       "      <td>2023</td>\n",
       "    </tr>\n",
       "    <tr>\n",
       "      <th>Lasso</th>\n",
       "      <td>0.01</td>\n",
       "      <td>0.01</td>\n",
       "      <td>132.99</td>\n",
       "      <td>0.32</td>\n",
       "      <td>TravelTimeSeconds_mean</td>\n",
       "      <td>2023</td>\n",
       "    </tr>\n",
       "    <tr>\n",
       "      <th>SGDRegressor</th>\n",
       "      <td>0.01</td>\n",
       "      <td>0.01</td>\n",
       "      <td>133.03</td>\n",
       "      <td>0.98</td>\n",
       "      <td>TravelTimeSeconds_mean</td>\n",
       "      <td>2023</td>\n",
       "    </tr>\n",
       "    <tr>\n",
       "      <th>ElasticNet</th>\n",
       "      <td>0.01</td>\n",
       "      <td>0.01</td>\n",
       "      <td>133.14</td>\n",
       "      <td>0.27</td>\n",
       "      <td>TravelTimeSeconds_mean</td>\n",
       "      <td>2023</td>\n",
       "    </tr>\n",
       "    <tr>\n",
       "      <th>OrthogonalMatchingPursuitCV</th>\n",
       "      <td>0.01</td>\n",
       "      <td>0.01</td>\n",
       "      <td>133.19</td>\n",
       "      <td>0.61</td>\n",
       "      <td>TravelTimeSeconds_mean</td>\n",
       "      <td>2023</td>\n",
       "    </tr>\n",
       "    <tr>\n",
       "      <th>OrthogonalMatchingPursuit</th>\n",
       "      <td>0.00</td>\n",
       "      <td>0.00</td>\n",
       "      <td>133.59</td>\n",
       "      <td>0.20</td>\n",
       "      <td>TravelTimeSeconds_mean</td>\n",
       "      <td>2023</td>\n",
       "    </tr>\n",
       "    <tr>\n",
       "      <th>HuberRegressor</th>\n",
       "      <td>0.00</td>\n",
       "      <td>0.00</td>\n",
       "      <td>133.64</td>\n",
       "      <td>0.73</td>\n",
       "      <td>TravelTimeSeconds_mean</td>\n",
       "      <td>2023</td>\n",
       "    </tr>\n",
       "    <tr>\n",
       "      <th>DummyRegressor</th>\n",
       "      <td>-0.00</td>\n",
       "      <td>-0.00</td>\n",
       "      <td>133.81</td>\n",
       "      <td>0.18</td>\n",
       "      <td>TravelTimeSeconds_mean</td>\n",
       "      <td>2023</td>\n",
       "    </tr>\n",
       "    <tr>\n",
       "      <th>LinearSVR</th>\n",
       "      <td>-0.01</td>\n",
       "      <td>-0.01</td>\n",
       "      <td>134.20</td>\n",
       "      <td>0.64</td>\n",
       "      <td>TravelTimeSeconds_mean</td>\n",
       "      <td>2023</td>\n",
       "    </tr>\n",
       "    <tr>\n",
       "      <th>TheilSenRegressor</th>\n",
       "      <td>-0.04</td>\n",
       "      <td>-0.04</td>\n",
       "      <td>136.46</td>\n",
       "      <td>48.05</td>\n",
       "      <td>TravelTimeSeconds_mean</td>\n",
       "      <td>2023</td>\n",
       "    </tr>\n",
       "    <tr>\n",
       "      <th>RandomForestRegressor</th>\n",
       "      <td>-0.05</td>\n",
       "      <td>-0.05</td>\n",
       "      <td>137.36</td>\n",
       "      <td>56.48</td>\n",
       "      <td>TravelTimeSeconds_mean</td>\n",
       "      <td>2023</td>\n",
       "    </tr>\n",
       "    <tr>\n",
       "      <th>KNeighborsRegressor</th>\n",
       "      <td>-0.08</td>\n",
       "      <td>-0.08</td>\n",
       "      <td>139.20</td>\n",
       "      <td>34.88</td>\n",
       "      <td>TravelTimeSeconds_mean</td>\n",
       "      <td>2023</td>\n",
       "    </tr>\n",
       "    <tr>\n",
       "      <th>AdaBoostRegressor</th>\n",
       "      <td>-0.12</td>\n",
       "      <td>-0.12</td>\n",
       "      <td>141.84</td>\n",
       "      <td>4.91</td>\n",
       "      <td>TravelTimeSeconds_mean</td>\n",
       "      <td>2023</td>\n",
       "    </tr>\n",
       "    <tr>\n",
       "      <th>BaggingRegressor</th>\n",
       "      <td>-0.13</td>\n",
       "      <td>-0.13</td>\n",
       "      <td>142.25</td>\n",
       "      <td>6.23</td>\n",
       "      <td>TravelTimeSeconds_mean</td>\n",
       "      <td>2023</td>\n",
       "    </tr>\n",
       "    <tr>\n",
       "      <th>PassiveAggressiveRegressor</th>\n",
       "      <td>-0.16</td>\n",
       "      <td>-0.16</td>\n",
       "      <td>144.10</td>\n",
       "      <td>0.50</td>\n",
       "      <td>TravelTimeSeconds_mean</td>\n",
       "      <td>2023</td>\n",
       "    </tr>\n",
       "    <tr>\n",
       "      <th>DecisionTreeRegressor</th>\n",
       "      <td>-0.86</td>\n",
       "      <td>-0.85</td>\n",
       "      <td>182.24</td>\n",
       "      <td>1.05</td>\n",
       "      <td>TravelTimeSeconds_mean</td>\n",
       "      <td>2023</td>\n",
       "    </tr>\n",
       "    <tr>\n",
       "      <th>ExtraTreeRegressor</th>\n",
       "      <td>-0.86</td>\n",
       "      <td>-0.86</td>\n",
       "      <td>182.36</td>\n",
       "      <td>1.11</td>\n",
       "      <td>TravelTimeSeconds_mean</td>\n",
       "      <td>2023</td>\n",
       "    </tr>\n",
       "    <tr>\n",
       "      <th>RANSACRegressor</th>\n",
       "      <td>-0.97</td>\n",
       "      <td>-0.97</td>\n",
       "      <td>187.57</td>\n",
       "      <td>1.28</td>\n",
       "      <td>TravelTimeSeconds_mean</td>\n",
       "      <td>2023</td>\n",
       "    </tr>\n",
       "  </tbody>\n",
       "</table>\n",
       "</div>"
      ],
      "text/plain": [
       "                               Adjusted R-Squared  R-Squared   RMSE  \\\n",
       "Model                                                                 \n",
       "MLPRegressor                                 0.11       0.11 126.55   \n",
       "HistGradientBoostingRegressor                0.10       0.10 127.21   \n",
       "GradientBoostingRegressor                    0.05       0.05 130.59   \n",
       "ElasticNetCV                                 0.01       0.01 132.88   \n",
       "BayesianRidge                                0.01       0.01 132.88   \n",
       "LassoLarsCV                                  0.01       0.01 132.88   \n",
       "LarsCV                                       0.01       0.01 132.88   \n",
       "LassoCV                                      0.01       0.01 132.88   \n",
       "RidgeCV                                      0.01       0.01 132.88   \n",
       "Ridge                                        0.01       0.01 132.88   \n",
       "LinearRegression                             0.01       0.01 132.88   \n",
       "TransformedTargetRegressor                   0.01       0.01 132.88   \n",
       "LassoLarsIC                                  0.01       0.01 132.88   \n",
       "Lars                                         0.01       0.01 132.88   \n",
       "PoissonRegressor                             0.01       0.01 132.90   \n",
       "PLSRegression                                0.01       0.01 132.93   \n",
       "LassoLars                                    0.01       0.01 132.99   \n",
       "Lasso                                        0.01       0.01 132.99   \n",
       "SGDRegressor                                 0.01       0.01 133.03   \n",
       "ElasticNet                                   0.01       0.01 133.14   \n",
       "OrthogonalMatchingPursuitCV                  0.01       0.01 133.19   \n",
       "OrthogonalMatchingPursuit                    0.00       0.00 133.59   \n",
       "HuberRegressor                               0.00       0.00 133.64   \n",
       "DummyRegressor                              -0.00      -0.00 133.81   \n",
       "LinearSVR                                   -0.01      -0.01 134.20   \n",
       "TheilSenRegressor                           -0.04      -0.04 136.46   \n",
       "RandomForestRegressor                       -0.05      -0.05 137.36   \n",
       "KNeighborsRegressor                         -0.08      -0.08 139.20   \n",
       "AdaBoostRegressor                           -0.12      -0.12 141.84   \n",
       "BaggingRegressor                            -0.13      -0.13 142.25   \n",
       "PassiveAggressiveRegressor                  -0.16      -0.16 144.10   \n",
       "DecisionTreeRegressor                       -0.86      -0.85 182.24   \n",
       "ExtraTreeRegressor                          -0.86      -0.86 182.36   \n",
       "RANSACRegressor                             -0.97      -0.97 187.57   \n",
       "\n",
       "                               Time Taken                  Target  Year floor  \n",
       "Model                                                                          \n",
       "MLPRegressor                       156.62  TravelTimeSeconds_mean        2023  \n",
       "HistGradientBoostingRegressor        1.57  TravelTimeSeconds_mean        2023  \n",
       "GradientBoostingRegressor           16.80  TravelTimeSeconds_mean        2023  \n",
       "ElasticNetCV                         1.03  TravelTimeSeconds_mean        2023  \n",
       "BayesianRidge                        0.55  TravelTimeSeconds_mean        2023  \n",
       "LassoLarsCV                          0.74  TravelTimeSeconds_mean        2023  \n",
       "LarsCV                               0.74  TravelTimeSeconds_mean        2023  \n",
       "LassoCV                              0.98  TravelTimeSeconds_mean        2023  \n",
       "RidgeCV                              0.58  TravelTimeSeconds_mean        2023  \n",
       "Ridge                                0.17  TravelTimeSeconds_mean        2023  \n",
       "LinearRegression                     0.35  TravelTimeSeconds_mean        2023  \n",
       "TransformedTargetRegressor           0.36  TravelTimeSeconds_mean        2023  \n",
       "LassoLarsIC                          0.43  TravelTimeSeconds_mean        2023  \n",
       "Lars                                 0.20  TravelTimeSeconds_mean        2023  \n",
       "PoissonRegressor                     0.24  TravelTimeSeconds_mean        2023  \n",
       "PLSRegression                        0.29  TravelTimeSeconds_mean        2023  \n",
       "LassoLars                            0.20  TravelTimeSeconds_mean        2023  \n",
       "Lasso                                0.32  TravelTimeSeconds_mean        2023  \n",
       "SGDRegressor                         0.98  TravelTimeSeconds_mean        2023  \n",
       "ElasticNet                           0.27  TravelTimeSeconds_mean        2023  \n",
       "OrthogonalMatchingPursuitCV          0.61  TravelTimeSeconds_mean        2023  \n",
       "OrthogonalMatchingPursuit            0.20  TravelTimeSeconds_mean        2023  \n",
       "HuberRegressor                       0.73  TravelTimeSeconds_mean        2023  \n",
       "DummyRegressor                       0.18  TravelTimeSeconds_mean        2023  \n",
       "LinearSVR                            0.64  TravelTimeSeconds_mean        2023  \n",
       "TheilSenRegressor                   48.05  TravelTimeSeconds_mean        2023  \n",
       "RandomForestRegressor               56.48  TravelTimeSeconds_mean        2023  \n",
       "KNeighborsRegressor                 34.88  TravelTimeSeconds_mean        2023  \n",
       "AdaBoostRegressor                    4.91  TravelTimeSeconds_mean        2023  \n",
       "BaggingRegressor                     6.23  TravelTimeSeconds_mean        2023  \n",
       "PassiveAggressiveRegressor           0.50  TravelTimeSeconds_mean        2023  \n",
       "DecisionTreeRegressor                1.05  TravelTimeSeconds_mean        2023  \n",
       "ExtraTreeRegressor                   1.11  TravelTimeSeconds_mean        2023  \n",
       "RANSACRegressor                      1.28  TravelTimeSeconds_mean        2023  "
      ]
     },
     "metadata": {},
     "output_type": "display_data"
    },
    {
     "name": "stdout",
     "output_type": "stream",
     "text": [
      "-----------------------------------------------------\n",
      "year 2021\n",
      "-----------------------------------------------------\n",
      "(444247, 40)\n",
      "cols_to_remove ['TurnoutTimeSeconds_min', 'TurnoutTimeSeconds_mean', 'TurnoutTimeSeconds_max', 'TravelTimeSeconds_min', 'TravelTimeSeconds_mean', 'TravelTimeSeconds_max', 'PumpSecondsOnSite_min', 'PumpSecondsOnSite_mean', 'PumpSecondsOnSite_max', 'NumPumpsAttending']\n",
      "cols_to_keep ['CalYear', 'PropertyType_0', 'PropertyType_1', 'PropertyType_2', 'PropertyType_3', 'PropertyType_4', 'PropertyType_5', 'PropertyType_6', 'StopCode_0', 'StopCode_1', 'StopCode_2', 'StopCode_3', 'StopCode_4']\n"
     ]
    },
    {
     "data": {
      "text/html": [
       "<div>\n",
       "<style scoped>\n",
       "    .dataframe tbody tr th:only-of-type {\n",
       "        vertical-align: middle;\n",
       "    }\n",
       "\n",
       "    .dataframe tbody tr th {\n",
       "        vertical-align: top;\n",
       "    }\n",
       "\n",
       "    .dataframe thead th {\n",
       "        text-align: right;\n",
       "    }\n",
       "</style>\n",
       "<table border=\"1\" class=\"dataframe\">\n",
       "  <thead>\n",
       "    <tr style=\"text-align: right;\">\n",
       "      <th></th>\n",
       "      <th>CalYear</th>\n",
       "      <th>PropertyType_0</th>\n",
       "      <th>PropertyType_1</th>\n",
       "      <th>PropertyType_2</th>\n",
       "      <th>PropertyType_3</th>\n",
       "      <th>PropertyType_4</th>\n",
       "      <th>PropertyType_5</th>\n",
       "      <th>PropertyType_6</th>\n",
       "      <th>StopCode_0</th>\n",
       "      <th>StopCode_1</th>\n",
       "      <th>StopCode_2</th>\n",
       "      <th>StopCode_3</th>\n",
       "      <th>StopCode_4</th>\n",
       "    </tr>\n",
       "  </thead>\n",
       "  <tbody>\n",
       "    <tr>\n",
       "      <th>1147280</th>\n",
       "      <td>13</td>\n",
       "      <td>0</td>\n",
       "      <td>0</td>\n",
       "      <td>0</td>\n",
       "      <td>0</td>\n",
       "      <td>0</td>\n",
       "      <td>1</td>\n",
       "      <td>0</td>\n",
       "      <td>0</td>\n",
       "      <td>0</td>\n",
       "      <td>0</td>\n",
       "      <td>1</td>\n",
       "      <td>1</td>\n",
       "    </tr>\n",
       "    <tr>\n",
       "      <th>1147281</th>\n",
       "      <td>13</td>\n",
       "      <td>0</td>\n",
       "      <td>0</td>\n",
       "      <td>0</td>\n",
       "      <td>0</td>\n",
       "      <td>0</td>\n",
       "      <td>1</td>\n",
       "      <td>0</td>\n",
       "      <td>0</td>\n",
       "      <td>0</td>\n",
       "      <td>0</td>\n",
       "      <td>1</td>\n",
       "      <td>0</td>\n",
       "    </tr>\n",
       "  </tbody>\n",
       "</table>\n",
       "</div>"
      ],
      "text/plain": [
       "         CalYear  PropertyType_0  PropertyType_1  PropertyType_2  \\\n",
       "1147280       13               0               0               0   \n",
       "1147281       13               0               0               0   \n",
       "\n",
       "         PropertyType_3  PropertyType_4  PropertyType_5  PropertyType_6  \\\n",
       "1147280               0               0               1               0   \n",
       "1147281               0               0               1               0   \n",
       "\n",
       "         StopCode_0  StopCode_1  StopCode_2  StopCode_3  StopCode_4  \n",
       "1147280           0           0           0           1           1  \n",
       "1147281           0           0           0           1           0  "
      ]
     },
     "metadata": {},
     "output_type": "display_data"
    },
    {
     "name": "stdout",
     "output_type": "stream",
     "text": [
      "(444247, 13)\n",
      "cible PumpSecondsOnSite_mean\n",
      "[('AdaBoostRegressor', <class 'sklearn.ensemble._weight_boosting.AdaBoostRegressor'>), ('BaggingRegressor', <class 'sklearn.ensemble._bagging.BaggingRegressor'>), ('BayesianRidge', <class 'sklearn.linear_model._bayes.BayesianRidge'>), ('DecisionTreeRegressor', <class 'sklearn.tree._classes.DecisionTreeRegressor'>), ('DummyRegressor', <class 'sklearn.dummy.DummyRegressor'>), ('ElasticNet', <class 'sklearn.linear_model._coordinate_descent.ElasticNet'>), ('ElasticNetCV', <class 'sklearn.linear_model._coordinate_descent.ElasticNetCV'>), ('ExtraTreeRegressor', <class 'sklearn.tree._classes.ExtraTreeRegressor'>), ('GradientBoostingRegressor', <class 'sklearn.ensemble._gb.GradientBoostingRegressor'>), ('HistGradientBoostingRegressor', <class 'sklearn.ensemble._hist_gradient_boosting.gradient_boosting.HistGradientBoostingRegressor'>), ('HuberRegressor', <class 'sklearn.linear_model._huber.HuberRegressor'>), ('KNeighborsRegressor', <class 'sklearn.neighbors._regression.KNeighborsRegressor'>), ('Lars', <class 'sklearn.linear_model._least_angle.Lars'>), ('LarsCV', <class 'sklearn.linear_model._least_angle.LarsCV'>), ('Lasso', <class 'sklearn.linear_model._coordinate_descent.Lasso'>), ('LassoCV', <class 'sklearn.linear_model._coordinate_descent.LassoCV'>), ('LassoLars', <class 'sklearn.linear_model._least_angle.LassoLars'>), ('LassoLarsCV', <class 'sklearn.linear_model._least_angle.LassoLarsCV'>), ('LassoLarsIC', <class 'sklearn.linear_model._least_angle.LassoLarsIC'>), ('LinearRegression', <class 'sklearn.linear_model._base.LinearRegression'>), ('LinearSVR', <class 'sklearn.svm._classes.LinearSVR'>), ('MLPRegressor', <class 'sklearn.neural_network._multilayer_perceptron.MLPRegressor'>), ('OrthogonalMatchingPursuit', <class 'sklearn.linear_model._omp.OrthogonalMatchingPursuit'>), ('OrthogonalMatchingPursuitCV', <class 'sklearn.linear_model._omp.OrthogonalMatchingPursuitCV'>), ('PLSRegression', <class 'sklearn.cross_decomposition._pls.PLSRegression'>), ('PassiveAggressiveRegressor', <class 'sklearn.linear_model._passive_aggressive.PassiveAggressiveRegressor'>), ('PoissonRegressor', <class 'sklearn.linear_model._glm.glm.PoissonRegressor'>), ('RANSACRegressor', <class 'sklearn.linear_model._ransac.RANSACRegressor'>), ('RandomForestRegressor', <class 'sklearn.ensemble._forest.RandomForestRegressor'>), ('Ridge', <class 'sklearn.linear_model._ridge.Ridge'>), ('RidgeCV', <class 'sklearn.linear_model._ridge.RidgeCV'>), ('SGDRegressor', <class 'sklearn.linear_model._stochastic_gradient.SGDRegressor'>), ('TheilSenRegressor', <class 'sklearn.linear_model._theil_sen.TheilSenRegressor'>), ('TransformedTargetRegressor', <class 'sklearn.compose._target.TransformedTargetRegressor'>), ('VotingRegressor', <class 'sklearn.ensemble._voting.VotingRegressor'>)]\n",
      "'tuple' object has no attribute '__name__'\n",
      "Invalid Regressor(s)\n"
     ]
    },
    {
     "name": "stderr",
     "output_type": "stream",
     "text": [
      "  3%|▎         | 1/35 [00:02<01:39,  2.93s/it]"
     ]
    },
    {
     "name": "stdout",
     "output_type": "stream",
     "text": [
      "{'Model': 'AdaBoostRegressor', 'R-Squared': 0.15255295783128398, 'Adjusted R-Squared': 0.15242894491368086, 'RMSE': np.float64(1357.445862758935), 'Time taken': 2.9275095462799072}\n"
     ]
    },
    {
     "name": "stderr",
     "output_type": "stream",
     "text": [
      "  6%|▌         | 2/35 [00:05<01:35,  2.90s/it]"
     ]
    },
    {
     "name": "stdout",
     "output_type": "stream",
     "text": [
      "{'Model': 'BaggingRegressor', 'R-Squared': 0.2217585139443552, 'Adjusted R-Squared': 0.2216446283650999, 'RMSE': np.float64(1300.8386235687547), 'Time taken': 2.885833740234375}\n"
     ]
    },
    {
     "name": "stderr",
     "output_type": "stream",
     "text": [
      "  9%|▊         | 3/35 [00:06<00:57,  1.81s/it]"
     ]
    },
    {
     "name": "stdout",
     "output_type": "stream",
     "text": [
      "{'Model': 'BayesianRidge', 'R-Squared': 0.14086984733755425, 'Adjusted R-Squared': 0.14074412474778641, 'RMSE': np.float64(1366.7708725339023), 'Time taken': 0.5103962421417236}\n"
     ]
    },
    {
     "name": "stderr",
     "output_type": "stream",
     "text": [
      " 14%|█▍        | 5/35 [00:07<00:27,  1.11it/s]"
     ]
    },
    {
     "name": "stdout",
     "output_type": "stream",
     "text": [
      "{'Model': 'DecisionTreeRegressor', 'R-Squared': 0.22075163542184917, 'Adjusted R-Squared': 0.2206376024989405, 'RMSE': np.float64(1301.6798554501922), 'Time taken': 0.5277647972106934}\n",
      "{'Model': 'DummyRegressor', 'R-Squared': -8.295197690966205e-07, 'Adjusted R-Squared': -0.00014716671171566276, 'RMSE': np.float64(1474.5734640912024), 'Time taken': 0.18223190307617188}\n"
     ]
    },
    {
     "name": "stderr",
     "output_type": "stream",
     "text": [
      " 17%|█▋        | 6/35 [00:07<00:20,  1.40it/s]"
     ]
    },
    {
     "name": "stdout",
     "output_type": "stream",
     "text": [
      "{'Model': 'ElasticNet', 'R-Squared': 0.1284439072774073, 'Adjusted R-Squared': 0.12831636631197219, 'RMSE': np.float64(1376.6194638952686), 'Time taken': 0.34641528129577637}\n"
     ]
    },
    {
     "name": "stderr",
     "output_type": "stream",
     "text": [
      " 20%|██        | 7/35 [00:08<00:25,  1.11it/s]"
     ]
    },
    {
     "name": "stdout",
     "output_type": "stream",
     "text": [
      "{'Model': 'ElasticNetCV', 'R-Squared': 0.12933971714284775, 'Adjusted R-Squared': 0.12921230726760413, 'RMSE': np.float64(1375.911817912051), 'Time taken': 1.2782626152038574}\n"
     ]
    },
    {
     "name": "stderr",
     "output_type": "stream",
     "text": [
      " 23%|██▎       | 8/35 [00:09<00:20,  1.29it/s]"
     ]
    },
    {
     "name": "stdout",
     "output_type": "stream",
     "text": [
      "{'Model': 'ExtraTreeRegressor', 'R-Squared': 0.22068210149543233, 'Adjusted R-Squared': 0.22056805839713256, 'RMSE': np.float64(1301.7379299334848), 'Time taken': 0.5122733116149902}\n"
     ]
    },
    {
     "name": "stderr",
     "output_type": "stream",
     "text": [
      " 26%|██▌       | 9/35 [00:23<02:11,  5.05s/it]"
     ]
    },
    {
     "name": "stdout",
     "output_type": "stream",
     "text": [
      "{'Model': 'GradientBoostingRegressor', 'R-Squared': 0.20882673834974552, 'Adjusted R-Squared': 0.2087109603723326, 'RMSE': np.float64(1311.6018931320532), 'Time taken': 14.45115065574646}\n"
     ]
    },
    {
     "name": "stderr",
     "output_type": "stream",
     "text": [
      " 29%|██▊       | 10/35 [00:25<01:38,  3.96s/it]"
     ]
    },
    {
     "name": "stdout",
     "output_type": "stream",
     "text": [
      "{'Model': 'HistGradientBoostingRegressor', 'R-Squared': 0.22165739971462795, 'Adjusted R-Squared': 0.2215434993386125, 'RMSE': np.float64(1300.923127559893), 'Time taken': 1.5076587200164795}\n"
     ]
    },
    {
     "name": "stderr",
     "output_type": "stream",
     "text": [
      " 31%|███▏      | 11/35 [00:26<01:15,  3.16s/it]"
     ]
    },
    {
     "name": "stdout",
     "output_type": "stream",
     "text": [
      "{'Model': 'HuberRegressor', 'R-Squared': 0.06493465152178912, 'Adjusted R-Squared': 0.06479781679791341, 'RMSE': np.float64(1425.893915215041), 'Time taken': 1.3513658046722412}\n"
     ]
    },
    {
     "name": "stderr",
     "output_type": "stream",
     "text": [
      " 34%|███▍      | 12/35 [11:51<1:20:40, 210.48s/it]"
     ]
    },
    {
     "name": "stdout",
     "output_type": "stream",
     "text": [
      "{'Model': 'KNeighborsRegressor', 'R-Squared': 0.10965417625817009, 'Adjusted R-Squared': 0.1095238856585411, 'RMSE': np.float64(1391.3794894605912), 'Time taken': 684.650951385498}\n"
     ]
    },
    {
     "name": "stderr",
     "output_type": "stream",
     "text": [
      " 37%|███▋      | 13/35 [11:51<53:49, 146.78s/it]  "
     ]
    },
    {
     "name": "stdout",
     "output_type": "stream",
     "text": [
      "{'Model': 'Lars', 'R-Squared': 0.14086999772850328, 'Adjusted R-Squared': 0.14074427516074328, 'RMSE': np.float64(1366.7707529071047), 'Time taken': 0.2181086540222168}\n"
     ]
    },
    {
     "name": "stderr",
     "output_type": "stream",
     "text": [
      " 40%|████      | 14/35 [11:52<35:57, 102.73s/it]"
     ]
    },
    {
     "name": "stdout",
     "output_type": "stream",
     "text": [
      "{'Model': 'LarsCV', 'R-Squared': 0.14086999772850328, 'Adjusted R-Squared': 0.14074427516074328, 'RMSE': np.float64(1366.7707529071047), 'Time taken': 0.9187829494476318}\n"
     ]
    },
    {
     "name": "stderr",
     "output_type": "stream",
     "text": [
      " 43%|████▎     | 15/35 [11:52<23:58, 71.94s/it] "
     ]
    },
    {
     "name": "stdout",
     "output_type": "stream",
     "text": [
      "{'Model': 'Lasso', 'R-Squared': 0.14084106734378343, 'Adjusted R-Squared': 0.14071534054243562, 'RMSE': np.float64(1366.7937650651766), 'Time taken': 0.5850174427032471}\n"
     ]
    },
    {
     "name": "stderr",
     "output_type": "stream",
     "text": [
      " 46%|████▌     | 16/35 [11:54<16:03, 50.73s/it]"
     ]
    },
    {
     "name": "stdout",
     "output_type": "stream",
     "text": [
      "{'Model': 'LassoCV', 'R-Squared': 0.14086042929660125, 'Adjusted R-Squared': 0.14073470532862487, 'RMSE': np.float64(1366.7783639883305), 'Time taken': 1.4813764095306396}\n"
     ]
    },
    {
     "name": "stderr",
     "output_type": "stream",
     "text": [
      " 49%|████▊     | 17/35 [11:54<10:39, 35.55s/it]"
     ]
    },
    {
     "name": "stdout",
     "output_type": "stream",
     "text": [
      "{'Model': 'LassoLars', 'R-Squared': 0.14084139079792757, 'Adjusted R-Squared': 0.1407156640439131, 'RMSE': np.float64(1366.7935077814934), 'Time taken': 0.23830246925354004}\n"
     ]
    },
    {
     "name": "stderr",
     "output_type": "stream",
     "text": [
      " 51%|█████▏    | 18/35 [11:55<07:07, 25.15s/it]"
     ]
    },
    {
     "name": "stdout",
     "output_type": "stream",
     "text": [
      "{'Model': 'LassoLarsCV', 'R-Squared': 0.14086999772850328, 'Adjusted R-Squared': 0.14074427516074328, 'RMSE': np.float64(1366.7707529071047), 'Time taken': 0.9347689151763916}\n"
     ]
    },
    {
     "name": "stderr",
     "output_type": "stream",
     "text": [
      " 54%|█████▍    | 19/35 [11:56<04:43, 17.74s/it]"
     ]
    },
    {
     "name": "stdout",
     "output_type": "stream",
     "text": [
      "{'Model': 'LassoLarsIC', 'R-Squared': 0.14086999772850328, 'Adjusted R-Squared': 0.14074427516074328, 'RMSE': np.float64(1366.7707529071047), 'Time taken': 0.48789167404174805}\n"
     ]
    },
    {
     "name": "stderr",
     "output_type": "stream",
     "text": [
      " 57%|█████▋    | 20/35 [11:56<03:07, 12.52s/it]"
     ]
    },
    {
     "name": "stdout",
     "output_type": "stream",
     "text": [
      "{'Model': 'LinearRegression', 'R-Squared': 0.1408699977285066, 'Adjusted R-Squared': 0.1407442751607466, 'RMSE': np.float64(1366.770752907102), 'Time taken': 0.36023569107055664}\n"
     ]
    },
    {
     "name": "stderr",
     "output_type": "stream",
     "text": [
      " 60%|██████    | 21/35 [11:57<02:06,  9.01s/it]"
     ]
    },
    {
     "name": "stdout",
     "output_type": "stream",
     "text": [
      "{'Model': 'LinearSVR', 'R-Squared': 0.048986939010936426, 'Adjusted R-Squared': 0.0488477705455298, 'RMSE': np.float64(1438.0019495511888), 'Time taken': 0.8308730125427246}\n"
     ]
    },
    {
     "name": "stderr",
     "output_type": "stream",
     "text": [
      " 63%|██████▎   | 22/35 [17:10<21:46, 100.46s/it]"
     ]
    },
    {
     "name": "stdout",
     "output_type": "stream",
     "text": [
      "{'Model': 'MLPRegressor', 'R-Squared': 0.2154100475051265, 'Adjusted R-Squared': 0.21529523290988994, 'RMSE': np.float64(1306.133610476064), 'Time taken': 313.7225022315979}\n"
     ]
    },
    {
     "name": "stderr",
     "output_type": "stream",
     "text": [
      " 66%|██████▌   | 23/35 [17:11<14:04, 70.39s/it] "
     ]
    },
    {
     "name": "stdout",
     "output_type": "stream",
     "text": [
      "{'Model': 'OrthogonalMatchingPursuit', 'R-Squared': 0.09931313019477006, 'Adjusted R-Squared': 0.09918132631675358, 'RMSE': np.float64(1399.436348435213), 'Time taken': 0.2345576286315918}\n"
     ]
    },
    {
     "name": "stderr",
     "output_type": "stream",
     "text": [
      " 69%|██████▊   | 24/35 [17:11<09:04, 49.50s/it]"
     ]
    },
    {
     "name": "stdout",
     "output_type": "stream",
     "text": [
      "{'Model': 'OrthogonalMatchingPursuitCV', 'R-Squared': 0.13466941764347917, 'Adjusted R-Squared': 0.1345427877009937, 'RMSE': np.float64(1371.6940679037316), 'Time taken': 0.7844276428222656}\n"
     ]
    },
    {
     "name": "stderr",
     "output_type": "stream",
     "text": [
      " 71%|███████▏  | 25/35 [17:12<05:47, 34.76s/it]"
     ]
    },
    {
     "name": "stdout",
     "output_type": "stream",
     "text": [
      "{'Model': 'PLSRegression', 'R-Squared': 0.13421973997526948, 'Adjusted R-Squared': 0.1340930442282714, 'RMSE': np.float64(1372.0504288651666), 'Time taken': 0.36794018745422363}\n"
     ]
    },
    {
     "name": "stderr",
     "output_type": "stream",
     "text": [
      " 74%|███████▍  | 26/35 [17:13<03:41, 24.56s/it]"
     ]
    },
    {
     "name": "stdout",
     "output_type": "stream",
     "text": [
      "{'Model': 'PassiveAggressiveRegressor', 'R-Squared': 0.045047912099487664, 'Adjusted R-Squared': 0.044908167208422056, 'RMSE': np.float64(1440.9769219341058), 'Time taken': 0.749164342880249}\n"
     ]
    },
    {
     "name": "stderr",
     "output_type": "stream",
     "text": [
      " 77%|███████▋  | 27/35 [17:13<02:18, 17.30s/it]"
     ]
    },
    {
     "name": "stdout",
     "output_type": "stream",
     "text": [
      "{'Model': 'PoissonRegressor', 'R-Squared': 0.12497775463487204, 'Adjusted R-Squared': 0.12484970644281312, 'RMSE': np.float64(1379.3541349860882), 'Time taken': 0.3801534175872803}\n"
     ]
    },
    {
     "name": "stderr",
     "output_type": "stream",
     "text": [
      " 80%|████████  | 28/35 [17:15<01:28, 12.62s/it]"
     ]
    },
    {
     "name": "stdout",
     "output_type": "stream",
     "text": [
      "{'Model': 'RANSACRegressor', 'R-Squared': -0.16226854986490546, 'Adjusted R-Squared': -0.16243863283969318, 'RMSE': np.float64(1589.7157508632092), 'Time taken': 1.6958553791046143}\n"
     ]
    },
    {
     "name": "stderr",
     "output_type": "stream",
     "text": [
      " 83%|████████▎ | 29/35 [17:40<01:39, 16.54s/it]"
     ]
    },
    {
     "name": "stdout",
     "output_type": "stream",
     "text": [
      "{'Model': 'RandomForestRegressor', 'R-Squared': 0.22218890889965204, 'Adjusted R-Squared': 0.22207508630313366, 'RMSE': np.float64(1300.4788690322464), 'Time taken': 25.679834604263306}\n",
      "{'Model': 'Ridge', 'R-Squared': 0.140869996169518, 'Adjusted R-Squared': 0.14074427360152986, 'RMSE': np.float64(1366.770754147182), 'Time taken': 0.21333932876586914}\n"
     ]
    },
    {
     "name": "stderr",
     "output_type": "stream",
     "text": [
      " 89%|████████▊ | 31/35 [17:41<00:33,  8.34s/it]"
     ]
    },
    {
     "name": "stdout",
     "output_type": "stream",
     "text": [
      "{'Model': 'RidgeCV', 'R-Squared': 0.14086998193293876, 'Adjusted R-Squared': 0.14074425936286727, 'RMSE': np.float64(1366.7707654715102), 'Time taken': 0.6331663131713867}\n"
     ]
    },
    {
     "name": "stderr",
     "output_type": "stream",
     "text": [
      " 91%|█████████▏| 32/35 [17:43<00:19,  6.37s/it]"
     ]
    },
    {
     "name": "stdout",
     "output_type": "stream",
     "text": [
      "{'Model': 'SGDRegressor', 'R-Squared': 0.13920196322206202, 'Adjusted R-Squared': 0.1390759965590187, 'RMSE': np.float64(1368.0969289543011), 'Time taken': 1.7692680358886719}\n"
     ]
    },
    {
     "name": "stderr",
     "output_type": "stream",
     "text": [
      " 94%|█████████▍| 33/35 [19:24<01:09, 34.71s/it]"
     ]
    },
    {
     "name": "stdout",
     "output_type": "stream",
     "text": [
      "{'Model': 'TheilSenRegressor', 'R-Squared': 0.0048736846123538236, 'Adjusted R-Squared': 0.0047280607425258525, 'RMSE': np.float64(1470.9751621311054), 'Time taken': 100.82270979881287}\n"
     ]
    },
    {
     "name": "stderr",
     "output_type": "stream",
     "text": [
      "100%|██████████| 35/35 [19:24<00:00, 33.28s/it]"
     ]
    },
    {
     "name": "stdout",
     "output_type": "stream",
     "text": [
      "{'Model': 'TransformedTargetRegressor', 'R-Squared': 0.1408699977285066, 'Adjusted R-Squared': 0.1407442751607466, 'RMSE': np.float64(1366.770752907102), 'Time taken': 0.3784003257751465}\n",
      "VotingRegressor model failed to execute\n",
      "VotingRegressor.__init__() missing 1 required positional argument: 'estimators'\n"
     ]
    },
    {
     "name": "stderr",
     "output_type": "stream",
     "text": [
      "\n"
     ]
    },
    {
     "data": {
      "text/html": [
       "<div>\n",
       "<style scoped>\n",
       "    .dataframe tbody tr th:only-of-type {\n",
       "        vertical-align: middle;\n",
       "    }\n",
       "\n",
       "    .dataframe tbody tr th {\n",
       "        vertical-align: top;\n",
       "    }\n",
       "\n",
       "    .dataframe thead th {\n",
       "        text-align: right;\n",
       "    }\n",
       "</style>\n",
       "<table border=\"1\" class=\"dataframe\">\n",
       "  <thead>\n",
       "    <tr style=\"text-align: right;\">\n",
       "      <th></th>\n",
       "      <th>Adjusted R-Squared</th>\n",
       "      <th>R-Squared</th>\n",
       "      <th>RMSE</th>\n",
       "      <th>Time Taken</th>\n",
       "      <th>Target</th>\n",
       "      <th>Year floor</th>\n",
       "    </tr>\n",
       "    <tr>\n",
       "      <th>Model</th>\n",
       "      <th></th>\n",
       "      <th></th>\n",
       "      <th></th>\n",
       "      <th></th>\n",
       "      <th></th>\n",
       "      <th></th>\n",
       "    </tr>\n",
       "  </thead>\n",
       "  <tbody>\n",
       "    <tr>\n",
       "      <th>RandomForestRegressor</th>\n",
       "      <td>0.22</td>\n",
       "      <td>0.22</td>\n",
       "      <td>1300.48</td>\n",
       "      <td>25.68</td>\n",
       "      <td>PumpSecondsOnSite_mean</td>\n",
       "      <td>2021</td>\n",
       "    </tr>\n",
       "    <tr>\n",
       "      <th>BaggingRegressor</th>\n",
       "      <td>0.22</td>\n",
       "      <td>0.22</td>\n",
       "      <td>1300.84</td>\n",
       "      <td>2.89</td>\n",
       "      <td>PumpSecondsOnSite_mean</td>\n",
       "      <td>2021</td>\n",
       "    </tr>\n",
       "    <tr>\n",
       "      <th>HistGradientBoostingRegressor</th>\n",
       "      <td>0.22</td>\n",
       "      <td>0.22</td>\n",
       "      <td>1300.92</td>\n",
       "      <td>1.51</td>\n",
       "      <td>PumpSecondsOnSite_mean</td>\n",
       "      <td>2021</td>\n",
       "    </tr>\n",
       "    <tr>\n",
       "      <th>DecisionTreeRegressor</th>\n",
       "      <td>0.22</td>\n",
       "      <td>0.22</td>\n",
       "      <td>1301.68</td>\n",
       "      <td>0.53</td>\n",
       "      <td>PumpSecondsOnSite_mean</td>\n",
       "      <td>2021</td>\n",
       "    </tr>\n",
       "    <tr>\n",
       "      <th>ExtraTreeRegressor</th>\n",
       "      <td>0.22</td>\n",
       "      <td>0.22</td>\n",
       "      <td>1301.74</td>\n",
       "      <td>0.51</td>\n",
       "      <td>PumpSecondsOnSite_mean</td>\n",
       "      <td>2021</td>\n",
       "    </tr>\n",
       "    <tr>\n",
       "      <th>MLPRegressor</th>\n",
       "      <td>0.22</td>\n",
       "      <td>0.22</td>\n",
       "      <td>1306.13</td>\n",
       "      <td>313.72</td>\n",
       "      <td>PumpSecondsOnSite_mean</td>\n",
       "      <td>2021</td>\n",
       "    </tr>\n",
       "    <tr>\n",
       "      <th>GradientBoostingRegressor</th>\n",
       "      <td>0.21</td>\n",
       "      <td>0.21</td>\n",
       "      <td>1311.60</td>\n",
       "      <td>14.45</td>\n",
       "      <td>PumpSecondsOnSite_mean</td>\n",
       "      <td>2021</td>\n",
       "    </tr>\n",
       "    <tr>\n",
       "      <th>AdaBoostRegressor</th>\n",
       "      <td>0.15</td>\n",
       "      <td>0.15</td>\n",
       "      <td>1357.45</td>\n",
       "      <td>2.93</td>\n",
       "      <td>PumpSecondsOnSite_mean</td>\n",
       "      <td>2021</td>\n",
       "    </tr>\n",
       "    <tr>\n",
       "      <th>LinearRegression</th>\n",
       "      <td>0.14</td>\n",
       "      <td>0.14</td>\n",
       "      <td>1366.77</td>\n",
       "      <td>0.36</td>\n",
       "      <td>PumpSecondsOnSite_mean</td>\n",
       "      <td>2021</td>\n",
       "    </tr>\n",
       "    <tr>\n",
       "      <th>TransformedTargetRegressor</th>\n",
       "      <td>0.14</td>\n",
       "      <td>0.14</td>\n",
       "      <td>1366.77</td>\n",
       "      <td>0.38</td>\n",
       "      <td>PumpSecondsOnSite_mean</td>\n",
       "      <td>2021</td>\n",
       "    </tr>\n",
       "    <tr>\n",
       "      <th>Lars</th>\n",
       "      <td>0.14</td>\n",
       "      <td>0.14</td>\n",
       "      <td>1366.77</td>\n",
       "      <td>0.22</td>\n",
       "      <td>PumpSecondsOnSite_mean</td>\n",
       "      <td>2021</td>\n",
       "    </tr>\n",
       "    <tr>\n",
       "      <th>LassoLarsCV</th>\n",
       "      <td>0.14</td>\n",
       "      <td>0.14</td>\n",
       "      <td>1366.77</td>\n",
       "      <td>0.93</td>\n",
       "      <td>PumpSecondsOnSite_mean</td>\n",
       "      <td>2021</td>\n",
       "    </tr>\n",
       "    <tr>\n",
       "      <th>LarsCV</th>\n",
       "      <td>0.14</td>\n",
       "      <td>0.14</td>\n",
       "      <td>1366.77</td>\n",
       "      <td>0.92</td>\n",
       "      <td>PumpSecondsOnSite_mean</td>\n",
       "      <td>2021</td>\n",
       "    </tr>\n",
       "    <tr>\n",
       "      <th>LassoLarsIC</th>\n",
       "      <td>0.14</td>\n",
       "      <td>0.14</td>\n",
       "      <td>1366.77</td>\n",
       "      <td>0.49</td>\n",
       "      <td>PumpSecondsOnSite_mean</td>\n",
       "      <td>2021</td>\n",
       "    </tr>\n",
       "    <tr>\n",
       "      <th>Ridge</th>\n",
       "      <td>0.14</td>\n",
       "      <td>0.14</td>\n",
       "      <td>1366.77</td>\n",
       "      <td>0.21</td>\n",
       "      <td>PumpSecondsOnSite_mean</td>\n",
       "      <td>2021</td>\n",
       "    </tr>\n",
       "    <tr>\n",
       "      <th>RidgeCV</th>\n",
       "      <td>0.14</td>\n",
       "      <td>0.14</td>\n",
       "      <td>1366.77</td>\n",
       "      <td>0.63</td>\n",
       "      <td>PumpSecondsOnSite_mean</td>\n",
       "      <td>2021</td>\n",
       "    </tr>\n",
       "    <tr>\n",
       "      <th>BayesianRidge</th>\n",
       "      <td>0.14</td>\n",
       "      <td>0.14</td>\n",
       "      <td>1366.77</td>\n",
       "      <td>0.51</td>\n",
       "      <td>PumpSecondsOnSite_mean</td>\n",
       "      <td>2021</td>\n",
       "    </tr>\n",
       "    <tr>\n",
       "      <th>LassoCV</th>\n",
       "      <td>0.14</td>\n",
       "      <td>0.14</td>\n",
       "      <td>1366.78</td>\n",
       "      <td>1.48</td>\n",
       "      <td>PumpSecondsOnSite_mean</td>\n",
       "      <td>2021</td>\n",
       "    </tr>\n",
       "    <tr>\n",
       "      <th>LassoLars</th>\n",
       "      <td>0.14</td>\n",
       "      <td>0.14</td>\n",
       "      <td>1366.79</td>\n",
       "      <td>0.24</td>\n",
       "      <td>PumpSecondsOnSite_mean</td>\n",
       "      <td>2021</td>\n",
       "    </tr>\n",
       "    <tr>\n",
       "      <th>Lasso</th>\n",
       "      <td>0.14</td>\n",
       "      <td>0.14</td>\n",
       "      <td>1366.79</td>\n",
       "      <td>0.59</td>\n",
       "      <td>PumpSecondsOnSite_mean</td>\n",
       "      <td>2021</td>\n",
       "    </tr>\n",
       "    <tr>\n",
       "      <th>SGDRegressor</th>\n",
       "      <td>0.14</td>\n",
       "      <td>0.14</td>\n",
       "      <td>1368.10</td>\n",
       "      <td>1.77</td>\n",
       "      <td>PumpSecondsOnSite_mean</td>\n",
       "      <td>2021</td>\n",
       "    </tr>\n",
       "    <tr>\n",
       "      <th>OrthogonalMatchingPursuitCV</th>\n",
       "      <td>0.13</td>\n",
       "      <td>0.13</td>\n",
       "      <td>1371.69</td>\n",
       "      <td>0.78</td>\n",
       "      <td>PumpSecondsOnSite_mean</td>\n",
       "      <td>2021</td>\n",
       "    </tr>\n",
       "    <tr>\n",
       "      <th>PLSRegression</th>\n",
       "      <td>0.13</td>\n",
       "      <td>0.13</td>\n",
       "      <td>1372.05</td>\n",
       "      <td>0.37</td>\n",
       "      <td>PumpSecondsOnSite_mean</td>\n",
       "      <td>2021</td>\n",
       "    </tr>\n",
       "    <tr>\n",
       "      <th>ElasticNetCV</th>\n",
       "      <td>0.13</td>\n",
       "      <td>0.13</td>\n",
       "      <td>1375.91</td>\n",
       "      <td>1.28</td>\n",
       "      <td>PumpSecondsOnSite_mean</td>\n",
       "      <td>2021</td>\n",
       "    </tr>\n",
       "    <tr>\n",
       "      <th>ElasticNet</th>\n",
       "      <td>0.13</td>\n",
       "      <td>0.13</td>\n",
       "      <td>1376.62</td>\n",
       "      <td>0.35</td>\n",
       "      <td>PumpSecondsOnSite_mean</td>\n",
       "      <td>2021</td>\n",
       "    </tr>\n",
       "    <tr>\n",
       "      <th>PoissonRegressor</th>\n",
       "      <td>0.12</td>\n",
       "      <td>0.12</td>\n",
       "      <td>1379.35</td>\n",
       "      <td>0.38</td>\n",
       "      <td>PumpSecondsOnSite_mean</td>\n",
       "      <td>2021</td>\n",
       "    </tr>\n",
       "    <tr>\n",
       "      <th>KNeighborsRegressor</th>\n",
       "      <td>0.11</td>\n",
       "      <td>0.11</td>\n",
       "      <td>1391.38</td>\n",
       "      <td>684.65</td>\n",
       "      <td>PumpSecondsOnSite_mean</td>\n",
       "      <td>2021</td>\n",
       "    </tr>\n",
       "    <tr>\n",
       "      <th>OrthogonalMatchingPursuit</th>\n",
       "      <td>0.10</td>\n",
       "      <td>0.10</td>\n",
       "      <td>1399.44</td>\n",
       "      <td>0.23</td>\n",
       "      <td>PumpSecondsOnSite_mean</td>\n",
       "      <td>2021</td>\n",
       "    </tr>\n",
       "    <tr>\n",
       "      <th>HuberRegressor</th>\n",
       "      <td>0.06</td>\n",
       "      <td>0.06</td>\n",
       "      <td>1425.89</td>\n",
       "      <td>1.35</td>\n",
       "      <td>PumpSecondsOnSite_mean</td>\n",
       "      <td>2021</td>\n",
       "    </tr>\n",
       "    <tr>\n",
       "      <th>LinearSVR</th>\n",
       "      <td>0.05</td>\n",
       "      <td>0.05</td>\n",
       "      <td>1438.00</td>\n",
       "      <td>0.83</td>\n",
       "      <td>PumpSecondsOnSite_mean</td>\n",
       "      <td>2021</td>\n",
       "    </tr>\n",
       "    <tr>\n",
       "      <th>PassiveAggressiveRegressor</th>\n",
       "      <td>0.04</td>\n",
       "      <td>0.05</td>\n",
       "      <td>1440.98</td>\n",
       "      <td>0.75</td>\n",
       "      <td>PumpSecondsOnSite_mean</td>\n",
       "      <td>2021</td>\n",
       "    </tr>\n",
       "    <tr>\n",
       "      <th>TheilSenRegressor</th>\n",
       "      <td>0.00</td>\n",
       "      <td>0.00</td>\n",
       "      <td>1470.98</td>\n",
       "      <td>100.82</td>\n",
       "      <td>PumpSecondsOnSite_mean</td>\n",
       "      <td>2021</td>\n",
       "    </tr>\n",
       "    <tr>\n",
       "      <th>DummyRegressor</th>\n",
       "      <td>-0.00</td>\n",
       "      <td>-0.00</td>\n",
       "      <td>1474.57</td>\n",
       "      <td>0.18</td>\n",
       "      <td>PumpSecondsOnSite_mean</td>\n",
       "      <td>2021</td>\n",
       "    </tr>\n",
       "    <tr>\n",
       "      <th>RANSACRegressor</th>\n",
       "      <td>-0.16</td>\n",
       "      <td>-0.16</td>\n",
       "      <td>1589.72</td>\n",
       "      <td>1.70</td>\n",
       "      <td>PumpSecondsOnSite_mean</td>\n",
       "      <td>2021</td>\n",
       "    </tr>\n",
       "  </tbody>\n",
       "</table>\n",
       "</div>"
      ],
      "text/plain": [
       "                               Adjusted R-Squared  R-Squared    RMSE  \\\n",
       "Model                                                                  \n",
       "RandomForestRegressor                        0.22       0.22 1300.48   \n",
       "BaggingRegressor                             0.22       0.22 1300.84   \n",
       "HistGradientBoostingRegressor                0.22       0.22 1300.92   \n",
       "DecisionTreeRegressor                        0.22       0.22 1301.68   \n",
       "ExtraTreeRegressor                           0.22       0.22 1301.74   \n",
       "MLPRegressor                                 0.22       0.22 1306.13   \n",
       "GradientBoostingRegressor                    0.21       0.21 1311.60   \n",
       "AdaBoostRegressor                            0.15       0.15 1357.45   \n",
       "LinearRegression                             0.14       0.14 1366.77   \n",
       "TransformedTargetRegressor                   0.14       0.14 1366.77   \n",
       "Lars                                         0.14       0.14 1366.77   \n",
       "LassoLarsCV                                  0.14       0.14 1366.77   \n",
       "LarsCV                                       0.14       0.14 1366.77   \n",
       "LassoLarsIC                                  0.14       0.14 1366.77   \n",
       "Ridge                                        0.14       0.14 1366.77   \n",
       "RidgeCV                                      0.14       0.14 1366.77   \n",
       "BayesianRidge                                0.14       0.14 1366.77   \n",
       "LassoCV                                      0.14       0.14 1366.78   \n",
       "LassoLars                                    0.14       0.14 1366.79   \n",
       "Lasso                                        0.14       0.14 1366.79   \n",
       "SGDRegressor                                 0.14       0.14 1368.10   \n",
       "OrthogonalMatchingPursuitCV                  0.13       0.13 1371.69   \n",
       "PLSRegression                                0.13       0.13 1372.05   \n",
       "ElasticNetCV                                 0.13       0.13 1375.91   \n",
       "ElasticNet                                   0.13       0.13 1376.62   \n",
       "PoissonRegressor                             0.12       0.12 1379.35   \n",
       "KNeighborsRegressor                          0.11       0.11 1391.38   \n",
       "OrthogonalMatchingPursuit                    0.10       0.10 1399.44   \n",
       "HuberRegressor                               0.06       0.06 1425.89   \n",
       "LinearSVR                                    0.05       0.05 1438.00   \n",
       "PassiveAggressiveRegressor                   0.04       0.05 1440.98   \n",
       "TheilSenRegressor                            0.00       0.00 1470.98   \n",
       "DummyRegressor                              -0.00      -0.00 1474.57   \n",
       "RANSACRegressor                             -0.16      -0.16 1589.72   \n",
       "\n",
       "                               Time Taken                  Target  Year floor  \n",
       "Model                                                                          \n",
       "RandomForestRegressor               25.68  PumpSecondsOnSite_mean        2021  \n",
       "BaggingRegressor                     2.89  PumpSecondsOnSite_mean        2021  \n",
       "HistGradientBoostingRegressor        1.51  PumpSecondsOnSite_mean        2021  \n",
       "DecisionTreeRegressor                0.53  PumpSecondsOnSite_mean        2021  \n",
       "ExtraTreeRegressor                   0.51  PumpSecondsOnSite_mean        2021  \n",
       "MLPRegressor                       313.72  PumpSecondsOnSite_mean        2021  \n",
       "GradientBoostingRegressor           14.45  PumpSecondsOnSite_mean        2021  \n",
       "AdaBoostRegressor                    2.93  PumpSecondsOnSite_mean        2021  \n",
       "LinearRegression                     0.36  PumpSecondsOnSite_mean        2021  \n",
       "TransformedTargetRegressor           0.38  PumpSecondsOnSite_mean        2021  \n",
       "Lars                                 0.22  PumpSecondsOnSite_mean        2021  \n",
       "LassoLarsCV                          0.93  PumpSecondsOnSite_mean        2021  \n",
       "LarsCV                               0.92  PumpSecondsOnSite_mean        2021  \n",
       "LassoLarsIC                          0.49  PumpSecondsOnSite_mean        2021  \n",
       "Ridge                                0.21  PumpSecondsOnSite_mean        2021  \n",
       "RidgeCV                              0.63  PumpSecondsOnSite_mean        2021  \n",
       "BayesianRidge                        0.51  PumpSecondsOnSite_mean        2021  \n",
       "LassoCV                              1.48  PumpSecondsOnSite_mean        2021  \n",
       "LassoLars                            0.24  PumpSecondsOnSite_mean        2021  \n",
       "Lasso                                0.59  PumpSecondsOnSite_mean        2021  \n",
       "SGDRegressor                         1.77  PumpSecondsOnSite_mean        2021  \n",
       "OrthogonalMatchingPursuitCV          0.78  PumpSecondsOnSite_mean        2021  \n",
       "PLSRegression                        0.37  PumpSecondsOnSite_mean        2021  \n",
       "ElasticNetCV                         1.28  PumpSecondsOnSite_mean        2021  \n",
       "ElasticNet                           0.35  PumpSecondsOnSite_mean        2021  \n",
       "PoissonRegressor                     0.38  PumpSecondsOnSite_mean        2021  \n",
       "KNeighborsRegressor                684.65  PumpSecondsOnSite_mean        2021  \n",
       "OrthogonalMatchingPursuit            0.23  PumpSecondsOnSite_mean        2021  \n",
       "HuberRegressor                       1.35  PumpSecondsOnSite_mean        2021  \n",
       "LinearSVR                            0.83  PumpSecondsOnSite_mean        2021  \n",
       "PassiveAggressiveRegressor           0.75  PumpSecondsOnSite_mean        2021  \n",
       "TheilSenRegressor                  100.82  PumpSecondsOnSite_mean        2021  \n",
       "DummyRegressor                       0.18  PumpSecondsOnSite_mean        2021  \n",
       "RANSACRegressor                      1.70  PumpSecondsOnSite_mean        2021  "
      ]
     },
     "metadata": {},
     "output_type": "display_data"
    },
    {
     "name": "stdout",
     "output_type": "stream",
     "text": [
      "-----------------------------------------------------\n",
      "year 2022\n",
      "-----------------------------------------------------\n",
      "(342634, 40)\n",
      "cols_to_remove ['TurnoutTimeSeconds_min', 'TurnoutTimeSeconds_mean', 'TurnoutTimeSeconds_max', 'TravelTimeSeconds_min', 'TravelTimeSeconds_mean', 'TravelTimeSeconds_max', 'PumpSecondsOnSite_min', 'PumpSecondsOnSite_mean', 'PumpSecondsOnSite_max', 'NumPumpsAttending']\n",
      "cols_to_keep ['CalYear', 'PropertyType_0', 'PropertyType_1', 'PropertyType_2', 'PropertyType_3', 'PropertyType_4', 'PropertyType_5', 'PropertyType_6', 'StopCode_0', 'StopCode_1', 'StopCode_2', 'StopCode_3', 'StopCode_4']\n"
     ]
    },
    {
     "data": {
      "text/html": [
       "<div>\n",
       "<style scoped>\n",
       "    .dataframe tbody tr th:only-of-type {\n",
       "        vertical-align: middle;\n",
       "    }\n",
       "\n",
       "    .dataframe tbody tr th {\n",
       "        vertical-align: top;\n",
       "    }\n",
       "\n",
       "    .dataframe thead th {\n",
       "        text-align: right;\n",
       "    }\n",
       "</style>\n",
       "<table border=\"1\" class=\"dataframe\">\n",
       "  <thead>\n",
       "    <tr style=\"text-align: right;\">\n",
       "      <th></th>\n",
       "      <th>CalYear</th>\n",
       "      <th>PropertyType_0</th>\n",
       "      <th>PropertyType_1</th>\n",
       "      <th>PropertyType_2</th>\n",
       "      <th>PropertyType_3</th>\n",
       "      <th>PropertyType_4</th>\n",
       "      <th>PropertyType_5</th>\n",
       "      <th>PropertyType_6</th>\n",
       "      <th>StopCode_0</th>\n",
       "      <th>StopCode_1</th>\n",
       "      <th>StopCode_2</th>\n",
       "      <th>StopCode_3</th>\n",
       "      <th>StopCode_4</th>\n",
       "    </tr>\n",
       "  </thead>\n",
       "  <tbody>\n",
       "    <tr>\n",
       "      <th>1248893</th>\n",
       "      <td>14</td>\n",
       "      <td>0</td>\n",
       "      <td>0</td>\n",
       "      <td>0</td>\n",
       "      <td>0</td>\n",
       "      <td>0</td>\n",
       "      <td>1</td>\n",
       "      <td>0</td>\n",
       "      <td>0</td>\n",
       "      <td>0</td>\n",
       "      <td>0</td>\n",
       "      <td>1</td>\n",
       "      <td>1</td>\n",
       "    </tr>\n",
       "    <tr>\n",
       "      <th>1248894</th>\n",
       "      <td>14</td>\n",
       "      <td>0</td>\n",
       "      <td>1</td>\n",
       "      <td>1</td>\n",
       "      <td>1</td>\n",
       "      <td>1</td>\n",
       "      <td>0</td>\n",
       "      <td>0</td>\n",
       "      <td>0</td>\n",
       "      <td>0</td>\n",
       "      <td>0</td>\n",
       "      <td>1</td>\n",
       "      <td>0</td>\n",
       "    </tr>\n",
       "  </tbody>\n",
       "</table>\n",
       "</div>"
      ],
      "text/plain": [
       "         CalYear  PropertyType_0  PropertyType_1  PropertyType_2  \\\n",
       "1248893       14               0               0               0   \n",
       "1248894       14               0               1               1   \n",
       "\n",
       "         PropertyType_3  PropertyType_4  PropertyType_5  PropertyType_6  \\\n",
       "1248893               0               0               1               0   \n",
       "1248894               1               1               0               0   \n",
       "\n",
       "         StopCode_0  StopCode_1  StopCode_2  StopCode_3  StopCode_4  \n",
       "1248893           0           0           0           1           1  \n",
       "1248894           0           0           0           1           0  "
      ]
     },
     "metadata": {},
     "output_type": "display_data"
    },
    {
     "name": "stdout",
     "output_type": "stream",
     "text": [
      "(342634, 13)\n",
      "cible PumpSecondsOnSite_mean\n",
      "[('AdaBoostRegressor', <class 'sklearn.ensemble._weight_boosting.AdaBoostRegressor'>), ('BaggingRegressor', <class 'sklearn.ensemble._bagging.BaggingRegressor'>), ('BayesianRidge', <class 'sklearn.linear_model._bayes.BayesianRidge'>), ('DecisionTreeRegressor', <class 'sklearn.tree._classes.DecisionTreeRegressor'>), ('DummyRegressor', <class 'sklearn.dummy.DummyRegressor'>), ('ElasticNet', <class 'sklearn.linear_model._coordinate_descent.ElasticNet'>), ('ElasticNetCV', <class 'sklearn.linear_model._coordinate_descent.ElasticNetCV'>), ('ExtraTreeRegressor', <class 'sklearn.tree._classes.ExtraTreeRegressor'>), ('GradientBoostingRegressor', <class 'sklearn.ensemble._gb.GradientBoostingRegressor'>), ('HistGradientBoostingRegressor', <class 'sklearn.ensemble._hist_gradient_boosting.gradient_boosting.HistGradientBoostingRegressor'>), ('HuberRegressor', <class 'sklearn.linear_model._huber.HuberRegressor'>), ('KNeighborsRegressor', <class 'sklearn.neighbors._regression.KNeighborsRegressor'>), ('Lars', <class 'sklearn.linear_model._least_angle.Lars'>), ('LarsCV', <class 'sklearn.linear_model._least_angle.LarsCV'>), ('Lasso', <class 'sklearn.linear_model._coordinate_descent.Lasso'>), ('LassoCV', <class 'sklearn.linear_model._coordinate_descent.LassoCV'>), ('LassoLars', <class 'sklearn.linear_model._least_angle.LassoLars'>), ('LassoLarsCV', <class 'sklearn.linear_model._least_angle.LassoLarsCV'>), ('LassoLarsIC', <class 'sklearn.linear_model._least_angle.LassoLarsIC'>), ('LinearRegression', <class 'sklearn.linear_model._base.LinearRegression'>), ('LinearSVR', <class 'sklearn.svm._classes.LinearSVR'>), ('MLPRegressor', <class 'sklearn.neural_network._multilayer_perceptron.MLPRegressor'>), ('OrthogonalMatchingPursuit', <class 'sklearn.linear_model._omp.OrthogonalMatchingPursuit'>), ('OrthogonalMatchingPursuitCV', <class 'sklearn.linear_model._omp.OrthogonalMatchingPursuitCV'>), ('PLSRegression', <class 'sklearn.cross_decomposition._pls.PLSRegression'>), ('PassiveAggressiveRegressor', <class 'sklearn.linear_model._passive_aggressive.PassiveAggressiveRegressor'>), ('PoissonRegressor', <class 'sklearn.linear_model._glm.glm.PoissonRegressor'>), ('RANSACRegressor', <class 'sklearn.linear_model._ransac.RANSACRegressor'>), ('RandomForestRegressor', <class 'sklearn.ensemble._forest.RandomForestRegressor'>), ('Ridge', <class 'sklearn.linear_model._ridge.Ridge'>), ('RidgeCV', <class 'sklearn.linear_model._ridge.RidgeCV'>), ('SGDRegressor', <class 'sklearn.linear_model._stochastic_gradient.SGDRegressor'>), ('TheilSenRegressor', <class 'sklearn.linear_model._theil_sen.TheilSenRegressor'>), ('TransformedTargetRegressor', <class 'sklearn.compose._target.TransformedTargetRegressor'>), ('VotingRegressor', <class 'sklearn.ensemble._voting.VotingRegressor'>)]\n",
      "'tuple' object has no attribute '__name__'\n",
      "Invalid Regressor(s)\n"
     ]
    },
    {
     "name": "stderr",
     "output_type": "stream",
     "text": [
      "  3%|▎         | 1/35 [00:02<01:27,  2.57s/it]"
     ]
    },
    {
     "name": "stdout",
     "output_type": "stream",
     "text": [
      "{'Model': 'AdaBoostRegressor', 'R-Squared': 0.1588915035781029, 'Adjusted R-Squared': 0.15873190743644394, 'RMSE': np.float64(1348.2452316242898), 'Time taken': 2.574439525604248}\n"
     ]
    },
    {
     "name": "stderr",
     "output_type": "stream",
     "text": [
      "  6%|▌         | 2/35 [00:04<01:21,  2.48s/it]"
     ]
    },
    {
     "name": "stdout",
     "output_type": "stream",
     "text": [
      "{'Model': 'BaggingRegressor', 'R-Squared': 0.22264091508883121, 'Adjusted R-Squared': 0.22249341508001763, 'RMSE': np.float64(1296.1453980015692), 'Time taken': 2.414135217666626}\n"
     ]
    },
    {
     "name": "stderr",
     "output_type": "stream",
     "text": [
      "  9%|▊         | 3/35 [00:05<00:49,  1.54s/it]"
     ]
    },
    {
     "name": "stdout",
     "output_type": "stream",
     "text": [
      "{'Model': 'BayesianRidge', 'R-Squared': 0.1422404450268938, 'Adjusted R-Squared': 0.14207768942993193, 'RMSE': np.float64(1361.5251413796543), 'Time taken': 0.4149906635284424}\n"
     ]
    },
    {
     "name": "stderr",
     "output_type": "stream",
     "text": [
      " 14%|█▍        | 5/35 [00:05<00:22,  1.33it/s]"
     ]
    },
    {
     "name": "stdout",
     "output_type": "stream",
     "text": [
      "{'Model': 'DecisionTreeRegressor', 'R-Squared': 0.22080400258700617, 'Adjusted R-Squared': 0.22065615403320815, 'RMSE': np.float64(1297.6759009964915), 'Time taken': 0.4011387825012207}\n",
      "{'Model': 'DummyRegressor', 'R-Squared': -2.0692507056718767e-06, 'Adjusted R-Squared': -0.00019181465523110397, 'RMSE': np.float64(1470.087999186315), 'Time taken': 0.14607858657836914}\n"
     ]
    },
    {
     "name": "stderr",
     "output_type": "stream",
     "text": [
      " 17%|█▋        | 6/35 [00:06<00:16,  1.72it/s]"
     ]
    },
    {
     "name": "stdout",
     "output_type": "stream",
     "text": [
      "{'Model': 'ElasticNet', 'R-Squared': 0.12899729295562, 'Adjusted R-Squared': 0.1288320245366109, 'RMSE': np.float64(1371.9953371042852), 'Time taken': 0.2572600841522217}\n"
     ]
    },
    {
     "name": "stderr",
     "output_type": "stream",
     "text": [
      " 20%|██        | 7/35 [00:07<00:20,  1.36it/s]"
     ]
    },
    {
     "name": "stdout",
     "output_type": "stream",
     "text": [
      "{'Model': 'ElasticNetCV', 'R-Squared': 0.13024101059993687, 'Adjusted R-Squared': 0.13007597817014693, 'RMSE': np.float64(1371.0154409629672), 'Time taken': 1.0475807189941406}\n"
     ]
    },
    {
     "name": "stderr",
     "output_type": "stream",
     "text": [
      " 23%|██▎       | 8/35 [00:07<00:17,  1.58it/s]"
     ]
    },
    {
     "name": "stdout",
     "output_type": "stream",
     "text": [
      "{'Model': 'ExtraTreeRegressor', 'R-Squared': 0.22097007187820938, 'Adjusted R-Squared': 0.220822254835231, 'RMSE': np.float64(1297.537607421078), 'Time taken': 0.40915393829345703}\n"
     ]
    },
    {
     "name": "stderr",
     "output_type": "stream",
     "text": [
      " 26%|██▌       | 9/35 [00:18<01:40,  3.86s/it]"
     ]
    },
    {
     "name": "stdout",
     "output_type": "stream",
     "text": [
      "{'Model': 'GradientBoostingRegressor', 'R-Squared': 0.21534017767071478, 'Adjusted R-Squared': 0.21519129238339296, 'RMSE': np.float64(1302.2176901288938), 'Time taken': 10.96333384513855}\n"
     ]
    },
    {
     "name": "stderr",
     "output_type": "stream",
     "text": [
      " 29%|██▊       | 10/35 [00:19<01:17,  3.09s/it]"
     ]
    },
    {
     "name": "stdout",
     "output_type": "stream",
     "text": [
      "{'Model': 'HistGradientBoostingRegressor', 'R-Squared': 0.2255884284505254, 'Adjusted R-Squared': 0.2254414877176697, 'RMSE': np.float64(1293.6857662207317), 'Time taken': 1.3498039245605469}\n"
     ]
    },
    {
     "name": "stderr",
     "output_type": "stream",
     "text": [
      " 31%|███▏      | 11/35 [00:21<00:59,  2.49s/it]"
     ]
    },
    {
     "name": "stdout",
     "output_type": "stream",
     "text": [
      "{'Model': 'HuberRegressor', 'R-Squared': 0.0675328496987494, 'Adjusted R-Squared': 0.06735591870822333, 'RMSE': np.float64(1419.5792855674608), 'Time taken': 1.1386637687683105}\n"
     ]
    },
    {
     "name": "stderr",
     "output_type": "stream",
     "text": [
      " 34%|███▍      | 12/35 [07:22<49:50, 130.02s/it]"
     ]
    },
    {
     "name": "stdout",
     "output_type": "stream",
     "text": [
      "{'Model': 'KNeighborsRegressor', 'R-Squared': 0.14664308594263187, 'Adjusted R-Squared': 0.14648116572482295, 'RMSE': np.float64(1358.0264815045869), 'Time taken': 421.6990032196045}\n",
      "{'Model': 'Lars', 'R-Squared': 0.14224116613061488, 'Adjusted R-Squared': 0.14207841067047888, 'RMSE': np.float64(1361.5245690741367), 'Time taken': 0.202409029006958}\n"
     ]
    },
    {
     "name": "stderr",
     "output_type": "stream",
     "text": [
      " 40%|████      | 14/35 [07:23<22:14, 63.54s/it] "
     ]
    },
    {
     "name": "stdout",
     "output_type": "stream",
     "text": [
      "{'Model': 'LarsCV', 'R-Squared': 0.1422411614212139, 'Adjusted R-Squared': 0.14207840596018428, 'RMSE': np.float64(1361.5245728117636), 'Time taken': 0.7960002422332764}\n"
     ]
    },
    {
     "name": "stderr",
     "output_type": "stream",
     "text": [
      " 43%|████▎     | 15/35 [07:24<14:50, 44.53s/it]"
     ]
    },
    {
     "name": "stdout",
     "output_type": "stream",
     "text": [
      "{'Model': 'Lasso', 'R-Squared': 0.14221867620680495, 'Adjusted R-Squared': 0.14205591647931803, 'RMSE': np.float64(1361.5424181372439), 'Time taken': 0.4846193790435791}\n"
     ]
    },
    {
     "name": "stderr",
     "output_type": "stream",
     "text": [
      " 49%|████▊     | 17/35 [07:25<06:37, 22.08s/it]"
     ]
    },
    {
     "name": "stdout",
     "output_type": "stream",
     "text": [
      "{'Model': 'LassoCV', 'R-Squared': 0.14223434831409165, 'Adjusted R-Squared': 0.1420715915603089, 'RMSE': np.float64(1361.529980039254), 'Time taken': 1.1923434734344482}\n",
      "{'Model': 'LassoLars', 'R-Squared': 0.14221900322058012, 'Adjusted R-Squared': 0.14205624355514246, 'RMSE': np.float64(1361.5421586053817), 'Time taken': 0.1830432415008545}\n"
     ]
    },
    {
     "name": "stderr",
     "output_type": "stream",
     "text": [
      " 51%|█████▏    | 18/35 [07:26<04:26, 15.66s/it]"
     ]
    },
    {
     "name": "stdout",
     "output_type": "stream",
     "text": [
      "{'Model': 'LassoLarsCV', 'R-Squared': 0.1422411614212139, 'Adjusted R-Squared': 0.14207840596018428, 'RMSE': np.float64(1361.5245728117636), 'Time taken': 0.7328760623931885}\n"
     ]
    },
    {
     "name": "stderr",
     "output_type": "stream",
     "text": [
      " 54%|█████▍    | 19/35 [07:26<02:57, 11.07s/it]"
     ]
    },
    {
     "name": "stdout",
     "output_type": "stream",
     "text": [
      "{'Model': 'LassoLarsIC', 'R-Squared': 0.14224116613061488, 'Adjusted R-Squared': 0.14207841067047888, 'RMSE': np.float64(1361.5245690741367), 'Time taken': 0.36400341987609863}\n"
     ]
    },
    {
     "name": "stderr",
     "output_type": "stream",
     "text": [
      " 57%|█████▋    | 20/35 [07:27<01:57,  7.83s/it]"
     ]
    },
    {
     "name": "stdout",
     "output_type": "stream",
     "text": [
      "{'Model': 'LinearRegression', 'R-Squared': 0.142241166130611, 'Adjusted R-Squared': 0.142078410670475, 'RMSE': np.float64(1361.5245690741397), 'Time taken': 0.28929781913757324}\n"
     ]
    },
    {
     "name": "stderr",
     "output_type": "stream",
     "text": [
      " 60%|██████    | 21/35 [07:27<01:19,  5.67s/it]"
     ]
    },
    {
     "name": "stdout",
     "output_type": "stream",
     "text": [
      "{'Model': 'LinearSVR', 'R-Squared': 0.053057410026036145, 'Adjusted R-Squared': 0.05287773239303717, 'RMSE': np.float64(1430.5554886233797), 'Time taken': 0.6354713439941406}\n"
     ]
    },
    {
     "name": "stderr",
     "output_type": "stream",
     "text": [
      " 66%|██████▌   | 23/35 [11:29<10:42, 53.52s/it]"
     ]
    },
    {
     "name": "stdout",
     "output_type": "stream",
     "text": [
      "{'Model': 'MLPRegressor', 'R-Squared': 0.22119724620646897, 'Adjusted R-Squared': 0.2210494722686862, 'RMSE': np.float64(1297.3484049808048), 'Time taken': 241.30423021316528}\n",
      "{'Model': 'OrthogonalMatchingPursuit', 'R-Squared': 0.10127284745058651, 'Adjusted R-Squared': 0.10110231845633522, 'RMSE': np.float64(1393.6599328249888), 'Time taken': 0.18710660934448242}\n"
     ]
    },
    {
     "name": "stderr",
     "output_type": "stream",
     "text": [
      " 69%|██████▊   | 24/35 [11:29<06:54, 37.64s/it]"
     ]
    },
    {
     "name": "stdout",
     "output_type": "stream",
     "text": [
      "{'Model': 'OrthogonalMatchingPursuitCV', 'R-Squared': 0.13629838128710914, 'Adjusted R-Squared': 0.13613449821319235, 'RMSE': np.float64(1366.2329328976036), 'Time taken': 0.5967848300933838}\n"
     ]
    },
    {
     "name": "stderr",
     "output_type": "stream",
     "text": [
      " 71%|███████▏  | 25/35 [11:30<04:24, 26.43s/it]"
     ]
    },
    {
     "name": "stdout",
     "output_type": "stream",
     "text": [
      "{'Model': 'PLSRegression', 'R-Squared': 0.135183714265794, 'Adjusted R-Squared': 0.13501961968936993, 'RMSE': np.float64(1367.1142579565935), 'Time taken': 0.27877354621887207}\n"
     ]
    },
    {
     "name": "stderr",
     "output_type": "stream",
     "text": [
      " 74%|███████▍  | 26/35 [11:30<02:48, 18.70s/it]"
     ]
    },
    {
     "name": "stdout",
     "output_type": "stream",
     "text": [
      "{'Model': 'PassiveAggressiveRegressor', 'R-Squared': 0.07582711386635654, 'Adjusted R-Squared': 0.07565175667108359, 'RMSE': np.float64(1413.2516278878745), 'Time taken': 0.6629931926727295}\n"
     ]
    },
    {
     "name": "stderr",
     "output_type": "stream",
     "text": [
      " 77%|███████▋  | 27/35 [11:31<01:45, 13.19s/it]"
     ]
    },
    {
     "name": "stdout",
     "output_type": "stream",
     "text": [
      "{'Model': 'PoissonRegressor', 'R-Squared': 0.124922364895661, 'Adjusted R-Squared': 0.12475632327937869, 'RMSE': np.float64(1375.2009864543095), 'Time taken': 0.32589292526245117}\n"
     ]
    },
    {
     "name": "stderr",
     "output_type": "stream",
     "text": [
      " 80%|████████  | 28/35 [11:32<01:07,  9.66s/it]"
     ]
    },
    {
     "name": "stdout",
     "output_type": "stream",
     "text": [
      "{'Model': 'RANSACRegressor', 'R-Squared': -0.068595107146187, 'Adjusted R-Squared': -0.06879786773750385, 'RMSE': np.float64(1519.6706422616091), 'Time taken': 1.4192304611206055}\n"
     ]
    },
    {
     "name": "stderr",
     "output_type": "stream",
     "text": [
      " 86%|████████▌ | 30/35 [11:48<00:40,  8.20s/it]"
     ]
    },
    {
     "name": "stdout",
     "output_type": "stream",
     "text": [
      "{'Model': 'RandomForestRegressor', 'R-Squared': 0.2238012610953195, 'Adjusted R-Squared': 0.2236539812563728, 'RMSE': np.float64(1295.1776735465023), 'Time taken': 16.257152318954468}\n",
      "{'Model': 'Ridge', 'R-Squared': 0.14224115808666415, 'Adjusted R-Squared': 0.14207840262500182, 'RMSE': np.float64(1361.5245754582368), 'Time taken': 0.16637372970581055}\n"
     ]
    },
    {
     "name": "stderr",
     "output_type": "stream",
     "text": [
      " 89%|████████▊ | 31/35 [11:49<00:23,  5.88s/it]"
     ]
    },
    {
     "name": "stdout",
     "output_type": "stream",
     "text": [
      "{'Model': 'RidgeCV', 'R-Squared': 0.14224108544099812, 'Adjusted R-Squared': 0.1420783299655517, 'RMSE': np.float64(1361.5246331136364), 'Time taken': 0.47502946853637695}\n"
     ]
    },
    {
     "name": "stderr",
     "output_type": "stream",
     "text": [
      " 91%|█████████▏| 32/35 [11:51<00:13,  4.61s/it]"
     ]
    },
    {
     "name": "stdout",
     "output_type": "stream",
     "text": [
      "{'Model': 'SGDRegressor', 'R-Squared': 0.14071476549614714, 'Adjusted R-Squared': 0.14055172040910457, 'RMSE': np.float64(1362.7354620086974), 'Time taken': 1.62959623336792}\n"
     ]
    },
    {
     "name": "stderr",
     "output_type": "stream",
     "text": [
      " 94%|█████████▍| 33/35 [13:02<00:49, 24.71s/it]"
     ]
    },
    {
     "name": "stdout",
     "output_type": "stream",
     "text": [
      "{'Model': 'TheilSenRegressor', 'R-Squared': 0.0021585319171857353, 'Adjusted R-Squared': 0.0019691964759545044, 'RMSE': np.float64(1468.4990067915514), 'Time taken': 71.63388395309448}\n"
     ]
    },
    {
     "name": "stderr",
     "output_type": "stream",
     "text": [
      "100%|██████████| 35/35 [13:03<00:00, 22.37s/it]"
     ]
    },
    {
     "name": "stdout",
     "output_type": "stream",
     "text": [
      "{'Model': 'TransformedTargetRegressor', 'R-Squared': 0.142241166130611, 'Adjusted R-Squared': 0.142078410670475, 'RMSE': np.float64(1361.5245690741397), 'Time taken': 0.3948519229888916}\n",
      "VotingRegressor model failed to execute\n",
      "VotingRegressor.__init__() missing 1 required positional argument: 'estimators'\n"
     ]
    },
    {
     "name": "stderr",
     "output_type": "stream",
     "text": [
      "\n"
     ]
    },
    {
     "data": {
      "text/html": [
       "<div>\n",
       "<style scoped>\n",
       "    .dataframe tbody tr th:only-of-type {\n",
       "        vertical-align: middle;\n",
       "    }\n",
       "\n",
       "    .dataframe tbody tr th {\n",
       "        vertical-align: top;\n",
       "    }\n",
       "\n",
       "    .dataframe thead th {\n",
       "        text-align: right;\n",
       "    }\n",
       "</style>\n",
       "<table border=\"1\" class=\"dataframe\">\n",
       "  <thead>\n",
       "    <tr style=\"text-align: right;\">\n",
       "      <th></th>\n",
       "      <th>Adjusted R-Squared</th>\n",
       "      <th>R-Squared</th>\n",
       "      <th>RMSE</th>\n",
       "      <th>Time Taken</th>\n",
       "      <th>Target</th>\n",
       "      <th>Year floor</th>\n",
       "    </tr>\n",
       "    <tr>\n",
       "      <th>Model</th>\n",
       "      <th></th>\n",
       "      <th></th>\n",
       "      <th></th>\n",
       "      <th></th>\n",
       "      <th></th>\n",
       "      <th></th>\n",
       "    </tr>\n",
       "  </thead>\n",
       "  <tbody>\n",
       "    <tr>\n",
       "      <th>HistGradientBoostingRegressor</th>\n",
       "      <td>0.23</td>\n",
       "      <td>0.23</td>\n",
       "      <td>1293.69</td>\n",
       "      <td>1.35</td>\n",
       "      <td>PumpSecondsOnSite_mean</td>\n",
       "      <td>2022</td>\n",
       "    </tr>\n",
       "    <tr>\n",
       "      <th>RandomForestRegressor</th>\n",
       "      <td>0.22</td>\n",
       "      <td>0.22</td>\n",
       "      <td>1295.18</td>\n",
       "      <td>16.26</td>\n",
       "      <td>PumpSecondsOnSite_mean</td>\n",
       "      <td>2022</td>\n",
       "    </tr>\n",
       "    <tr>\n",
       "      <th>BaggingRegressor</th>\n",
       "      <td>0.22</td>\n",
       "      <td>0.22</td>\n",
       "      <td>1296.15</td>\n",
       "      <td>2.41</td>\n",
       "      <td>PumpSecondsOnSite_mean</td>\n",
       "      <td>2022</td>\n",
       "    </tr>\n",
       "    <tr>\n",
       "      <th>MLPRegressor</th>\n",
       "      <td>0.22</td>\n",
       "      <td>0.22</td>\n",
       "      <td>1297.35</td>\n",
       "      <td>241.30</td>\n",
       "      <td>PumpSecondsOnSite_mean</td>\n",
       "      <td>2022</td>\n",
       "    </tr>\n",
       "    <tr>\n",
       "      <th>ExtraTreeRegressor</th>\n",
       "      <td>0.22</td>\n",
       "      <td>0.22</td>\n",
       "      <td>1297.54</td>\n",
       "      <td>0.41</td>\n",
       "      <td>PumpSecondsOnSite_mean</td>\n",
       "      <td>2022</td>\n",
       "    </tr>\n",
       "    <tr>\n",
       "      <th>DecisionTreeRegressor</th>\n",
       "      <td>0.22</td>\n",
       "      <td>0.22</td>\n",
       "      <td>1297.68</td>\n",
       "      <td>0.40</td>\n",
       "      <td>PumpSecondsOnSite_mean</td>\n",
       "      <td>2022</td>\n",
       "    </tr>\n",
       "    <tr>\n",
       "      <th>GradientBoostingRegressor</th>\n",
       "      <td>0.22</td>\n",
       "      <td>0.22</td>\n",
       "      <td>1302.22</td>\n",
       "      <td>10.96</td>\n",
       "      <td>PumpSecondsOnSite_mean</td>\n",
       "      <td>2022</td>\n",
       "    </tr>\n",
       "    <tr>\n",
       "      <th>AdaBoostRegressor</th>\n",
       "      <td>0.16</td>\n",
       "      <td>0.16</td>\n",
       "      <td>1348.25</td>\n",
       "      <td>2.57</td>\n",
       "      <td>PumpSecondsOnSite_mean</td>\n",
       "      <td>2022</td>\n",
       "    </tr>\n",
       "    <tr>\n",
       "      <th>KNeighborsRegressor</th>\n",
       "      <td>0.15</td>\n",
       "      <td>0.15</td>\n",
       "      <td>1358.03</td>\n",
       "      <td>421.70</td>\n",
       "      <td>PumpSecondsOnSite_mean</td>\n",
       "      <td>2022</td>\n",
       "    </tr>\n",
       "    <tr>\n",
       "      <th>Lars</th>\n",
       "      <td>0.14</td>\n",
       "      <td>0.14</td>\n",
       "      <td>1361.52</td>\n",
       "      <td>0.20</td>\n",
       "      <td>PumpSecondsOnSite_mean</td>\n",
       "      <td>2022</td>\n",
       "    </tr>\n",
       "    <tr>\n",
       "      <th>LassoLarsIC</th>\n",
       "      <td>0.14</td>\n",
       "      <td>0.14</td>\n",
       "      <td>1361.52</td>\n",
       "      <td>0.36</td>\n",
       "      <td>PumpSecondsOnSite_mean</td>\n",
       "      <td>2022</td>\n",
       "    </tr>\n",
       "    <tr>\n",
       "      <th>LinearRegression</th>\n",
       "      <td>0.14</td>\n",
       "      <td>0.14</td>\n",
       "      <td>1361.52</td>\n",
       "      <td>0.29</td>\n",
       "      <td>PumpSecondsOnSite_mean</td>\n",
       "      <td>2022</td>\n",
       "    </tr>\n",
       "    <tr>\n",
       "      <th>TransformedTargetRegressor</th>\n",
       "      <td>0.14</td>\n",
       "      <td>0.14</td>\n",
       "      <td>1361.52</td>\n",
       "      <td>0.39</td>\n",
       "      <td>PumpSecondsOnSite_mean</td>\n",
       "      <td>2022</td>\n",
       "    </tr>\n",
       "    <tr>\n",
       "      <th>LassoLarsCV</th>\n",
       "      <td>0.14</td>\n",
       "      <td>0.14</td>\n",
       "      <td>1361.52</td>\n",
       "      <td>0.73</td>\n",
       "      <td>PumpSecondsOnSite_mean</td>\n",
       "      <td>2022</td>\n",
       "    </tr>\n",
       "    <tr>\n",
       "      <th>LarsCV</th>\n",
       "      <td>0.14</td>\n",
       "      <td>0.14</td>\n",
       "      <td>1361.52</td>\n",
       "      <td>0.80</td>\n",
       "      <td>PumpSecondsOnSite_mean</td>\n",
       "      <td>2022</td>\n",
       "    </tr>\n",
       "    <tr>\n",
       "      <th>Ridge</th>\n",
       "      <td>0.14</td>\n",
       "      <td>0.14</td>\n",
       "      <td>1361.52</td>\n",
       "      <td>0.17</td>\n",
       "      <td>PumpSecondsOnSite_mean</td>\n",
       "      <td>2022</td>\n",
       "    </tr>\n",
       "    <tr>\n",
       "      <th>RidgeCV</th>\n",
       "      <td>0.14</td>\n",
       "      <td>0.14</td>\n",
       "      <td>1361.52</td>\n",
       "      <td>0.48</td>\n",
       "      <td>PumpSecondsOnSite_mean</td>\n",
       "      <td>2022</td>\n",
       "    </tr>\n",
       "    <tr>\n",
       "      <th>BayesianRidge</th>\n",
       "      <td>0.14</td>\n",
       "      <td>0.14</td>\n",
       "      <td>1361.53</td>\n",
       "      <td>0.41</td>\n",
       "      <td>PumpSecondsOnSite_mean</td>\n",
       "      <td>2022</td>\n",
       "    </tr>\n",
       "    <tr>\n",
       "      <th>LassoCV</th>\n",
       "      <td>0.14</td>\n",
       "      <td>0.14</td>\n",
       "      <td>1361.53</td>\n",
       "      <td>1.19</td>\n",
       "      <td>PumpSecondsOnSite_mean</td>\n",
       "      <td>2022</td>\n",
       "    </tr>\n",
       "    <tr>\n",
       "      <th>LassoLars</th>\n",
       "      <td>0.14</td>\n",
       "      <td>0.14</td>\n",
       "      <td>1361.54</td>\n",
       "      <td>0.18</td>\n",
       "      <td>PumpSecondsOnSite_mean</td>\n",
       "      <td>2022</td>\n",
       "    </tr>\n",
       "    <tr>\n",
       "      <th>Lasso</th>\n",
       "      <td>0.14</td>\n",
       "      <td>0.14</td>\n",
       "      <td>1361.54</td>\n",
       "      <td>0.48</td>\n",
       "      <td>PumpSecondsOnSite_mean</td>\n",
       "      <td>2022</td>\n",
       "    </tr>\n",
       "    <tr>\n",
       "      <th>SGDRegressor</th>\n",
       "      <td>0.14</td>\n",
       "      <td>0.14</td>\n",
       "      <td>1362.74</td>\n",
       "      <td>1.63</td>\n",
       "      <td>PumpSecondsOnSite_mean</td>\n",
       "      <td>2022</td>\n",
       "    </tr>\n",
       "    <tr>\n",
       "      <th>OrthogonalMatchingPursuitCV</th>\n",
       "      <td>0.14</td>\n",
       "      <td>0.14</td>\n",
       "      <td>1366.23</td>\n",
       "      <td>0.60</td>\n",
       "      <td>PumpSecondsOnSite_mean</td>\n",
       "      <td>2022</td>\n",
       "    </tr>\n",
       "    <tr>\n",
       "      <th>PLSRegression</th>\n",
       "      <td>0.14</td>\n",
       "      <td>0.14</td>\n",
       "      <td>1367.11</td>\n",
       "      <td>0.28</td>\n",
       "      <td>PumpSecondsOnSite_mean</td>\n",
       "      <td>2022</td>\n",
       "    </tr>\n",
       "    <tr>\n",
       "      <th>ElasticNetCV</th>\n",
       "      <td>0.13</td>\n",
       "      <td>0.13</td>\n",
       "      <td>1371.02</td>\n",
       "      <td>1.05</td>\n",
       "      <td>PumpSecondsOnSite_mean</td>\n",
       "      <td>2022</td>\n",
       "    </tr>\n",
       "    <tr>\n",
       "      <th>ElasticNet</th>\n",
       "      <td>0.13</td>\n",
       "      <td>0.13</td>\n",
       "      <td>1372.00</td>\n",
       "      <td>0.26</td>\n",
       "      <td>PumpSecondsOnSite_mean</td>\n",
       "      <td>2022</td>\n",
       "    </tr>\n",
       "    <tr>\n",
       "      <th>PoissonRegressor</th>\n",
       "      <td>0.12</td>\n",
       "      <td>0.12</td>\n",
       "      <td>1375.20</td>\n",
       "      <td>0.33</td>\n",
       "      <td>PumpSecondsOnSite_mean</td>\n",
       "      <td>2022</td>\n",
       "    </tr>\n",
       "    <tr>\n",
       "      <th>OrthogonalMatchingPursuit</th>\n",
       "      <td>0.10</td>\n",
       "      <td>0.10</td>\n",
       "      <td>1393.66</td>\n",
       "      <td>0.19</td>\n",
       "      <td>PumpSecondsOnSite_mean</td>\n",
       "      <td>2022</td>\n",
       "    </tr>\n",
       "    <tr>\n",
       "      <th>PassiveAggressiveRegressor</th>\n",
       "      <td>0.08</td>\n",
       "      <td>0.08</td>\n",
       "      <td>1413.25</td>\n",
       "      <td>0.66</td>\n",
       "      <td>PumpSecondsOnSite_mean</td>\n",
       "      <td>2022</td>\n",
       "    </tr>\n",
       "    <tr>\n",
       "      <th>HuberRegressor</th>\n",
       "      <td>0.07</td>\n",
       "      <td>0.07</td>\n",
       "      <td>1419.58</td>\n",
       "      <td>1.14</td>\n",
       "      <td>PumpSecondsOnSite_mean</td>\n",
       "      <td>2022</td>\n",
       "    </tr>\n",
       "    <tr>\n",
       "      <th>LinearSVR</th>\n",
       "      <td>0.05</td>\n",
       "      <td>0.05</td>\n",
       "      <td>1430.56</td>\n",
       "      <td>0.64</td>\n",
       "      <td>PumpSecondsOnSite_mean</td>\n",
       "      <td>2022</td>\n",
       "    </tr>\n",
       "    <tr>\n",
       "      <th>TheilSenRegressor</th>\n",
       "      <td>0.00</td>\n",
       "      <td>0.00</td>\n",
       "      <td>1468.50</td>\n",
       "      <td>71.63</td>\n",
       "      <td>PumpSecondsOnSite_mean</td>\n",
       "      <td>2022</td>\n",
       "    </tr>\n",
       "    <tr>\n",
       "      <th>DummyRegressor</th>\n",
       "      <td>-0.00</td>\n",
       "      <td>-0.00</td>\n",
       "      <td>1470.09</td>\n",
       "      <td>0.15</td>\n",
       "      <td>PumpSecondsOnSite_mean</td>\n",
       "      <td>2022</td>\n",
       "    </tr>\n",
       "    <tr>\n",
       "      <th>RANSACRegressor</th>\n",
       "      <td>-0.07</td>\n",
       "      <td>-0.07</td>\n",
       "      <td>1519.67</td>\n",
       "      <td>1.42</td>\n",
       "      <td>PumpSecondsOnSite_mean</td>\n",
       "      <td>2022</td>\n",
       "    </tr>\n",
       "  </tbody>\n",
       "</table>\n",
       "</div>"
      ],
      "text/plain": [
       "                               Adjusted R-Squared  R-Squared    RMSE  \\\n",
       "Model                                                                  \n",
       "HistGradientBoostingRegressor                0.23       0.23 1293.69   \n",
       "RandomForestRegressor                        0.22       0.22 1295.18   \n",
       "BaggingRegressor                             0.22       0.22 1296.15   \n",
       "MLPRegressor                                 0.22       0.22 1297.35   \n",
       "ExtraTreeRegressor                           0.22       0.22 1297.54   \n",
       "DecisionTreeRegressor                        0.22       0.22 1297.68   \n",
       "GradientBoostingRegressor                    0.22       0.22 1302.22   \n",
       "AdaBoostRegressor                            0.16       0.16 1348.25   \n",
       "KNeighborsRegressor                          0.15       0.15 1358.03   \n",
       "Lars                                         0.14       0.14 1361.52   \n",
       "LassoLarsIC                                  0.14       0.14 1361.52   \n",
       "LinearRegression                             0.14       0.14 1361.52   \n",
       "TransformedTargetRegressor                   0.14       0.14 1361.52   \n",
       "LassoLarsCV                                  0.14       0.14 1361.52   \n",
       "LarsCV                                       0.14       0.14 1361.52   \n",
       "Ridge                                        0.14       0.14 1361.52   \n",
       "RidgeCV                                      0.14       0.14 1361.52   \n",
       "BayesianRidge                                0.14       0.14 1361.53   \n",
       "LassoCV                                      0.14       0.14 1361.53   \n",
       "LassoLars                                    0.14       0.14 1361.54   \n",
       "Lasso                                        0.14       0.14 1361.54   \n",
       "SGDRegressor                                 0.14       0.14 1362.74   \n",
       "OrthogonalMatchingPursuitCV                  0.14       0.14 1366.23   \n",
       "PLSRegression                                0.14       0.14 1367.11   \n",
       "ElasticNetCV                                 0.13       0.13 1371.02   \n",
       "ElasticNet                                   0.13       0.13 1372.00   \n",
       "PoissonRegressor                             0.12       0.12 1375.20   \n",
       "OrthogonalMatchingPursuit                    0.10       0.10 1393.66   \n",
       "PassiveAggressiveRegressor                   0.08       0.08 1413.25   \n",
       "HuberRegressor                               0.07       0.07 1419.58   \n",
       "LinearSVR                                    0.05       0.05 1430.56   \n",
       "TheilSenRegressor                            0.00       0.00 1468.50   \n",
       "DummyRegressor                              -0.00      -0.00 1470.09   \n",
       "RANSACRegressor                             -0.07      -0.07 1519.67   \n",
       "\n",
       "                               Time Taken                  Target  Year floor  \n",
       "Model                                                                          \n",
       "HistGradientBoostingRegressor        1.35  PumpSecondsOnSite_mean        2022  \n",
       "RandomForestRegressor               16.26  PumpSecondsOnSite_mean        2022  \n",
       "BaggingRegressor                     2.41  PumpSecondsOnSite_mean        2022  \n",
       "MLPRegressor                       241.30  PumpSecondsOnSite_mean        2022  \n",
       "ExtraTreeRegressor                   0.41  PumpSecondsOnSite_mean        2022  \n",
       "DecisionTreeRegressor                0.40  PumpSecondsOnSite_mean        2022  \n",
       "GradientBoostingRegressor           10.96  PumpSecondsOnSite_mean        2022  \n",
       "AdaBoostRegressor                    2.57  PumpSecondsOnSite_mean        2022  \n",
       "KNeighborsRegressor                421.70  PumpSecondsOnSite_mean        2022  \n",
       "Lars                                 0.20  PumpSecondsOnSite_mean        2022  \n",
       "LassoLarsIC                          0.36  PumpSecondsOnSite_mean        2022  \n",
       "LinearRegression                     0.29  PumpSecondsOnSite_mean        2022  \n",
       "TransformedTargetRegressor           0.39  PumpSecondsOnSite_mean        2022  \n",
       "LassoLarsCV                          0.73  PumpSecondsOnSite_mean        2022  \n",
       "LarsCV                               0.80  PumpSecondsOnSite_mean        2022  \n",
       "Ridge                                0.17  PumpSecondsOnSite_mean        2022  \n",
       "RidgeCV                              0.48  PumpSecondsOnSite_mean        2022  \n",
       "BayesianRidge                        0.41  PumpSecondsOnSite_mean        2022  \n",
       "LassoCV                              1.19  PumpSecondsOnSite_mean        2022  \n",
       "LassoLars                            0.18  PumpSecondsOnSite_mean        2022  \n",
       "Lasso                                0.48  PumpSecondsOnSite_mean        2022  \n",
       "SGDRegressor                         1.63  PumpSecondsOnSite_mean        2022  \n",
       "OrthogonalMatchingPursuitCV          0.60  PumpSecondsOnSite_mean        2022  \n",
       "PLSRegression                        0.28  PumpSecondsOnSite_mean        2022  \n",
       "ElasticNetCV                         1.05  PumpSecondsOnSite_mean        2022  \n",
       "ElasticNet                           0.26  PumpSecondsOnSite_mean        2022  \n",
       "PoissonRegressor                     0.33  PumpSecondsOnSite_mean        2022  \n",
       "OrthogonalMatchingPursuit            0.19  PumpSecondsOnSite_mean        2022  \n",
       "PassiveAggressiveRegressor           0.66  PumpSecondsOnSite_mean        2022  \n",
       "HuberRegressor                       1.14  PumpSecondsOnSite_mean        2022  \n",
       "LinearSVR                            0.64  PumpSecondsOnSite_mean        2022  \n",
       "TheilSenRegressor                   71.63  PumpSecondsOnSite_mean        2022  \n",
       "DummyRegressor                       0.15  PumpSecondsOnSite_mean        2022  \n",
       "RANSACRegressor                      1.42  PumpSecondsOnSite_mean        2022  "
      ]
     },
     "metadata": {},
     "output_type": "display_data"
    },
    {
     "name": "stdout",
     "output_type": "stream",
     "text": [
      "-----------------------------------------------------\n",
      "year 2023\n",
      "-----------------------------------------------------\n",
      "(225027, 40)\n",
      "cols_to_remove ['TurnoutTimeSeconds_min', 'TurnoutTimeSeconds_mean', 'TurnoutTimeSeconds_max', 'TravelTimeSeconds_min', 'TravelTimeSeconds_mean', 'TravelTimeSeconds_max', 'PumpSecondsOnSite_min', 'PumpSecondsOnSite_mean', 'PumpSecondsOnSite_max', 'NumPumpsAttending']\n",
      "cols_to_keep ['CalYear', 'PropertyType_0', 'PropertyType_1', 'PropertyType_2', 'PropertyType_3', 'PropertyType_4', 'PropertyType_5', 'PropertyType_6', 'StopCode_0', 'StopCode_1', 'StopCode_2', 'StopCode_3', 'StopCode_4']\n"
     ]
    },
    {
     "data": {
      "text/html": [
       "<div>\n",
       "<style scoped>\n",
       "    .dataframe tbody tr th:only-of-type {\n",
       "        vertical-align: middle;\n",
       "    }\n",
       "\n",
       "    .dataframe tbody tr th {\n",
       "        vertical-align: top;\n",
       "    }\n",
       "\n",
       "    .dataframe thead th {\n",
       "        text-align: right;\n",
       "    }\n",
       "</style>\n",
       "<table border=\"1\" class=\"dataframe\">\n",
       "  <thead>\n",
       "    <tr style=\"text-align: right;\">\n",
       "      <th></th>\n",
       "      <th>CalYear</th>\n",
       "      <th>PropertyType_0</th>\n",
       "      <th>PropertyType_1</th>\n",
       "      <th>PropertyType_2</th>\n",
       "      <th>PropertyType_3</th>\n",
       "      <th>PropertyType_4</th>\n",
       "      <th>PropertyType_5</th>\n",
       "      <th>PropertyType_6</th>\n",
       "      <th>StopCode_0</th>\n",
       "      <th>StopCode_1</th>\n",
       "      <th>StopCode_2</th>\n",
       "      <th>StopCode_3</th>\n",
       "      <th>StopCode_4</th>\n",
       "    </tr>\n",
       "  </thead>\n",
       "  <tbody>\n",
       "    <tr>\n",
       "      <th>1366500</th>\n",
       "      <td>15</td>\n",
       "      <td>0</td>\n",
       "      <td>0</td>\n",
       "      <td>0</td>\n",
       "      <td>0</td>\n",
       "      <td>0</td>\n",
       "      <td>1</td>\n",
       "      <td>0</td>\n",
       "      <td>0</td>\n",
       "      <td>0</td>\n",
       "      <td>1</td>\n",
       "      <td>1</td>\n",
       "      <td>0</td>\n",
       "    </tr>\n",
       "    <tr>\n",
       "      <th>1366501</th>\n",
       "      <td>15</td>\n",
       "      <td>0</td>\n",
       "      <td>0</td>\n",
       "      <td>0</td>\n",
       "      <td>0</td>\n",
       "      <td>0</td>\n",
       "      <td>1</td>\n",
       "      <td>0</td>\n",
       "      <td>0</td>\n",
       "      <td>0</td>\n",
       "      <td>0</td>\n",
       "      <td>1</td>\n",
       "      <td>1</td>\n",
       "    </tr>\n",
       "  </tbody>\n",
       "</table>\n",
       "</div>"
      ],
      "text/plain": [
       "         CalYear  PropertyType_0  PropertyType_1  PropertyType_2  \\\n",
       "1366500       15               0               0               0   \n",
       "1366501       15               0               0               0   \n",
       "\n",
       "         PropertyType_3  PropertyType_4  PropertyType_5  PropertyType_6  \\\n",
       "1366500               0               0               1               0   \n",
       "1366501               0               0               1               0   \n",
       "\n",
       "         StopCode_0  StopCode_1  StopCode_2  StopCode_3  StopCode_4  \n",
       "1366500           0           0           1           1           0  \n",
       "1366501           0           0           0           1           1  "
      ]
     },
     "metadata": {},
     "output_type": "display_data"
    },
    {
     "name": "stdout",
     "output_type": "stream",
     "text": [
      "(225027, 13)\n",
      "cible PumpSecondsOnSite_mean\n",
      "[('AdaBoostRegressor', <class 'sklearn.ensemble._weight_boosting.AdaBoostRegressor'>), ('BaggingRegressor', <class 'sklearn.ensemble._bagging.BaggingRegressor'>), ('BayesianRidge', <class 'sklearn.linear_model._bayes.BayesianRidge'>), ('DecisionTreeRegressor', <class 'sklearn.tree._classes.DecisionTreeRegressor'>), ('DummyRegressor', <class 'sklearn.dummy.DummyRegressor'>), ('ElasticNet', <class 'sklearn.linear_model._coordinate_descent.ElasticNet'>), ('ElasticNetCV', <class 'sklearn.linear_model._coordinate_descent.ElasticNetCV'>), ('ExtraTreeRegressor', <class 'sklearn.tree._classes.ExtraTreeRegressor'>), ('GradientBoostingRegressor', <class 'sklearn.ensemble._gb.GradientBoostingRegressor'>), ('HistGradientBoostingRegressor', <class 'sklearn.ensemble._hist_gradient_boosting.gradient_boosting.HistGradientBoostingRegressor'>), ('HuberRegressor', <class 'sklearn.linear_model._huber.HuberRegressor'>), ('KNeighborsRegressor', <class 'sklearn.neighbors._regression.KNeighborsRegressor'>), ('Lars', <class 'sklearn.linear_model._least_angle.Lars'>), ('LarsCV', <class 'sklearn.linear_model._least_angle.LarsCV'>), ('Lasso', <class 'sklearn.linear_model._coordinate_descent.Lasso'>), ('LassoCV', <class 'sklearn.linear_model._coordinate_descent.LassoCV'>), ('LassoLars', <class 'sklearn.linear_model._least_angle.LassoLars'>), ('LassoLarsCV', <class 'sklearn.linear_model._least_angle.LassoLarsCV'>), ('LassoLarsIC', <class 'sklearn.linear_model._least_angle.LassoLarsIC'>), ('LinearRegression', <class 'sklearn.linear_model._base.LinearRegression'>), ('LinearSVR', <class 'sklearn.svm._classes.LinearSVR'>), ('MLPRegressor', <class 'sklearn.neural_network._multilayer_perceptron.MLPRegressor'>), ('OrthogonalMatchingPursuit', <class 'sklearn.linear_model._omp.OrthogonalMatchingPursuit'>), ('OrthogonalMatchingPursuitCV', <class 'sklearn.linear_model._omp.OrthogonalMatchingPursuitCV'>), ('PLSRegression', <class 'sklearn.cross_decomposition._pls.PLSRegression'>), ('PassiveAggressiveRegressor', <class 'sklearn.linear_model._passive_aggressive.PassiveAggressiveRegressor'>), ('PoissonRegressor', <class 'sklearn.linear_model._glm.glm.PoissonRegressor'>), ('RANSACRegressor', <class 'sklearn.linear_model._ransac.RANSACRegressor'>), ('RandomForestRegressor', <class 'sklearn.ensemble._forest.RandomForestRegressor'>), ('Ridge', <class 'sklearn.linear_model._ridge.Ridge'>), ('RidgeCV', <class 'sklearn.linear_model._ridge.RidgeCV'>), ('SGDRegressor', <class 'sklearn.linear_model._stochastic_gradient.SGDRegressor'>), ('TheilSenRegressor', <class 'sklearn.linear_model._theil_sen.TheilSenRegressor'>), ('TransformedTargetRegressor', <class 'sklearn.compose._target.TransformedTargetRegressor'>), ('VotingRegressor', <class 'sklearn.ensemble._voting.VotingRegressor'>)]\n",
      "'tuple' object has no attribute '__name__'\n",
      "Invalid Regressor(s)\n"
     ]
    },
    {
     "name": "stderr",
     "output_type": "stream",
     "text": [
      "  3%|▎         | 1/35 [00:01<00:36,  1.09s/it]"
     ]
    },
    {
     "name": "stdout",
     "output_type": "stream",
     "text": [
      "{'Model': 'AdaBoostRegressor', 'R-Squared': 0.16244591820542986, 'Adjusted R-Squared': 0.1622039151145842, 'RMSE': np.float64(1335.0680932537296), 'Time taken': 1.0858771800994873}\n"
     ]
    },
    {
     "name": "stderr",
     "output_type": "stream",
     "text": [
      "  6%|▌         | 2/35 [00:01<00:31,  1.03it/s]"
     ]
    },
    {
     "name": "stdout",
     "output_type": "stream",
     "text": [
      "{'Model': 'BaggingRegressor', 'R-Squared': 0.21937264430666858, 'Adjusted R-Squared': 0.21914708963863838, 'RMSE': np.float64(1288.8989510267875), 'Time taken': 0.8850383758544922}\n"
     ]
    },
    {
     "name": "stderr",
     "output_type": "stream",
     "text": [
      "  9%|▊         | 3/35 [00:02<00:20,  1.57it/s]"
     ]
    },
    {
     "name": "stdout",
     "output_type": "stream",
     "text": [
      "{'Model': 'BayesianRidge', 'R-Squared': 0.13962287438412335, 'Adjusted R-Squared': 0.1393742767971522, 'RMSE': np.float64(1353.1358950300043), 'Time taken': 0.24026036262512207}\n"
     ]
    },
    {
     "name": "stderr",
     "output_type": "stream",
     "text": [
      " 11%|█▏        | 4/35 [00:02<00:14,  2.12it/s]"
     ]
    },
    {
     "name": "stdout",
     "output_type": "stream",
     "text": [
      "{'Model': 'DecisionTreeRegressor', 'R-Squared': 0.21899719509986537, 'Adjusted R-Squared': 0.2187715319494452, 'RMSE': np.float64(1289.2088670919925), 'Time taken': 0.2169945240020752}\n",
      "{'Model': 'DummyRegressor', 'R-Squared': -6.59179161428547e-05, 'Adjusted R-Squared': -0.0003548772185280047, 'RMSE': np.float64(1458.85221970003), 'Time taken': 0.08027935028076172}\n"
     ]
    },
    {
     "name": "stderr",
     "output_type": "stream",
     "text": [
      " 17%|█▋        | 6/35 [00:02<00:08,  3.47it/s]"
     ]
    },
    {
     "name": "stdout",
     "output_type": "stream",
     "text": [
      "{'Model': 'ElasticNet', 'R-Squared': 0.12756502954288673, 'Adjusted R-Squared': 0.12731294795913972, 'RMSE': np.float64(1362.5847367398562), 'Time taken': 0.1708073616027832}\n"
     ]
    },
    {
     "name": "stderr",
     "output_type": "stream",
     "text": [
      " 20%|██        | 7/35 [00:03<00:11,  2.54it/s]"
     ]
    },
    {
     "name": "stdout",
     "output_type": "stream",
     "text": [
      "{'Model': 'ElasticNetCV', 'R-Squared': 0.12891906621722304, 'Adjusted R-Squared': 0.12866737586917942, 'RMSE': np.float64(1361.5269466527402), 'Time taken': 0.6705367565155029}\n"
     ]
    },
    {
     "name": "stderr",
     "output_type": "stream",
     "text": [
      " 23%|██▎       | 8/35 [00:03<00:09,  2.84it/s]"
     ]
    },
    {
     "name": "stdout",
     "output_type": "stream",
     "text": [
      "{'Model': 'ExtraTreeRegressor', 'R-Squared': 0.21817444841116596, 'Adjusted R-Squared': 0.21794854753610693, 'RMSE': np.float64(1289.8877462973492), 'Time taken': 0.24588513374328613}\n"
     ]
    },
    {
     "name": "stderr",
     "output_type": "stream",
     "text": [
      " 26%|██▌       | 9/35 [00:08<00:42,  1.63s/it]"
     ]
    },
    {
     "name": "stdout",
     "output_type": "stream",
     "text": [
      "{'Model': 'GradientBoostingRegressor', 'R-Squared': 0.21375716793567712, 'Adjusted R-Squared': 0.21352999073046652, 'RMSE': np.float64(1293.5265187360064), 'Time taken': 4.791810512542725}\n"
     ]
    },
    {
     "name": "stderr",
     "output_type": "stream",
     "text": [
      " 29%|██▊       | 10/35 [00:08<00:32,  1.30s/it]"
     ]
    },
    {
     "name": "stdout",
     "output_type": "stream",
     "text": [
      "{'Model': 'HistGradientBoostingRegressor', 'R-Squared': 0.21983354092845064, 'Adjusted R-Squared': 0.21960811943200842, 'RMSE': np.float64(1288.518400128671), 'Time taken': 0.5104186534881592}\n"
     ]
    },
    {
     "name": "stderr",
     "output_type": "stream",
     "text": [
      " 31%|███▏      | 11/35 [00:09<00:26,  1.10s/it]"
     ]
    },
    {
     "name": "stdout",
     "output_type": "stream",
     "text": [
      "{'Model': 'HuberRegressor', 'R-Squared': 0.06441393519137706, 'Adjusted R-Squared': 0.06414360671425867, 'RMSE': np.float64(1411.0384862865778), 'Time taken': 0.6152076721191406}\n"
     ]
    },
    {
     "name": "stderr",
     "output_type": "stream",
     "text": [
      " 37%|███▋      | 13/35 [02:50<12:28, 34.00s/it]"
     ]
    },
    {
     "name": "stdout",
     "output_type": "stream",
     "text": [
      "{'Model': 'KNeighborsRegressor', 'R-Squared': 0.07447543986510397, 'Adjusted R-Squared': 0.07420801856172221, 'RMSE': np.float64(1403.4306630241995), 'Time taken': 160.88757252693176}\n",
      "{'Model': 'Lars', 'R-Squared': 0.13962181023631315, 'Adjusted R-Squared': 0.13937321234186684, 'RMSE': np.float64(1353.136731835233), 'Time taken': 0.11653351783752441}\n"
     ]
    },
    {
     "name": "stderr",
     "output_type": "stream",
     "text": [
      " 40%|████      | 14/35 [02:51<08:24, 24.02s/it]"
     ]
    },
    {
     "name": "stdout",
     "output_type": "stream",
     "text": [
      "{'Model': 'LarsCV', 'R-Squared': 0.13962181023631315, 'Adjusted R-Squared': 0.13937321234186684, 'RMSE': np.float64(1353.136731835233), 'Time taken': 0.47531676292419434}\n"
     ]
    },
    {
     "name": "stderr",
     "output_type": "stream",
     "text": [
      " 43%|████▎     | 15/35 [02:51<05:38, 16.94s/it]"
     ]
    },
    {
     "name": "stdout",
     "output_type": "stream",
     "text": [
      "{'Model': 'Lasso', 'R-Squared': 0.13957690065302808, 'Adjusted R-Squared': 0.1393282897823953, 'RMSE': np.float64(1353.1720465459632), 'Time taken': 0.27680468559265137}\n"
     ]
    },
    {
     "name": "stderr",
     "output_type": "stream",
     "text": [
      " 49%|████▊     | 17/35 [02:52<02:33,  8.53s/it]"
     ]
    },
    {
     "name": "stdout",
     "output_type": "stream",
     "text": [
      "{'Model': 'LassoCV', 'R-Squared': 0.13960520512059948, 'Adjusted R-Squared': 0.13935660242826675, 'RMSE': np.float64(1353.149789397515), 'Time taken': 0.7960867881774902}\n",
      "{'Model': 'LassoLars', 'R-Squared': 0.13957697748202713, 'Adjusted R-Squared': 0.13932836663359327, 'RMSE': np.float64(1353.1719861321642), 'Time taken': 0.12389159202575684}\n"
     ]
    },
    {
     "name": "stderr",
     "output_type": "stream",
     "text": [
      " 51%|█████▏    | 18/35 [02:52<01:44,  6.12s/it]"
     ]
    },
    {
     "name": "stdout",
     "output_type": "stream",
     "text": [
      "{'Model': 'LassoLarsCV', 'R-Squared': 0.13962181023631315, 'Adjusted R-Squared': 0.13937321234186684, 'RMSE': np.float64(1353.136731835233), 'Time taken': 0.4960513114929199}\n"
     ]
    },
    {
     "name": "stderr",
     "output_type": "stream",
     "text": [
      " 57%|█████▋    | 20/35 [02:53<00:46,  3.11s/it]"
     ]
    },
    {
     "name": "stdout",
     "output_type": "stream",
     "text": [
      "{'Model': 'LassoLarsIC', 'R-Squared': 0.13962181023631315, 'Adjusted R-Squared': 0.13937321234186684, 'RMSE': np.float64(1353.136731835233), 'Time taken': 0.24995040893554688}\n",
      "{'Model': 'LinearRegression', 'R-Squared': 0.13962181023631026, 'Adjusted R-Squared': 0.13937321234186395, 'RMSE': np.float64(1353.1367318352352), 'Time taken': 0.19614291191101074}\n"
     ]
    },
    {
     "name": "stderr",
     "output_type": "stream",
     "text": [
      " 60%|██████    | 21/35 [02:53<00:32,  2.30s/it]"
     ]
    },
    {
     "name": "stdout",
     "output_type": "stream",
     "text": [
      "{'Model': 'LinearSVR', 'R-Squared': 0.046841759888629375, 'Adjusted R-Squared': 0.04656635410267973, 'RMSE': np.float64(1424.2279042703515), 'Time taken': 0.4036695957183838}\n"
     ]
    },
    {
     "name": "stderr",
     "output_type": "stream",
     "text": [
      " 66%|██████▌   | 23/35 [05:36<07:04, 35.38s/it]"
     ]
    },
    {
     "name": "stdout",
     "output_type": "stream",
     "text": [
      "{'Model': 'MLPRegressor', 'R-Squared': 0.21936117857504533, 'Adjusted R-Squared': 0.21913562059410374, 'RMSE': np.float64(1288.9084165644026), 'Time taken': 162.96735668182373}\n",
      "{'Model': 'OrthogonalMatchingPursuit', 'R-Squared': 0.09677069435130514, 'Adjusted R-Squared': 0.09650971504446315, 'RMSE': np.float64(1386.4237745472267), 'Time taken': 0.1276106834411621}\n"
     ]
    },
    {
     "name": "stderr",
     "output_type": "stream",
     "text": [
      " 71%|███████▏  | 25/35 [05:37<02:54, 17.48s/it]"
     ]
    },
    {
     "name": "stdout",
     "output_type": "stream",
     "text": [
      "{'Model': 'OrthogonalMatchingPursuitCV', 'R-Squared': 0.1333282495677428, 'Adjusted R-Squared': 0.13307783321026545, 'RMSE': np.float64(1358.0767288356776), 'Time taken': 0.39554882049560547}\n",
      "{'Model': 'PLSRegression', 'R-Squared': 0.13451888605944495, 'Adjusted R-Squared': 0.1342688137247804, 'RMSE': np.float64(1357.1435430911847), 'Time taken': 0.18744730949401855}\n"
     ]
    },
    {
     "name": "stderr",
     "output_type": "stream",
     "text": [
      " 77%|███████▋  | 27/35 [05:37<01:09,  8.71s/it]"
     ]
    },
    {
     "name": "stdout",
     "output_type": "stream",
     "text": [
      "{'Model': 'PassiveAggressiveRegressor', 'R-Squared': 0.05136361324548899, 'Adjusted R-Squared': 0.051089514005006054, 'RMSE': np.float64(1420.8455666021098), 'Time taken': 0.43413352966308594}\n",
      "{'Model': 'PoissonRegressor', 'R-Squared': 0.12130019573057738, 'Adjusted R-Squared': 0.12104630398414462, 'RMSE': np.float64(1367.4682509160718), 'Time taken': 0.1907668113708496}\n"
     ]
    },
    {
     "name": "stderr",
     "output_type": "stream",
     "text": [
      " 80%|████████  | 28/35 [05:38<00:44,  6.38s/it]"
     ]
    },
    {
     "name": "stdout",
     "output_type": "stream",
     "text": [
      "{'Model': 'RANSACRegressor', 'R-Squared': -0.06786602463945113, 'Adjusted R-Squared': -0.06817457412203276, 'RMSE': np.float64(1507.4932342762552), 'Time taken': 0.9369630813598633}\n"
     ]
    },
    {
     "name": "stderr",
     "output_type": "stream",
     "text": [
      " 86%|████████▌ | 30/35 [05:48<00:25,  5.15s/it]"
     ]
    },
    {
     "name": "stdout",
     "output_type": "stream",
     "text": [
      "{'Model': 'RandomForestRegressor', 'R-Squared': 0.21997560355623214, 'Adjusted R-Squared': 0.2197502231074019, 'RMSE': np.float64(1288.4010798814793), 'Time taken': 9.481210470199585}\n",
      "{'Model': 'Ridge', 'R-Squared': 0.13962182337596152, 'Adjusted R-Squared': 0.13937322548531172, 'RMSE': np.float64(1353.136721502718), 'Time taken': 0.11171746253967285}\n"
     ]
    },
    {
     "name": "stderr",
     "output_type": "stream",
     "text": [
      " 89%|████████▊ | 31/35 [05:48<00:14,  3.71s/it]"
     ]
    },
    {
     "name": "stdout",
     "output_type": "stream",
     "text": [
      "{'Model': 'RidgeCV', 'R-Squared': 0.13962194075834833, 'Adjusted R-Squared': 0.13937334290161507, 'RMSE': np.float64(1353.1366291977133), 'Time taken': 0.3424255847930908}\n"
     ]
    },
    {
     "name": "stderr",
     "output_type": "stream",
     "text": [
      " 91%|█████████▏| 32/35 [05:49<00:08,  2.82s/it]"
     ]
    },
    {
     "name": "stdout",
     "output_type": "stream",
     "text": [
      "{'Model': 'SGDRegressor', 'R-Squared': 0.13908706751844058, 'Adjusted R-Squared': 0.13883831511529643, 'RMSE': np.float64(1353.5571676547406), 'Time taken': 0.7563908100128174}\n"
     ]
    },
    {
     "name": "stderr",
     "output_type": "stream",
     "text": [
      "100%|██████████| 35/35 [06:39<00:00, 11.41s/it]"
     ]
    },
    {
     "name": "stdout",
     "output_type": "stream",
     "text": [
      "{'Model': 'TheilSenRegressor', 'R-Squared': 0.003514966166231037, 'Adjusted R-Squared': 0.0032270415254095353, 'RMSE': np.float64(1456.2380593240218), 'Time taken': 49.81485366821289}\n",
      "{'Model': 'TransformedTargetRegressor', 'R-Squared': 0.13962181023631026, 'Adjusted R-Squared': 0.13937321234186395, 'RMSE': np.float64(1353.1367318352352), 'Time taken': 0.1827106475830078}\n",
      "VotingRegressor model failed to execute\n",
      "VotingRegressor.__init__() missing 1 required positional argument: 'estimators'\n"
     ]
    },
    {
     "name": "stderr",
     "output_type": "stream",
     "text": [
      "\n"
     ]
    },
    {
     "data": {
      "text/html": [
       "<div>\n",
       "<style scoped>\n",
       "    .dataframe tbody tr th:only-of-type {\n",
       "        vertical-align: middle;\n",
       "    }\n",
       "\n",
       "    .dataframe tbody tr th {\n",
       "        vertical-align: top;\n",
       "    }\n",
       "\n",
       "    .dataframe thead th {\n",
       "        text-align: right;\n",
       "    }\n",
       "</style>\n",
       "<table border=\"1\" class=\"dataframe\">\n",
       "  <thead>\n",
       "    <tr style=\"text-align: right;\">\n",
       "      <th></th>\n",
       "      <th>Adjusted R-Squared</th>\n",
       "      <th>R-Squared</th>\n",
       "      <th>RMSE</th>\n",
       "      <th>Time Taken</th>\n",
       "      <th>Target</th>\n",
       "      <th>Year floor</th>\n",
       "    </tr>\n",
       "    <tr>\n",
       "      <th>Model</th>\n",
       "      <th></th>\n",
       "      <th></th>\n",
       "      <th></th>\n",
       "      <th></th>\n",
       "      <th></th>\n",
       "      <th></th>\n",
       "    </tr>\n",
       "  </thead>\n",
       "  <tbody>\n",
       "    <tr>\n",
       "      <th>RandomForestRegressor</th>\n",
       "      <td>0.22</td>\n",
       "      <td>0.22</td>\n",
       "      <td>1288.40</td>\n",
       "      <td>9.48</td>\n",
       "      <td>PumpSecondsOnSite_mean</td>\n",
       "      <td>2023</td>\n",
       "    </tr>\n",
       "    <tr>\n",
       "      <th>HistGradientBoostingRegressor</th>\n",
       "      <td>0.22</td>\n",
       "      <td>0.22</td>\n",
       "      <td>1288.52</td>\n",
       "      <td>0.51</td>\n",
       "      <td>PumpSecondsOnSite_mean</td>\n",
       "      <td>2023</td>\n",
       "    </tr>\n",
       "    <tr>\n",
       "      <th>BaggingRegressor</th>\n",
       "      <td>0.22</td>\n",
       "      <td>0.22</td>\n",
       "      <td>1288.90</td>\n",
       "      <td>0.89</td>\n",
       "      <td>PumpSecondsOnSite_mean</td>\n",
       "      <td>2023</td>\n",
       "    </tr>\n",
       "    <tr>\n",
       "      <th>MLPRegressor</th>\n",
       "      <td>0.22</td>\n",
       "      <td>0.22</td>\n",
       "      <td>1288.91</td>\n",
       "      <td>162.97</td>\n",
       "      <td>PumpSecondsOnSite_mean</td>\n",
       "      <td>2023</td>\n",
       "    </tr>\n",
       "    <tr>\n",
       "      <th>DecisionTreeRegressor</th>\n",
       "      <td>0.22</td>\n",
       "      <td>0.22</td>\n",
       "      <td>1289.21</td>\n",
       "      <td>0.22</td>\n",
       "      <td>PumpSecondsOnSite_mean</td>\n",
       "      <td>2023</td>\n",
       "    </tr>\n",
       "    <tr>\n",
       "      <th>ExtraTreeRegressor</th>\n",
       "      <td>0.22</td>\n",
       "      <td>0.22</td>\n",
       "      <td>1289.89</td>\n",
       "      <td>0.25</td>\n",
       "      <td>PumpSecondsOnSite_mean</td>\n",
       "      <td>2023</td>\n",
       "    </tr>\n",
       "    <tr>\n",
       "      <th>GradientBoostingRegressor</th>\n",
       "      <td>0.21</td>\n",
       "      <td>0.21</td>\n",
       "      <td>1293.53</td>\n",
       "      <td>4.79</td>\n",
       "      <td>PumpSecondsOnSite_mean</td>\n",
       "      <td>2023</td>\n",
       "    </tr>\n",
       "    <tr>\n",
       "      <th>AdaBoostRegressor</th>\n",
       "      <td>0.16</td>\n",
       "      <td>0.16</td>\n",
       "      <td>1335.07</td>\n",
       "      <td>1.09</td>\n",
       "      <td>PumpSecondsOnSite_mean</td>\n",
       "      <td>2023</td>\n",
       "    </tr>\n",
       "    <tr>\n",
       "      <th>BayesianRidge</th>\n",
       "      <td>0.14</td>\n",
       "      <td>0.14</td>\n",
       "      <td>1353.14</td>\n",
       "      <td>0.24</td>\n",
       "      <td>PumpSecondsOnSite_mean</td>\n",
       "      <td>2023</td>\n",
       "    </tr>\n",
       "    <tr>\n",
       "      <th>RidgeCV</th>\n",
       "      <td>0.14</td>\n",
       "      <td>0.14</td>\n",
       "      <td>1353.14</td>\n",
       "      <td>0.34</td>\n",
       "      <td>PumpSecondsOnSite_mean</td>\n",
       "      <td>2023</td>\n",
       "    </tr>\n",
       "    <tr>\n",
       "      <th>Ridge</th>\n",
       "      <td>0.14</td>\n",
       "      <td>0.14</td>\n",
       "      <td>1353.14</td>\n",
       "      <td>0.11</td>\n",
       "      <td>PumpSecondsOnSite_mean</td>\n",
       "      <td>2023</td>\n",
       "    </tr>\n",
       "    <tr>\n",
       "      <th>LassoLarsCV</th>\n",
       "      <td>0.14</td>\n",
       "      <td>0.14</td>\n",
       "      <td>1353.14</td>\n",
       "      <td>0.50</td>\n",
       "      <td>PumpSecondsOnSite_mean</td>\n",
       "      <td>2023</td>\n",
       "    </tr>\n",
       "    <tr>\n",
       "      <th>Lars</th>\n",
       "      <td>0.14</td>\n",
       "      <td>0.14</td>\n",
       "      <td>1353.14</td>\n",
       "      <td>0.12</td>\n",
       "      <td>PumpSecondsOnSite_mean</td>\n",
       "      <td>2023</td>\n",
       "    </tr>\n",
       "    <tr>\n",
       "      <th>LassoLarsIC</th>\n",
       "      <td>0.14</td>\n",
       "      <td>0.14</td>\n",
       "      <td>1353.14</td>\n",
       "      <td>0.25</td>\n",
       "      <td>PumpSecondsOnSite_mean</td>\n",
       "      <td>2023</td>\n",
       "    </tr>\n",
       "    <tr>\n",
       "      <th>LarsCV</th>\n",
       "      <td>0.14</td>\n",
       "      <td>0.14</td>\n",
       "      <td>1353.14</td>\n",
       "      <td>0.48</td>\n",
       "      <td>PumpSecondsOnSite_mean</td>\n",
       "      <td>2023</td>\n",
       "    </tr>\n",
       "    <tr>\n",
       "      <th>TransformedTargetRegressor</th>\n",
       "      <td>0.14</td>\n",
       "      <td>0.14</td>\n",
       "      <td>1353.14</td>\n",
       "      <td>0.18</td>\n",
       "      <td>PumpSecondsOnSite_mean</td>\n",
       "      <td>2023</td>\n",
       "    </tr>\n",
       "    <tr>\n",
       "      <th>LinearRegression</th>\n",
       "      <td>0.14</td>\n",
       "      <td>0.14</td>\n",
       "      <td>1353.14</td>\n",
       "      <td>0.20</td>\n",
       "      <td>PumpSecondsOnSite_mean</td>\n",
       "      <td>2023</td>\n",
       "    </tr>\n",
       "    <tr>\n",
       "      <th>LassoCV</th>\n",
       "      <td>0.14</td>\n",
       "      <td>0.14</td>\n",
       "      <td>1353.15</td>\n",
       "      <td>0.80</td>\n",
       "      <td>PumpSecondsOnSite_mean</td>\n",
       "      <td>2023</td>\n",
       "    </tr>\n",
       "    <tr>\n",
       "      <th>LassoLars</th>\n",
       "      <td>0.14</td>\n",
       "      <td>0.14</td>\n",
       "      <td>1353.17</td>\n",
       "      <td>0.12</td>\n",
       "      <td>PumpSecondsOnSite_mean</td>\n",
       "      <td>2023</td>\n",
       "    </tr>\n",
       "    <tr>\n",
       "      <th>Lasso</th>\n",
       "      <td>0.14</td>\n",
       "      <td>0.14</td>\n",
       "      <td>1353.17</td>\n",
       "      <td>0.28</td>\n",
       "      <td>PumpSecondsOnSite_mean</td>\n",
       "      <td>2023</td>\n",
       "    </tr>\n",
       "    <tr>\n",
       "      <th>SGDRegressor</th>\n",
       "      <td>0.14</td>\n",
       "      <td>0.14</td>\n",
       "      <td>1353.56</td>\n",
       "      <td>0.76</td>\n",
       "      <td>PumpSecondsOnSite_mean</td>\n",
       "      <td>2023</td>\n",
       "    </tr>\n",
       "    <tr>\n",
       "      <th>PLSRegression</th>\n",
       "      <td>0.13</td>\n",
       "      <td>0.13</td>\n",
       "      <td>1357.14</td>\n",
       "      <td>0.19</td>\n",
       "      <td>PumpSecondsOnSite_mean</td>\n",
       "      <td>2023</td>\n",
       "    </tr>\n",
       "    <tr>\n",
       "      <th>OrthogonalMatchingPursuitCV</th>\n",
       "      <td>0.13</td>\n",
       "      <td>0.13</td>\n",
       "      <td>1358.08</td>\n",
       "      <td>0.40</td>\n",
       "      <td>PumpSecondsOnSite_mean</td>\n",
       "      <td>2023</td>\n",
       "    </tr>\n",
       "    <tr>\n",
       "      <th>ElasticNetCV</th>\n",
       "      <td>0.13</td>\n",
       "      <td>0.13</td>\n",
       "      <td>1361.53</td>\n",
       "      <td>0.67</td>\n",
       "      <td>PumpSecondsOnSite_mean</td>\n",
       "      <td>2023</td>\n",
       "    </tr>\n",
       "    <tr>\n",
       "      <th>ElasticNet</th>\n",
       "      <td>0.13</td>\n",
       "      <td>0.13</td>\n",
       "      <td>1362.58</td>\n",
       "      <td>0.17</td>\n",
       "      <td>PumpSecondsOnSite_mean</td>\n",
       "      <td>2023</td>\n",
       "    </tr>\n",
       "    <tr>\n",
       "      <th>PoissonRegressor</th>\n",
       "      <td>0.12</td>\n",
       "      <td>0.12</td>\n",
       "      <td>1367.47</td>\n",
       "      <td>0.19</td>\n",
       "      <td>PumpSecondsOnSite_mean</td>\n",
       "      <td>2023</td>\n",
       "    </tr>\n",
       "    <tr>\n",
       "      <th>OrthogonalMatchingPursuit</th>\n",
       "      <td>0.10</td>\n",
       "      <td>0.10</td>\n",
       "      <td>1386.42</td>\n",
       "      <td>0.13</td>\n",
       "      <td>PumpSecondsOnSite_mean</td>\n",
       "      <td>2023</td>\n",
       "    </tr>\n",
       "    <tr>\n",
       "      <th>KNeighborsRegressor</th>\n",
       "      <td>0.07</td>\n",
       "      <td>0.07</td>\n",
       "      <td>1403.43</td>\n",
       "      <td>160.89</td>\n",
       "      <td>PumpSecondsOnSite_mean</td>\n",
       "      <td>2023</td>\n",
       "    </tr>\n",
       "    <tr>\n",
       "      <th>HuberRegressor</th>\n",
       "      <td>0.06</td>\n",
       "      <td>0.06</td>\n",
       "      <td>1411.04</td>\n",
       "      <td>0.62</td>\n",
       "      <td>PumpSecondsOnSite_mean</td>\n",
       "      <td>2023</td>\n",
       "    </tr>\n",
       "    <tr>\n",
       "      <th>PassiveAggressiveRegressor</th>\n",
       "      <td>0.05</td>\n",
       "      <td>0.05</td>\n",
       "      <td>1420.85</td>\n",
       "      <td>0.43</td>\n",
       "      <td>PumpSecondsOnSite_mean</td>\n",
       "      <td>2023</td>\n",
       "    </tr>\n",
       "    <tr>\n",
       "      <th>LinearSVR</th>\n",
       "      <td>0.05</td>\n",
       "      <td>0.05</td>\n",
       "      <td>1424.23</td>\n",
       "      <td>0.40</td>\n",
       "      <td>PumpSecondsOnSite_mean</td>\n",
       "      <td>2023</td>\n",
       "    </tr>\n",
       "    <tr>\n",
       "      <th>TheilSenRegressor</th>\n",
       "      <td>0.00</td>\n",
       "      <td>0.00</td>\n",
       "      <td>1456.24</td>\n",
       "      <td>49.81</td>\n",
       "      <td>PumpSecondsOnSite_mean</td>\n",
       "      <td>2023</td>\n",
       "    </tr>\n",
       "    <tr>\n",
       "      <th>DummyRegressor</th>\n",
       "      <td>-0.00</td>\n",
       "      <td>-0.00</td>\n",
       "      <td>1458.85</td>\n",
       "      <td>0.08</td>\n",
       "      <td>PumpSecondsOnSite_mean</td>\n",
       "      <td>2023</td>\n",
       "    </tr>\n",
       "    <tr>\n",
       "      <th>RANSACRegressor</th>\n",
       "      <td>-0.07</td>\n",
       "      <td>-0.07</td>\n",
       "      <td>1507.49</td>\n",
       "      <td>0.94</td>\n",
       "      <td>PumpSecondsOnSite_mean</td>\n",
       "      <td>2023</td>\n",
       "    </tr>\n",
       "  </tbody>\n",
       "</table>\n",
       "</div>"
      ],
      "text/plain": [
       "                               Adjusted R-Squared  R-Squared    RMSE  \\\n",
       "Model                                                                  \n",
       "RandomForestRegressor                        0.22       0.22 1288.40   \n",
       "HistGradientBoostingRegressor                0.22       0.22 1288.52   \n",
       "BaggingRegressor                             0.22       0.22 1288.90   \n",
       "MLPRegressor                                 0.22       0.22 1288.91   \n",
       "DecisionTreeRegressor                        0.22       0.22 1289.21   \n",
       "ExtraTreeRegressor                           0.22       0.22 1289.89   \n",
       "GradientBoostingRegressor                    0.21       0.21 1293.53   \n",
       "AdaBoostRegressor                            0.16       0.16 1335.07   \n",
       "BayesianRidge                                0.14       0.14 1353.14   \n",
       "RidgeCV                                      0.14       0.14 1353.14   \n",
       "Ridge                                        0.14       0.14 1353.14   \n",
       "LassoLarsCV                                  0.14       0.14 1353.14   \n",
       "Lars                                         0.14       0.14 1353.14   \n",
       "LassoLarsIC                                  0.14       0.14 1353.14   \n",
       "LarsCV                                       0.14       0.14 1353.14   \n",
       "TransformedTargetRegressor                   0.14       0.14 1353.14   \n",
       "LinearRegression                             0.14       0.14 1353.14   \n",
       "LassoCV                                      0.14       0.14 1353.15   \n",
       "LassoLars                                    0.14       0.14 1353.17   \n",
       "Lasso                                        0.14       0.14 1353.17   \n",
       "SGDRegressor                                 0.14       0.14 1353.56   \n",
       "PLSRegression                                0.13       0.13 1357.14   \n",
       "OrthogonalMatchingPursuitCV                  0.13       0.13 1358.08   \n",
       "ElasticNetCV                                 0.13       0.13 1361.53   \n",
       "ElasticNet                                   0.13       0.13 1362.58   \n",
       "PoissonRegressor                             0.12       0.12 1367.47   \n",
       "OrthogonalMatchingPursuit                    0.10       0.10 1386.42   \n",
       "KNeighborsRegressor                          0.07       0.07 1403.43   \n",
       "HuberRegressor                               0.06       0.06 1411.04   \n",
       "PassiveAggressiveRegressor                   0.05       0.05 1420.85   \n",
       "LinearSVR                                    0.05       0.05 1424.23   \n",
       "TheilSenRegressor                            0.00       0.00 1456.24   \n",
       "DummyRegressor                              -0.00      -0.00 1458.85   \n",
       "RANSACRegressor                             -0.07      -0.07 1507.49   \n",
       "\n",
       "                               Time Taken                  Target  Year floor  \n",
       "Model                                                                          \n",
       "RandomForestRegressor                9.48  PumpSecondsOnSite_mean        2023  \n",
       "HistGradientBoostingRegressor        0.51  PumpSecondsOnSite_mean        2023  \n",
       "BaggingRegressor                     0.89  PumpSecondsOnSite_mean        2023  \n",
       "MLPRegressor                       162.97  PumpSecondsOnSite_mean        2023  \n",
       "DecisionTreeRegressor                0.22  PumpSecondsOnSite_mean        2023  \n",
       "ExtraTreeRegressor                   0.25  PumpSecondsOnSite_mean        2023  \n",
       "GradientBoostingRegressor            4.79  PumpSecondsOnSite_mean        2023  \n",
       "AdaBoostRegressor                    1.09  PumpSecondsOnSite_mean        2023  \n",
       "BayesianRidge                        0.24  PumpSecondsOnSite_mean        2023  \n",
       "RidgeCV                              0.34  PumpSecondsOnSite_mean        2023  \n",
       "Ridge                                0.11  PumpSecondsOnSite_mean        2023  \n",
       "LassoLarsCV                          0.50  PumpSecondsOnSite_mean        2023  \n",
       "Lars                                 0.12  PumpSecondsOnSite_mean        2023  \n",
       "LassoLarsIC                          0.25  PumpSecondsOnSite_mean        2023  \n",
       "LarsCV                               0.48  PumpSecondsOnSite_mean        2023  \n",
       "TransformedTargetRegressor           0.18  PumpSecondsOnSite_mean        2023  \n",
       "LinearRegression                     0.20  PumpSecondsOnSite_mean        2023  \n",
       "LassoCV                              0.80  PumpSecondsOnSite_mean        2023  \n",
       "LassoLars                            0.12  PumpSecondsOnSite_mean        2023  \n",
       "Lasso                                0.28  PumpSecondsOnSite_mean        2023  \n",
       "SGDRegressor                         0.76  PumpSecondsOnSite_mean        2023  \n",
       "PLSRegression                        0.19  PumpSecondsOnSite_mean        2023  \n",
       "OrthogonalMatchingPursuitCV          0.40  PumpSecondsOnSite_mean        2023  \n",
       "ElasticNetCV                         0.67  PumpSecondsOnSite_mean        2023  \n",
       "ElasticNet                           0.17  PumpSecondsOnSite_mean        2023  \n",
       "PoissonRegressor                     0.19  PumpSecondsOnSite_mean        2023  \n",
       "OrthogonalMatchingPursuit            0.13  PumpSecondsOnSite_mean        2023  \n",
       "KNeighborsRegressor                160.89  PumpSecondsOnSite_mean        2023  \n",
       "HuberRegressor                       0.62  PumpSecondsOnSite_mean        2023  \n",
       "PassiveAggressiveRegressor           0.43  PumpSecondsOnSite_mean        2023  \n",
       "LinearSVR                            0.40  PumpSecondsOnSite_mean        2023  \n",
       "TheilSenRegressor                   49.81  PumpSecondsOnSite_mean        2023  \n",
       "DummyRegressor                       0.08  PumpSecondsOnSite_mean        2023  \n",
       "RANSACRegressor                      0.94  PumpSecondsOnSite_mean        2023  "
      ]
     },
     "metadata": {},
     "output_type": "display_data"
    }
   ],
   "source": [
    "# Créez le cercle de corrélation\n",
    "# def draw_correlation_circle(df_charges_factorielles, pca, arrow_length=0.1, label_rotation=0):\n",
    "#     fig, ax = plt.subplots(figsize=(8, 8))\n",
    "#     for i, var in enumerate(df_charges_factorielles.columns):\n",
    "#         x = df_charges_factorielles.loc[0, var]\n",
    "#         y = df_charges_factorielles.loc[1, var]\n",
    "#         ax.arrow(0, 0, x, y, head_width=arrow_length, head_length=arrow_length, fc='gray', ec='gray')\n",
    "#         ax.text(x*1.15, y*1.15, var, ha='center', va='center', rotation=label_rotation, fontsize=9)\n",
    "#     circle = plt.Circle((0, 0), 1, facecolor='none', edgecolor='black')\n",
    "#     ax.add_artist(circle)\n",
    "#     ax.set_xlim(-1.1, 1.1)\n",
    "#     ax.set_ylim(-1.1, 1.1)\n",
    "#     ax.set_aspect('equal', adjustable='box')\n",
    "#     ax.set_xlabel('Axe 1 (PC1)')\n",
    "#     ax.set_ylabel('Axe 2 (PC2)')\n",
    "#     ax.set_title('Cercle des Corrélations')\n",
    "#     plt.grid()\n",
    "#     plt.show()\n",
    "\n",
    "cols_cible_filter = [\n",
    "    \"TurnoutTimeSeconds_mean\",\n",
    "    \"TravelTimeSeconds_mean\",\n",
    "    \"PumpSecondsOnSite_mean\",\n",
    "]\n",
    "\n",
    "ignore_regressors = [\n",
    "    \"ExtraTreesRegressor\",\n",
    "    \"NuSVR\",\n",
    "    \"QuantileRegressor\",\n",
    "    \"SVR\",\n",
    "    \"CCA\",\n",
    "    \"GammaRegressor\",\n",
    "    \"GaussianProcessRegressor\",\n",
    "    \"IsotonicRegression\",\n",
    "    \"MultiOutputRegressor\",\n",
    "    \"MultiTaskElasticNet\",\n",
    "    \"MultiTaskElasticNetCV\",\n",
    "    \"MultiTaskLasso\",\n",
    "    \"MultiTaskLassoCV\",\n",
    "    \"PLSCanonical\",\n",
    "    \"RadiusNeighborsRegressor\",\n",
    "    \"RegressorChain\",\n",
    "    \"StackingRegressor\",\n",
    "    \"KernelRidge\",\n",
    "    \"ARDRegression\",\n",
    "    \"TweedieRegressor\",\n",
    "]\n",
    "REGRESSORS = [\n",
    "    estimator\n",
    "    for estimator in all_estimators()\n",
    "    if (\n",
    "        issubclass(estimator[1], RegressorMixin)\n",
    "        and (not (estimator[0] in ignore_regressors))\n",
    "    )\n",
    "]\n",
    "\n",
    "all_results = pd.DataFrame()\n",
    "\n",
    "for index, name in enumerate(cols_cible_type):\n",
    "    df = load_df(name)\n",
    "    # X = df.drop([\"PumpSecondsOnSite_min\", \"PumpSecondsOnSite_mean\", \"PumpSecondsOnSite_max\", \"TurnoutTimeSeconds_min\", \"TurnoutTimeSeconds_mean\",\n",
    "    #               \"TurnoutTimeSeconds_max\", \"TravelTimeSeconds_min\", \"TravelTimeSeconds_mean\", \"TravelTimeSeconds_max\", \"NumPumpsAttending\"], axis=1)\n",
    "    # display(X.head(2))\n",
    "    # print(X.shape)\n",
    "\n",
    "    # pca = PCA()\n",
    "    # data_2D = pca.fit_transform(X)\n",
    "    # display(data_2D)\n",
    "    # print(\"La part de variance expliquée est\", round(pca.explained_variance_ratio_.sum(), 5))\n",
    "\n",
    "    # plt.figure()\n",
    "    # plt.xlim(0,40)\n",
    "    # plt.xlabel('Nombre de composantes')\n",
    "    # plt.ylabel('Part de variance expliquée')\n",
    "    # plt.axhline(y = 0.95, color ='r', linestyle = '--')\n",
    "    # plt.plot(pca.explained_variance_ratio_.cumsum());\n",
    "    # plt.show()\n",
    "\n",
    "    # variance_expliquee = pca.explained_variance_ratio_\n",
    "    # charges_factorielles = pca.components_\n",
    "    # # Créez un DataFrame pour afficher les corrélations de chaque variable avec chaque axe\n",
    "    # df_charges_factorielles = pd.DataFrame(\n",
    "    #     charges_factorielles,\n",
    "    #     columns=X.columns,\n",
    "    #     #index=[\"Axe 1\", \"Axe 2\", \"Axe 3\", \"Axe 4\", \"Axe 5\", \"Axe 6\"],\n",
    "    # )\n",
    "\n",
    "    # # Affichez le DataFrame des charges factorielles\n",
    "    # display(df_charges_factorielles.head(2))\n",
    "\n",
    "    # charges_factorielles = pca.components_\n",
    "    # # Appelez la fonction pour tracer le cercle de corrélation\n",
    "    # draw_correlation_circle(df_charges_factorielles, pca)\n",
    "\n",
    "    # Auto ML\n",
    "    for year_floor in range(13, 16):\n",
    "        print(\"-----------------------------------------------------\")\n",
    "        print(\"year\", 2024 - 16 + year_floor)\n",
    "        print(\"-----------------------------------------------------\")\n",
    "        df_limited = df[df.CalYear >= year_floor]  # >= 2021\n",
    "        X = Create_X(df_limited, index)\n",
    "\n",
    "        for col_cible in cols_cible[index]:\n",
    "            if not(col_cible in cols_cible_filter):\n",
    "                continue\n",
    "            print(\"cible\", col_cible)\n",
    "            y = df_limited[col_cible]\n",
    "            X_train, X_test, y_train, y_test = train_test_split(X, y, test_size=0.2, random_state=42)\n",
    "            # Réchantillonne\n",
    "            # X_train_samp, y_train_samp = custom_random_undersampler(X_train, y_train)\n",
    "            X_train_samp, y_train_samp = X_train, y_train\n",
    "            # LazyPredict\n",
    "            myREGRESSORS = REGRESSORS\n",
    "            print(myREGRESSORS)\n",
    "            # myREGRESSORS = myREGRESSORS[4:6]\n",
    "            reg = LazyRegressor(\n",
    "                verbose=2,\n",
    "                ignore_warnings=False,\n",
    "                custom_metric=None,\n",
    "                regressors=myREGRESSORS,\n",
    "            )\n",
    "            models, predictions = reg.fit(X_train_samp, X_test, y_train_samp, y_test)\n",
    "            # models, predictions = reg.fit(X_train, X_test, y_train, y_test)\n",
    "            # Ajoute le nom de la colonne\n",
    "            models[\"Target\"] = col_cible\n",
    "            models[\"Year floor\"] = 2024 - 16 + year_floor\n",
    "            # Concaténe dans les résultats\n",
    "            all_results = pd.concat([all_results, models], axis=0)\n",
    "            display(models)\n",
    "            models.to_csv(f\"../data/_autoML_regressor_{col_cible}.csv\", sep=\";\", index=True)\n",
    "            # break\n",
    "        # break\n",
    "all_results = all_results.sort_values(by=[\"Target\", \"RMSE\"], ascending=False)\n",
    "all_results.to_csv(f\"../data/_autoML_regressor.csv\", sep=\";\", index=True)\n",
    "\n",
    "# tester automl avant et après PCA et aussi gridsearch pour comparer\n",
    "# save du PCA"
   ]
  },
  {
   "cell_type": "code",
   "execution_count": null,
   "metadata": {},
   "outputs": [],
   "source": [
    "# Regressors retenus pour optimisation, prend le top 5 de chaque cible et les entraine tous\n",
    "# pour voir si au final on peut limiter à certains communs\n",
    "\n",
    "# Pour TurnoutTimeSeconds\n",
    "# HistGradientBoostingRegressor\n",
    "# MLPRegressor\n",
    "# GradientBoostingRegressor\n",
    "# DecisionTreeRegressor\n",
    "# ExtraTreeRegressor\n",
    "\n",
    "# Pour TravelTimeSeconds\n",
    "# MLPRegressor\n",
    "# HistGradientBoostingRegressor\n",
    "# GradientBoostingRegressor\n",
    "# LassoCV\n",
    "# RidgeCV\n",
    "\n",
    "# Pour PumpSecondsOnSite\n",
    "# HistGradientBoostingRegressor\n",
    "# MLPRegressor\n",
    "# RandomForestRegressor\n",
    "# BaggingRegressor\n",
    "# DecisionTreeRegressor\n",
    "\n",
    "# On va effectuer un GridSearchCV pour :\n",
    "# HistGradientBoostingRegressor\n",
    "# MLPRegressor\n",
    "# GradientBoostingRegressor\n",
    "# DecisionTreeRegressor\n",
    "# ExtraTreeRegressor\n",
    "# LassoCV\n",
    "# RidgeCV\n",
    "# RandomForestRegressor\n",
    "# BaggingRegressor\n",
    "\n",
    "\n",
    "import pandas as pd\n",
    "from sklearn.model_selection import GridSearchCV, train_test_split\n",
    "from sklearn.pipeline import Pipeline\n",
    "from sklearn.preprocessing import StandardScaler\n",
    "from sklearn.ensemble import (\n",
    "    HistGradientBoostingRegressor,\n",
    "    GradientBoostingRegressor,\n",
    "    RandomForestRegressor,\n",
    "    BaggingRegressor,\n",
    "    AdaBoostRegressor,\n",
    ")\n",
    "from sklearn.tree import DecisionTreeRegressor, ExtraTreeRegressor\n",
    "from sklearn.neural_network import MLPRegressor\n",
    "from sklearn.linear_model import (\n",
    "    PoissonRegressor,\n",
    "    Lars,\n",
    "    LarsCV,\n",
    "    LinearRegression,\n",
    "    Ridge,\n",
    "    RidgeCV,\n",
    "    BayesianRidge,\n",
    "    LassoLarsIC,\n",
    "    LassoCV,\n",
    "    LassoLarsCV,\n",
    "    ElasticNetCV,\n",
    "    OrthogonalMatchingPursuitCV,\n",
    "    PassiveAggressiveRegressor,\n",
    "    RANSACRegressor,\n",
    "    SGDRegressor,\n",
    "    HuberRegressor,\n",
    "    TheilSenRegressor,\n",
    "    ElasticNet,\n",
    "    OrthogonalMatchingPursuit,\n",
    "    LassoLars,\n",
    "    Lasso,\n",
    ")\n",
    "from sklearn.svm import LinearSVR\n",
    "from sklearn.cross_decomposition import PLSRegression\n",
    "from sklearn.neighbors import KNeighborsRegressor\n",
    "from sklearn.compose import TransformedTargetRegressor\n",
    "\n",
    "from sklearn.model_selection import GridSearchCV\n",
    "from sklearn.model_selection import train_test_split, KFold\n",
    "\n",
    "from sklearn.metrics import accuracy_score, root_mean_squared_error, mean_absolute_error\n",
    "\n",
    "\n",
    "# Hyperparamètres larges pour chaque modèle\n",
    "param_grid = {\n",
    "    \"HistGradientBoostingRegressor\": {\n",
    "        \"learning_rate\": [0.01, 0.05, 0.1],\n",
    "        \"max_iter\": [100, 200, 300],\n",
    "        \"max_depth\": [None, 5, 10, 15, 20],\n",
    "    },\n",
    "    \"MLPRegressor\": {\n",
    "        \"hidden_layer_sizes\": [(50,), (100,), (50, 50), (100, 100)],\n",
    "        \"activation\": [\"relu\", \"tanh\", \"logistic\"],\n",
    "        \"solver\": [\"adam\", \"sgd\"],\n",
    "        \"learning_rate_init\": [0.0001, 0.001, 0.01, 0.1],\n",
    "    },\n",
    "    \"GradientBoostingRegressor\": {\n",
    "        \"learning_rate\": [0.01, 0.1, 0.2],\n",
    "        \"n_estimators\": [100, 200, 300],\n",
    "        \"max_depth\": [3, 5, 7],\n",
    "    },\n",
    "    \"DecisionTreeRegressor\": {\n",
    "        \"max_depth\": [None, 10, 20, 30],\n",
    "        \"min_samples_split\": [2, 5, 10],\n",
    "        \"min_samples_leaf\": [1, 2, 4],\n",
    "    },\n",
    "    \"ExtraTreeRegressor\": {\n",
    "        \"max_depth\": [None, 10, 20, 30],\n",
    "        \"min_samples_split\": [2, 5, 10],\n",
    "        \"min_samples_leaf\": [1, 2, 4],\n",
    "    },\n",
    "    \"RandomForestRegressor\": {\n",
    "        \"n_estimators\": [100, 200, 300],\n",
    "        \"max_depth\": [None, 10, 20, 30],\n",
    "        \"min_samples_split\": [2, 5, 10],\n",
    "    },\n",
    "    \"BaggingRegressor\": {\n",
    "        \"n_estimators\": [10, 50, 100],\n",
    "        \"max_samples\": [0.5, 0.75, 1.0],\n",
    "        \"max_features\": [0.5, 1.0],\n",
    "    },\n",
    "    \"AdaBoostRegressor\": {\n",
    "        \"n_estimators\": [50, 100, 200],\n",
    "        \"learning_rate\": [0.1, 0.5, 1.0],\n",
    "    },\n",
    "    \"PoissonRegressor\": {\n",
    "        \"alpha\": [0.01, 0.1, 1.0],\n",
    "    },\n",
    "    \"Lars\": {\n",
    "        \"n_nonzero_coefs\": [1, 5, 10, 20],\n",
    "    },\n",
    "    \"LinearRegression\": {},\n",
    "    \"TransformedTargetRegressor\": {},\n",
    "    \"Ridge\": {\n",
    "        \"alpha\": [-5, 0.1, 1.0, 10.0, 50.0, 100.0],\n",
    "        \"fit_intercept\": [True, False],\n",
    "    },\n",
    "    \"BayesianRidge\": {\n",
    "        \"alpha_1\": [1e-6, 1e-5, 1e-4],\n",
    "        \"alpha_2\": [1e-6, 1e-5, 1e-4],\n",
    "    },\n",
    "    \"LassoLarsIC\": {\"criterion\": [\"aic\", \"bic\"]},\n",
    "    \"OrthogonalMatchingPursuitCV\": {},\n",
    "    \"PLSRegression\": {\n",
    "        \"n_components\": [2, 5, 10],\n",
    "    },\n",
    "    \"TheilSenRegressor\": {\n",
    "        \"max_subpopulation\": [10000, 100000],\n",
    "    },\n",
    "    \"HuberRegressor\": {\n",
    "        \"alpha\": [0.01, 0.1, 1.0],\n",
    "    },\n",
    "    \"LinearSVR\": {\n",
    "        \"C\": [0.1, 1.0, 10.0],\n",
    "        \"epsilon\": [0.1, 0.2, 0.3],\n",
    "    },\n",
    "    \"Lasso\": {\n",
    "        \"alpha\": [0.1, 1.0, 5.0, 10.0],\n",
    "    },\n",
    "    \"ElasticNet\": {\n",
    "        \"alpha\": [0.1, 1.0, 10.0],\n",
    "        \"l1_ratio\": [0.1, 0.5, 0.7, 0.9],\n",
    "    },\n",
    "    \"OrthogonalMatchingPursuit\": {},\n",
    "    \"KNeighborsRegressor\": {\n",
    "        \"n_neighbors\": [3, 5, 10, 15],\n",
    "        \"weights\": [\"uniform\", \"distance\"],\n",
    "    },\n",
    "    \"PassiveAggressiveRegressor\": {\n",
    "        \"C\": [0.1, 1.0, 10.0],\n",
    "    },\n",
    "    \"RANSACRegressor\": {\"min_samples\": [0.1, 0.5, 0.75], \"max_trials\": [100, 200, 300]},\n",
    "    \"SGDRegressor\": {\n",
    "        \"alpha\": [0.0001, 0.001, 0.01],\n",
    "        \"penalty\": [\"l2\", \"l1\", \"elasticnet\"],\n",
    "    },\n",
    "}\n",
    "\n",
    "# Liste des modèles\n",
    "regressors = {\n",
    "    \"HistGradientBoostingRegressor\": HistGradientBoostingRegressor(),\n",
    "    \"MLPRegressor\": MLPRegressor(),\n",
    "    \"GradientBoostingRegressor\": GradientBoostingRegressor(),\n",
    "    \"DecisionTreeRegressor\": DecisionTreeRegressor(),\n",
    "    \"ExtraTreeRegressor\": ExtraTreeRegressor(),\n",
    "    \"RandomForestRegressor\": RandomForestRegressor(),\n",
    "    \"BaggingRegressor\": BaggingRegressor(),\n",
    "    \"AdaBoostRegressor\": AdaBoostRegressor(),\n",
    "    \"PoissonRegressor\": PoissonRegressor(),\n",
    "    \"Lars\": Lars(),\n",
    "    \"LinearRegression\": LinearRegression(),\n",
    "    \"TransformedTargetRegressor\": TransformedTargetRegressor(\n",
    "        regressor=LinearRegression()\n",
    "    ),\n",
    "    \"Ridge\": Ridge(),\n",
    "    \"BayesianRidge\": BayesianRidge(),\n",
    "    \"LassoLarsIC\": LassoLarsIC(),\n",
    "    \"OrthogonalMatchingPursuitCV\": OrthogonalMatchingPursuitCV(),\n",
    "    \"PLSRegression\": PLSRegression(),\n",
    "    \"TheilSenRegressor\": TheilSenRegressor(),\n",
    "    \"HuberRegressor\": HuberRegressor(),\n",
    "    \"LinearSVR\": LinearSVR(),\n",
    "    \"LassoLars\": LassoLars(),\n",
    "    \"Lasso\": Lasso(),\n",
    "    \"ElasticNet\": ElasticNet(),\n",
    "    \"OrthogonalMatchingPursuit\": OrthogonalMatchingPursuit(),\n",
    "    \"KNeighborsRegressor\": KNeighborsRegressor(),\n",
    "    \"PassiveAggressiveRegressor\": PassiveAggressiveRegressor(),\n",
    "    \"RANSACRegressor\": RANSACRegressor(),\n",
    "    \"SGDRegressor\": SGDRegressor(),\n",
    "}\n",
    "\n",
    "results = []\n",
    "crossval = KFold(n_splits=5, random_state=42, shuffle=True)\n",
    "\n",
    "for index, name in enumerate(cols_cible_type):\n",
    "    df = load_df(name)\n",
    "\n",
    "    for year_floor in range(13, 16):        \n",
    "        print(\"-----------------------------------------------------\")\n",
    "        print(\"year\", 2024 - 16 + year_floor)\n",
    "        print(\"-----------------------------------------------------\")\n",
    "        df_limited = df[df.CalYear >= year_floor]  # >= 2021\n",
    "        X = Create_X(df_limited, index)\n",
    "        for index_cible, col_cible in enumerate(cols_cible[index]):\n",
    "            print(\n",
    "                \"--------------------------------------------------------------------------------\"\n",
    "            )\n",
    "            print(\"///////////////////////////\", \"cible\", col_cible)\n",
    "            y = df_limited[col_cible]\n",
    "            X_train, X_test, y_train, y_test = train_test_split(\n",
    "                X, y, test_size=0.2, random_state=42\n",
    "            )\n",
    "            # Réchantillonne\n",
    "            # X_train_smote, y_train_smote = under_sampling(X_train, y_train)\n",
    "            X_train_samp = X_train\n",
    "            y_train_samp = y_train\n",
    "\n",
    "            # Exécuter GridSearchCV pour chaque modèle\n",
    "            for model_name, model in regressors.items():\n",
    "                # Controle run, car potentiellement long\n",
    "                print(\"-------------------------------------------\")\n",
    "                print(f\"GridSearchCV pour {model_name}\")\n",
    "                grid = GridSearchCV(\n",
    "                    model,\n",
    "                    param_grid[model_name],\n",
    "                    scoring=\"neg_mean_squared_error\",\n",
    "                    cv=crossval,\n",
    "                    n_jobs=-1,\n",
    "                    verbose=2,\n",
    "                )\n",
    "                # Fit et Predict\n",
    "                grid.fit(X_train_samp, y_train_samp)\n",
    "                y_pred = grid.predict(X_test)\n",
    "                y_train_pred = grid.predict(X_train_samp)\n",
    "                # Meilleur score et meilleurs hyperparamètres\n",
    "                best_params = grid.best_params_\n",
    "                best_score = grid.best_score_\n",
    "                # affiche de suite les résultat\n",
    "                print(f\"Meilleurs paramètres {best_params}\")\n",
    "                print(f\"Meilleur score {best_score}\")\n",
    "                # Accuracy\n",
    "                accuracy = accuracy_score(y_test, y_pred)\n",
    "                print(f\"Accuracy : {accuracy}\")\n",
    "                # train et test RMSE\n",
    "                score_train = grid.score(X_train_samp, y_train_samp)\n",
    "                print(f\"Score train : {score_train}\")\n",
    "                score_test = grid.score(X_test, y_test)\n",
    "                print(f\"Score test : {score_test}\")\n",
    "                # RMSE\n",
    "                rmse_train = root_mean_squared_error(y_train_samp, y_train_pred)\n",
    "                print(f\"RMSE train : {rmse_train}\")\n",
    "                rmse_test = root_mean_squared_error(y_test, y_pred)\n",
    "                print(f\"RMSE test : {rmse_test}\")\n",
    "                # MAE\n",
    "                mae_train = mean_absolute_error(y_train_samp, y_train_pred)\n",
    "                print(f\"MAE train : {score_train}\")\n",
    "                mae_test = mean_absolute_error(y_test, y_pred)\n",
    "                print(f\"MAE test : {score_test}\")\n",
    "\n",
    "                # Score de validation croisée\n",
    "                #             scores = cross_validate(grid, X_train, y_train, cv=crossval, scoring=['accuracy', 'precision', 'recall', 'f1'])\n",
    "                #             cv_test_accuracy = f\" cv_test_accuracy : {scores['test_accuracy'].mean()} (+/-{scores['test_accuracy'].std()})\"\n",
    "                #             cv_test_precision\n",
    "                #             cv_test_recall\n",
    "                #             cv_test_f1\n",
    "\n",
    "                # {'fit_time': array([1.7602632 , 1.3521595 , 1.53327417, 1.6628437 , 1.52980328]),\n",
    "                #  'score_time': array([0.10070086, 0.10009599, 0.11566949, 0.09443331, 0.09455991]),\n",
    "                #  'test_accuracy': array([0.87765306, 0.87768222, 0.8774344 , 0.87757839, 0.87759297]),\n",
    "                #  'test_precision': array([0.36      , 0.43243243, 0.2745098 , 0.29032258, 0.38888889]),\n",
    "                #  'test_recall': array([0.00107322, 0.00190794, 0.00166965, 0.00107335, 0.00250447]),\n",
    "                #  'test_f1': array([0.00214005, 0.00379912, 0.00331911, 0.00213878, 0.00497689])}\n",
    "\n",
    "                # print(\"[StackingClassifier]: \\n Accuracy: %0.2f (+/- %0.2f)\\n\" % (scores['test_accuracy'].mean(), scores['test_accuracy'].std()),\n",
    "                #       \"F1 score: %0.2f (+/- %0.2f)\" % (scores['test_f1'].mean(), scores['test_f1'].std()))\n",
    "                # >>>\n",
    "                # [StackingClassifier]:\n",
    "                #  Accuracy: 0.76 (+/- 0.02)\n",
    "                #  F1 score: 0.62 (+/- 0.04)\n",
    "\n",
    "                # Ajouter au tableau des résultats\n",
    "                results.append(\n",
    "                    {\n",
    "                        \"Target\": col_cible,\n",
    "                        \"Year floor\": 2024 - 16 + year_floor,\n",
    "                        \"Model\": model_name,\n",
    "                        \"Best Params\": best_params,\n",
    "                        \"Best Score\": best_score,\n",
    "                        \"Accuracy Test\": accuracy,\n",
    "                        \"Score Train\": score_train,\n",
    "                        \"Score Test\": score_test,\n",
    "                        \"RMSE train\": rmse_train,\n",
    "                        \"RMSE test\": rmse_test,\n",
    "                        \"MAE train\": score_train,\n",
    "                        \"MAE test\": score_test,\n",
    "                    }\n",
    "                )\n",
    "print(results)\n",
    "df_results = pd.DataFrame(results)\n",
    "df_results = df_results.sort_values(by=[\"Target\", \"MAE test\"], ascending=False)\n",
    "df_results.to_csv(f\"../data/_GridSearch_regressor.csv\", sep=\";\", index=True)\n",
    "\n",
    "# p = plt.figure(figsize=(18,12))\n",
    "# p = sns.set_theme(style=\"white\")\n",
    "# p = models=models.sort_values(by='Model Accuracy with GridSearch',ascending=False)\n",
    "# p = sns.barplot(y= 'Model', x= 'Model Accuracy with GridSearch', data= models)\n",
    "# for container in p.containers:\n",
    "#     p.bar_label(container,label_type = 'edge',padding = 8,size = 20,color = \"black\",rotation = 0,\n",
    "#     bbox={\"boxstyle\": \"round\", \"pad\": 0.6, \"facecolor\": \"pink\", \"edgecolor\": \"Blue\", \"alpha\": 1})\n",
    "# plt.title('COMPARE THE MODEL')\n",
    "# plt.xlabel('MODEL')\n",
    "# plt.ylabel('Model Accuracy')\n",
    "# plt.show()"
   ]
  },
  {
   "cell_type": "code",
   "execution_count": null,
   "metadata": {},
   "outputs": [],
   "source": [
    "\n",
    "StackingRegressor\n",
    "\n",
    "from sklearn.ensemble import StackingRegressor\n",
    "from sklearn.linear_model import LinearRegression\n",
    "from sklearn.tree import DecisionTreeRegressor\n",
    "from sklearn.ensemble import RandomForestRegressor\n",
    "\n",
    "# Modèles de base\n",
    "base_models = [\n",
    "    ('linear', LinearRegression()),\n",
    "    ('tree', DecisionTreeRegressor(max_depth=5)),\n",
    "    ('forest', RandomForestRegressor(n_estimators=50))\n",
    "]\n",
    "\n",
    "# Modèle final\n",
    "final_model = LinearRegression()\n",
    "\n",
    "# Stacking Regressor\n",
    "stacking = StackingRegressor(estimators=base_models, final_estimator=final_model, cv=5)\n",
    "\n",
    "# Entraînement\n",
    "stacking.fit(X_train, y_train)\n",
    "\n",
    "# Prédictions\n",
    "y_pred = stacking.predict(X_test)\n",
    "\n",
    "Voting Regressor\n",
    "\n",
    "from sklearn.ensemble import VotingRegressor\n",
    "from sklearn.linear_model import Ridge\n",
    "from sklearn.tree import DecisionTreeRegressor\n",
    "from sklearn.ensemble import GradientBoostingRegressor\n",
    "\n",
    "# Modèles\n",
    "models = [\n",
    "    ('ridge', Ridge(alpha=1.0)),\n",
    "    ('tree', DecisionTreeRegressor(max_depth=5)),\n",
    "    ('gboost', GradientBoostingRegressor(n_estimators=50))\n",
    "]\n",
    "\n",
    "# Voting Regressor\n",
    "voting = VotingRegressor(estimators=models)\n",
    "\n",
    "# Entraînement\n",
    "voting.fit(X_train, y_train)\n",
    "\n",
    "# Prédictions\n",
    "y_pred = voting.predict(X_test)\n",
    "\n",
    "\n",
    "XGBoostRegressor"
   ]
  },
  {
   "cell_type": "code",
   "execution_count": null,
   "metadata": {},
   "outputs": [],
   "source": [
    "lancer regressor et classifiers et faire voting dessus"
   ]
  }
 ],
 "metadata": {
  "kernelspec": {
   "display_name": "projet-IA",
   "language": "python",
   "name": "python3"
  },
  "language_info": {
   "codemirror_mode": {
    "name": "ipython",
    "version": 3
   },
   "file_extension": ".py",
   "mimetype": "text/x-python",
   "name": "python",
   "nbconvert_exporter": "python",
   "pygments_lexer": "ipython3",
   "version": "3.13.1"
  }
 },
 "nbformat": 4,
 "nbformat_minor": 2
}
