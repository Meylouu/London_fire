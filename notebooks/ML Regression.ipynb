{
 "cells": [
  {
   "cell_type": "code",
   "execution_count": 2,
   "metadata": {},
   "outputs": [],
   "source": [
    "import numpy as np\n",
    "import pandas as pd\n",
    "from sklearn.decomposition import PCA\n",
    "import matplotlib.pyplot as plt\n",
    "import seaborn as sns\n",
    "%matplotlib inline\n",
    "\n",
    "from sklearn.model_selection import train_test_split\n",
    "from lazypredict.Supervised import LazyRegressor\n",
    "from sklearn.utils import all_estimators\n",
    "from sklearn.base import RegressorMixin\n",
    "\n",
    "pd.set_option(\"display.max_rows\", None)\n",
    "pd.set_option(\"display.max_columns\", None)"
   ]
  },
  {
   "cell_type": "code",
   "execution_count": 3,
   "metadata": {},
   "outputs": [],
   "source": [
    "cols_cible_type = [\"PumpSecondsOnSite\", \"TurnoutTimeSeconds\", \"TravelTimeSeconds\"]\n",
    "cols_cible = [\n",
    "    [\"PumpSecondsOnSite_min\", \"PumpSecondsOnSite_mean\", \"PumpSecondsOnSite_max\"],\n",
    "    [\"TurnoutTimeSeconds_min\", \"TurnoutTimeSeconds_mean\", \"TurnoutTimeSeconds_max\"],\n",
    "    [\"TravelTimeSeconds_min\", \"TravelTimeSeconds_mean\", \"TravelTimeSeconds_max\"]\n",
    "    # NumPumpsAttending??\n",
    "]\n",
    "\n",
    "def load_df(col_cible_type):\n",
    "    df = pd.read_csv(f\"../data/_df_ready_{col_cible_type}.csv\", sep=\";\", low_memory=False)\n",
    "    # Contrôle\n",
    "    # display(df.head(3))\n",
    "    # display(df.info())\n",
    "    return df"
   ]
  },
  {
   "cell_type": "code",
   "execution_count": null,
   "metadata": {},
   "outputs": [
    {
     "name": "stdout",
     "output_type": "stream",
     "text": [
      "(1016665, 39)\n",
      "['PumpSecondsOnSite_min', 'PumpSecondsOnSite_mean', 'PumpSecondsOnSite_max', 'TurnoutTimeSeconds_min', 'TurnoutTimeSeconds_mean', 'TurnoutTimeSeconds_max', 'TravelTimeSeconds_min', 'TravelTimeSeconds_mean', 'TravelTimeSeconds_max', 'NumPumpsAttending']\n"
     ]
    },
    {
     "data": {
      "text/html": [
       "<div>\n",
       "<style scoped>\n",
       "    .dataframe tbody tr th:only-of-type {\n",
       "        vertical-align: middle;\n",
       "    }\n",
       "\n",
       "    .dataframe tbody tr th {\n",
       "        vertical-align: top;\n",
       "    }\n",
       "\n",
       "    .dataframe thead th {\n",
       "        text-align: right;\n",
       "    }\n",
       "</style>\n",
       "<table border=\"1\" class=\"dataframe\">\n",
       "  <thead>\n",
       "    <tr style=\"text-align: right;\">\n",
       "      <th></th>\n",
       "      <th>CalYear</th>\n",
       "      <th>HourOfCall_0</th>\n",
       "      <th>HourOfCall_1</th>\n",
       "      <th>HourOfCall_2</th>\n",
       "      <th>HourOfCall_3</th>\n",
       "      <th>HourOfCall_4</th>\n",
       "      <th>PropertyType_0</th>\n",
       "      <th>PropertyType_1</th>\n",
       "      <th>PropertyType_2</th>\n",
       "      <th>PropertyType_3</th>\n",
       "      <th>PropertyType_4</th>\n",
       "      <th>PropertyType_5</th>\n",
       "      <th>Postcode_district_0</th>\n",
       "      <th>Postcode_district_1</th>\n",
       "      <th>Postcode_district_2</th>\n",
       "      <th>Postcode_district_3</th>\n",
       "      <th>Postcode_district_4</th>\n",
       "      <th>StopCode_0</th>\n",
       "      <th>StopCode_1</th>\n",
       "      <th>StopCode_2</th>\n",
       "      <th>StopCode_3</th>\n",
       "      <th>StopCode_4</th>\n",
       "      <th>Month_0</th>\n",
       "      <th>Month_1</th>\n",
       "      <th>Month_2</th>\n",
       "      <th>Month_3</th>\n",
       "      <th>DayOfWeek_0</th>\n",
       "      <th>DayOfWeek_1</th>\n",
       "      <th>DayOfWeek_2</th>\n",
       "    </tr>\n",
       "  </thead>\n",
       "  <tbody>\n",
       "    <tr>\n",
       "      <th>574862</th>\n",
       "      <td>7</td>\n",
       "      <td>0</td>\n",
       "      <td>0</td>\n",
       "      <td>0</td>\n",
       "      <td>0</td>\n",
       "      <td>1</td>\n",
       "      <td>0</td>\n",
       "      <td>0</td>\n",
       "      <td>0</td>\n",
       "      <td>0</td>\n",
       "      <td>0</td>\n",
       "      <td>1</td>\n",
       "      <td>0</td>\n",
       "      <td>0</td>\n",
       "      <td>0</td>\n",
       "      <td>0</td>\n",
       "      <td>1</td>\n",
       "      <td>0</td>\n",
       "      <td>0</td>\n",
       "      <td>0</td>\n",
       "      <td>0</td>\n",
       "      <td>1</td>\n",
       "      <td>0</td>\n",
       "      <td>0</td>\n",
       "      <td>0</td>\n",
       "      <td>1</td>\n",
       "      <td>0</td>\n",
       "      <td>0</td>\n",
       "      <td>1</td>\n",
       "    </tr>\n",
       "    <tr>\n",
       "      <th>574863</th>\n",
       "      <td>7</td>\n",
       "      <td>0</td>\n",
       "      <td>0</td>\n",
       "      <td>0</td>\n",
       "      <td>0</td>\n",
       "      <td>1</td>\n",
       "      <td>0</td>\n",
       "      <td>0</td>\n",
       "      <td>0</td>\n",
       "      <td>0</td>\n",
       "      <td>1</td>\n",
       "      <td>0</td>\n",
       "      <td>0</td>\n",
       "      <td>0</td>\n",
       "      <td>0</td>\n",
       "      <td>0</td>\n",
       "      <td>1</td>\n",
       "      <td>0</td>\n",
       "      <td>0</td>\n",
       "      <td>0</td>\n",
       "      <td>1</td>\n",
       "      <td>0</td>\n",
       "      <td>0</td>\n",
       "      <td>0</td>\n",
       "      <td>0</td>\n",
       "      <td>1</td>\n",
       "      <td>0</td>\n",
       "      <td>0</td>\n",
       "      <td>1</td>\n",
       "    </tr>\n",
       "  </tbody>\n",
       "</table>\n",
       "</div>"
      ],
      "text/plain": [
       "        CalYear  HourOfCall_0  HourOfCall_1  HourOfCall_2  HourOfCall_3  \\\n",
       "574862        7             0             0             0             0   \n",
       "574863        7             0             0             0             0   \n",
       "\n",
       "        HourOfCall_4  PropertyType_0  PropertyType_1  PropertyType_2  \\\n",
       "574862             1               0               0               0   \n",
       "574863             1               0               0               0   \n",
       "\n",
       "        PropertyType_3  PropertyType_4  PropertyType_5  Postcode_district_0  \\\n",
       "574862               0               0               1                    0   \n",
       "574863               0               1               0                    0   \n",
       "\n",
       "        Postcode_district_1  Postcode_district_2  Postcode_district_3  \\\n",
       "574862                    0                    0                    0   \n",
       "574863                    0                    0                    0   \n",
       "\n",
       "        Postcode_district_4  StopCode_0  StopCode_1  StopCode_2  StopCode_3  \\\n",
       "574862                    1           0           0           0           0   \n",
       "574863                    1           0           0           0           1   \n",
       "\n",
       "        StopCode_4  Month_0  Month_1  Month_2  Month_3  DayOfWeek_0  \\\n",
       "574862           1        0        0        0        1            0   \n",
       "574863           0        0        0        0        1            0   \n",
       "\n",
       "        DayOfWeek_1  DayOfWeek_2  \n",
       "574862            0            1  \n",
       "574863            0            1  "
      ]
     },
     "metadata": {},
     "output_type": "display_data"
    },
    {
     "name": "stdout",
     "output_type": "stream",
     "text": [
      "(1016665, 29)\n",
      "cible PumpSecondsOnSite_min\n",
      "[('AdaBoostRegressor', <class 'sklearn.ensemble._weight_boosting.AdaBoostRegressor'>), ('BaggingRegressor', <class 'sklearn.ensemble._bagging.BaggingRegressor'>), ('BayesianRidge', <class 'sklearn.linear_model._bayes.BayesianRidge'>), ('DecisionTreeRegressor', <class 'sklearn.tree._classes.DecisionTreeRegressor'>), ('DummyRegressor', <class 'sklearn.dummy.DummyRegressor'>), ('ElasticNet', <class 'sklearn.linear_model._coordinate_descent.ElasticNet'>), ('ElasticNetCV', <class 'sklearn.linear_model._coordinate_descent.ElasticNetCV'>), ('ExtraTreeRegressor', <class 'sklearn.tree._classes.ExtraTreeRegressor'>), ('GradientBoostingRegressor', <class 'sklearn.ensemble._gb.GradientBoostingRegressor'>), ('HistGradientBoostingRegressor', <class 'sklearn.ensemble._hist_gradient_boosting.gradient_boosting.HistGradientBoostingRegressor'>), ('HuberRegressor', <class 'sklearn.linear_model._huber.HuberRegressor'>), ('KNeighborsRegressor', <class 'sklearn.neighbors._regression.KNeighborsRegressor'>), ('Lars', <class 'sklearn.linear_model._least_angle.Lars'>), ('LarsCV', <class 'sklearn.linear_model._least_angle.LarsCV'>), ('Lasso', <class 'sklearn.linear_model._coordinate_descent.Lasso'>), ('LassoCV', <class 'sklearn.linear_model._coordinate_descent.LassoCV'>), ('LassoLars', <class 'sklearn.linear_model._least_angle.LassoLars'>), ('LassoLarsCV', <class 'sklearn.linear_model._least_angle.LassoLarsCV'>), ('LassoLarsIC', <class 'sklearn.linear_model._least_angle.LassoLarsIC'>), ('LinearRegression', <class 'sklearn.linear_model._base.LinearRegression'>), ('LinearSVR', <class 'sklearn.svm._classes.LinearSVR'>), ('MLPRegressor', <class 'sklearn.neural_network._multilayer_perceptron.MLPRegressor'>), ('OrthogonalMatchingPursuit', <class 'sklearn.linear_model._omp.OrthogonalMatchingPursuit'>), ('OrthogonalMatchingPursuitCV', <class 'sklearn.linear_model._omp.OrthogonalMatchingPursuitCV'>), ('PLSRegression', <class 'sklearn.cross_decomposition._pls.PLSRegression'>), ('PassiveAggressiveRegressor', <class 'sklearn.linear_model._passive_aggressive.PassiveAggressiveRegressor'>), ('PoissonRegressor', <class 'sklearn.linear_model._glm.glm.PoissonRegressor'>), ('RANSACRegressor', <class 'sklearn.linear_model._ransac.RANSACRegressor'>), ('RandomForestRegressor', <class 'sklearn.ensemble._forest.RandomForestRegressor'>), ('Ridge', <class 'sklearn.linear_model._ridge.Ridge'>), ('RidgeCV', <class 'sklearn.linear_model._ridge.RidgeCV'>), ('SGDRegressor', <class 'sklearn.linear_model._stochastic_gradient.SGDRegressor'>), ('TheilSenRegressor', <class 'sklearn.linear_model._theil_sen.TheilSenRegressor'>), ('TransformedTargetRegressor', <class 'sklearn.compose._target.TransformedTargetRegressor'>), ('VotingRegressor', <class 'sklearn.ensemble._voting.VotingRegressor'>)]\n",
      "'tuple' object has no attribute '__name__'\n",
      "Invalid Regressor(s)\n"
     ]
    },
    {
     "name": "stderr",
     "output_type": "stream",
     "text": [
      "  3%|▎         | 1/35 [00:47<26:43, 47.17s/it]"
     ]
    },
    {
     "name": "stdout",
     "output_type": "stream",
     "text": [
      "{'Model': 'AdaBoostRegressor', 'R-Squared': 0.11906588973138232, 'Adjusted R-Squared': 0.11894022956307293, 'RMSE': np.float64(1339.4178900741285), 'Time taken': 47.16416525840759}\n"
     ]
    },
    {
     "name": "stderr",
     "output_type": "stream",
     "text": [
      "  6%|▌         | 2/35 [01:51<31:34, 57.40s/it]"
     ]
    },
    {
     "name": "stdout",
     "output_type": "stream",
     "text": [
      "{'Model': 'BaggingRegressor', 'R-Squared': -0.01644700160993806, 'Adjusted R-Squared': -0.016591991910360093, 'RMSE': np.float64(1438.7546877651034), 'Time taken': 64.55874824523926}\n"
     ]
    },
    {
     "name": "stderr",
     "output_type": "stream",
     "text": [
      "  9%|▊         | 3/35 [02:00<18:46, 35.21s/it]"
     ]
    },
    {
     "name": "stdout",
     "output_type": "stream",
     "text": [
      "{'Model': 'BayesianRidge', 'R-Squared': 0.11033427449139521, 'Adjusted R-Squared': 0.11020736880854864, 'RMSE': np.float64(1346.0395227437978), 'Time taken': 8.808847188949585}\n"
     ]
    },
    {
     "name": "stderr",
     "output_type": "stream",
     "text": [
      " 11%|█▏        | 4/35 [02:11<13:11, 25.55s/it]"
     ]
    },
    {
     "name": "stdout",
     "output_type": "stream",
     "text": [
      "{'Model': 'DecisionTreeRegressor', 'R-Squared': -0.2881172932466418, 'Adjusted R-Squared': -0.288301035746773, 'RMSE': np.float64(1619.6534017585739), 'Time taken': 10.716437578201294}\n"
     ]
    },
    {
     "name": "stderr",
     "output_type": "stream",
     "text": [
      " 14%|█▍        | 5/35 [02:12<08:26, 16.89s/it]"
     ]
    },
    {
     "name": "stdout",
     "output_type": "stream",
     "text": [
      "{'Model': 'DummyRegressor', 'R-Squared': -6.9827376358855275e-06, 'Adjusted R-Squared': -0.00014962796421591484, 'RMSE': np.float64(1427.07204366157), 'Time taken': 1.5351786613464355}\n"
     ]
    },
    {
     "name": "stderr",
     "output_type": "stream",
     "text": [
      " 17%|█▋        | 6/35 [02:16<06:01, 12.46s/it]"
     ]
    },
    {
     "name": "stdout",
     "output_type": "stream",
     "text": [
      "{'Model': 'ElasticNet', 'R-Squared': 0.09739274852692992, 'Adjusted R-Squared': 0.09726399681007025, 'RMSE': np.float64(1355.7942610836417), 'Time taken': 3.86952543258667}\n"
     ]
    },
    {
     "name": "stderr",
     "output_type": "stream",
     "text": [
      " 20%|██        | 7/35 [02:25<05:16, 11.29s/it]"
     ]
    },
    {
     "name": "stdout",
     "output_type": "stream",
     "text": [
      "{'Model': 'ElasticNetCV', 'R-Squared': 0.1029905993473631, 'Adjusted R-Squared': 0.10286264613162632, 'RMSE': np.float64(1351.5834939101658), 'Time taken': 8.863147974014282}\n"
     ]
    },
    {
     "name": "stderr",
     "output_type": "stream",
     "text": [
      " 23%|██▎       | 8/35 [02:35<04:53, 10.87s/it]"
     ]
    },
    {
     "name": "stdout",
     "output_type": "stream",
     "text": [
      "{'Model': 'ExtraTreeRegressor', 'R-Squared': -0.2801763993205384, 'Adjusted R-Squared': -0.28035900909796574, 'RMSE': np.float64(1614.6533217303067), 'Time taken': 9.98129916191101}\n"
     ]
    },
    {
     "name": "stderr",
     "output_type": "stream",
     "text": [
      " 26%|██▌       | 9/35 [05:44<28:53, 66.68s/it]"
     ]
    },
    {
     "name": "stdout",
     "output_type": "stream",
     "text": [
      "{'Model': 'GradientBoostingRegressor', 'R-Squared': 0.17606630601772444, 'Adjusted R-Squared': 0.17594877662993635, 'RMSE': np.float64(1295.3600942703827), 'Time taken': 189.38852453231812}\n"
     ]
    },
    {
     "name": "stderr",
     "output_type": "stream",
     "text": [
      " 29%|██▊       | 10/35 [05:56<20:40, 49.60s/it]"
     ]
    },
    {
     "name": "stdout",
     "output_type": "stream",
     "text": [
      "{'Model': 'HistGradientBoostingRegressor', 'R-Squared': 0.19686673147999056, 'Adjusted R-Squared': 0.1967521691528873, 'RMSE': np.float64(1278.9047201029032), 'Time taken': 11.361153602600098}\n"
     ]
    },
    {
     "name": "stderr",
     "output_type": "stream",
     "text": [
      " 31%|███▏      | 11/35 [06:05<14:56, 37.37s/it]"
     ]
    },
    {
     "name": "stdout",
     "output_type": "stream",
     "text": [
      "{'Model': 'HuberRegressor', 'R-Squared': 0.03982290640609165, 'Adjusted R-Squared': 0.039685942683400754, 'RMSE': np.float64(1398.363413471799), 'Time taken': 9.626619338989258}\n"
     ]
    }
   ],
   "source": [
    "# Créez le cercle de corrélation\n",
    "# def draw_correlation_circle(df_charges_factorielles, pca, arrow_length=0.1, label_rotation=0):\n",
    "#     fig, ax = plt.subplots(figsize=(8, 8))\n",
    "#     for i, var in enumerate(df_charges_factorielles.columns):\n",
    "#         x = df_charges_factorielles.loc[0, var]\n",
    "#         y = df_charges_factorielles.loc[1, var]\n",
    "#         ax.arrow(0, 0, x, y, head_width=arrow_length, head_length=arrow_length, fc='gray', ec='gray')\n",
    "#         ax.text(x*1.15, y*1.15, var, ha='center', va='center', rotation=label_rotation, fontsize=9)\n",
    "#     circle = plt.Circle((0, 0), 1, facecolor='none', edgecolor='black')\n",
    "#     ax.add_artist(circle)\n",
    "#     ax.set_xlim(-1.1, 1.1)\n",
    "#     ax.set_ylim(-1.1, 1.1)\n",
    "#     ax.set_aspect('equal', adjustable='box')\n",
    "#     ax.set_xlabel('Axe 1 (PC1)')\n",
    "#     ax.set_ylabel('Axe 2 (PC2)')\n",
    "#     ax.set_title('Cercle des Corrélations')\n",
    "#     plt.grid()\n",
    "#     plt.show()\n",
    "\n",
    "ignore_regressors = [\"ExtraTreesRegressor\", \"NuSVR\", \"QuantileRegressor\", \"SVR\", \"CCA\", \"GammaRegressor\", \"GaussianProcessRegressor\", \"IsotonicRegression\",\n",
    "                     \"MultiOutputRegressor\", \"MultiTaskElasticNet\", \"MultiTaskElasticNetCV\", \"MultiTaskLasso\", \"MultiTaskLassoCV\", \"PLSCanonical\", \n",
    "                     \"RadiusNeighborsRegressor\", \"RegressorChain\", \"StackingRegressor\", \"KernelRidge\", \"ARDRegression\", \"TweedieRegressor\"]\n",
    "REGRESSORS = [\n",
    "    est\n",
    "    for est in all_estimators()\n",
    "    if (issubclass(est[1], RegressorMixin) and (not (est[0] in ignore_regressors)))\n",
    "]\n",
    "\n",
    "for index, name in enumerate(cols_cible_type):\n",
    "    df = load_df(name)\n",
    "    # X = df.drop([\"PumpSecondsOnSite_min\", \"PumpSecondsOnSite_mean\", \"PumpSecondsOnSite_max\", \"TurnoutTimeSeconds_min\", \"TurnoutTimeSeconds_mean\",\n",
    "    #               \"TurnoutTimeSeconds_max\", \"TravelTimeSeconds_min\", \"TravelTimeSeconds_mean\", \"TravelTimeSeconds_max\", \"NumPumpsAttending\"], axis=1)\n",
    "    # display(X.head(2))\n",
    "    # print(X.shape)\n",
    "\n",
    "    # pca = PCA()\n",
    "    # data_2D = pca.fit_transform(X)\n",
    "    # display(data_2D)\n",
    "    # print(\"La part de variance expliquée est\", round(pca.explained_variance_ratio_.sum(), 5))\n",
    "\n",
    "    # plt.figure()\n",
    "    # plt.xlim(0,40)\n",
    "    # plt.xlabel('Nombre de composantes')\n",
    "    # plt.ylabel('Part de variance expliquée')\n",
    "    # plt.axhline(y = 0.95, color ='r', linestyle = '--')\n",
    "    # plt.plot(pca.explained_variance_ratio_.cumsum());\n",
    "    # plt.show()\n",
    "\n",
    "    # variance_expliquee = pca.explained_variance_ratio_\n",
    "    # charges_factorielles = pca.components_\n",
    "    # # Créez un DataFrame pour afficher les corrélations de chaque variable avec chaque axe\n",
    "    # df_charges_factorielles = pd.DataFrame(\n",
    "    #     charges_factorielles,\n",
    "    #     columns=X.columns,\n",
    "    #     #index=[\"Axe 1\", \"Axe 2\", \"Axe 3\", \"Axe 4\", \"Axe 5\", \"Axe 6\"],\n",
    "    # )\n",
    "\n",
    "    # # Affichez le DataFrame des charges factorielles\n",
    "    # display(df_charges_factorielles.head(2))\n",
    "\n",
    "    # charges_factorielles = pca.components_\n",
    "    # # Appelez la fonction pour tracer le cercle de corrélation\n",
    "    # draw_correlation_circle(df_charges_factorielles, pca)\n",
    "\n",
    "    # Auto ML\n",
    "    df_limited = df[df.CalYear > 6]\n",
    "    print(df_limited.shape)\n",
    "    # Crée X sans les target\n",
    "    cols_to_remove = [item for sublist in cols_cible for item in sublist] + [\"NumPumpsAttending\"]\n",
    "    print(cols_to_remove)\n",
    "    X = df_limited.drop(cols_to_remove, axis=1)\n",
    "    display(X.head(2))\n",
    "    print(X.shape)\n",
    "    \n",
    "    for col_cible in cols_cible[index]:\n",
    "        print(\"cible\", col_cible)\n",
    "        y = df_limited[col_cible]\n",
    "        X_train, X_test, y_train, y_test = train_test_split(X, y, test_size=0.2)\n",
    "        myREGRESSORS = REGRESSORS\n",
    "        print(myREGRESSORS)\n",
    "        # myREGRESSORS = myREGRESSORS[4:6]\n",
    "        reg = LazyRegressor(verbose=2, ignore_warnings=False, custom_metric=None, regressors=myREGRESSORS)\n",
    "        models, predictions = reg.fit(X_train, X_test, y_train, y_test)\n",
    "        display(models)\n",
    "        models.to_csv(f\"../data/_autoML_regressor_{col_cible}.csv\", sep=\";\", index=True)\n",
    "        # break\n",
    "    # break\n",
    "\n",
    "# tester automl avant et après PCA et aussi gridsearch pour comparer\n",
    "# save du PCA"
   ]
  },
  {
   "cell_type": "code",
   "execution_count": null,
   "metadata": {},
   "outputs": [],
   "source": [
    "import autosklearn.regression as autosk_reg\n",
    "import pandas as pd\n",
    "from sklearn.datasets import fetch_california_housing\n",
    "from sklearn.model_selection import train_test_split\n",
    "from sklearn.metrics import mean_squared_error, r2_score\n",
    "\n",
    "cols_cible_type = [\"PumpSecondsOnSite\", \"TurnoutTimeSeconds\", \"TravelTimeSeconds\"]\n",
    "cols_cible = [\n",
    "    [\"PumpSecondsOnSite_min\", \"PumpSecondsOnSite_mean\", \"PumpSecondsOnSite_max\"],\n",
    "    [\"TurnoutTimeSeconds_min\", \"TurnoutTimeSeconds_mean\", \"TurnoutTimeSeconds_max\"],\n",
    "    [\"TravelTimeSeconds_min\", \"TravelTimeSeconds_mean\", \"TravelTimeSeconds_max\"]\n",
    "    # NumPumpsAttending??\n",
    "]\n",
    "\n",
    "def load_df(col_cible_type):\n",
    "    df = pd.read_csv(f\"../data/_df_ready_{col_cible_type}.csv\", sep=\";\", low_memory=False)\n",
    "    # Contrôle\n",
    "    # display(df.head(3))\n",
    "    # display(df.info())\n",
    "    return df\n",
    "\n",
    "for index, name in enumerate(cols_cible_type):\n",
    "    df = load_df(name)\n",
    "    X = df.drop([\"PumpSecondsOnSite_min\", \"PumpSecondsOnSite_mean\", \"PumpSecondsOnSite_max\", \"TurnoutTimeSeconds_min\", \"TurnoutTimeSeconds_mean\",\n",
    "                  \"TurnoutTimeSeconds_max\", \"TravelTimeSeconds_min\", \"TravelTimeSeconds_mean\", \"TravelTimeSeconds_max\", \"NumPumpsAttending\"], axis=1)\n",
    "    display(X.head(2))\n",
    "    print(X.shape)\n",
    "    \n",
    "    # Auto ML\n",
    "    df_limited = df[df.CalYear >= 10]\n",
    "    X = df_limited.drop([\"PumpSecondsOnSite_min\", \"PumpSecondsOnSite_mean\", \"PumpSecondsOnSite_max\", \"TurnoutTimeSeconds_min\", \"TurnoutTimeSeconds_mean\",\n",
    "                  \"TurnoutTimeSeconds_max\", \"TravelTimeSeconds_min\", \"TravelTimeSeconds_mean\", \"TravelTimeSeconds_max\", \"NumPumpsAttending\"], axis=1)\n",
    "    for col_cible in cols_cible[index]:\n",
    "        print(\"//////////////////////////////////////////////////////////////////////////////////////////\")\n",
    "        print(col_cible)\n",
    "        y = df_limited[col_cible]\n",
    "        X_train, X_test, y_train, y_test = train_test_split(X, y, test_size=0.2)\n",
    "\n",
    "        # Créer et entraîner Auto-sklearn pour la régression\n",
    "        automl = autosk_reg.AutoSklearnRegressor(\n",
    "            time_left_for_this_task=80000,  # Temps total alloué pour l'entraînement (en secondes)\n",
    "            per_run_time_limit=6000,  # Temps maximum pour chaque modèle testé\n",
    "            n_jobs=-1,  # Utilise tous les cœurs disponibles\n",
    "            ensemble_kwargs = {'ensemble_size': 10},  # Nombre maximal de modèles dans l'ensemble final\n",
    "            seed=42,\n",
    "        )\n",
    "\n",
    "        # Entraînement\n",
    "        automl.fit(X_train, y_train)\n",
    "        # Prédiction\n",
    "        y_pred = automl.predict(X_test)\n",
    "        # Évaluation des performan ces\n",
    "        mse = mean_squared_error(y_test, y_pred)\n",
    "        r2 = r2_score(y_test, y_pred)\n",
    "\n",
    "        print(f\"Mean Squared Error: {mse}\")\n",
    "        print(f\"R2 Score: {r2}\")\n",
    "        # Afficher un résumé détaillé des modèles et hyperparamètres\n",
    "        print(\"\\n********** Rapport détaillé des modèles **********\\n\")\n",
    "        print(automl.show_models())\n",
    "        print(\"\\n********** Statistiques d'entraînement **********\\n\")\n",
    "        print(automl.sprint_statistics())"
   ]
  }
 ],
 "metadata": {
  "kernelspec": {
   "display_name": "projet-IA",
   "language": "python",
   "name": "python3"
  },
  "language_info": {
   "codemirror_mode": {
    "name": "ipython",
    "version": 3
   },
   "file_extension": ".py",
   "mimetype": "text/x-python",
   "name": "python",
   "nbconvert_exporter": "python",
   "pygments_lexer": "ipython3",
   "version": "3.13.1"
  }
 },
 "nbformat": 4,
 "nbformat_minor": 2
}
