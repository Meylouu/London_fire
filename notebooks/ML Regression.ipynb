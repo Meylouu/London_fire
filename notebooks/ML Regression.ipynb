{
 "cells": [
  {
   "cell_type": "code",
   "execution_count": 6,
   "metadata": {},
   "outputs": [],
   "source": [
    "import numpy as np\n",
    "import pandas as pd\n",
    "from sklearn.decomposition import PCA\n",
    "import matplotlib.pyplot as plt\n",
    "import seaborn as sns\n",
    "%matplotlib inline\n",
    "\n",
    "from sklearn.model_selection import train_test_split\n",
    "from lazypredict.Supervised import LazyRegressor\n",
    "from sklearn.utils import all_estimators\n",
    "from sklearn.base import RegressorMixin\n",
    "\n",
    "pd.set_option(\"display.max_rows\", None)\n",
    "pd.set_option(\"display.max_columns\", None)"
   ]
  },
  {
   "cell_type": "code",
   "execution_count": 7,
   "metadata": {},
   "outputs": [],
   "source": [
    "cols_cible_type = [\"TurnoutTimeSeconds\", \"TravelTimeSeconds\", \"PumpSecondsOnSite\"]\n",
    "cols_Data = [\n",
    "    [\"CalYear\", \"HourOfCall\", \"Postcode_district\", \"Month\", \"DayOfWeek\"],\n",
    "    [\"CalYear\", \"HourOfCall\", \"Postcode_district\", \"Month\", \"DayOfWeek\"],\n",
    "    [\"CalYear\", \"PropertyType\", \"StopCode\"],\n",
    "]\n",
    "cols_cible = [\n",
    "    [\"TurnoutTimeSeconds_min\", \"TurnoutTimeSeconds_mean\", \"TurnoutTimeSeconds_max\"],\n",
    "    [\"TravelTimeSeconds_min\", \"TravelTimeSeconds_mean\", \"TravelTimeSeconds_max\"],\n",
    "    [\"PumpSecondsOnSite_min\", \"PumpSecondsOnSite_mean\", \"PumpSecondsOnSite_max\"]\n",
    "    # NumPumpsAttending??\n",
    "]\n",
    "cols_cible_filter = [\n",
    "    \"TurnoutTimeSeconds_mean\",\n",
    "    \"TravelTimeSeconds_mean\",\n",
    "    \"PumpSecondsOnSite_mean\",\n",
    "]\n",
    "\n",
    "def load_df(col_cible_type):\n",
    "    df = pd.read_csv(f\"../data/_df_ready_{col_cible_type}.csv\", sep=\";\", low_memory=False)\n",
    "    # Contrôle\n",
    "    # display(df.head(3))\n",
    "    # display(df.info())\n",
    "    return df"
   ]
  },
  {
   "cell_type": "code",
   "execution_count": 8,
   "metadata": {},
   "outputs": [
    {
     "name": "stdout",
     "output_type": "stream",
     "text": [
      "(1016665, 42)\n",
      "cols_to_remove ['TurnoutTimeSeconds_min', 'TurnoutTimeSeconds_mean', 'TurnoutTimeSeconds_max', 'TravelTimeSeconds_min', 'TravelTimeSeconds_mean', 'TravelTimeSeconds_max', 'PumpSecondsOnSite_min', 'PumpSecondsOnSite_mean', 'PumpSecondsOnSite_max', 'NumPumpsAttending']\n",
      "cols_to_keep ['CalYear', 'HourOfCall_0', 'HourOfCall_1', 'HourOfCall_2', 'HourOfCall_3', 'HourOfCall_4', 'Postcode_district_0', 'Postcode_district_1', 'Postcode_district_2', 'Postcode_district_3', 'Postcode_district_4', 'Month_0', 'Month_1', 'Month_2', 'Month_3', 'DayOfWeek_0', 'DayOfWeek_1', 'DayOfWeek_2']\n"
     ]
    },
    {
     "data": {
      "text/html": [
       "<div>\n",
       "<style scoped>\n",
       "    .dataframe tbody tr th:only-of-type {\n",
       "        vertical-align: middle;\n",
       "    }\n",
       "\n",
       "    .dataframe tbody tr th {\n",
       "        vertical-align: top;\n",
       "    }\n",
       "\n",
       "    .dataframe thead th {\n",
       "        text-align: right;\n",
       "    }\n",
       "</style>\n",
       "<table border=\"1\" class=\"dataframe\">\n",
       "  <thead>\n",
       "    <tr style=\"text-align: right;\">\n",
       "      <th></th>\n",
       "      <th>CalYear</th>\n",
       "      <th>HourOfCall_0</th>\n",
       "      <th>HourOfCall_1</th>\n",
       "      <th>HourOfCall_2</th>\n",
       "      <th>HourOfCall_3</th>\n",
       "      <th>HourOfCall_4</th>\n",
       "      <th>Postcode_district_0</th>\n",
       "      <th>Postcode_district_1</th>\n",
       "      <th>Postcode_district_2</th>\n",
       "      <th>Postcode_district_3</th>\n",
       "      <th>Postcode_district_4</th>\n",
       "      <th>Month_0</th>\n",
       "      <th>Month_1</th>\n",
       "      <th>Month_2</th>\n",
       "      <th>Month_3</th>\n",
       "      <th>DayOfWeek_0</th>\n",
       "      <th>DayOfWeek_1</th>\n",
       "      <th>DayOfWeek_2</th>\n",
       "    </tr>\n",
       "  </thead>\n",
       "  <tbody>\n",
       "    <tr>\n",
       "      <th>574862</th>\n",
       "      <td>7</td>\n",
       "      <td>0</td>\n",
       "      <td>0</td>\n",
       "      <td>0</td>\n",
       "      <td>0</td>\n",
       "      <td>1</td>\n",
       "      <td>0</td>\n",
       "      <td>0</td>\n",
       "      <td>0</td>\n",
       "      <td>0</td>\n",
       "      <td>1</td>\n",
       "      <td>0</td>\n",
       "      <td>0</td>\n",
       "      <td>0</td>\n",
       "      <td>1</td>\n",
       "      <td>0</td>\n",
       "      <td>0</td>\n",
       "      <td>1</td>\n",
       "    </tr>\n",
       "    <tr>\n",
       "      <th>574863</th>\n",
       "      <td>7</td>\n",
       "      <td>0</td>\n",
       "      <td>0</td>\n",
       "      <td>0</td>\n",
       "      <td>0</td>\n",
       "      <td>1</td>\n",
       "      <td>0</td>\n",
       "      <td>0</td>\n",
       "      <td>0</td>\n",
       "      <td>0</td>\n",
       "      <td>1</td>\n",
       "      <td>0</td>\n",
       "      <td>0</td>\n",
       "      <td>0</td>\n",
       "      <td>1</td>\n",
       "      <td>0</td>\n",
       "      <td>0</td>\n",
       "      <td>1</td>\n",
       "    </tr>\n",
       "  </tbody>\n",
       "</table>\n",
       "</div>"
      ],
      "text/plain": [
       "        CalYear  HourOfCall_0  HourOfCall_1  HourOfCall_2  HourOfCall_3  \\\n",
       "574862        7             0             0             0             0   \n",
       "574863        7             0             0             0             0   \n",
       "\n",
       "        HourOfCall_4  Postcode_district_0  Postcode_district_1  \\\n",
       "574862             1                    0                    0   \n",
       "574863             1                    0                    0   \n",
       "\n",
       "        Postcode_district_2  Postcode_district_3  Postcode_district_4  \\\n",
       "574862                    0                    0                    1   \n",
       "574863                    0                    0                    1   \n",
       "\n",
       "        Month_0  Month_1  Month_2  Month_3  DayOfWeek_0  DayOfWeek_1  \\\n",
       "574862        0        0        0        1            0            0   \n",
       "574863        0        0        0        1            0            0   \n",
       "\n",
       "        DayOfWeek_2  \n",
       "574862            1  \n",
       "574863            1  "
      ]
     },
     "metadata": {},
     "output_type": "display_data"
    },
    {
     "name": "stdout",
     "output_type": "stream",
     "text": [
      "(1016665, 18)\n",
      "cible TurnoutTimeSeconds_mean\n",
      "[('AdaBoostRegressor', <class 'sklearn.ensemble._weight_boosting.AdaBoostRegressor'>), ('BaggingRegressor', <class 'sklearn.ensemble._bagging.BaggingRegressor'>), ('BayesianRidge', <class 'sklearn.linear_model._bayes.BayesianRidge'>), ('DecisionTreeRegressor', <class 'sklearn.tree._classes.DecisionTreeRegressor'>), ('DummyRegressor', <class 'sklearn.dummy.DummyRegressor'>), ('ElasticNet', <class 'sklearn.linear_model._coordinate_descent.ElasticNet'>), ('ElasticNetCV', <class 'sklearn.linear_model._coordinate_descent.ElasticNetCV'>), ('ExtraTreeRegressor', <class 'sklearn.tree._classes.ExtraTreeRegressor'>), ('GradientBoostingRegressor', <class 'sklearn.ensemble._gb.GradientBoostingRegressor'>), ('HistGradientBoostingRegressor', <class 'sklearn.ensemble._hist_gradient_boosting.gradient_boosting.HistGradientBoostingRegressor'>), ('HuberRegressor', <class 'sklearn.linear_model._huber.HuberRegressor'>), ('KNeighborsRegressor', <class 'sklearn.neighbors._regression.KNeighborsRegressor'>), ('Lars', <class 'sklearn.linear_model._least_angle.Lars'>), ('LarsCV', <class 'sklearn.linear_model._least_angle.LarsCV'>), ('Lasso', <class 'sklearn.linear_model._coordinate_descent.Lasso'>), ('LassoCV', <class 'sklearn.linear_model._coordinate_descent.LassoCV'>), ('LassoLars', <class 'sklearn.linear_model._least_angle.LassoLars'>), ('LassoLarsCV', <class 'sklearn.linear_model._least_angle.LassoLarsCV'>), ('LassoLarsIC', <class 'sklearn.linear_model._least_angle.LassoLarsIC'>), ('LinearRegression', <class 'sklearn.linear_model._base.LinearRegression'>), ('LinearSVR', <class 'sklearn.svm._classes.LinearSVR'>), ('MLPRegressor', <class 'sklearn.neural_network._multilayer_perceptron.MLPRegressor'>), ('OrthogonalMatchingPursuit', <class 'sklearn.linear_model._omp.OrthogonalMatchingPursuit'>), ('OrthogonalMatchingPursuitCV', <class 'sklearn.linear_model._omp.OrthogonalMatchingPursuitCV'>), ('PLSRegression', <class 'sklearn.cross_decomposition._pls.PLSRegression'>), ('PassiveAggressiveRegressor', <class 'sklearn.linear_model._passive_aggressive.PassiveAggressiveRegressor'>), ('PoissonRegressor', <class 'sklearn.linear_model._glm.glm.PoissonRegressor'>), ('RANSACRegressor', <class 'sklearn.linear_model._ransac.RANSACRegressor'>), ('RandomForestRegressor', <class 'sklearn.ensemble._forest.RandomForestRegressor'>), ('Ridge', <class 'sklearn.linear_model._ridge.Ridge'>), ('RidgeCV', <class 'sklearn.linear_model._ridge.RidgeCV'>), ('SGDRegressor', <class 'sklearn.linear_model._stochastic_gradient.SGDRegressor'>), ('TheilSenRegressor', <class 'sklearn.linear_model._theil_sen.TheilSenRegressor'>), ('TransformedTargetRegressor', <class 'sklearn.compose._target.TransformedTargetRegressor'>), ('VotingRegressor', <class 'sklearn.ensemble._voting.VotingRegressor'>)]\n",
      "'tuple' object has no attribute '__name__'\n",
      "Invalid Regressor(s)\n"
     ]
    },
    {
     "name": "stderr",
     "output_type": "stream",
     "text": [
      "  3%|▎         | 1/35 [00:11<06:19, 11.16s/it]"
     ]
    },
    {
     "name": "stdout",
     "output_type": "stream",
     "text": [
      "{'Model': 'AdaBoostRegressor', 'R-Squared': 0.09766274161158073, 'Adjusted R-Squared': 0.09758285497981423, 'RMSE': np.float64(35.136648918186495), 'Time taken': 11.16460108757019}\n"
     ]
    },
    {
     "name": "stderr",
     "output_type": "stream",
     "text": [
      "  6%|▌         | 2/35 [00:23<06:29, 11.79s/it]"
     ]
    },
    {
     "name": "stdout",
     "output_type": "stream",
     "text": [
      "{'Model': 'BaggingRegressor', 'R-Squared': 0.09876491147443278, 'Adjusted R-Squared': 0.09868512242107963, 'RMSE': np.float64(35.11518333636978), 'Time taken': 12.223124742507935}\n"
     ]
    },
    {
     "name": "stderr",
     "output_type": "stream",
     "text": [
      "  9%|▊         | 3/35 [00:24<03:46,  7.08s/it]"
     ]
    },
    {
     "name": "stdout",
     "output_type": "stream",
     "text": [
      "{'Model': 'BayesianRidge', 'R-Squared': 0.07148928966749502, 'Adjusted R-Squared': 0.07140708582129662, 'RMSE': np.float64(35.642598049764196), 'Time taken': 1.4851245880126953}\n"
     ]
    },
    {
     "name": "stderr",
     "output_type": "stream",
     "text": [
      " 11%|█▏        | 4/35 [00:26<02:37,  5.08s/it]"
     ]
    },
    {
     "name": "stdout",
     "output_type": "stream",
     "text": [
      "{'Model': 'DecisionTreeRegressor', 'R-Squared': 0.10161274069692983, 'Adjusted R-Squared': 0.10153320377046415, 'RMSE': np.float64(35.059658883777715), 'Time taken': 2.017502546310425}\n"
     ]
    },
    {
     "name": "stderr",
     "output_type": "stream",
     "text": [
      " 14%|█▍        | 5/35 [00:27<01:42,  3.41s/it]"
     ]
    },
    {
     "name": "stdout",
     "output_type": "stream",
     "text": [
      "{'Model': 'DummyRegressor', 'R-Squared': -1.0926939890687493e-06, 'Adjusted R-Squared': -8.96257987850202e-05, 'RMSE': np.float64(36.9893016002327), 'Time taken': 0.43303823471069336}\n"
     ]
    },
    {
     "name": "stderr",
     "output_type": "stream",
     "text": [
      " 17%|█▋        | 6/35 [00:28<01:12,  2.51s/it]"
     ]
    },
    {
     "name": "stdout",
     "output_type": "stream",
     "text": [
      "{'Model': 'ElasticNet', 'R-Squared': 0.042015489863769684, 'Adjusted R-Squared': 0.041930676613415874, 'RMSE': np.float64(36.203881740955104), 'Time taken': 0.7573871612548828}\n"
     ]
    },
    {
     "name": "stderr",
     "output_type": "stream",
     "text": [
      " 20%|██        | 7/35 [00:31<01:17,  2.76s/it]"
     ]
    },
    {
     "name": "stdout",
     "output_type": "stream",
     "text": [
      "{'Model': 'ElasticNetCV', 'R-Squared': 0.07150339383909576, 'Adjusted R-Squared': 0.07142119124158208, 'RMSE': np.float64(35.64232734140152), 'Time taken': 3.289111614227295}\n"
     ]
    },
    {
     "name": "stderr",
     "output_type": "stream",
     "text": [
      " 23%|██▎       | 8/35 [00:33<01:07,  2.50s/it]"
     ]
    },
    {
     "name": "stdout",
     "output_type": "stream",
     "text": [
      "{'Model': 'ExtraTreeRegressor', 'R-Squared': 0.10161274069692983, 'Adjusted R-Squared': 0.10153320377046415, 'RMSE': np.float64(35.059658883777715), 'Time taken': 1.9434471130371094}\n"
     ]
    },
    {
     "name": "stderr",
     "output_type": "stream",
     "text": [
      " 26%|██▌       | 9/35 [01:31<08:41, 20.06s/it]"
     ]
    },
    {
     "name": "stdout",
     "output_type": "stream",
     "text": [
      "{'Model': 'GradientBoostingRegressor', 'R-Squared': 0.11300959240736708, 'Adjusted R-Squared': 0.11293106447846568, 'RMSE': np.float64(34.83656741797451), 'Time taken': 58.649938106536865}\n"
     ]
    },
    {
     "name": "stderr",
     "output_type": "stream",
     "text": [
      " 29%|██▊       | 10/35 [01:36<06:20, 15.21s/it]"
     ]
    },
    {
     "name": "stdout",
     "output_type": "stream",
     "text": [
      "{'Model': 'HistGradientBoostingRegressor', 'R-Squared': 0.11931859723416893, 'Adjusted R-Squared': 0.11924062786044265, 'RMSE': np.float64(34.71245317306424), 'Time taken': 4.348048448562622}\n"
     ]
    },
    {
     "name": "stderr",
     "output_type": "stream",
     "text": [
      " 31%|███▏      | 11/35 [01:38<04:31, 11.32s/it]"
     ]
    },
    {
     "name": "stdout",
     "output_type": "stream",
     "text": [
      "{'Model': 'HuberRegressor', 'R-Squared': 0.06507804470695544, 'Adjusted R-Squared': 0.06499527325395538, 'RMSE': np.float64(35.76544010035758), 'Time taken': 2.496006488800049}\n"
     ]
    },
    {
     "name": "stderr",
     "output_type": "stream",
     "text": [
      " 34%|███▍      | 12/35 [09:16<56:20, 146.96s/it]"
     ]
    },
    {
     "name": "stdout",
     "output_type": "stream",
     "text": [
      "{'Model': 'KNeighborsRegressor', 'R-Squared': -0.04016744746481726, 'Adjusted R-Squared': -0.04025953661782378, 'RMSE': np.float64(37.724850140699395), 'Time taken': 457.2005009651184}\n"
     ]
    },
    {
     "name": "stderr",
     "output_type": "stream",
     "text": [
      " 37%|███▋      | 13/35 [09:16<37:38, 102.67s/it]"
     ]
    },
    {
     "name": "stdout",
     "output_type": "stream",
     "text": [
      "{'Model': 'Lars', 'R-Squared': 0.07148883958373942, 'Adjusted R-Squared': 0.07140663569769379, 'RMSE': np.float64(35.642606688411156), 'Time taken': 0.7682211399078369}\n"
     ]
    },
    {
     "name": "stderr",
     "output_type": "stream",
     "text": [
      " 40%|████      | 14/35 [09:19<25:18, 72.33s/it] "
     ]
    },
    {
     "name": "stdout",
     "output_type": "stream",
     "text": [
      "{'Model': 'LarsCV', 'R-Squared': 0.07149084062113942, 'Adjusted R-Squared': 0.07140863691225163, 'RMSE': np.float64(35.64256828164208), 'Time taken': 2.2131786346435547}\n"
     ]
    },
    {
     "name": "stderr",
     "output_type": "stream",
     "text": [
      " 43%|████▎     | 15/35 [09:19<16:56, 50.80s/it]"
     ]
    },
    {
     "name": "stdout",
     "output_type": "stream",
     "text": [
      "{'Model': 'Lasso', 'R-Squared': 0.06449954674648473, 'Adjusted R-Squared': 0.06441672407732002, 'RMSE': np.float64(35.776503609147014), 'Time taken': 0.9065985679626465}\n"
     ]
    },
    {
     "name": "stderr",
     "output_type": "stream",
     "text": [
      " 46%|████▌     | 16/35 [09:23<11:33, 36.52s/it]"
     ]
    },
    {
     "name": "stdout",
     "output_type": "stream",
     "text": [
      "{'Model': 'LassoCV', 'R-Squared': 0.07149082975864696, 'Adjusted R-Squared': 0.0714086260487975, 'RMSE': np.float64(35.64256849013067), 'Time taken': 3.3546087741851807}\n"
     ]
    },
    {
     "name": "stderr",
     "output_type": "stream",
     "text": [
      " 49%|████▊     | 17/35 [09:23<07:42, 25.72s/it]"
     ]
    },
    {
     "name": "stdout",
     "output_type": "stream",
     "text": [
      "{'Model': 'LassoLars', 'R-Squared': 0.06450037054232494, 'Adjusted R-Squared': 0.06441754794609333, 'RMSE': np.float64(35.77648785686104), 'Time taken': 0.5913310050964355}\n"
     ]
    },
    {
     "name": "stderr",
     "output_type": "stream",
     "text": [
      " 51%|█████▏    | 18/35 [09:26<05:17, 18.66s/it]"
     ]
    },
    {
     "name": "stdout",
     "output_type": "stream",
     "text": [
      "{'Model': 'LassoLarsCV', 'R-Squared': 0.07149084062113942, 'Adjusted R-Squared': 0.07140863691225163, 'RMSE': np.float64(35.64256828164208), 'Time taken': 2.2393336296081543}\n"
     ]
    },
    {
     "name": "stderr",
     "output_type": "stream",
     "text": [
      " 54%|█████▍    | 19/35 [09:27<03:34, 13.43s/it]"
     ]
    },
    {
     "name": "stdout",
     "output_type": "stream",
     "text": [
      "{'Model': 'LassoLarsIC', 'R-Squared': 0.0714936059196184, 'Adjusted R-Squared': 0.07141140245555078, 'RMSE': np.float64(35.64251520601421), 'Time taken': 1.250474452972412}\n"
     ]
    },
    {
     "name": "stderr",
     "output_type": "stream",
     "text": [
      " 57%|█████▋    | 20/35 [09:28<02:25,  9.69s/it]"
     ]
    },
    {
     "name": "stdout",
     "output_type": "stream",
     "text": [
      "{'Model': 'LinearRegression', 'R-Squared': 0.07148883958373631, 'Adjusted R-Squared': 0.07140663569769068, 'RMSE': np.float64(35.64260668841121), 'Time taken': 0.954108715057373}\n"
     ]
    },
    {
     "name": "stderr",
     "output_type": "stream",
     "text": [
      " 60%|██████    | 21/35 [09:36<02:09,  9.28s/it]"
     ]
    },
    {
     "name": "stdout",
     "output_type": "stream",
     "text": [
      "{'Model': 'LinearSVR', 'R-Squared': 0.06348621876819527, 'Adjusted R-Squared': 0.06340330638605651, 'RMSE': np.float64(35.79587480234997), 'Time taken': 8.333094596862793}\n"
     ]
    },
    {
     "name": "stderr",
     "output_type": "stream",
     "text": [
      " 63%|██████▎   | 22/35 [16:39<28:53, 133.32s/it]"
     ]
    },
    {
     "name": "stdout",
     "output_type": "stream",
     "text": [
      "{'Model': 'MLPRegressor', 'R-Squared': 0.11419186649241453, 'Adjusted R-Squared': 0.11411344323379424, 'RMSE': np.float64(34.813342756211895), 'Time taken': 422.5763282775879}\n"
     ]
    },
    {
     "name": "stderr",
     "output_type": "stream",
     "text": [
      " 66%|██████▌   | 23/35 [16:39<18:42, 93.50s/it] "
     ]
    },
    {
     "name": "stdout",
     "output_type": "stream",
     "text": [
      "{'Model': 'OrthogonalMatchingPursuit', 'R-Squared': 0.014793400479028884, 'Adjusted R-Squared': 0.014706177175216273, 'RMSE': np.float64(36.714663346840126), 'Time taken': 0.6376214027404785}\n"
     ]
    },
    {
     "name": "stderr",
     "output_type": "stream",
     "text": [
      " 69%|██████▊   | 24/35 [16:41<12:06, 66.06s/it]"
     ]
    },
    {
     "name": "stdout",
     "output_type": "stream",
     "text": [
      "{'Model': 'OrthogonalMatchingPursuitCV', 'R-Squared': 0.07126141258207097, 'Adjusted R-Squared': 0.07117918856122873, 'RMSE': np.float64(35.64697152278587), 'Time taken': 2.0459184646606445}\n"
     ]
    },
    {
     "name": "stderr",
     "output_type": "stream",
     "text": [
      " 71%|███████▏  | 25/35 [16:42<07:45, 46.51s/it]"
     ]
    },
    {
     "name": "stdout",
     "output_type": "stream",
     "text": [
      "{'Model': 'PLSRegression', 'R-Squared': 0.07101334613848687, 'Adjusted R-Squared': 0.07093110015557624, 'RMSE': np.float64(35.65173186502255), 'Time taken': 0.9107825756072998}\n"
     ]
    },
    {
     "name": "stderr",
     "output_type": "stream",
     "text": [
      " 74%|███████▍  | 26/35 [16:44<04:57, 33.01s/it]"
     ]
    },
    {
     "name": "stdout",
     "output_type": "stream",
     "text": [
      "{'Model': 'PassiveAggressiveRegressor', 'R-Squared': -0.041475692127361574, 'Adjusted R-Squared': -0.04156789710320319, 'RMSE': np.float64(37.748566430553545), 'Time taken': 1.5145065784454346}\n"
     ]
    },
    {
     "name": "stderr",
     "output_type": "stream",
     "text": [
      " 77%|███████▋  | 27/35 [16:45<03:06, 23.34s/it]"
     ]
    },
    {
     "name": "stdout",
     "output_type": "stream",
     "text": [
      "{'Model': 'PoissonRegressor', 'R-Squared': 0.07817320136521078, 'Adjusted R-Squared': 0.0780915892658206, 'RMSE': np.float64(35.51407919938683), 'Time taken': 0.7737846374511719}\n"
     ]
    },
    {
     "name": "stderr",
     "output_type": "stream",
     "text": [
      " 80%|████████  | 28/35 [16:49<02:02, 17.55s/it]"
     ]
    },
    {
     "name": "stdout",
     "output_type": "stream",
     "text": [
      "{'Model': 'RANSACRegressor', 'R-Squared': -0.05662978996409995, 'Adjusted R-Squared': -0.05672333657780748, 'RMSE': np.float64(38.022206792332135), 'Time taken': 4.034156799316406}\n"
     ]
    },
    {
     "name": "stderr",
     "output_type": "stream",
     "text": [
      " 83%|████████▎ | 29/35 [18:42<04:38, 46.34s/it]"
     ]
    },
    {
     "name": "stdout",
     "output_type": "stream",
     "text": [
      "{'Model': 'RandomForestRegressor', 'R-Squared': 0.10121972236502574, 'Adjusted R-Squared': 0.10114015064346493, 'RMSE': np.float64(35.06732683646223), 'Time taken': 113.51424193382263}\n"
     ]
    },
    {
     "name": "stderr",
     "output_type": "stream",
     "text": [
      " 86%|████████▌ | 30/35 [18:43<02:43, 32.61s/it]"
     ]
    },
    {
     "name": "stdout",
     "output_type": "stream",
     "text": [
      "{'Model': 'Ridge', 'R-Squared': 0.07148884712362436, 'Adjusted R-Squared': 0.0714066432382463, 'RMSE': np.float64(35.64260654369499), 'Time taken': 0.5691738128662109}\n"
     ]
    },
    {
     "name": "stderr",
     "output_type": "stream",
     "text": [
      " 89%|████████▊ | 31/35 [18:45<01:33, 23.42s/it]"
     ]
    },
    {
     "name": "stdout",
     "output_type": "stream",
     "text": [
      "{'Model': 'RidgeCV', 'R-Squared': 0.07148891462231333, 'Adjusted R-Squared': 0.07140671074291105, 'RMSE': np.float64(35.64260524816437), 'Time taken': 1.969221830368042}\n"
     ]
    },
    {
     "name": "stderr",
     "output_type": "stream",
     "text": [
      " 91%|█████████▏| 32/35 [18:46<00:50, 16.84s/it]"
     ]
    },
    {
     "name": "stdout",
     "output_type": "stream",
     "text": [
      "{'Model': 'SGDRegressor', 'R-Squared': -1.6134335857742162e+19, 'Adjusted R-Squared': -1.6135764279028642e+19, 'RMSE': np.float64(148576950628.37775), 'Time taken': 1.4781959056854248}\n"
     ]
    },
    {
     "name": "stderr",
     "output_type": "stream",
     "text": [
      " 94%|█████████▍| 33/35 [21:40<02:07, 63.84s/it]"
     ]
    },
    {
     "name": "stdout",
     "output_type": "stream",
     "text": [
      "{'Model': 'TheilSenRegressor', 'R-Squared': 0.06791860650702952, 'Adjusted R-Squared': 0.06783608653751017, 'RMSE': np.float64(35.71106592094441), 'Time taken': 173.51980662345886}\n"
     ]
    },
    {
     "name": "stderr",
     "output_type": "stream",
     "text": [
      "100%|██████████| 35/35 [21:41<00:00, 37.18s/it]"
     ]
    },
    {
     "name": "stdout",
     "output_type": "stream",
     "text": [
      "{'Model': 'TransformedTargetRegressor', 'R-Squared': 0.07148883958373631, 'Adjusted R-Squared': 0.07140663569769068, 'RMSE': np.float64(35.64260668841121), 'Time taken': 1.173266887664795}\n",
      "VotingRegressor model failed to execute\n",
      "VotingRegressor.__init__() missing 1 required positional argument: 'estimators'\n"
     ]
    },
    {
     "name": "stderr",
     "output_type": "stream",
     "text": [
      "\n"
     ]
    },
    {
     "data": {
      "text/html": [
       "<div>\n",
       "<style scoped>\n",
       "    .dataframe tbody tr th:only-of-type {\n",
       "        vertical-align: middle;\n",
       "    }\n",
       "\n",
       "    .dataframe tbody tr th {\n",
       "        vertical-align: top;\n",
       "    }\n",
       "\n",
       "    .dataframe thead th {\n",
       "        text-align: right;\n",
       "    }\n",
       "</style>\n",
       "<table border=\"1\" class=\"dataframe\">\n",
       "  <thead>\n",
       "    <tr style=\"text-align: right;\">\n",
       "      <th></th>\n",
       "      <th>Adjusted R-Squared</th>\n",
       "      <th>R-Squared</th>\n",
       "      <th>RMSE</th>\n",
       "      <th>Time Taken</th>\n",
       "      <th>Target</th>\n",
       "    </tr>\n",
       "    <tr>\n",
       "      <th>Model</th>\n",
       "      <th></th>\n",
       "      <th></th>\n",
       "      <th></th>\n",
       "      <th></th>\n",
       "      <th></th>\n",
       "    </tr>\n",
       "  </thead>\n",
       "  <tbody>\n",
       "    <tr>\n",
       "      <th>HistGradientBoostingRegressor</th>\n",
       "      <td>0.12</td>\n",
       "      <td>0.12</td>\n",
       "      <td>34.71</td>\n",
       "      <td>4.35</td>\n",
       "      <td>TurnoutTimeSeconds_mean</td>\n",
       "    </tr>\n",
       "    <tr>\n",
       "      <th>MLPRegressor</th>\n",
       "      <td>0.11</td>\n",
       "      <td>0.11</td>\n",
       "      <td>34.81</td>\n",
       "      <td>422.58</td>\n",
       "      <td>TurnoutTimeSeconds_mean</td>\n",
       "    </tr>\n",
       "    <tr>\n",
       "      <th>GradientBoostingRegressor</th>\n",
       "      <td>0.11</td>\n",
       "      <td>0.11</td>\n",
       "      <td>34.84</td>\n",
       "      <td>58.65</td>\n",
       "      <td>TurnoutTimeSeconds_mean</td>\n",
       "    </tr>\n",
       "    <tr>\n",
       "      <th>DecisionTreeRegressor</th>\n",
       "      <td>0.10</td>\n",
       "      <td>0.10</td>\n",
       "      <td>35.06</td>\n",
       "      <td>2.02</td>\n",
       "      <td>TurnoutTimeSeconds_mean</td>\n",
       "    </tr>\n",
       "    <tr>\n",
       "      <th>ExtraTreeRegressor</th>\n",
       "      <td>0.10</td>\n",
       "      <td>0.10</td>\n",
       "      <td>35.06</td>\n",
       "      <td>1.94</td>\n",
       "      <td>TurnoutTimeSeconds_mean</td>\n",
       "    </tr>\n",
       "    <tr>\n",
       "      <th>RandomForestRegressor</th>\n",
       "      <td>0.10</td>\n",
       "      <td>0.10</td>\n",
       "      <td>35.07</td>\n",
       "      <td>113.51</td>\n",
       "      <td>TurnoutTimeSeconds_mean</td>\n",
       "    </tr>\n",
       "    <tr>\n",
       "      <th>BaggingRegressor</th>\n",
       "      <td>0.10</td>\n",
       "      <td>0.10</td>\n",
       "      <td>35.12</td>\n",
       "      <td>12.22</td>\n",
       "      <td>TurnoutTimeSeconds_mean</td>\n",
       "    </tr>\n",
       "    <tr>\n",
       "      <th>AdaBoostRegressor</th>\n",
       "      <td>0.10</td>\n",
       "      <td>0.10</td>\n",
       "      <td>35.14</td>\n",
       "      <td>11.16</td>\n",
       "      <td>TurnoutTimeSeconds_mean</td>\n",
       "    </tr>\n",
       "    <tr>\n",
       "      <th>PoissonRegressor</th>\n",
       "      <td>0.08</td>\n",
       "      <td>0.08</td>\n",
       "      <td>35.51</td>\n",
       "      <td>0.77</td>\n",
       "      <td>TurnoutTimeSeconds_mean</td>\n",
       "    </tr>\n",
       "    <tr>\n",
       "      <th>ElasticNetCV</th>\n",
       "      <td>0.07</td>\n",
       "      <td>0.07</td>\n",
       "      <td>35.64</td>\n",
       "      <td>3.29</td>\n",
       "      <td>TurnoutTimeSeconds_mean</td>\n",
       "    </tr>\n",
       "    <tr>\n",
       "      <th>LassoLarsIC</th>\n",
       "      <td>0.07</td>\n",
       "      <td>0.07</td>\n",
       "      <td>35.64</td>\n",
       "      <td>1.25</td>\n",
       "      <td>TurnoutTimeSeconds_mean</td>\n",
       "    </tr>\n",
       "    <tr>\n",
       "      <th>LarsCV</th>\n",
       "      <td>0.07</td>\n",
       "      <td>0.07</td>\n",
       "      <td>35.64</td>\n",
       "      <td>2.21</td>\n",
       "      <td>TurnoutTimeSeconds_mean</td>\n",
       "    </tr>\n",
       "    <tr>\n",
       "      <th>LassoLarsCV</th>\n",
       "      <td>0.07</td>\n",
       "      <td>0.07</td>\n",
       "      <td>35.64</td>\n",
       "      <td>2.24</td>\n",
       "      <td>TurnoutTimeSeconds_mean</td>\n",
       "    </tr>\n",
       "    <tr>\n",
       "      <th>LassoCV</th>\n",
       "      <td>0.07</td>\n",
       "      <td>0.07</td>\n",
       "      <td>35.64</td>\n",
       "      <td>3.35</td>\n",
       "      <td>TurnoutTimeSeconds_mean</td>\n",
       "    </tr>\n",
       "    <tr>\n",
       "      <th>BayesianRidge</th>\n",
       "      <td>0.07</td>\n",
       "      <td>0.07</td>\n",
       "      <td>35.64</td>\n",
       "      <td>1.49</td>\n",
       "      <td>TurnoutTimeSeconds_mean</td>\n",
       "    </tr>\n",
       "    <tr>\n",
       "      <th>RidgeCV</th>\n",
       "      <td>0.07</td>\n",
       "      <td>0.07</td>\n",
       "      <td>35.64</td>\n",
       "      <td>1.97</td>\n",
       "      <td>TurnoutTimeSeconds_mean</td>\n",
       "    </tr>\n",
       "    <tr>\n",
       "      <th>Ridge</th>\n",
       "      <td>0.07</td>\n",
       "      <td>0.07</td>\n",
       "      <td>35.64</td>\n",
       "      <td>0.57</td>\n",
       "      <td>TurnoutTimeSeconds_mean</td>\n",
       "    </tr>\n",
       "    <tr>\n",
       "      <th>Lars</th>\n",
       "      <td>0.07</td>\n",
       "      <td>0.07</td>\n",
       "      <td>35.64</td>\n",
       "      <td>0.77</td>\n",
       "      <td>TurnoutTimeSeconds_mean</td>\n",
       "    </tr>\n",
       "    <tr>\n",
       "      <th>LinearRegression</th>\n",
       "      <td>0.07</td>\n",
       "      <td>0.07</td>\n",
       "      <td>35.64</td>\n",
       "      <td>0.95</td>\n",
       "      <td>TurnoutTimeSeconds_mean</td>\n",
       "    </tr>\n",
       "    <tr>\n",
       "      <th>TransformedTargetRegressor</th>\n",
       "      <td>0.07</td>\n",
       "      <td>0.07</td>\n",
       "      <td>35.64</td>\n",
       "      <td>1.17</td>\n",
       "      <td>TurnoutTimeSeconds_mean</td>\n",
       "    </tr>\n",
       "    <tr>\n",
       "      <th>OrthogonalMatchingPursuitCV</th>\n",
       "      <td>0.07</td>\n",
       "      <td>0.07</td>\n",
       "      <td>35.65</td>\n",
       "      <td>2.05</td>\n",
       "      <td>TurnoutTimeSeconds_mean</td>\n",
       "    </tr>\n",
       "    <tr>\n",
       "      <th>PLSRegression</th>\n",
       "      <td>0.07</td>\n",
       "      <td>0.07</td>\n",
       "      <td>35.65</td>\n",
       "      <td>0.91</td>\n",
       "      <td>TurnoutTimeSeconds_mean</td>\n",
       "    </tr>\n",
       "    <tr>\n",
       "      <th>TheilSenRegressor</th>\n",
       "      <td>0.07</td>\n",
       "      <td>0.07</td>\n",
       "      <td>35.71</td>\n",
       "      <td>173.52</td>\n",
       "      <td>TurnoutTimeSeconds_mean</td>\n",
       "    </tr>\n",
       "    <tr>\n",
       "      <th>HuberRegressor</th>\n",
       "      <td>0.06</td>\n",
       "      <td>0.07</td>\n",
       "      <td>35.77</td>\n",
       "      <td>2.50</td>\n",
       "      <td>TurnoutTimeSeconds_mean</td>\n",
       "    </tr>\n",
       "    <tr>\n",
       "      <th>LassoLars</th>\n",
       "      <td>0.06</td>\n",
       "      <td>0.06</td>\n",
       "      <td>35.78</td>\n",
       "      <td>0.59</td>\n",
       "      <td>TurnoutTimeSeconds_mean</td>\n",
       "    </tr>\n",
       "    <tr>\n",
       "      <th>Lasso</th>\n",
       "      <td>0.06</td>\n",
       "      <td>0.06</td>\n",
       "      <td>35.78</td>\n",
       "      <td>0.91</td>\n",
       "      <td>TurnoutTimeSeconds_mean</td>\n",
       "    </tr>\n",
       "    <tr>\n",
       "      <th>LinearSVR</th>\n",
       "      <td>0.06</td>\n",
       "      <td>0.06</td>\n",
       "      <td>35.80</td>\n",
       "      <td>8.33</td>\n",
       "      <td>TurnoutTimeSeconds_mean</td>\n",
       "    </tr>\n",
       "    <tr>\n",
       "      <th>ElasticNet</th>\n",
       "      <td>0.04</td>\n",
       "      <td>0.04</td>\n",
       "      <td>36.20</td>\n",
       "      <td>0.76</td>\n",
       "      <td>TurnoutTimeSeconds_mean</td>\n",
       "    </tr>\n",
       "    <tr>\n",
       "      <th>OrthogonalMatchingPursuit</th>\n",
       "      <td>0.01</td>\n",
       "      <td>0.01</td>\n",
       "      <td>36.71</td>\n",
       "      <td>0.64</td>\n",
       "      <td>TurnoutTimeSeconds_mean</td>\n",
       "    </tr>\n",
       "    <tr>\n",
       "      <th>DummyRegressor</th>\n",
       "      <td>-0.00</td>\n",
       "      <td>-0.00</td>\n",
       "      <td>36.99</td>\n",
       "      <td>0.43</td>\n",
       "      <td>TurnoutTimeSeconds_mean</td>\n",
       "    </tr>\n",
       "    <tr>\n",
       "      <th>KNeighborsRegressor</th>\n",
       "      <td>-0.04</td>\n",
       "      <td>-0.04</td>\n",
       "      <td>37.72</td>\n",
       "      <td>457.20</td>\n",
       "      <td>TurnoutTimeSeconds_mean</td>\n",
       "    </tr>\n",
       "    <tr>\n",
       "      <th>PassiveAggressiveRegressor</th>\n",
       "      <td>-0.04</td>\n",
       "      <td>-0.04</td>\n",
       "      <td>37.75</td>\n",
       "      <td>1.51</td>\n",
       "      <td>TurnoutTimeSeconds_mean</td>\n",
       "    </tr>\n",
       "    <tr>\n",
       "      <th>RANSACRegressor</th>\n",
       "      <td>-0.06</td>\n",
       "      <td>-0.06</td>\n",
       "      <td>38.02</td>\n",
       "      <td>4.03</td>\n",
       "      <td>TurnoutTimeSeconds_mean</td>\n",
       "    </tr>\n",
       "    <tr>\n",
       "      <th>SGDRegressor</th>\n",
       "      <td>-16135764279028641792.00</td>\n",
       "      <td>-16134335857742161920.00</td>\n",
       "      <td>148576950628.38</td>\n",
       "      <td>1.48</td>\n",
       "      <td>TurnoutTimeSeconds_mean</td>\n",
       "    </tr>\n",
       "  </tbody>\n",
       "</table>\n",
       "</div>"
      ],
      "text/plain": [
       "                                    Adjusted R-Squared  \\\n",
       "Model                                                    \n",
       "HistGradientBoostingRegressor                     0.12   \n",
       "MLPRegressor                                      0.11   \n",
       "GradientBoostingRegressor                         0.11   \n",
       "DecisionTreeRegressor                             0.10   \n",
       "ExtraTreeRegressor                                0.10   \n",
       "RandomForestRegressor                             0.10   \n",
       "BaggingRegressor                                  0.10   \n",
       "AdaBoostRegressor                                 0.10   \n",
       "PoissonRegressor                                  0.08   \n",
       "ElasticNetCV                                      0.07   \n",
       "LassoLarsIC                                       0.07   \n",
       "LarsCV                                            0.07   \n",
       "LassoLarsCV                                       0.07   \n",
       "LassoCV                                           0.07   \n",
       "BayesianRidge                                     0.07   \n",
       "RidgeCV                                           0.07   \n",
       "Ridge                                             0.07   \n",
       "Lars                                              0.07   \n",
       "LinearRegression                                  0.07   \n",
       "TransformedTargetRegressor                        0.07   \n",
       "OrthogonalMatchingPursuitCV                       0.07   \n",
       "PLSRegression                                     0.07   \n",
       "TheilSenRegressor                                 0.07   \n",
       "HuberRegressor                                    0.06   \n",
       "LassoLars                                         0.06   \n",
       "Lasso                                             0.06   \n",
       "LinearSVR                                         0.06   \n",
       "ElasticNet                                        0.04   \n",
       "OrthogonalMatchingPursuit                         0.01   \n",
       "DummyRegressor                                   -0.00   \n",
       "KNeighborsRegressor                              -0.04   \n",
       "PassiveAggressiveRegressor                       -0.04   \n",
       "RANSACRegressor                                  -0.06   \n",
       "SGDRegressor                  -16135764279028641792.00   \n",
       "\n",
       "                                             R-Squared            RMSE  \\\n",
       "Model                                                                    \n",
       "HistGradientBoostingRegressor                     0.12           34.71   \n",
       "MLPRegressor                                      0.11           34.81   \n",
       "GradientBoostingRegressor                         0.11           34.84   \n",
       "DecisionTreeRegressor                             0.10           35.06   \n",
       "ExtraTreeRegressor                                0.10           35.06   \n",
       "RandomForestRegressor                             0.10           35.07   \n",
       "BaggingRegressor                                  0.10           35.12   \n",
       "AdaBoostRegressor                                 0.10           35.14   \n",
       "PoissonRegressor                                  0.08           35.51   \n",
       "ElasticNetCV                                      0.07           35.64   \n",
       "LassoLarsIC                                       0.07           35.64   \n",
       "LarsCV                                            0.07           35.64   \n",
       "LassoLarsCV                                       0.07           35.64   \n",
       "LassoCV                                           0.07           35.64   \n",
       "BayesianRidge                                     0.07           35.64   \n",
       "RidgeCV                                           0.07           35.64   \n",
       "Ridge                                             0.07           35.64   \n",
       "Lars                                              0.07           35.64   \n",
       "LinearRegression                                  0.07           35.64   \n",
       "TransformedTargetRegressor                        0.07           35.64   \n",
       "OrthogonalMatchingPursuitCV                       0.07           35.65   \n",
       "PLSRegression                                     0.07           35.65   \n",
       "TheilSenRegressor                                 0.07           35.71   \n",
       "HuberRegressor                                    0.07           35.77   \n",
       "LassoLars                                         0.06           35.78   \n",
       "Lasso                                             0.06           35.78   \n",
       "LinearSVR                                         0.06           35.80   \n",
       "ElasticNet                                        0.04           36.20   \n",
       "OrthogonalMatchingPursuit                         0.01           36.71   \n",
       "DummyRegressor                                   -0.00           36.99   \n",
       "KNeighborsRegressor                              -0.04           37.72   \n",
       "PassiveAggressiveRegressor                       -0.04           37.75   \n",
       "RANSACRegressor                                  -0.06           38.02   \n",
       "SGDRegressor                  -16134335857742161920.00 148576950628.38   \n",
       "\n",
       "                               Time Taken                   Target  \n",
       "Model                                                               \n",
       "HistGradientBoostingRegressor        4.35  TurnoutTimeSeconds_mean  \n",
       "MLPRegressor                       422.58  TurnoutTimeSeconds_mean  \n",
       "GradientBoostingRegressor           58.65  TurnoutTimeSeconds_mean  \n",
       "DecisionTreeRegressor                2.02  TurnoutTimeSeconds_mean  \n",
       "ExtraTreeRegressor                   1.94  TurnoutTimeSeconds_mean  \n",
       "RandomForestRegressor              113.51  TurnoutTimeSeconds_mean  \n",
       "BaggingRegressor                    12.22  TurnoutTimeSeconds_mean  \n",
       "AdaBoostRegressor                   11.16  TurnoutTimeSeconds_mean  \n",
       "PoissonRegressor                     0.77  TurnoutTimeSeconds_mean  \n",
       "ElasticNetCV                         3.29  TurnoutTimeSeconds_mean  \n",
       "LassoLarsIC                          1.25  TurnoutTimeSeconds_mean  \n",
       "LarsCV                               2.21  TurnoutTimeSeconds_mean  \n",
       "LassoLarsCV                          2.24  TurnoutTimeSeconds_mean  \n",
       "LassoCV                              3.35  TurnoutTimeSeconds_mean  \n",
       "BayesianRidge                        1.49  TurnoutTimeSeconds_mean  \n",
       "RidgeCV                              1.97  TurnoutTimeSeconds_mean  \n",
       "Ridge                                0.57  TurnoutTimeSeconds_mean  \n",
       "Lars                                 0.77  TurnoutTimeSeconds_mean  \n",
       "LinearRegression                     0.95  TurnoutTimeSeconds_mean  \n",
       "TransformedTargetRegressor           1.17  TurnoutTimeSeconds_mean  \n",
       "OrthogonalMatchingPursuitCV          2.05  TurnoutTimeSeconds_mean  \n",
       "PLSRegression                        0.91  TurnoutTimeSeconds_mean  \n",
       "TheilSenRegressor                  173.52  TurnoutTimeSeconds_mean  \n",
       "HuberRegressor                       2.50  TurnoutTimeSeconds_mean  \n",
       "LassoLars                            0.59  TurnoutTimeSeconds_mean  \n",
       "Lasso                                0.91  TurnoutTimeSeconds_mean  \n",
       "LinearSVR                            8.33  TurnoutTimeSeconds_mean  \n",
       "ElasticNet                           0.76  TurnoutTimeSeconds_mean  \n",
       "OrthogonalMatchingPursuit            0.64  TurnoutTimeSeconds_mean  \n",
       "DummyRegressor                       0.43  TurnoutTimeSeconds_mean  \n",
       "KNeighborsRegressor                457.20  TurnoutTimeSeconds_mean  \n",
       "PassiveAggressiveRegressor           1.51  TurnoutTimeSeconds_mean  \n",
       "RANSACRegressor                      4.03  TurnoutTimeSeconds_mean  \n",
       "SGDRegressor                         1.48  TurnoutTimeSeconds_mean  "
      ]
     },
     "metadata": {},
     "output_type": "display_data"
    },
    {
     "name": "stdout",
     "output_type": "stream",
     "text": [
      "(1016665, 45)\n",
      "cols_to_remove ['TurnoutTimeSeconds_min', 'TurnoutTimeSeconds_mean', 'TurnoutTimeSeconds_max', 'TravelTimeSeconds_min', 'TravelTimeSeconds_mean', 'TravelTimeSeconds_max', 'PumpSecondsOnSite_min', 'PumpSecondsOnSite_mean', 'PumpSecondsOnSite_max', 'NumPumpsAttending']\n",
      "cols_to_keep ['CalYear', 'HourOfCall_0', 'HourOfCall_1', 'HourOfCall_2', 'HourOfCall_3', 'HourOfCall_4', 'Postcode_district_0', 'Postcode_district_1', 'Postcode_district_2', 'Postcode_district_3', 'Postcode_district_4', 'Postcode_district_5', 'Postcode_district_6', 'Postcode_district_7', 'Postcode_district_8', 'Month_0', 'Month_1', 'Month_2', 'Month_3', 'DayOfWeek_0', 'DayOfWeek_1', 'DayOfWeek_2']\n"
     ]
    },
    {
     "data": {
      "text/html": [
       "<div>\n",
       "<style scoped>\n",
       "    .dataframe tbody tr th:only-of-type {\n",
       "        vertical-align: middle;\n",
       "    }\n",
       "\n",
       "    .dataframe tbody tr th {\n",
       "        vertical-align: top;\n",
       "    }\n",
       "\n",
       "    .dataframe thead th {\n",
       "        text-align: right;\n",
       "    }\n",
       "</style>\n",
       "<table border=\"1\" class=\"dataframe\">\n",
       "  <thead>\n",
       "    <tr style=\"text-align: right;\">\n",
       "      <th></th>\n",
       "      <th>CalYear</th>\n",
       "      <th>HourOfCall_0</th>\n",
       "      <th>HourOfCall_1</th>\n",
       "      <th>HourOfCall_2</th>\n",
       "      <th>HourOfCall_3</th>\n",
       "      <th>HourOfCall_4</th>\n",
       "      <th>Postcode_district_0</th>\n",
       "      <th>Postcode_district_1</th>\n",
       "      <th>Postcode_district_2</th>\n",
       "      <th>Postcode_district_3</th>\n",
       "      <th>Postcode_district_4</th>\n",
       "      <th>Postcode_district_5</th>\n",
       "      <th>Postcode_district_6</th>\n",
       "      <th>Postcode_district_7</th>\n",
       "      <th>Postcode_district_8</th>\n",
       "      <th>Month_0</th>\n",
       "      <th>Month_1</th>\n",
       "      <th>Month_2</th>\n",
       "      <th>Month_3</th>\n",
       "      <th>DayOfWeek_0</th>\n",
       "      <th>DayOfWeek_1</th>\n",
       "      <th>DayOfWeek_2</th>\n",
       "    </tr>\n",
       "  </thead>\n",
       "  <tbody>\n",
       "    <tr>\n",
       "      <th>574862</th>\n",
       "      <td>7</td>\n",
       "      <td>0</td>\n",
       "      <td>0</td>\n",
       "      <td>0</td>\n",
       "      <td>0</td>\n",
       "      <td>1</td>\n",
       "      <td>0</td>\n",
       "      <td>0</td>\n",
       "      <td>1</td>\n",
       "      <td>1</td>\n",
       "      <td>0</td>\n",
       "      <td>0</td>\n",
       "      <td>0</td>\n",
       "      <td>0</td>\n",
       "      <td>1</td>\n",
       "      <td>0</td>\n",
       "      <td>0</td>\n",
       "      <td>0</td>\n",
       "      <td>1</td>\n",
       "      <td>0</td>\n",
       "      <td>0</td>\n",
       "      <td>1</td>\n",
       "    </tr>\n",
       "    <tr>\n",
       "      <th>574863</th>\n",
       "      <td>7</td>\n",
       "      <td>0</td>\n",
       "      <td>0</td>\n",
       "      <td>0</td>\n",
       "      <td>0</td>\n",
       "      <td>1</td>\n",
       "      <td>0</td>\n",
       "      <td>1</td>\n",
       "      <td>0</td>\n",
       "      <td>0</td>\n",
       "      <td>0</td>\n",
       "      <td>1</td>\n",
       "      <td>1</td>\n",
       "      <td>1</td>\n",
       "      <td>1</td>\n",
       "      <td>0</td>\n",
       "      <td>0</td>\n",
       "      <td>0</td>\n",
       "      <td>1</td>\n",
       "      <td>0</td>\n",
       "      <td>0</td>\n",
       "      <td>1</td>\n",
       "    </tr>\n",
       "  </tbody>\n",
       "</table>\n",
       "</div>"
      ],
      "text/plain": [
       "        CalYear  HourOfCall_0  HourOfCall_1  HourOfCall_2  HourOfCall_3  \\\n",
       "574862        7             0             0             0             0   \n",
       "574863        7             0             0             0             0   \n",
       "\n",
       "        HourOfCall_4  Postcode_district_0  Postcode_district_1  \\\n",
       "574862             1                    0                    0   \n",
       "574863             1                    0                    1   \n",
       "\n",
       "        Postcode_district_2  Postcode_district_3  Postcode_district_4  \\\n",
       "574862                    1                    1                    0   \n",
       "574863                    0                    0                    0   \n",
       "\n",
       "        Postcode_district_5  Postcode_district_6  Postcode_district_7  \\\n",
       "574862                    0                    0                    0   \n",
       "574863                    1                    1                    1   \n",
       "\n",
       "        Postcode_district_8  Month_0  Month_1  Month_2  Month_3  DayOfWeek_0  \\\n",
       "574862                    1        0        0        0        1            0   \n",
       "574863                    1        0        0        0        1            0   \n",
       "\n",
       "        DayOfWeek_1  DayOfWeek_2  \n",
       "574862            0            1  \n",
       "574863            0            1  "
      ]
     },
     "metadata": {},
     "output_type": "display_data"
    },
    {
     "name": "stdout",
     "output_type": "stream",
     "text": [
      "(1016665, 22)\n",
      "cible TravelTimeSeconds_mean\n",
      "[('AdaBoostRegressor', <class 'sklearn.ensemble._weight_boosting.AdaBoostRegressor'>), ('BaggingRegressor', <class 'sklearn.ensemble._bagging.BaggingRegressor'>), ('BayesianRidge', <class 'sklearn.linear_model._bayes.BayesianRidge'>), ('DecisionTreeRegressor', <class 'sklearn.tree._classes.DecisionTreeRegressor'>), ('DummyRegressor', <class 'sklearn.dummy.DummyRegressor'>), ('ElasticNet', <class 'sklearn.linear_model._coordinate_descent.ElasticNet'>), ('ElasticNetCV', <class 'sklearn.linear_model._coordinate_descent.ElasticNetCV'>), ('ExtraTreeRegressor', <class 'sklearn.tree._classes.ExtraTreeRegressor'>), ('GradientBoostingRegressor', <class 'sklearn.ensemble._gb.GradientBoostingRegressor'>), ('HistGradientBoostingRegressor', <class 'sklearn.ensemble._hist_gradient_boosting.gradient_boosting.HistGradientBoostingRegressor'>), ('HuberRegressor', <class 'sklearn.linear_model._huber.HuberRegressor'>), ('KNeighborsRegressor', <class 'sklearn.neighbors._regression.KNeighborsRegressor'>), ('Lars', <class 'sklearn.linear_model._least_angle.Lars'>), ('LarsCV', <class 'sklearn.linear_model._least_angle.LarsCV'>), ('Lasso', <class 'sklearn.linear_model._coordinate_descent.Lasso'>), ('LassoCV', <class 'sklearn.linear_model._coordinate_descent.LassoCV'>), ('LassoLars', <class 'sklearn.linear_model._least_angle.LassoLars'>), ('LassoLarsCV', <class 'sklearn.linear_model._least_angle.LassoLarsCV'>), ('LassoLarsIC', <class 'sklearn.linear_model._least_angle.LassoLarsIC'>), ('LinearRegression', <class 'sklearn.linear_model._base.LinearRegression'>), ('LinearSVR', <class 'sklearn.svm._classes.LinearSVR'>), ('MLPRegressor', <class 'sklearn.neural_network._multilayer_perceptron.MLPRegressor'>), ('OrthogonalMatchingPursuit', <class 'sklearn.linear_model._omp.OrthogonalMatchingPursuit'>), ('OrthogonalMatchingPursuitCV', <class 'sklearn.linear_model._omp.OrthogonalMatchingPursuitCV'>), ('PLSRegression', <class 'sklearn.cross_decomposition._pls.PLSRegression'>), ('PassiveAggressiveRegressor', <class 'sklearn.linear_model._passive_aggressive.PassiveAggressiveRegressor'>), ('PoissonRegressor', <class 'sklearn.linear_model._glm.glm.PoissonRegressor'>), ('RANSACRegressor', <class 'sklearn.linear_model._ransac.RANSACRegressor'>), ('RandomForestRegressor', <class 'sklearn.ensemble._forest.RandomForestRegressor'>), ('Ridge', <class 'sklearn.linear_model._ridge.Ridge'>), ('RidgeCV', <class 'sklearn.linear_model._ridge.RidgeCV'>), ('SGDRegressor', <class 'sklearn.linear_model._stochastic_gradient.SGDRegressor'>), ('TheilSenRegressor', <class 'sklearn.linear_model._theil_sen.TheilSenRegressor'>), ('TransformedTargetRegressor', <class 'sklearn.compose._target.TransformedTargetRegressor'>), ('VotingRegressor', <class 'sklearn.ensemble._voting.VotingRegressor'>)]\n",
      "'tuple' object has no attribute '__name__'\n",
      "Invalid Regressor(s)\n"
     ]
    },
    {
     "name": "stderr",
     "output_type": "stream",
     "text": [
      "  3%|▎         | 1/35 [00:25<14:33, 25.68s/it]"
     ]
    },
    {
     "name": "stdout",
     "output_type": "stream",
     "text": [
      "{'Model': 'AdaBoostRegressor', 'R-Squared': -0.1754695667268784, 'Adjusted R-Squared': -0.17559676327632512, 'RMSE': np.float64(146.23040294195673), 'Time taken': 25.68037986755371}\n"
     ]
    },
    {
     "name": "stderr",
     "output_type": "stream",
     "text": [
      "  6%|▌         | 2/35 [00:55<15:20, 27.89s/it]"
     ]
    },
    {
     "name": "stdout",
     "output_type": "stream",
     "text": [
      "{'Model': 'BaggingRegressor', 'R-Squared': -0.13342142532103307, 'Adjusted R-Squared': -0.133544071877312, 'RMSE': np.float64(143.5911556768798), 'Time taken': 29.437645435333252}\n"
     ]
    },
    {
     "name": "stderr",
     "output_type": "stream",
     "text": [
      "  9%|▊         | 3/35 [00:57<08:34, 16.07s/it]"
     ]
    },
    {
     "name": "stdout",
     "output_type": "stream",
     "text": [
      "{'Model': 'BayesianRidge', 'R-Squared': 0.010492636390476151, 'Adjusted R-Squared': 0.01038556265086954, 'RMSE': np.float64(134.16569883803828), 'Time taken': 2.0120961666107178}\n"
     ]
    },
    {
     "name": "stderr",
     "output_type": "stream",
     "text": [
      " 11%|█▏        | 4/35 [01:02<06:01, 11.67s/it]"
     ]
    },
    {
     "name": "stdout",
     "output_type": "stream",
     "text": [
      "{'Model': 'DecisionTreeRegressor', 'R-Squared': -0.8654183254522454, 'Adjusted R-Squared': -0.8656201807626578, 'RMSE': np.float64(184.21292620794574), 'Time taken': 4.924249172210693}\n"
     ]
    },
    {
     "name": "stderr",
     "output_type": "stream",
     "text": [
      " 14%|█▍        | 5/35 [01:02<03:51,  7.72s/it]"
     ]
    },
    {
     "name": "stdout",
     "output_type": "stream",
     "text": [
      "{'Model': 'DummyRegressor', 'R-Squared': -9.233185973567259e-07, 'Adjusted R-Squared': -0.00010913255726241466, 'RMSE': np.float64(134.87522506952791), 'Time taken': 0.7111079692840576}\n"
     ]
    },
    {
     "name": "stderr",
     "output_type": "stream",
     "text": [
      " 17%|█▋        | 6/35 [01:03<02:38,  5.48s/it]"
     ]
    },
    {
     "name": "stdout",
     "output_type": "stream",
     "text": [
      "{'Model': 'ElasticNet', 'R-Squared': 0.007683441596149532, 'Adjusted R-Squared': 0.007576063875993633, 'RMSE': np.float64(134.3560109439256), 'Time taken': 1.1313543319702148}\n"
     ]
    },
    {
     "name": "stderr",
     "output_type": "stream",
     "text": [
      " 20%|██        | 7/35 [01:07<02:18,  4.96s/it]"
     ]
    },
    {
     "name": "stdout",
     "output_type": "stream",
     "text": [
      "{'Model': 'ElasticNetCV', 'R-Squared': 0.01049686642457881, 'Adjusted R-Squared': 0.01038979314270061, 'RMSE': np.float64(134.16541206599953), 'Time taken': 3.872304916381836}\n"
     ]
    },
    {
     "name": "stderr",
     "output_type": "stream",
     "text": [
      " 23%|██▎       | 8/35 [01:12<02:09,  4.80s/it]"
     ]
    },
    {
     "name": "stdout",
     "output_type": "stream",
     "text": [
      "{'Model': 'ExtraTreeRegressor', 'R-Squared': -0.8371254537289645, 'Adjusted R-Squared': -0.837324247492095, 'RMSE': np.float64(182.81060635194808), 'Time taken': 4.4573893547058105}\n"
     ]
    },
    {
     "name": "stderr",
     "output_type": "stream",
     "text": [
      " 26%|██▌       | 9/35 [02:36<12:52, 29.71s/it]"
     ]
    },
    {
     "name": "stdout",
     "output_type": "stream",
     "text": [
      "{'Model': 'GradientBoostingRegressor', 'R-Squared': 0.04362962660672842, 'Adjusted R-Squared': 0.04352613859229404, 'RMSE': np.float64(131.90007391359657), 'Time taken': 84.48985648155212}\n"
     ]
    },
    {
     "name": "stderr",
     "output_type": "stream",
     "text": [
      " 29%|██▊       | 10/35 [02:42<09:15, 22.21s/it]"
     ]
    },
    {
     "name": "stdout",
     "output_type": "stream",
     "text": [
      "{'Model': 'HistGradientBoostingRegressor', 'R-Squared': 0.09180395850074785, 'Adjusted R-Squared': 0.09170568338927776, 'RMSE': np.float64(128.5351131597453), 'Time taken': 5.397381782531738}\n"
     ]
    },
    {
     "name": "stderr",
     "output_type": "stream",
     "text": [
      " 31%|███▏      | 11/35 [02:44<06:29, 16.21s/it]"
     ]
    },
    {
     "name": "stdout",
     "output_type": "stream",
     "text": [
      "{'Model': 'HuberRegressor', 'R-Squared': -0.003448969014532288, 'Adjusted R-Squared': -0.0035575513632526423, 'RMSE': np.float64(135.10755272790155), 'Time taken': 2.6269125938415527}\n"
     ]
    },
    {
     "name": "stderr",
     "output_type": "stream",
     "text": [
      " 34%|███▍      | 12/35 [12:14<1:10:42, 184.46s/it]"
     ]
    },
    {
     "name": "stdout",
     "output_type": "stream",
     "text": [
      "{'Model': 'KNeighborsRegressor', 'R-Squared': -0.07340061020176925, 'Adjusted R-Squared': -0.07351676195733692, 'RMSE': np.float64(139.73747801457338), 'Time taken': 569.2631974220276}\n"
     ]
    },
    {
     "name": "stderr",
     "output_type": "stream",
     "text": [
      " 37%|███▋      | 13/35 [12:14<47:13, 128.79s/it]  "
     ]
    },
    {
     "name": "stdout",
     "output_type": "stream",
     "text": [
      "{'Model': 'Lars', 'R-Squared': 0.010491075383851856, 'Adjusted R-Squared': 0.01038400147533014, 'RMSE': np.float64(134.16580466517496), 'Time taken': 0.6916489601135254}\n"
     ]
    },
    {
     "name": "stderr",
     "output_type": "stream",
     "text": [
      " 40%|████      | 14/35 [12:17<31:46, 90.78s/it] "
     ]
    },
    {
     "name": "stdout",
     "output_type": "stream",
     "text": [
      "{'Model': 'LarsCV', 'R-Squared': 0.010491075383851856, 'Adjusted R-Squared': 0.01038400147533014, 'RMSE': np.float64(134.16580466517496), 'Time taken': 2.9571142196655273}\n"
     ]
    },
    {
     "name": "stderr",
     "output_type": "stream",
     "text": [
      " 43%|████▎     | 15/35 [12:18<21:16, 63.81s/it]"
     ]
    },
    {
     "name": "stdout",
     "output_type": "stream",
     "text": [
      "{'Model': 'Lasso', 'R-Squared': 0.009293323236270967, 'Adjusted R-Squared': 0.009186119720020924, 'RMSE': np.float64(134.2469806793588), 'Time taken': 1.3043022155761719}\n"
     ]
    },
    {
     "name": "stderr",
     "output_type": "stream",
     "text": [
      " 46%|████▌     | 16/35 [12:22<14:29, 45.79s/it]"
     ]
    },
    {
     "name": "stdout",
     "output_type": "stream",
     "text": [
      "{'Model': 'LassoCV', 'R-Squared': 0.010492401030401388, 'Adjusted R-Squared': 0.010385327265326705, 'RMSE': np.float64(134.16571479408276), 'Time taken': 3.9285800457000732}\n"
     ]
    },
    {
     "name": "stderr",
     "output_type": "stream",
     "text": [
      " 49%|████▊     | 17/35 [12:23<09:40, 32.23s/it]"
     ]
    },
    {
     "name": "stdout",
     "output_type": "stream",
     "text": [
      "{'Model': 'LassoLars', 'R-Squared': 0.009293372226796048, 'Adjusted R-Squared': 0.00918616871584721, 'RMSE': np.float64(134.24697736009676), 'Time taken': 0.7036263942718506}\n"
     ]
    },
    {
     "name": "stderr",
     "output_type": "stream",
     "text": [
      " 51%|█████▏    | 18/35 [12:26<06:37, 23.40s/it]"
     ]
    },
    {
     "name": "stdout",
     "output_type": "stream",
     "text": [
      "{'Model': 'LassoLarsCV', 'R-Squared': 0.010491075383851856, 'Adjusted R-Squared': 0.01038400147533014, 'RMSE': np.float64(134.16580466517496), 'Time taken': 2.8577492237091064}\n"
     ]
    },
    {
     "name": "stderr",
     "output_type": "stream",
     "text": [
      " 54%|█████▍    | 19/35 [12:28<04:30, 16.89s/it]"
     ]
    },
    {
     "name": "stdout",
     "output_type": "stream",
     "text": [
      "{'Model': 'LassoLarsIC', 'R-Squared': 0.010491075383851856, 'Adjusted R-Squared': 0.01038400147533014, 'RMSE': np.float64(134.16580466517496), 'Time taken': 1.7087483406066895}\n"
     ]
    },
    {
     "name": "stderr",
     "output_type": "stream",
     "text": [
      " 57%|█████▋    | 20/35 [12:29<03:03, 12.22s/it]"
     ]
    },
    {
     "name": "stdout",
     "output_type": "stream",
     "text": [
      "{'Model': 'LinearRegression', 'R-Squared': 0.010491075383853632, 'Adjusted R-Squared': 0.010384001475331917, 'RMSE': np.float64(134.16580466517485), 'Time taken': 1.3333230018615723}\n"
     ]
    },
    {
     "name": "stderr",
     "output_type": "stream",
     "text": [
      " 60%|██████    | 21/35 [12:32<02:13,  9.57s/it]"
     ]
    },
    {
     "name": "stdout",
     "output_type": "stream",
     "text": [
      "{'Model': 'LinearSVR', 'R-Squared': -0.01145037624675882, 'Adjusted R-Squared': -0.011559824420864562, 'RMSE': np.float64(135.6451505946644), 'Time taken': 3.38838791847229}\n"
     ]
    },
    {
     "name": "stderr",
     "output_type": "stream",
     "text": [
      " 63%|██████▎   | 22/35 [25:51<53:22, 246.34s/it]"
     ]
    },
    {
     "name": "stdout",
     "output_type": "stream",
     "text": [
      "{'Model': 'MLPRegressor', 'R-Squared': 0.11267272117596927, 'Adjusted R-Squared': 0.11257670425533506, 'RMSE': np.float64(127.04977447214189), 'Time taken': 798.4881467819214}\n"
     ]
    },
    {
     "name": "stderr",
     "output_type": "stream",
     "text": [
      " 66%|██████▌   | 23/35 [25:52<34:31, 172.63s/it]"
     ]
    },
    {
     "name": "stdout",
     "output_type": "stream",
     "text": [
      "{'Model': 'OrthogonalMatchingPursuit', 'R-Squared': 0.004113794972242624, 'Adjusted R-Squared': 0.004006030983699893, 'RMSE': np.float64(134.59745251472026), 'Time taken': 0.7204408645629883}\n"
     ]
    },
    {
     "name": "stderr",
     "output_type": "stream",
     "text": [
      " 69%|██████▊   | 24/35 [25:54<22:17, 121.56s/it]"
     ]
    },
    {
     "name": "stdout",
     "output_type": "stream",
     "text": [
      "{'Model': 'OrthogonalMatchingPursuitCV', 'R-Squared': 0.006637626167645627, 'Adjusted R-Squared': 0.006530135280702898, 'RMSE': np.float64(134.42679208010253), 'Time taken': 2.4218618869781494}\n"
     ]
    },
    {
     "name": "stderr",
     "output_type": "stream",
     "text": [
      " 71%|███████▏  | 25/35 [25:55<14:14, 85.41s/it] "
     ]
    },
    {
     "name": "stdout",
     "output_type": "stream",
     "text": [
      "{'Model': 'PLSRegression', 'R-Squared': 0.010373354710960014, 'Adjusted R-Squared': 0.010266268063985673, 'RMSE': np.float64(134.1737851990986), 'Time taken': 1.0902564525604248}\n"
     ]
    },
    {
     "name": "stderr",
     "output_type": "stream",
     "text": [
      " 74%|███████▍  | 26/35 [25:58<09:05, 60.63s/it]"
     ]
    },
    {
     "name": "stdout",
     "output_type": "stream",
     "text": [
      "{'Model': 'PassiveAggressiveRegressor', 'R-Squared': -0.07150676560765423, 'Adjusted R-Squared': -0.0716227124319293, 'RMSE': np.float64(139.6141513194094), 'Time taken': 2.8008084297180176}\n"
     ]
    },
    {
     "name": "stderr",
     "output_type": "stream",
     "text": [
      " 77%|███████▋  | 27/35 [25:59<05:41, 42.71s/it]"
     ]
    },
    {
     "name": "stdout",
     "output_type": "stream",
     "text": [
      "{'Model': 'PoissonRegressor', 'R-Squared': 0.010317405412803016, 'Adjusted R-Squared': 0.01021031271160322, 'RMSE': np.float64(134.17757795419934), 'Time taken': 0.9120829105377197}\n"
     ]
    },
    {
     "name": "stderr",
     "output_type": "stream",
     "text": [
      " 80%|████████  | 28/35 [26:03<03:38, 31.28s/it]"
     ]
    },
    {
     "name": "stdout",
     "output_type": "stream",
     "text": [
      "{'Model': 'RANSACRegressor', 'R-Squared': -1.2798995722147337, 'Adjusted R-Squared': -1.2801462781838877, 'RMSE': np.float64(203.6525444009116), 'Time taken': 4.618824243545532}\n"
     ]
    },
    {
     "name": "stderr",
     "output_type": "stream",
     "text": [
      " 83%|████████▎ | 29/35 [30:59<11:02, 110.42s/it]"
     ]
    },
    {
     "name": "stdout",
     "output_type": "stream",
     "text": [
      "{'Model': 'RandomForestRegressor', 'R-Squared': -0.0535630459884906, 'Adjusted R-Squared': -0.053677051138319776, 'RMSE': np.float64(138.44020908221196), 'Time taken': 295.04753732681274}\n"
     ]
    },
    {
     "name": "stderr",
     "output_type": "stream",
     "text": [
      " 86%|████████▌ | 30/35 [30:59<06:27, 77.50s/it] "
     ]
    },
    {
     "name": "stdout",
     "output_type": "stream",
     "text": [
      "{'Model': 'Ridge', 'R-Squared': 0.010491076720058778, 'Adjusted R-Squared': 0.010384002811681614, 'RMSE': np.float64(134.16580457458795), 'Time taken': 0.6888349056243896}\n"
     ]
    },
    {
     "name": "stderr",
     "output_type": "stream",
     "text": [
      " 89%|████████▊ | 31/35 [31:02<03:40, 55.06s/it]"
     ]
    },
    {
     "name": "stdout",
     "output_type": "stream",
     "text": [
      "{'Model': 'RidgeCV', 'R-Squared': 0.01049108864697268, 'Adjusted R-Squared': 0.01038401473988615, 'RMSE': np.float64(134.16580376601314), 'Time taken': 2.701293706893921}\n"
     ]
    },
    {
     "name": "stderr",
     "output_type": "stream",
     "text": [
      " 91%|█████████▏| 32/35 [31:09<02:02, 40.80s/it]"
     ]
    },
    {
     "name": "stdout",
     "output_type": "stream",
     "text": [
      "{'Model': 'SGDRegressor', 'R-Squared': 0.009212974831811493, 'Adjusted R-Squared': 0.00910576262112972, 'RMSE': np.float64(134.25242442585832), 'Time taken': 7.512488126754761}\n"
     ]
    },
    {
     "name": "stderr",
     "output_type": "stream",
     "text": [
      " 94%|█████████▍| 33/35 [34:15<02:48, 84.17s/it]"
     ]
    },
    {
     "name": "stdout",
     "output_type": "stream",
     "text": [
      "{'Model': 'TheilSenRegressor', 'R-Squared': -0.039043811447855514, 'Adjusted R-Squared': -0.039156245483819685, 'RMSE': np.float64(137.48297203980155), 'Time taken': 185.36755275726318}\n"
     ]
    },
    {
     "name": "stderr",
     "output_type": "stream",
     "text": [
      "100%|██████████| 35/35 [34:16<00:00, 58.77s/it]"
     ]
    },
    {
     "name": "stdout",
     "output_type": "stream",
     "text": [
      "{'Model': 'TransformedTargetRegressor', 'R-Squared': 0.010491075383853632, 'Adjusted R-Squared': 0.010384001475331917, 'RMSE': np.float64(134.16580466517485), 'Time taken': 1.4870719909667969}\n",
      "VotingRegressor model failed to execute\n",
      "VotingRegressor.__init__() missing 1 required positional argument: 'estimators'\n"
     ]
    },
    {
     "name": "stderr",
     "output_type": "stream",
     "text": [
      "\n"
     ]
    },
    {
     "data": {
      "text/html": [
       "<div>\n",
       "<style scoped>\n",
       "    .dataframe tbody tr th:only-of-type {\n",
       "        vertical-align: middle;\n",
       "    }\n",
       "\n",
       "    .dataframe tbody tr th {\n",
       "        vertical-align: top;\n",
       "    }\n",
       "\n",
       "    .dataframe thead th {\n",
       "        text-align: right;\n",
       "    }\n",
       "</style>\n",
       "<table border=\"1\" class=\"dataframe\">\n",
       "  <thead>\n",
       "    <tr style=\"text-align: right;\">\n",
       "      <th></th>\n",
       "      <th>Adjusted R-Squared</th>\n",
       "      <th>R-Squared</th>\n",
       "      <th>RMSE</th>\n",
       "      <th>Time Taken</th>\n",
       "      <th>Target</th>\n",
       "    </tr>\n",
       "    <tr>\n",
       "      <th>Model</th>\n",
       "      <th></th>\n",
       "      <th></th>\n",
       "      <th></th>\n",
       "      <th></th>\n",
       "      <th></th>\n",
       "    </tr>\n",
       "  </thead>\n",
       "  <tbody>\n",
       "    <tr>\n",
       "      <th>MLPRegressor</th>\n",
       "      <td>0.11</td>\n",
       "      <td>0.11</td>\n",
       "      <td>127.05</td>\n",
       "      <td>798.49</td>\n",
       "      <td>TravelTimeSeconds_mean</td>\n",
       "    </tr>\n",
       "    <tr>\n",
       "      <th>HistGradientBoostingRegressor</th>\n",
       "      <td>0.09</td>\n",
       "      <td>0.09</td>\n",
       "      <td>128.54</td>\n",
       "      <td>5.40</td>\n",
       "      <td>TravelTimeSeconds_mean</td>\n",
       "    </tr>\n",
       "    <tr>\n",
       "      <th>GradientBoostingRegressor</th>\n",
       "      <td>0.04</td>\n",
       "      <td>0.04</td>\n",
       "      <td>131.90</td>\n",
       "      <td>84.49</td>\n",
       "      <td>TravelTimeSeconds_mean</td>\n",
       "    </tr>\n",
       "    <tr>\n",
       "      <th>ElasticNetCV</th>\n",
       "      <td>0.01</td>\n",
       "      <td>0.01</td>\n",
       "      <td>134.17</td>\n",
       "      <td>3.87</td>\n",
       "      <td>TravelTimeSeconds_mean</td>\n",
       "    </tr>\n",
       "    <tr>\n",
       "      <th>BayesianRidge</th>\n",
       "      <td>0.01</td>\n",
       "      <td>0.01</td>\n",
       "      <td>134.17</td>\n",
       "      <td>2.01</td>\n",
       "      <td>TravelTimeSeconds_mean</td>\n",
       "    </tr>\n",
       "    <tr>\n",
       "      <th>LassoCV</th>\n",
       "      <td>0.01</td>\n",
       "      <td>0.01</td>\n",
       "      <td>134.17</td>\n",
       "      <td>3.93</td>\n",
       "      <td>TravelTimeSeconds_mean</td>\n",
       "    </tr>\n",
       "    <tr>\n",
       "      <th>RidgeCV</th>\n",
       "      <td>0.01</td>\n",
       "      <td>0.01</td>\n",
       "      <td>134.17</td>\n",
       "      <td>2.70</td>\n",
       "      <td>TravelTimeSeconds_mean</td>\n",
       "    </tr>\n",
       "    <tr>\n",
       "      <th>Ridge</th>\n",
       "      <td>0.01</td>\n",
       "      <td>0.01</td>\n",
       "      <td>134.17</td>\n",
       "      <td>0.69</td>\n",
       "      <td>TravelTimeSeconds_mean</td>\n",
       "    </tr>\n",
       "    <tr>\n",
       "      <th>LinearRegression</th>\n",
       "      <td>0.01</td>\n",
       "      <td>0.01</td>\n",
       "      <td>134.17</td>\n",
       "      <td>1.33</td>\n",
       "      <td>TravelTimeSeconds_mean</td>\n",
       "    </tr>\n",
       "    <tr>\n",
       "      <th>TransformedTargetRegressor</th>\n",
       "      <td>0.01</td>\n",
       "      <td>0.01</td>\n",
       "      <td>134.17</td>\n",
       "      <td>1.49</td>\n",
       "      <td>TravelTimeSeconds_mean</td>\n",
       "    </tr>\n",
       "    <tr>\n",
       "      <th>LarsCV</th>\n",
       "      <td>0.01</td>\n",
       "      <td>0.01</td>\n",
       "      <td>134.17</td>\n",
       "      <td>2.96</td>\n",
       "      <td>TravelTimeSeconds_mean</td>\n",
       "    </tr>\n",
       "    <tr>\n",
       "      <th>LassoLarsCV</th>\n",
       "      <td>0.01</td>\n",
       "      <td>0.01</td>\n",
       "      <td>134.17</td>\n",
       "      <td>2.86</td>\n",
       "      <td>TravelTimeSeconds_mean</td>\n",
       "    </tr>\n",
       "    <tr>\n",
       "      <th>LassoLarsIC</th>\n",
       "      <td>0.01</td>\n",
       "      <td>0.01</td>\n",
       "      <td>134.17</td>\n",
       "      <td>1.71</td>\n",
       "      <td>TravelTimeSeconds_mean</td>\n",
       "    </tr>\n",
       "    <tr>\n",
       "      <th>Lars</th>\n",
       "      <td>0.01</td>\n",
       "      <td>0.01</td>\n",
       "      <td>134.17</td>\n",
       "      <td>0.69</td>\n",
       "      <td>TravelTimeSeconds_mean</td>\n",
       "    </tr>\n",
       "    <tr>\n",
       "      <th>PLSRegression</th>\n",
       "      <td>0.01</td>\n",
       "      <td>0.01</td>\n",
       "      <td>134.17</td>\n",
       "      <td>1.09</td>\n",
       "      <td>TravelTimeSeconds_mean</td>\n",
       "    </tr>\n",
       "    <tr>\n",
       "      <th>PoissonRegressor</th>\n",
       "      <td>0.01</td>\n",
       "      <td>0.01</td>\n",
       "      <td>134.18</td>\n",
       "      <td>0.91</td>\n",
       "      <td>TravelTimeSeconds_mean</td>\n",
       "    </tr>\n",
       "    <tr>\n",
       "      <th>LassoLars</th>\n",
       "      <td>0.01</td>\n",
       "      <td>0.01</td>\n",
       "      <td>134.25</td>\n",
       "      <td>0.70</td>\n",
       "      <td>TravelTimeSeconds_mean</td>\n",
       "    </tr>\n",
       "    <tr>\n",
       "      <th>Lasso</th>\n",
       "      <td>0.01</td>\n",
       "      <td>0.01</td>\n",
       "      <td>134.25</td>\n",
       "      <td>1.30</td>\n",
       "      <td>TravelTimeSeconds_mean</td>\n",
       "    </tr>\n",
       "    <tr>\n",
       "      <th>SGDRegressor</th>\n",
       "      <td>0.01</td>\n",
       "      <td>0.01</td>\n",
       "      <td>134.25</td>\n",
       "      <td>7.51</td>\n",
       "      <td>TravelTimeSeconds_mean</td>\n",
       "    </tr>\n",
       "    <tr>\n",
       "      <th>ElasticNet</th>\n",
       "      <td>0.01</td>\n",
       "      <td>0.01</td>\n",
       "      <td>134.36</td>\n",
       "      <td>1.13</td>\n",
       "      <td>TravelTimeSeconds_mean</td>\n",
       "    </tr>\n",
       "    <tr>\n",
       "      <th>OrthogonalMatchingPursuitCV</th>\n",
       "      <td>0.01</td>\n",
       "      <td>0.01</td>\n",
       "      <td>134.43</td>\n",
       "      <td>2.42</td>\n",
       "      <td>TravelTimeSeconds_mean</td>\n",
       "    </tr>\n",
       "    <tr>\n",
       "      <th>OrthogonalMatchingPursuit</th>\n",
       "      <td>0.00</td>\n",
       "      <td>0.00</td>\n",
       "      <td>134.60</td>\n",
       "      <td>0.72</td>\n",
       "      <td>TravelTimeSeconds_mean</td>\n",
       "    </tr>\n",
       "    <tr>\n",
       "      <th>DummyRegressor</th>\n",
       "      <td>-0.00</td>\n",
       "      <td>-0.00</td>\n",
       "      <td>134.88</td>\n",
       "      <td>0.71</td>\n",
       "      <td>TravelTimeSeconds_mean</td>\n",
       "    </tr>\n",
       "    <tr>\n",
       "      <th>HuberRegressor</th>\n",
       "      <td>-0.00</td>\n",
       "      <td>-0.00</td>\n",
       "      <td>135.11</td>\n",
       "      <td>2.63</td>\n",
       "      <td>TravelTimeSeconds_mean</td>\n",
       "    </tr>\n",
       "    <tr>\n",
       "      <th>LinearSVR</th>\n",
       "      <td>-0.01</td>\n",
       "      <td>-0.01</td>\n",
       "      <td>135.65</td>\n",
       "      <td>3.39</td>\n",
       "      <td>TravelTimeSeconds_mean</td>\n",
       "    </tr>\n",
       "    <tr>\n",
       "      <th>TheilSenRegressor</th>\n",
       "      <td>-0.04</td>\n",
       "      <td>-0.04</td>\n",
       "      <td>137.48</td>\n",
       "      <td>185.37</td>\n",
       "      <td>TravelTimeSeconds_mean</td>\n",
       "    </tr>\n",
       "    <tr>\n",
       "      <th>RandomForestRegressor</th>\n",
       "      <td>-0.05</td>\n",
       "      <td>-0.05</td>\n",
       "      <td>138.44</td>\n",
       "      <td>295.05</td>\n",
       "      <td>TravelTimeSeconds_mean</td>\n",
       "    </tr>\n",
       "    <tr>\n",
       "      <th>PassiveAggressiveRegressor</th>\n",
       "      <td>-0.07</td>\n",
       "      <td>-0.07</td>\n",
       "      <td>139.61</td>\n",
       "      <td>2.80</td>\n",
       "      <td>TravelTimeSeconds_mean</td>\n",
       "    </tr>\n",
       "    <tr>\n",
       "      <th>KNeighborsRegressor</th>\n",
       "      <td>-0.07</td>\n",
       "      <td>-0.07</td>\n",
       "      <td>139.74</td>\n",
       "      <td>569.26</td>\n",
       "      <td>TravelTimeSeconds_mean</td>\n",
       "    </tr>\n",
       "    <tr>\n",
       "      <th>BaggingRegressor</th>\n",
       "      <td>-0.13</td>\n",
       "      <td>-0.13</td>\n",
       "      <td>143.59</td>\n",
       "      <td>29.44</td>\n",
       "      <td>TravelTimeSeconds_mean</td>\n",
       "    </tr>\n",
       "    <tr>\n",
       "      <th>AdaBoostRegressor</th>\n",
       "      <td>-0.18</td>\n",
       "      <td>-0.18</td>\n",
       "      <td>146.23</td>\n",
       "      <td>25.68</td>\n",
       "      <td>TravelTimeSeconds_mean</td>\n",
       "    </tr>\n",
       "    <tr>\n",
       "      <th>ExtraTreeRegressor</th>\n",
       "      <td>-0.84</td>\n",
       "      <td>-0.84</td>\n",
       "      <td>182.81</td>\n",
       "      <td>4.46</td>\n",
       "      <td>TravelTimeSeconds_mean</td>\n",
       "    </tr>\n",
       "    <tr>\n",
       "      <th>DecisionTreeRegressor</th>\n",
       "      <td>-0.87</td>\n",
       "      <td>-0.87</td>\n",
       "      <td>184.21</td>\n",
       "      <td>4.92</td>\n",
       "      <td>TravelTimeSeconds_mean</td>\n",
       "    </tr>\n",
       "    <tr>\n",
       "      <th>RANSACRegressor</th>\n",
       "      <td>-1.28</td>\n",
       "      <td>-1.28</td>\n",
       "      <td>203.65</td>\n",
       "      <td>4.62</td>\n",
       "      <td>TravelTimeSeconds_mean</td>\n",
       "    </tr>\n",
       "  </tbody>\n",
       "</table>\n",
       "</div>"
      ],
      "text/plain": [
       "                               Adjusted R-Squared  R-Squared   RMSE  \\\n",
       "Model                                                                 \n",
       "MLPRegressor                                 0.11       0.11 127.05   \n",
       "HistGradientBoostingRegressor                0.09       0.09 128.54   \n",
       "GradientBoostingRegressor                    0.04       0.04 131.90   \n",
       "ElasticNetCV                                 0.01       0.01 134.17   \n",
       "BayesianRidge                                0.01       0.01 134.17   \n",
       "LassoCV                                      0.01       0.01 134.17   \n",
       "RidgeCV                                      0.01       0.01 134.17   \n",
       "Ridge                                        0.01       0.01 134.17   \n",
       "LinearRegression                             0.01       0.01 134.17   \n",
       "TransformedTargetRegressor                   0.01       0.01 134.17   \n",
       "LarsCV                                       0.01       0.01 134.17   \n",
       "LassoLarsCV                                  0.01       0.01 134.17   \n",
       "LassoLarsIC                                  0.01       0.01 134.17   \n",
       "Lars                                         0.01       0.01 134.17   \n",
       "PLSRegression                                0.01       0.01 134.17   \n",
       "PoissonRegressor                             0.01       0.01 134.18   \n",
       "LassoLars                                    0.01       0.01 134.25   \n",
       "Lasso                                        0.01       0.01 134.25   \n",
       "SGDRegressor                                 0.01       0.01 134.25   \n",
       "ElasticNet                                   0.01       0.01 134.36   \n",
       "OrthogonalMatchingPursuitCV                  0.01       0.01 134.43   \n",
       "OrthogonalMatchingPursuit                    0.00       0.00 134.60   \n",
       "DummyRegressor                              -0.00      -0.00 134.88   \n",
       "HuberRegressor                              -0.00      -0.00 135.11   \n",
       "LinearSVR                                   -0.01      -0.01 135.65   \n",
       "TheilSenRegressor                           -0.04      -0.04 137.48   \n",
       "RandomForestRegressor                       -0.05      -0.05 138.44   \n",
       "PassiveAggressiveRegressor                  -0.07      -0.07 139.61   \n",
       "KNeighborsRegressor                         -0.07      -0.07 139.74   \n",
       "BaggingRegressor                            -0.13      -0.13 143.59   \n",
       "AdaBoostRegressor                           -0.18      -0.18 146.23   \n",
       "ExtraTreeRegressor                          -0.84      -0.84 182.81   \n",
       "DecisionTreeRegressor                       -0.87      -0.87 184.21   \n",
       "RANSACRegressor                             -1.28      -1.28 203.65   \n",
       "\n",
       "                               Time Taken                  Target  \n",
       "Model                                                              \n",
       "MLPRegressor                       798.49  TravelTimeSeconds_mean  \n",
       "HistGradientBoostingRegressor        5.40  TravelTimeSeconds_mean  \n",
       "GradientBoostingRegressor           84.49  TravelTimeSeconds_mean  \n",
       "ElasticNetCV                         3.87  TravelTimeSeconds_mean  \n",
       "BayesianRidge                        2.01  TravelTimeSeconds_mean  \n",
       "LassoCV                              3.93  TravelTimeSeconds_mean  \n",
       "RidgeCV                              2.70  TravelTimeSeconds_mean  \n",
       "Ridge                                0.69  TravelTimeSeconds_mean  \n",
       "LinearRegression                     1.33  TravelTimeSeconds_mean  \n",
       "TransformedTargetRegressor           1.49  TravelTimeSeconds_mean  \n",
       "LarsCV                               2.96  TravelTimeSeconds_mean  \n",
       "LassoLarsCV                          2.86  TravelTimeSeconds_mean  \n",
       "LassoLarsIC                          1.71  TravelTimeSeconds_mean  \n",
       "Lars                                 0.69  TravelTimeSeconds_mean  \n",
       "PLSRegression                        1.09  TravelTimeSeconds_mean  \n",
       "PoissonRegressor                     0.91  TravelTimeSeconds_mean  \n",
       "LassoLars                            0.70  TravelTimeSeconds_mean  \n",
       "Lasso                                1.30  TravelTimeSeconds_mean  \n",
       "SGDRegressor                         7.51  TravelTimeSeconds_mean  \n",
       "ElasticNet                           1.13  TravelTimeSeconds_mean  \n",
       "OrthogonalMatchingPursuitCV          2.42  TravelTimeSeconds_mean  \n",
       "OrthogonalMatchingPursuit            0.72  TravelTimeSeconds_mean  \n",
       "DummyRegressor                       0.71  TravelTimeSeconds_mean  \n",
       "HuberRegressor                       2.63  TravelTimeSeconds_mean  \n",
       "LinearSVR                            3.39  TravelTimeSeconds_mean  \n",
       "TheilSenRegressor                  185.37  TravelTimeSeconds_mean  \n",
       "RandomForestRegressor              295.05  TravelTimeSeconds_mean  \n",
       "PassiveAggressiveRegressor           2.80  TravelTimeSeconds_mean  \n",
       "KNeighborsRegressor                569.26  TravelTimeSeconds_mean  \n",
       "BaggingRegressor                    29.44  TravelTimeSeconds_mean  \n",
       "AdaBoostRegressor                   25.68  TravelTimeSeconds_mean  \n",
       "ExtraTreeRegressor                   4.46  TravelTimeSeconds_mean  \n",
       "DecisionTreeRegressor                4.92  TravelTimeSeconds_mean  \n",
       "RANSACRegressor                      4.62  TravelTimeSeconds_mean  "
      ]
     },
     "metadata": {},
     "output_type": "display_data"
    },
    {
     "name": "stdout",
     "output_type": "stream",
     "text": [
      "(1016665, 40)\n",
      "cols_to_remove ['TurnoutTimeSeconds_min', 'TurnoutTimeSeconds_mean', 'TurnoutTimeSeconds_max', 'TravelTimeSeconds_min', 'TravelTimeSeconds_mean', 'TravelTimeSeconds_max', 'PumpSecondsOnSite_min', 'PumpSecondsOnSite_mean', 'PumpSecondsOnSite_max', 'NumPumpsAttending']\n",
      "cols_to_keep ['CalYear', 'PropertyType_0', 'PropertyType_1', 'PropertyType_2', 'PropertyType_3', 'PropertyType_4', 'PropertyType_5', 'PropertyType_6', 'StopCode_0', 'StopCode_1', 'StopCode_2', 'StopCode_3', 'StopCode_4']\n"
     ]
    },
    {
     "data": {
      "text/html": [
       "<div>\n",
       "<style scoped>\n",
       "    .dataframe tbody tr th:only-of-type {\n",
       "        vertical-align: middle;\n",
       "    }\n",
       "\n",
       "    .dataframe tbody tr th {\n",
       "        vertical-align: top;\n",
       "    }\n",
       "\n",
       "    .dataframe thead th {\n",
       "        text-align: right;\n",
       "    }\n",
       "</style>\n",
       "<table border=\"1\" class=\"dataframe\">\n",
       "  <thead>\n",
       "    <tr style=\"text-align: right;\">\n",
       "      <th></th>\n",
       "      <th>CalYear</th>\n",
       "      <th>PropertyType_0</th>\n",
       "      <th>PropertyType_1</th>\n",
       "      <th>PropertyType_2</th>\n",
       "      <th>PropertyType_3</th>\n",
       "      <th>PropertyType_4</th>\n",
       "      <th>PropertyType_5</th>\n",
       "      <th>PropertyType_6</th>\n",
       "      <th>StopCode_0</th>\n",
       "      <th>StopCode_1</th>\n",
       "      <th>StopCode_2</th>\n",
       "      <th>StopCode_3</th>\n",
       "      <th>StopCode_4</th>\n",
       "    </tr>\n",
       "  </thead>\n",
       "  <tbody>\n",
       "    <tr>\n",
       "      <th>574862</th>\n",
       "      <td>7</td>\n",
       "      <td>0</td>\n",
       "      <td>0</td>\n",
       "      <td>0</td>\n",
       "      <td>0</td>\n",
       "      <td>0</td>\n",
       "      <td>0</td>\n",
       "      <td>1</td>\n",
       "      <td>0</td>\n",
       "      <td>0</td>\n",
       "      <td>0</td>\n",
       "      <td>0</td>\n",
       "      <td>1</td>\n",
       "    </tr>\n",
       "    <tr>\n",
       "      <th>574863</th>\n",
       "      <td>7</td>\n",
       "      <td>0</td>\n",
       "      <td>0</td>\n",
       "      <td>0</td>\n",
       "      <td>0</td>\n",
       "      <td>0</td>\n",
       "      <td>1</td>\n",
       "      <td>0</td>\n",
       "      <td>0</td>\n",
       "      <td>0</td>\n",
       "      <td>0</td>\n",
       "      <td>1</td>\n",
       "      <td>0</td>\n",
       "    </tr>\n",
       "  </tbody>\n",
       "</table>\n",
       "</div>"
      ],
      "text/plain": [
       "        CalYear  PropertyType_0  PropertyType_1  PropertyType_2  \\\n",
       "574862        7               0               0               0   \n",
       "574863        7               0               0               0   \n",
       "\n",
       "        PropertyType_3  PropertyType_4  PropertyType_5  PropertyType_6  \\\n",
       "574862               0               0               0               1   \n",
       "574863               0               0               1               0   \n",
       "\n",
       "        StopCode_0  StopCode_1  StopCode_2  StopCode_3  StopCode_4  \n",
       "574862           0           0           0           0           1  \n",
       "574863           0           0           0           1           0  "
      ]
     },
     "metadata": {},
     "output_type": "display_data"
    },
    {
     "name": "stdout",
     "output_type": "stream",
     "text": [
      "(1016665, 13)\n",
      "cible PumpSecondsOnSite_mean\n",
      "[('AdaBoostRegressor', <class 'sklearn.ensemble._weight_boosting.AdaBoostRegressor'>), ('BaggingRegressor', <class 'sklearn.ensemble._bagging.BaggingRegressor'>), ('BayesianRidge', <class 'sklearn.linear_model._bayes.BayesianRidge'>), ('DecisionTreeRegressor', <class 'sklearn.tree._classes.DecisionTreeRegressor'>), ('DummyRegressor', <class 'sklearn.dummy.DummyRegressor'>), ('ElasticNet', <class 'sklearn.linear_model._coordinate_descent.ElasticNet'>), ('ElasticNetCV', <class 'sklearn.linear_model._coordinate_descent.ElasticNetCV'>), ('ExtraTreeRegressor', <class 'sklearn.tree._classes.ExtraTreeRegressor'>), ('GradientBoostingRegressor', <class 'sklearn.ensemble._gb.GradientBoostingRegressor'>), ('HistGradientBoostingRegressor', <class 'sklearn.ensemble._hist_gradient_boosting.gradient_boosting.HistGradientBoostingRegressor'>), ('HuberRegressor', <class 'sklearn.linear_model._huber.HuberRegressor'>), ('KNeighborsRegressor', <class 'sklearn.neighbors._regression.KNeighborsRegressor'>), ('Lars', <class 'sklearn.linear_model._least_angle.Lars'>), ('LarsCV', <class 'sklearn.linear_model._least_angle.LarsCV'>), ('Lasso', <class 'sklearn.linear_model._coordinate_descent.Lasso'>), ('LassoCV', <class 'sklearn.linear_model._coordinate_descent.LassoCV'>), ('LassoLars', <class 'sklearn.linear_model._least_angle.LassoLars'>), ('LassoLarsCV', <class 'sklearn.linear_model._least_angle.LassoLarsCV'>), ('LassoLarsIC', <class 'sklearn.linear_model._least_angle.LassoLarsIC'>), ('LinearRegression', <class 'sklearn.linear_model._base.LinearRegression'>), ('LinearSVR', <class 'sklearn.svm._classes.LinearSVR'>), ('MLPRegressor', <class 'sklearn.neural_network._multilayer_perceptron.MLPRegressor'>), ('OrthogonalMatchingPursuit', <class 'sklearn.linear_model._omp.OrthogonalMatchingPursuit'>), ('OrthogonalMatchingPursuitCV', <class 'sklearn.linear_model._omp.OrthogonalMatchingPursuitCV'>), ('PLSRegression', <class 'sklearn.cross_decomposition._pls.PLSRegression'>), ('PassiveAggressiveRegressor', <class 'sklearn.linear_model._passive_aggressive.PassiveAggressiveRegressor'>), ('PoissonRegressor', <class 'sklearn.linear_model._glm.glm.PoissonRegressor'>), ('RANSACRegressor', <class 'sklearn.linear_model._ransac.RANSACRegressor'>), ('RandomForestRegressor', <class 'sklearn.ensemble._forest.RandomForestRegressor'>), ('Ridge', <class 'sklearn.linear_model._ridge.Ridge'>), ('RidgeCV', <class 'sklearn.linear_model._ridge.RidgeCV'>), ('SGDRegressor', <class 'sklearn.linear_model._stochastic_gradient.SGDRegressor'>), ('TheilSenRegressor', <class 'sklearn.linear_model._theil_sen.TheilSenRegressor'>), ('TransformedTargetRegressor', <class 'sklearn.compose._target.TransformedTargetRegressor'>), ('VotingRegressor', <class 'sklearn.ensemble._voting.VotingRegressor'>)]\n",
      "'tuple' object has no attribute '__name__'\n",
      "Invalid Regressor(s)\n"
     ]
    },
    {
     "name": "stderr",
     "output_type": "stream",
     "text": [
      "  3%|▎         | 1/35 [00:07<04:17,  7.58s/it]"
     ]
    },
    {
     "name": "stdout",
     "output_type": "stream",
     "text": [
      "{'Model': 'AdaBoostRegressor', 'R-Squared': 0.15225300196992586, 'Adjusted R-Squared': 0.1521987979310785, 'RMSE': np.float64(1375.0905456645523), 'Time taken': 7.579376935958862}\n"
     ]
    },
    {
     "name": "stderr",
     "output_type": "stream",
     "text": [
      "  6%|▌         | 2/35 [00:14<04:05,  7.43s/it]"
     ]
    },
    {
     "name": "stdout",
     "output_type": "stream",
     "text": [
      "{'Model': 'BaggingRegressor', 'R-Squared': 0.22119833123321497, 'Adjusted R-Squared': 0.22114853548518365, 'RMSE': np.float64(1317.988444396857), 'Time taken': 7.3323845863342285}\n"
     ]
    },
    {
     "name": "stderr",
     "output_type": "stream",
     "text": [
      "  9%|▊         | 3/35 [00:16<02:25,  4.54s/it]"
     ]
    },
    {
     "name": "stdout",
     "output_type": "stream",
     "text": [
      "{'Model': 'BayesianRidge', 'R-Squared': 0.14440781139946612, 'Adjusted R-Squared': 0.14435310574750138, 'RMSE': np.float64(1381.4385504921954), 'Time taken': 1.0896666049957275}\n"
     ]
    },
    {
     "name": "stderr",
     "output_type": "stream",
     "text": [
      " 11%|█▏        | 4/35 [00:17<01:39,  3.22s/it]"
     ]
    },
    {
     "name": "stdout",
     "output_type": "stream",
     "text": [
      "{'Model': 'DecisionTreeRegressor', 'R-Squared': 0.2189751356262114, 'Adjusted R-Squared': 0.2189251977294242, 'RMSE': np.float64(1319.8682926888048), 'Time taken': 1.2019827365875244}\n"
     ]
    },
    {
     "name": "stderr",
     "output_type": "stream",
     "text": [
      " 14%|█▍        | 5/35 [00:17<01:05,  2.18s/it]"
     ]
    },
    {
     "name": "stdout",
     "output_type": "stream",
     "text": [
      "{'Model': 'DummyRegressor', 'R-Squared': -3.363788728405481e-05, 'Adjusted R-Squared': -9.75789714550146e-05, 'RMSE': np.float64(1493.5008361695411), 'Time taken': 0.32790160179138184}\n"
     ]
    },
    {
     "name": "stderr",
     "output_type": "stream",
     "text": [
      " 17%|█▋        | 6/35 [00:18<00:49,  1.69s/it]"
     ]
    },
    {
     "name": "stdout",
     "output_type": "stream",
     "text": [
      "{'Model': 'ElasticNet', 'R-Squared': 0.1295345757757176, 'Adjusted R-Squared': 0.12947891914493082, 'RMSE': np.float64(1393.3939753255388), 'Time taken': 0.7550194263458252}\n"
     ]
    },
    {
     "name": "stderr",
     "output_type": "stream",
     "text": [
      " 20%|██        | 7/35 [00:20<00:55,  2.00s/it]"
     ]
    },
    {
     "name": "stdout",
     "output_type": "stream",
     "text": [
      "{'Model': 'ElasticNetCV', 'R-Squared': 0.12987496008945643, 'Adjusted R-Squared': 0.12981932522247963, 'RMSE': np.float64(1393.121514286809), 'Time taken': 2.621367931365967}\n"
     ]
    },
    {
     "name": "stderr",
     "output_type": "stream",
     "text": [
      " 23%|██▎       | 8/35 [00:22<00:47,  1.75s/it]"
     ]
    },
    {
     "name": "stdout",
     "output_type": "stream",
     "text": [
      "{'Model': 'ExtraTreeRegressor', 'R-Squared': 0.21786166285211095, 'Adjusted R-Squared': 0.21781165376106226, 'RMSE': np.float64(1320.8087966663504), 'Time taken': 1.2195918560028076}\n"
     ]
    },
    {
     "name": "stderr",
     "output_type": "stream",
     "text": [
      " 26%|██▌       | 9/35 [00:56<05:07, 11.85s/it]"
     ]
    },
    {
     "name": "stdout",
     "output_type": "stream",
     "text": [
      "{'Model': 'GradientBoostingRegressor', 'R-Squared': 0.2115336072462235, 'Adjusted R-Squared': 0.21148319354604883, 'RMSE': np.float64(1326.1411741449353), 'Time taken': 34.03948521614075}\n"
     ]
    },
    {
     "name": "stderr",
     "output_type": "stream",
     "text": [
      " 29%|██▊       | 10/35 [00:59<03:50,  9.22s/it]"
     ]
    },
    {
     "name": "stdout",
     "output_type": "stream",
     "text": [
      "{'Model': 'HistGradientBoostingRegressor', 'R-Squared': 0.2253350874406682, 'Adjusted R-Squared': 0.22528555619241653, 'RMSE': np.float64(1314.4834080758071), 'Time taken': 3.3278403282165527}\n"
     ]
    },
    {
     "name": "stderr",
     "output_type": "stream",
     "text": [
      " 31%|███▏      | 11/35 [01:02<02:55,  7.30s/it]"
     ]
    },
    {
     "name": "stdout",
     "output_type": "stream",
     "text": [
      "{'Model': 'HuberRegressor', 'R-Squared': 0.06775167136140992, 'Adjusted R-Squared': 0.06769206439761255, 'RMSE': np.float64(1441.9957239683906), 'Time taken': 2.955083131790161}\n"
     ]
    },
    {
     "name": "stderr",
     "output_type": "stream",
     "text": [
      " 34%|███▍      | 12/35 [47:51<5:29:33, 859.72s/it]"
     ]
    },
    {
     "name": "stdout",
     "output_type": "stream",
     "text": [
      "{'Model': 'KNeighborsRegressor', 'R-Squared': 0.08445003270914808, 'Adjusted R-Squared': 0.0843914934207648, 'RMSE': np.float64(1429.0229104511332), 'Time taken': 2809.3555524349213}\n"
     ]
    },
    {
     "name": "stderr",
     "output_type": "stream",
     "text": [
      " 37%|███▋      | 13/35 [47:52<3:39:46, 599.41s/it]"
     ]
    },
    {
     "name": "stdout",
     "output_type": "stream",
     "text": [
      "{'Model': 'Lars', 'R-Squared': 0.14440871277056289, 'Adjusted R-Squared': 0.14435400717623081, 'RMSE': np.float64(1381.437822815432), 'Time taken': 0.4195883274078369}\n"
     ]
    },
    {
     "name": "stderr",
     "output_type": "stream",
     "text": [
      " 40%|████      | 14/35 [47:54<2:26:37, 418.93s/it]"
     ]
    },
    {
     "name": "stdout",
     "output_type": "stream",
     "text": [
      "{'Model': 'LarsCV', 'R-Squared': 0.14440871277056289, 'Adjusted R-Squared': 0.14435400717623081, 'RMSE': np.float64(1381.437822815432), 'Time taken': 1.886106252670288}\n"
     ]
    },
    {
     "name": "stderr",
     "output_type": "stream",
     "text": [
      " 43%|████▎     | 15/35 [47:55<1:37:40, 293.05s/it]"
     ]
    },
    {
     "name": "stdout",
     "output_type": "stream",
     "text": [
      "{'Model': 'Lasso', 'R-Squared': 0.14431340878208287, 'Adjusted R-Squared': 0.14425869709411543, 'RMSE': np.float64(1381.5147595901674), 'Time taken': 1.323864459991455}\n"
     ]
    },
    {
     "name": "stderr",
     "output_type": "stream",
     "text": [
      " 46%|████▌     | 16/35 [47:58<1:05:10, 205.80s/it]"
     ]
    },
    {
     "name": "stdout",
     "output_type": "stream",
     "text": [
      "{'Model': 'LassoCV', 'R-Squared': 0.14436608771029646, 'Adjusted R-Squared': 0.1443113793905636, 'RMSE': np.float64(1381.4722336012585), 'Time taken': 3.197134494781494}\n"
     ]
    },
    {
     "name": "stderr",
     "output_type": "stream",
     "text": [
      " 49%|████▊     | 17/35 [47:59<43:13, 144.06s/it]  "
     ]
    },
    {
     "name": "stdout",
     "output_type": "stream",
     "text": [
      "{'Model': 'LassoLars', 'R-Squared': 0.14431400179527876, 'Adjusted R-Squared': 0.14425929014522798, 'RMSE': np.float64(1381.5142808771475), 'Time taken': 0.4688727855682373}\n"
     ]
    },
    {
     "name": "stderr",
     "output_type": "stream",
     "text": [
      " 51%|█████▏    | 18/35 [48:00<28:42, 101.33s/it]"
     ]
    },
    {
     "name": "stdout",
     "output_type": "stream",
     "text": [
      "{'Model': 'LassoLarsCV', 'R-Squared': 0.14440871277056289, 'Adjusted R-Squared': 0.14435400717623081, 'RMSE': np.float64(1381.437822815432), 'Time taken': 1.8621103763580322}\n"
     ]
    },
    {
     "name": "stderr",
     "output_type": "stream",
     "text": [
      " 54%|█████▍    | 19/35 [48:01<18:59, 71.19s/it] "
     ]
    },
    {
     "name": "stdout",
     "output_type": "stream",
     "text": [
      "{'Model': 'LassoLarsIC', 'R-Squared': 0.14440871277056289, 'Adjusted R-Squared': 0.14435400717623081, 'RMSE': np.float64(1381.437822815432), 'Time taken': 0.9668998718261719}\n"
     ]
    },
    {
     "name": "stderr",
     "output_type": "stream",
     "text": [
      " 57%|█████▋    | 20/35 [48:02<12:30, 50.03s/it]"
     ]
    },
    {
     "name": "stdout",
     "output_type": "stream",
     "text": [
      "{'Model': 'LinearRegression', 'R-Squared': 0.14440871277056144, 'Adjusted R-Squared': 0.14435400717622937, 'RMSE': np.float64(1381.437822815433), 'Time taken': 0.7107431888580322}\n"
     ]
    },
    {
     "name": "stderr",
     "output_type": "stream",
     "text": [
      " 60%|██████    | 21/35 [48:04<08:18, 35.59s/it]"
     ]
    },
    {
     "name": "stdout",
     "output_type": "stream",
     "text": [
      "{'Model': 'LinearSVR', 'R-Squared': 0.05326322477995549, 'Adjusted R-Squared': 0.05320269144033707, 'RMSE': np.float64(1453.1578404713919), 'Time taken': 1.9184401035308838}\n"
     ]
    },
    {
     "name": "stderr",
     "output_type": "stream",
     "text": [
      " 63%|██████▎   | 22/35 [59:01<48:05, 221.94s/it]"
     ]
    },
    {
     "name": "stdout",
     "output_type": "stream",
     "text": [
      "{'Model': 'MLPRegressor', 'R-Squared': 0.22140412910720553, 'Adjusted R-Squared': 0.22135434651767072, 'RMSE': np.float64(1317.8142940632433), 'Time taken': 656.5209820270538}\n"
     ]
    },
    {
     "name": "stderr",
     "output_type": "stream",
     "text": [
      " 66%|██████▌   | 23/35 [59:01<31:05, 155.47s/it]"
     ]
    },
    {
     "name": "stdout",
     "output_type": "stream",
     "text": [
      "{'Model': 'OrthogonalMatchingPursuit', 'R-Squared': 0.10520655972398296, 'Adjusted R-Squared': 0.10514934758579819, 'RMSE': np.float64(1412.7312814575762), 'Time taken': 0.4456663131713867}\n"
     ]
    },
    {
     "name": "stderr",
     "output_type": "stream",
     "text": [
      " 69%|██████▊   | 24/35 [59:03<20:02, 109.30s/it]"
     ]
    },
    {
     "name": "stdout",
     "output_type": "stream",
     "text": [
      "{'Model': 'OrthogonalMatchingPursuitCV', 'R-Squared': 0.13625250969316405, 'Adjusted R-Squared': 0.1361972825999066, 'RMSE': np.float64(1388.006708302971), 'Time taken': 1.5840864181518555}\n"
     ]
    },
    {
     "name": "stderr",
     "output_type": "stream",
     "text": [
      " 71%|███████▏  | 25/35 [59:03<12:47, 76.71s/it] "
     ]
    },
    {
     "name": "stdout",
     "output_type": "stream",
     "text": [
      "{'Model': 'PLSRegression', 'R-Squared': 0.13641026100356857, 'Adjusted R-Squared': 0.13635504399676168, 'RMSE': np.float64(1387.8799525798345), 'Time taken': 0.6846184730529785}\n"
     ]
    },
    {
     "name": "stderr",
     "output_type": "stream",
     "text": [
      " 74%|███████▍  | 26/35 [59:05<08:08, 54.33s/it]"
     ]
    },
    {
     "name": "stdout",
     "output_type": "stream",
     "text": [
      "{'Model': 'PassiveAggressiveRegressor', 'R-Squared': 0.06634798154798638, 'Adjusted R-Squared': 0.06628828483375948, 'RMSE': np.float64(1443.0809248158346), 'Time taken': 1.910569667816162}\n"
     ]
    },
    {
     "name": "stderr",
     "output_type": "stream",
     "text": [
      " 77%|███████▋  | 27/35 [59:06<05:06, 38.27s/it]"
     ]
    },
    {
     "name": "stdout",
     "output_type": "stream",
     "text": [
      "{'Model': 'PoissonRegressor', 'R-Squared': 0.13350971270937184, 'Adjusted R-Squared': 0.13345431024460075, 'RMSE': np.float64(1390.20874256808), 'Time taken': 0.7857606410980225}\n"
     ]
    },
    {
     "name": "stderr",
     "output_type": "stream",
     "text": [
      " 80%|████████  | 28/35 [59:10<03:14, 27.81s/it]"
     ]
    },
    {
     "name": "stdout",
     "output_type": "stream",
     "text": [
      "{'Model': 'RANSACRegressor', 'R-Squared': -0.07240451010024307, 'Adjusted R-Squared': -0.07247307850079254, 'RMSE': np.float64(1546.598133541186), 'Time taken': 3.404944896697998}\n"
     ]
    },
    {
     "name": "stderr",
     "output_type": "stream",
     "text": [
      " 83%|████████▎ | 29/35 [1:00:17<03:57, 39.63s/it]"
     ]
    },
    {
     "name": "stdout",
     "output_type": "stream",
     "text": [
      "{'Model': 'RandomForestRegressor', 'R-Squared': 0.22203014071979066, 'Adjusted R-Squared': 0.22198039815677073, 'RMSE': np.float64(1317.284408809112), 'Time taken': 67.19899034500122}\n"
     ]
    },
    {
     "name": "stderr",
     "output_type": "stream",
     "text": [
      " 86%|████████▌ | 30/35 [1:00:17<02:19, 27.87s/it]"
     ]
    },
    {
     "name": "stdout",
     "output_type": "stream",
     "text": [
      "{'Model': 'Ridge', 'R-Squared': 0.14440870157039631, 'Adjusted R-Squared': 0.14435399597534815, 'RMSE': np.float64(1381.4378318573272), 'Time taken': 0.42450547218322754}\n"
     ]
    },
    {
     "name": "stderr",
     "output_type": "stream",
     "text": [
      " 89%|████████▊ | 31/35 [1:00:19<01:19, 19.91s/it]"
     ]
    },
    {
     "name": "stdout",
     "output_type": "stream",
     "text": [
      "{'Model': 'RidgeCV', 'R-Squared': 0.14440860177032144, 'Adjusted R-Squared': 0.14435389616889216, 'RMSE': np.float64(1381.4379124259324), 'Time taken': 1.3470804691314697}\n"
     ]
    },
    {
     "name": "stderr",
     "output_type": "stream",
     "text": [
      " 91%|█████████▏| 32/35 [1:00:24<00:46, 15.65s/it]"
     ]
    },
    {
     "name": "stdout",
     "output_type": "stream",
     "text": [
      "{'Model': 'SGDRegressor', 'R-Squared': 0.14381325131279754, 'Adjusted R-Squared': 0.14375850764529507, 'RMSE': np.float64(1381.9184552844015), 'Time taken': 5.699106454849243}\n"
     ]
    },
    {
     "name": "stderr",
     "output_type": "stream",
     "text": [
      " 94%|█████████▍| 33/35 [1:03:34<02:15, 67.82s/it]"
     ]
    },
    {
     "name": "stdout",
     "output_type": "stream",
     "text": [
      "{'Model': 'TheilSenRegressor', 'R-Squared': 0.011116612361299016, 'Adjusted R-Squared': 0.011053384212236117, 'RMSE': np.float64(1485.1513229622353), 'Time taken': 189.56537461280823}\n"
     ]
    },
    {
     "name": "stderr",
     "output_type": "stream",
     "text": [
      "100%|██████████| 35/35 [1:03:35<00:00, 109.01s/it]"
     ]
    },
    {
     "name": "stdout",
     "output_type": "stream",
     "text": [
      "{'Model': 'TransformedTargetRegressor', 'R-Squared': 0.14440871277056144, 'Adjusted R-Squared': 0.14435400717622937, 'RMSE': np.float64(1381.437822815433), 'Time taken': 0.856342077255249}\n",
      "VotingRegressor model failed to execute\n",
      "VotingRegressor.__init__() missing 1 required positional argument: 'estimators'\n"
     ]
    },
    {
     "name": "stderr",
     "output_type": "stream",
     "text": [
      "\n"
     ]
    },
    {
     "data": {
      "text/html": [
       "<div>\n",
       "<style scoped>\n",
       "    .dataframe tbody tr th:only-of-type {\n",
       "        vertical-align: middle;\n",
       "    }\n",
       "\n",
       "    .dataframe tbody tr th {\n",
       "        vertical-align: top;\n",
       "    }\n",
       "\n",
       "    .dataframe thead th {\n",
       "        text-align: right;\n",
       "    }\n",
       "</style>\n",
       "<table border=\"1\" class=\"dataframe\">\n",
       "  <thead>\n",
       "    <tr style=\"text-align: right;\">\n",
       "      <th></th>\n",
       "      <th>Adjusted R-Squared</th>\n",
       "      <th>R-Squared</th>\n",
       "      <th>RMSE</th>\n",
       "      <th>Time Taken</th>\n",
       "      <th>Target</th>\n",
       "    </tr>\n",
       "    <tr>\n",
       "      <th>Model</th>\n",
       "      <th></th>\n",
       "      <th></th>\n",
       "      <th></th>\n",
       "      <th></th>\n",
       "      <th></th>\n",
       "    </tr>\n",
       "  </thead>\n",
       "  <tbody>\n",
       "    <tr>\n",
       "      <th>HistGradientBoostingRegressor</th>\n",
       "      <td>0.23</td>\n",
       "      <td>0.23</td>\n",
       "      <td>1314.48</td>\n",
       "      <td>3.33</td>\n",
       "      <td>PumpSecondsOnSite_mean</td>\n",
       "    </tr>\n",
       "    <tr>\n",
       "      <th>RandomForestRegressor</th>\n",
       "      <td>0.22</td>\n",
       "      <td>0.22</td>\n",
       "      <td>1317.28</td>\n",
       "      <td>67.20</td>\n",
       "      <td>PumpSecondsOnSite_mean</td>\n",
       "    </tr>\n",
       "    <tr>\n",
       "      <th>MLPRegressor</th>\n",
       "      <td>0.22</td>\n",
       "      <td>0.22</td>\n",
       "      <td>1317.81</td>\n",
       "      <td>656.52</td>\n",
       "      <td>PumpSecondsOnSite_mean</td>\n",
       "    </tr>\n",
       "    <tr>\n",
       "      <th>BaggingRegressor</th>\n",
       "      <td>0.22</td>\n",
       "      <td>0.22</td>\n",
       "      <td>1317.99</td>\n",
       "      <td>7.33</td>\n",
       "      <td>PumpSecondsOnSite_mean</td>\n",
       "    </tr>\n",
       "    <tr>\n",
       "      <th>DecisionTreeRegressor</th>\n",
       "      <td>0.22</td>\n",
       "      <td>0.22</td>\n",
       "      <td>1319.87</td>\n",
       "      <td>1.20</td>\n",
       "      <td>PumpSecondsOnSite_mean</td>\n",
       "    </tr>\n",
       "    <tr>\n",
       "      <th>ExtraTreeRegressor</th>\n",
       "      <td>0.22</td>\n",
       "      <td>0.22</td>\n",
       "      <td>1320.81</td>\n",
       "      <td>1.22</td>\n",
       "      <td>PumpSecondsOnSite_mean</td>\n",
       "    </tr>\n",
       "    <tr>\n",
       "      <th>GradientBoostingRegressor</th>\n",
       "      <td>0.21</td>\n",
       "      <td>0.21</td>\n",
       "      <td>1326.14</td>\n",
       "      <td>34.04</td>\n",
       "      <td>PumpSecondsOnSite_mean</td>\n",
       "    </tr>\n",
       "    <tr>\n",
       "      <th>AdaBoostRegressor</th>\n",
       "      <td>0.15</td>\n",
       "      <td>0.15</td>\n",
       "      <td>1375.09</td>\n",
       "      <td>7.58</td>\n",
       "      <td>PumpSecondsOnSite_mean</td>\n",
       "    </tr>\n",
       "    <tr>\n",
       "      <th>Lars</th>\n",
       "      <td>0.14</td>\n",
       "      <td>0.14</td>\n",
       "      <td>1381.44</td>\n",
       "      <td>0.42</td>\n",
       "      <td>PumpSecondsOnSite_mean</td>\n",
       "    </tr>\n",
       "    <tr>\n",
       "      <th>LassoLarsCV</th>\n",
       "      <td>0.14</td>\n",
       "      <td>0.14</td>\n",
       "      <td>1381.44</td>\n",
       "      <td>1.86</td>\n",
       "      <td>PumpSecondsOnSite_mean</td>\n",
       "    </tr>\n",
       "    <tr>\n",
       "      <th>LarsCV</th>\n",
       "      <td>0.14</td>\n",
       "      <td>0.14</td>\n",
       "      <td>1381.44</td>\n",
       "      <td>1.89</td>\n",
       "      <td>PumpSecondsOnSite_mean</td>\n",
       "    </tr>\n",
       "    <tr>\n",
       "      <th>LassoLarsIC</th>\n",
       "      <td>0.14</td>\n",
       "      <td>0.14</td>\n",
       "      <td>1381.44</td>\n",
       "      <td>0.97</td>\n",
       "      <td>PumpSecondsOnSite_mean</td>\n",
       "    </tr>\n",
       "    <tr>\n",
       "      <th>LinearRegression</th>\n",
       "      <td>0.14</td>\n",
       "      <td>0.14</td>\n",
       "      <td>1381.44</td>\n",
       "      <td>0.71</td>\n",
       "      <td>PumpSecondsOnSite_mean</td>\n",
       "    </tr>\n",
       "    <tr>\n",
       "      <th>TransformedTargetRegressor</th>\n",
       "      <td>0.14</td>\n",
       "      <td>0.14</td>\n",
       "      <td>1381.44</td>\n",
       "      <td>0.86</td>\n",
       "      <td>PumpSecondsOnSite_mean</td>\n",
       "    </tr>\n",
       "    <tr>\n",
       "      <th>Ridge</th>\n",
       "      <td>0.14</td>\n",
       "      <td>0.14</td>\n",
       "      <td>1381.44</td>\n",
       "      <td>0.42</td>\n",
       "      <td>PumpSecondsOnSite_mean</td>\n",
       "    </tr>\n",
       "    <tr>\n",
       "      <th>RidgeCV</th>\n",
       "      <td>0.14</td>\n",
       "      <td>0.14</td>\n",
       "      <td>1381.44</td>\n",
       "      <td>1.35</td>\n",
       "      <td>PumpSecondsOnSite_mean</td>\n",
       "    </tr>\n",
       "    <tr>\n",
       "      <th>BayesianRidge</th>\n",
       "      <td>0.14</td>\n",
       "      <td>0.14</td>\n",
       "      <td>1381.44</td>\n",
       "      <td>1.09</td>\n",
       "      <td>PumpSecondsOnSite_mean</td>\n",
       "    </tr>\n",
       "    <tr>\n",
       "      <th>LassoCV</th>\n",
       "      <td>0.14</td>\n",
       "      <td>0.14</td>\n",
       "      <td>1381.47</td>\n",
       "      <td>3.20</td>\n",
       "      <td>PumpSecondsOnSite_mean</td>\n",
       "    </tr>\n",
       "    <tr>\n",
       "      <th>LassoLars</th>\n",
       "      <td>0.14</td>\n",
       "      <td>0.14</td>\n",
       "      <td>1381.51</td>\n",
       "      <td>0.47</td>\n",
       "      <td>PumpSecondsOnSite_mean</td>\n",
       "    </tr>\n",
       "    <tr>\n",
       "      <th>Lasso</th>\n",
       "      <td>0.14</td>\n",
       "      <td>0.14</td>\n",
       "      <td>1381.51</td>\n",
       "      <td>1.32</td>\n",
       "      <td>PumpSecondsOnSite_mean</td>\n",
       "    </tr>\n",
       "    <tr>\n",
       "      <th>SGDRegressor</th>\n",
       "      <td>0.14</td>\n",
       "      <td>0.14</td>\n",
       "      <td>1381.92</td>\n",
       "      <td>5.70</td>\n",
       "      <td>PumpSecondsOnSite_mean</td>\n",
       "    </tr>\n",
       "    <tr>\n",
       "      <th>PLSRegression</th>\n",
       "      <td>0.14</td>\n",
       "      <td>0.14</td>\n",
       "      <td>1387.88</td>\n",
       "      <td>0.68</td>\n",
       "      <td>PumpSecondsOnSite_mean</td>\n",
       "    </tr>\n",
       "    <tr>\n",
       "      <th>OrthogonalMatchingPursuitCV</th>\n",
       "      <td>0.14</td>\n",
       "      <td>0.14</td>\n",
       "      <td>1388.01</td>\n",
       "      <td>1.58</td>\n",
       "      <td>PumpSecondsOnSite_mean</td>\n",
       "    </tr>\n",
       "    <tr>\n",
       "      <th>PoissonRegressor</th>\n",
       "      <td>0.13</td>\n",
       "      <td>0.13</td>\n",
       "      <td>1390.21</td>\n",
       "      <td>0.79</td>\n",
       "      <td>PumpSecondsOnSite_mean</td>\n",
       "    </tr>\n",
       "    <tr>\n",
       "      <th>ElasticNetCV</th>\n",
       "      <td>0.13</td>\n",
       "      <td>0.13</td>\n",
       "      <td>1393.12</td>\n",
       "      <td>2.62</td>\n",
       "      <td>PumpSecondsOnSite_mean</td>\n",
       "    </tr>\n",
       "    <tr>\n",
       "      <th>ElasticNet</th>\n",
       "      <td>0.13</td>\n",
       "      <td>0.13</td>\n",
       "      <td>1393.39</td>\n",
       "      <td>0.76</td>\n",
       "      <td>PumpSecondsOnSite_mean</td>\n",
       "    </tr>\n",
       "    <tr>\n",
       "      <th>OrthogonalMatchingPursuit</th>\n",
       "      <td>0.11</td>\n",
       "      <td>0.11</td>\n",
       "      <td>1412.73</td>\n",
       "      <td>0.45</td>\n",
       "      <td>PumpSecondsOnSite_mean</td>\n",
       "    </tr>\n",
       "    <tr>\n",
       "      <th>KNeighborsRegressor</th>\n",
       "      <td>0.08</td>\n",
       "      <td>0.08</td>\n",
       "      <td>1429.02</td>\n",
       "      <td>2809.36</td>\n",
       "      <td>PumpSecondsOnSite_mean</td>\n",
       "    </tr>\n",
       "    <tr>\n",
       "      <th>HuberRegressor</th>\n",
       "      <td>0.07</td>\n",
       "      <td>0.07</td>\n",
       "      <td>1442.00</td>\n",
       "      <td>2.96</td>\n",
       "      <td>PumpSecondsOnSite_mean</td>\n",
       "    </tr>\n",
       "    <tr>\n",
       "      <th>PassiveAggressiveRegressor</th>\n",
       "      <td>0.07</td>\n",
       "      <td>0.07</td>\n",
       "      <td>1443.08</td>\n",
       "      <td>1.91</td>\n",
       "      <td>PumpSecondsOnSite_mean</td>\n",
       "    </tr>\n",
       "    <tr>\n",
       "      <th>LinearSVR</th>\n",
       "      <td>0.05</td>\n",
       "      <td>0.05</td>\n",
       "      <td>1453.16</td>\n",
       "      <td>1.92</td>\n",
       "      <td>PumpSecondsOnSite_mean</td>\n",
       "    </tr>\n",
       "    <tr>\n",
       "      <th>TheilSenRegressor</th>\n",
       "      <td>0.01</td>\n",
       "      <td>0.01</td>\n",
       "      <td>1485.15</td>\n",
       "      <td>189.57</td>\n",
       "      <td>PumpSecondsOnSite_mean</td>\n",
       "    </tr>\n",
       "    <tr>\n",
       "      <th>DummyRegressor</th>\n",
       "      <td>-0.00</td>\n",
       "      <td>-0.00</td>\n",
       "      <td>1493.50</td>\n",
       "      <td>0.33</td>\n",
       "      <td>PumpSecondsOnSite_mean</td>\n",
       "    </tr>\n",
       "    <tr>\n",
       "      <th>RANSACRegressor</th>\n",
       "      <td>-0.07</td>\n",
       "      <td>-0.07</td>\n",
       "      <td>1546.60</td>\n",
       "      <td>3.40</td>\n",
       "      <td>PumpSecondsOnSite_mean</td>\n",
       "    </tr>\n",
       "  </tbody>\n",
       "</table>\n",
       "</div>"
      ],
      "text/plain": [
       "                               Adjusted R-Squared  R-Squared    RMSE  \\\n",
       "Model                                                                  \n",
       "HistGradientBoostingRegressor                0.23       0.23 1314.48   \n",
       "RandomForestRegressor                        0.22       0.22 1317.28   \n",
       "MLPRegressor                                 0.22       0.22 1317.81   \n",
       "BaggingRegressor                             0.22       0.22 1317.99   \n",
       "DecisionTreeRegressor                        0.22       0.22 1319.87   \n",
       "ExtraTreeRegressor                           0.22       0.22 1320.81   \n",
       "GradientBoostingRegressor                    0.21       0.21 1326.14   \n",
       "AdaBoostRegressor                            0.15       0.15 1375.09   \n",
       "Lars                                         0.14       0.14 1381.44   \n",
       "LassoLarsCV                                  0.14       0.14 1381.44   \n",
       "LarsCV                                       0.14       0.14 1381.44   \n",
       "LassoLarsIC                                  0.14       0.14 1381.44   \n",
       "LinearRegression                             0.14       0.14 1381.44   \n",
       "TransformedTargetRegressor                   0.14       0.14 1381.44   \n",
       "Ridge                                        0.14       0.14 1381.44   \n",
       "RidgeCV                                      0.14       0.14 1381.44   \n",
       "BayesianRidge                                0.14       0.14 1381.44   \n",
       "LassoCV                                      0.14       0.14 1381.47   \n",
       "LassoLars                                    0.14       0.14 1381.51   \n",
       "Lasso                                        0.14       0.14 1381.51   \n",
       "SGDRegressor                                 0.14       0.14 1381.92   \n",
       "PLSRegression                                0.14       0.14 1387.88   \n",
       "OrthogonalMatchingPursuitCV                  0.14       0.14 1388.01   \n",
       "PoissonRegressor                             0.13       0.13 1390.21   \n",
       "ElasticNetCV                                 0.13       0.13 1393.12   \n",
       "ElasticNet                                   0.13       0.13 1393.39   \n",
       "OrthogonalMatchingPursuit                    0.11       0.11 1412.73   \n",
       "KNeighborsRegressor                          0.08       0.08 1429.02   \n",
       "HuberRegressor                               0.07       0.07 1442.00   \n",
       "PassiveAggressiveRegressor                   0.07       0.07 1443.08   \n",
       "LinearSVR                                    0.05       0.05 1453.16   \n",
       "TheilSenRegressor                            0.01       0.01 1485.15   \n",
       "DummyRegressor                              -0.00      -0.00 1493.50   \n",
       "RANSACRegressor                             -0.07      -0.07 1546.60   \n",
       "\n",
       "                               Time Taken                  Target  \n",
       "Model                                                              \n",
       "HistGradientBoostingRegressor        3.33  PumpSecondsOnSite_mean  \n",
       "RandomForestRegressor               67.20  PumpSecondsOnSite_mean  \n",
       "MLPRegressor                       656.52  PumpSecondsOnSite_mean  \n",
       "BaggingRegressor                     7.33  PumpSecondsOnSite_mean  \n",
       "DecisionTreeRegressor                1.20  PumpSecondsOnSite_mean  \n",
       "ExtraTreeRegressor                   1.22  PumpSecondsOnSite_mean  \n",
       "GradientBoostingRegressor           34.04  PumpSecondsOnSite_mean  \n",
       "AdaBoostRegressor                    7.58  PumpSecondsOnSite_mean  \n",
       "Lars                                 0.42  PumpSecondsOnSite_mean  \n",
       "LassoLarsCV                          1.86  PumpSecondsOnSite_mean  \n",
       "LarsCV                               1.89  PumpSecondsOnSite_mean  \n",
       "LassoLarsIC                          0.97  PumpSecondsOnSite_mean  \n",
       "LinearRegression                     0.71  PumpSecondsOnSite_mean  \n",
       "TransformedTargetRegressor           0.86  PumpSecondsOnSite_mean  \n",
       "Ridge                                0.42  PumpSecondsOnSite_mean  \n",
       "RidgeCV                              1.35  PumpSecondsOnSite_mean  \n",
       "BayesianRidge                        1.09  PumpSecondsOnSite_mean  \n",
       "LassoCV                              3.20  PumpSecondsOnSite_mean  \n",
       "LassoLars                            0.47  PumpSecondsOnSite_mean  \n",
       "Lasso                                1.32  PumpSecondsOnSite_mean  \n",
       "SGDRegressor                         5.70  PumpSecondsOnSite_mean  \n",
       "PLSRegression                        0.68  PumpSecondsOnSite_mean  \n",
       "OrthogonalMatchingPursuitCV          1.58  PumpSecondsOnSite_mean  \n",
       "PoissonRegressor                     0.79  PumpSecondsOnSite_mean  \n",
       "ElasticNetCV                         2.62  PumpSecondsOnSite_mean  \n",
       "ElasticNet                           0.76  PumpSecondsOnSite_mean  \n",
       "OrthogonalMatchingPursuit            0.45  PumpSecondsOnSite_mean  \n",
       "KNeighborsRegressor               2809.36  PumpSecondsOnSite_mean  \n",
       "HuberRegressor                       2.96  PumpSecondsOnSite_mean  \n",
       "PassiveAggressiveRegressor           1.91  PumpSecondsOnSite_mean  \n",
       "LinearSVR                            1.92  PumpSecondsOnSite_mean  \n",
       "TheilSenRegressor                  189.57  PumpSecondsOnSite_mean  \n",
       "DummyRegressor                       0.33  PumpSecondsOnSite_mean  \n",
       "RANSACRegressor                      3.40  PumpSecondsOnSite_mean  "
      ]
     },
     "metadata": {},
     "output_type": "display_data"
    }
   ],
   "source": [
    "# Créez le cercle de corrélation\n",
    "# def draw_correlation_circle(df_charges_factorielles, pca, arrow_length=0.1, label_rotation=0):\n",
    "#     fig, ax = plt.subplots(figsize=(8, 8))\n",
    "#     for i, var in enumerate(df_charges_factorielles.columns):\n",
    "#         x = df_charges_factorielles.loc[0, var]\n",
    "#         y = df_charges_factorielles.loc[1, var]\n",
    "#         ax.arrow(0, 0, x, y, head_width=arrow_length, head_length=arrow_length, fc='gray', ec='gray')\n",
    "#         ax.text(x*1.15, y*1.15, var, ha='center', va='center', rotation=label_rotation, fontsize=9)\n",
    "#     circle = plt.Circle((0, 0), 1, facecolor='none', edgecolor='black')\n",
    "#     ax.add_artist(circle)\n",
    "#     ax.set_xlim(-1.1, 1.1)\n",
    "#     ax.set_ylim(-1.1, 1.1)\n",
    "#     ax.set_aspect('equal', adjustable='box')\n",
    "#     ax.set_xlabel('Axe 1 (PC1)')\n",
    "#     ax.set_ylabel('Axe 2 (PC2)')\n",
    "#     ax.set_title('Cercle des Corrélations')\n",
    "#     plt.grid()\n",
    "#     plt.show()\n",
    "\n",
    "ignore_regressors = [\n",
    "    \"ExtraTreesRegressor\",\n",
    "    \"NuSVR\",\n",
    "    \"QuantileRegressor\",\n",
    "    \"SVR\",\n",
    "    \"CCA\",\n",
    "    \"GammaRegressor\",\n",
    "    \"GaussianProcessRegressor\",\n",
    "    \"IsotonicRegression\",\n",
    "    \"MultiOutputRegressor\",\n",
    "    \"MultiTaskElasticNet\",\n",
    "    \"MultiTaskElasticNetCV\",\n",
    "    \"MultiTaskLasso\",\n",
    "    \"MultiTaskLassoCV\",\n",
    "    \"PLSCanonical\",\n",
    "    \"RadiusNeighborsRegressor\",\n",
    "    \"RegressorChain\",\n",
    "    \"StackingRegressor\",\n",
    "    \"KernelRidge\",\n",
    "    \"ARDRegression\",\n",
    "    \"TweedieRegressor\",\n",
    "]\n",
    "REGRESSORS = [\n",
    "    est\n",
    "    for est in all_estimators()\n",
    "    if (issubclass(est[1], RegressorMixin) and (not (est[0] in ignore_regressors)))\n",
    "]\n",
    "\n",
    "all_results = pd.DataFrame()\n",
    "\n",
    "for index, name in enumerate(cols_cible_type):\n",
    "    df = load_df(name)\n",
    "    # X = df.drop([\"PumpSecondsOnSite_min\", \"PumpSecondsOnSite_mean\", \"PumpSecondsOnSite_max\", \"TurnoutTimeSeconds_min\", \"TurnoutTimeSeconds_mean\",\n",
    "    #               \"TurnoutTimeSeconds_max\", \"TravelTimeSeconds_min\", \"TravelTimeSeconds_mean\", \"TravelTimeSeconds_max\", \"NumPumpsAttending\"], axis=1)\n",
    "    # display(X.head(2))\n",
    "    # print(X.shape)\n",
    "\n",
    "    # pca = PCA()\n",
    "    # data_2D = pca.fit_transform(X)\n",
    "    # display(data_2D)\n",
    "    # print(\"La part de variance expliquée est\", round(pca.explained_variance_ratio_.sum(), 5))\n",
    "\n",
    "    # plt.figure()\n",
    "    # plt.xlim(0,40)\n",
    "    # plt.xlabel('Nombre de composantes')\n",
    "    # plt.ylabel('Part de variance expliquée')\n",
    "    # plt.axhline(y = 0.95, color ='r', linestyle = '--')\n",
    "    # plt.plot(pca.explained_variance_ratio_.cumsum());\n",
    "    # plt.show()\n",
    "\n",
    "    # variance_expliquee = pca.explained_variance_ratio_\n",
    "    # charges_factorielles = pca.components_\n",
    "    # # Créez un DataFrame pour afficher les corrélations de chaque variable avec chaque axe\n",
    "    # df_charges_factorielles = pd.DataFrame(\n",
    "    #     charges_factorielles,\n",
    "    #     columns=X.columns,\n",
    "    #     #index=[\"Axe 1\", \"Axe 2\", \"Axe 3\", \"Axe 4\", \"Axe 5\", \"Axe 6\"],\n",
    "    # )\n",
    "\n",
    "    # # Affichez le DataFrame des charges factorielles\n",
    "    # display(df_charges_factorielles.head(2))\n",
    "\n",
    "    # charges_factorielles = pca.components_\n",
    "    # # Appelez la fonction pour tracer le cercle de corrélation\n",
    "    # draw_correlation_circle(df_charges_factorielles, pca)\n",
    "\n",
    "    # Auto ML\n",
    "    df_limited = df[df.CalYear > 6]\n",
    "    print(df_limited.shape)\n",
    "    # Crée X sans les target\n",
    "    cols_to_remove = [item for sublist in cols_cible for item in sublist] + [\n",
    "        \"NumPumpsAttending\"\n",
    "    ]\n",
    "    print(\"cols_to_remove\", cols_to_remove)\n",
    "    X = df_limited.drop(cols_to_remove, axis=1)\n",
    "    # Ne conserve que certaines colonnes explicatives\n",
    "    # Crée une liste des colonnes à conserver\n",
    "    cols_to_keep = [\n",
    "        col\n",
    "        for col in X.columns\n",
    "        if any(substring in col for substring in cols_Data[index])\n",
    "    ]\n",
    "    print(\"cols_to_keep\", cols_to_keep)\n",
    "    # Conserver uniquement ces colonnes\n",
    "    X = X[cols_to_keep]\n",
    "\n",
    "    display(X.head(2))\n",
    "    print(X.shape)\n",
    "\n",
    "    for col_cible in cols_cible[index]:\n",
    "        if not(col_cible in cols_cible_filter):\n",
    "            continue\n",
    "        print(\"cible\", col_cible)\n",
    "        y = df_limited[col_cible]\n",
    "        X_train, X_test, y_train, y_test = train_test_split(X, y, test_size=0.2)\n",
    "        myREGRESSORS = REGRESSORS\n",
    "        print(myREGRESSORS)\n",
    "        # myREGRESSORS = myREGRESSORS[4:6]\n",
    "        reg = LazyRegressor(\n",
    "            verbose=2,\n",
    "            ignore_warnings=False,\n",
    "            custom_metric=None,\n",
    "            regressors=myREGRESSORS,\n",
    "        )\n",
    "        models, predictions = reg.fit(X_train, X_test, y_train, y_test)\n",
    "        # Ajoute le nom de la colonne\n",
    "        models[\"Target\"] = col_cible\n",
    "        # Concaténe dans les résultats\n",
    "        all_results = pd.concat([all_results, models], axis=0)\n",
    "        display(models)\n",
    "        models.to_csv(f\"../data/_autoML_regressor_{col_cible}.csv\", sep=\";\", index=True)\n",
    "        # break\n",
    "    # break\n",
    "\n",
    "all_results.to_csv(f\"../data/_autoML_regressor.csv\", sep=\";\", index=True)\n",
    "\n",
    "# tester automl avant et après PCA et aussi gridsearch pour comparer\n",
    "# save du PCA"
   ]
  }
 ],
 "metadata": {
  "kernelspec": {
   "display_name": "projet-IA",
   "language": "python",
   "name": "python3"
  },
  "language_info": {
   "codemirror_mode": {
    "name": "ipython",
    "version": 3
   },
   "file_extension": ".py",
   "mimetype": "text/x-python",
   "name": "python",
   "nbconvert_exporter": "python",
   "pygments_lexer": "ipython3",
   "version": "3.13.1"
  }
 },
 "nbformat": 4,
 "nbformat_minor": 2
}
